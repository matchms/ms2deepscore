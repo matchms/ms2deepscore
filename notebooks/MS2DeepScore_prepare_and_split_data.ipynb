{
 "cells": [
  {
   "cell_type": "markdown",
   "id": "cordless-cache",
   "metadata": {},
   "source": [
    "# Post-process and split data "
   ]
  },
  {
   "cell_type": "code",
   "execution_count": 1,
   "id": "significant-coordinator",
   "metadata": {},
   "outputs": [],
   "source": [
    "import os\n",
    "import pickle\n",
    "import pandas as pd\n",
    "from matplotlib import pyplot as plt\n",
    "import numpy as np\n",
    "from ms2deepscore import SpectrumBinner\n",
    "from ms2deepscore.models import SiameseModel\n",
    "\n",
    "path_root = os.path.dirname(os.path.dirname(os.getcwd()))\n",
    "path_data = os.path.join(path_root, 'Data')"
   ]
  },
  {
   "cell_type": "markdown",
   "id": "solar-express",
   "metadata": {},
   "source": [
    "## Load positive ionmode spectrums"
   ]
  },
  {
   "cell_type": "code",
   "execution_count": 2,
   "id": "postal-reception",
   "metadata": {},
   "outputs": [
    {
     "name": "stdout",
     "output_type": "stream",
     "text": [
      "109734 spectra imported.\n"
     ]
    }
   ],
   "source": [
    "filename = os.path.join(path_data, 'GNPS_all', 'ALL_GNPS_210301_positive_cleaned.pickle')\n",
    "with open(filename, 'rb') as file:\n",
    "    spectrums = pickle.load(file)\n",
    "\n",
    "print(f\"{len(spectrums)} spectra imported.\")"
   ]
  },
  {
   "cell_type": "markdown",
   "id": "individual-backup",
   "metadata": {},
   "source": [
    "# First data exploration\n",
    "\n",
    "## Many spectra contain very few peaks!\n",
    "- We here remove spectra with less than 5 peaks with m/z values in the range between 10.0 and 1000.0 Da\n",
    "- We then make another subselection of only spectra which are fully annotated (InChIKey + SMILES/InChI)"
   ]
  },
  {
   "cell_type": "code",
   "execution_count": null,
   "id": "parliamentary-discharge",
   "metadata": {},
   "outputs": [],
   "source": [
    "number_of_peaks = np.array([len(s.peaks) for s in spectrums_positive])\n",
    "\n",
    "print(f\"{np.sum(number_of_peaks < 10)} spectra have < 10 peaks\")\n",
    "print(f\"{np.sum(number_of_peaks < 5)} spectra have < 5 peaks\")\n",
    "print(f\"{np.sum(number_of_peaks < 2)} spectra have < 2 peaks\")\n",
    "print(f\"{np.sum(number_of_peaks < 1)} spectra have < 1 peaks\")"
   ]
  },
  {
   "cell_type": "code",
   "execution_count": null,
   "id": "designing-registrar",
   "metadata": {},
   "outputs": [],
   "source": [
    "from matchms.filtering import select_by_mz\n",
    "from matchms.filtering import normalize_intensities\n",
    "from matchms.filtering import require_minimum_number_of_peaks\n",
    "\n",
    "def minimal_processing(spectrum):\n",
    "    spectrum = normalize_intensities(spectrum)\n",
    "    spectrum = select_by_mz(spectrum, mz_from=10.0, mz_to=1000.0)\n",
    "    spectrum = require_minimum_number_of_peaks(spectrum, n_required=5)\n",
    "    return spectrum"
   ]
  },
  {
   "cell_type": "code",
   "execution_count": null,
   "id": "absent-coating",
   "metadata": {},
   "outputs": [],
   "source": [
    "spectrums_pos_processing = [minimal_processing(s) for s in spectrums_positive]\n",
    "spectrums_pos_processing = [s for s in spectrums_pos_processing if s is not None]\n",
    "count_annotations(spectrums_pos_processing)"
   ]
  },
  {
   "cell_type": "markdown",
   "id": "interim-david",
   "metadata": {},
   "source": [
    "## Creating a subselection with only fully annotated spectra\n",
    "- all annotated with InChIKey + SMILES and/or InChI\n",
    "- all with >= 5 peaks with m/z between 10.0 and 1000.0 Da\n",
    "- all positive ionization mode"
   ]
  },
  {
   "cell_type": "code",
   "execution_count": null,
   "id": "unauthorized-divorce",
   "metadata": {},
   "outputs": [],
   "source": [
    "spectrums_pos_annotated = []\n",
    "for spec in spectrums_pos_processing:\n",
    "    inchikey = spec.get(\"inchikey\")\n",
    "    if inchikey is not None and len(inchikey)>13:\n",
    "        if spec.get(\"smiles\") or spec.get(\"inchi\"):\n",
    "            spectrums_pos_annotated.append(spec)\n",
    "\n",
    "len(spectrums_pos_annotated)"
   ]
  },
  {
   "cell_type": "code",
   "execution_count": null,
   "id": "corporate-glass",
   "metadata": {},
   "outputs": [],
   "source": [
    "count_annotations(spectrums_pos_annotated)"
   ]
  },
  {
   "cell_type": "code",
   "execution_count": 3,
   "id": "liked-regard",
   "metadata": {},
   "outputs": [
    {
     "name": "stdout",
     "output_type": "stream",
     "text": [
      "Found 109734 spectrums with inchikey\n"
     ]
    }
   ],
   "source": [
    "# check inchikeys\n",
    "from matchms.utils import is_valid_inchikey\n",
    "\n",
    "inchikey_count = 0\n",
    "for spec in spectrums:\n",
    "    if is_valid_inchikey(spec.get(\"inchikey\")):\n",
    "        inchikey_count += 1\n",
    "\n",
    "print(f\"Found {inchikey_count} spectrums with inchikey\")"
   ]
  },
  {
   "cell_type": "markdown",
   "id": "environmental-regression",
   "metadata": {},
   "source": [
    "### Load Tanimoto scores (=labels)"
   ]
  },
  {
   "cell_type": "code",
   "execution_count": 4,
   "id": "contrary-plant",
   "metadata": {},
   "outputs": [
    {
     "data": {
      "text/html": [
       "<div>\n",
       "<style scoped>\n",
       "    .dataframe tbody tr th:only-of-type {\n",
       "        vertical-align: middle;\n",
       "    }\n",
       "\n",
       "    .dataframe tbody tr th {\n",
       "        vertical-align: top;\n",
       "    }\n",
       "\n",
       "    .dataframe thead th {\n",
       "        text-align: right;\n",
       "    }\n",
       "</style>\n",
       "<table border=\"1\" class=\"dataframe\">\n",
       "  <thead>\n",
       "    <tr style=\"text-align: right;\">\n",
       "      <th></th>\n",
       "      <th>TXZUPPVCNIMVHW</th>\n",
       "      <th>DGYASNDHNSXGSL</th>\n",
       "      <th>JWYUFVNJZUSCSM</th>\n",
       "      <th>ZQXBVPNSSGEUCM</th>\n",
       "      <th>WIOKWEJDRXNVSH</th>\n",
       "      <th>NJMQSVWMCODQIP</th>\n",
       "      <th>VBFKEZGCUWHGSK</th>\n",
       "      <th>KJAYXCCGPDNITQ</th>\n",
       "      <th>NTAHMPNXQOYXSX</th>\n",
       "      <th>YALMHTJLWDGANA</th>\n",
       "      <th>...</th>\n",
       "      <th>DCPZWPYLSMMJKM</th>\n",
       "      <th>BFZHCUBIASXHPK</th>\n",
       "      <th>IYUIDAWSRJAFII</th>\n",
       "      <th>YMGXBGVMAOTRFZ</th>\n",
       "      <th>ZOVBJSDLILDXCH</th>\n",
       "      <th>ZBAVIUQLFUYWMT</th>\n",
       "      <th>LBZHBTVSBILXAE</th>\n",
       "      <th>FQXXSQDCDRQNQE</th>\n",
       "      <th>PKKTXAMCHLIVDS</th>\n",
       "      <th>HDDNZVWBRRAOGK</th>\n",
       "    </tr>\n",
       "  </thead>\n",
       "  <tbody>\n",
       "    <tr>\n",
       "      <th>TXZUPPVCNIMVHW</th>\n",
       "      <td>1.000000</td>\n",
       "      <td>0.351169</td>\n",
       "      <td>0.097595</td>\n",
       "      <td>0.454490</td>\n",
       "      <td>0.232465</td>\n",
       "      <td>0.350913</td>\n",
       "      <td>0.220788</td>\n",
       "      <td>0.369819</td>\n",
       "      <td>0.553414</td>\n",
       "      <td>0.488411</td>\n",
       "      <td>...</td>\n",
       "      <td>0.245836</td>\n",
       "      <td>0.197547</td>\n",
       "      <td>0.319240</td>\n",
       "      <td>0.170619</td>\n",
       "      <td>0.419412</td>\n",
       "      <td>0.111339</td>\n",
       "      <td>0.502242</td>\n",
       "      <td>0.609171</td>\n",
       "      <td>0.456767</td>\n",
       "      <td>0.364198</td>\n",
       "    </tr>\n",
       "    <tr>\n",
       "      <th>DGYASNDHNSXGSL</th>\n",
       "      <td>0.351169</td>\n",
       "      <td>1.000000</td>\n",
       "      <td>0.095344</td>\n",
       "      <td>0.311426</td>\n",
       "      <td>0.266393</td>\n",
       "      <td>0.306679</td>\n",
       "      <td>0.187037</td>\n",
       "      <td>0.241550</td>\n",
       "      <td>0.352905</td>\n",
       "      <td>0.346228</td>\n",
       "      <td>...</td>\n",
       "      <td>0.239921</td>\n",
       "      <td>0.196926</td>\n",
       "      <td>0.248181</td>\n",
       "      <td>0.224319</td>\n",
       "      <td>0.328424</td>\n",
       "      <td>0.134894</td>\n",
       "      <td>0.371523</td>\n",
       "      <td>0.395833</td>\n",
       "      <td>0.325097</td>\n",
       "      <td>0.267617</td>\n",
       "    </tr>\n",
       "    <tr>\n",
       "      <th>JWYUFVNJZUSCSM</th>\n",
       "      <td>0.097595</td>\n",
       "      <td>0.095344</td>\n",
       "      <td>1.000000</td>\n",
       "      <td>0.087488</td>\n",
       "      <td>0.096552</td>\n",
       "      <td>0.089779</td>\n",
       "      <td>0.075710</td>\n",
       "      <td>0.078571</td>\n",
       "      <td>0.101093</td>\n",
       "      <td>0.111277</td>\n",
       "      <td>...</td>\n",
       "      <td>0.087171</td>\n",
       "      <td>0.076667</td>\n",
       "      <td>0.090069</td>\n",
       "      <td>0.086042</td>\n",
       "      <td>0.097539</td>\n",
       "      <td>0.082902</td>\n",
       "      <td>0.100224</td>\n",
       "      <td>0.097547</td>\n",
       "      <td>0.091977</td>\n",
       "      <td>0.091603</td>\n",
       "    </tr>\n",
       "    <tr>\n",
       "      <th>ZQXBVPNSSGEUCM</th>\n",
       "      <td>0.454490</td>\n",
       "      <td>0.311426</td>\n",
       "      <td>0.087488</td>\n",
       "      <td>1.000000</td>\n",
       "      <td>0.158416</td>\n",
       "      <td>0.403968</td>\n",
       "      <td>0.223629</td>\n",
       "      <td>0.428328</td>\n",
       "      <td>0.476427</td>\n",
       "      <td>0.356584</td>\n",
       "      <td>...</td>\n",
       "      <td>0.190833</td>\n",
       "      <td>0.303226</td>\n",
       "      <td>0.309870</td>\n",
       "      <td>0.151724</td>\n",
       "      <td>0.382889</td>\n",
       "      <td>0.200405</td>\n",
       "      <td>0.419784</td>\n",
       "      <td>0.455195</td>\n",
       "      <td>0.301105</td>\n",
       "      <td>0.505532</td>\n",
       "    </tr>\n",
       "    <tr>\n",
       "      <th>WIOKWEJDRXNVSH</th>\n",
       "      <td>0.232465</td>\n",
       "      <td>0.266393</td>\n",
       "      <td>0.096552</td>\n",
       "      <td>0.158416</td>\n",
       "      <td>1.000000</td>\n",
       "      <td>0.170429</td>\n",
       "      <td>0.115108</td>\n",
       "      <td>0.148259</td>\n",
       "      <td>0.213307</td>\n",
       "      <td>0.193948</td>\n",
       "      <td>...</td>\n",
       "      <td>0.235054</td>\n",
       "      <td>0.100985</td>\n",
       "      <td>0.156159</td>\n",
       "      <td>0.146067</td>\n",
       "      <td>0.189189</td>\n",
       "      <td>0.065600</td>\n",
       "      <td>0.208011</td>\n",
       "      <td>0.223117</td>\n",
       "      <td>0.272388</td>\n",
       "      <td>0.147978</td>\n",
       "    </tr>\n",
       "  </tbody>\n",
       "</table>\n",
       "<p>5 rows × 15062 columns</p>\n",
       "</div>"
      ],
      "text/plain": [
       "                TXZUPPVCNIMVHW  DGYASNDHNSXGSL  JWYUFVNJZUSCSM  \\\n",
       "TXZUPPVCNIMVHW        1.000000        0.351169        0.097595   \n",
       "DGYASNDHNSXGSL        0.351169        1.000000        0.095344   \n",
       "JWYUFVNJZUSCSM        0.097595        0.095344        1.000000   \n",
       "ZQXBVPNSSGEUCM        0.454490        0.311426        0.087488   \n",
       "WIOKWEJDRXNVSH        0.232465        0.266393        0.096552   \n",
       "\n",
       "                ZQXBVPNSSGEUCM  WIOKWEJDRXNVSH  NJMQSVWMCODQIP  \\\n",
       "TXZUPPVCNIMVHW        0.454490        0.232465        0.350913   \n",
       "DGYASNDHNSXGSL        0.311426        0.266393        0.306679   \n",
       "JWYUFVNJZUSCSM        0.087488        0.096552        0.089779   \n",
       "ZQXBVPNSSGEUCM        1.000000        0.158416        0.403968   \n",
       "WIOKWEJDRXNVSH        0.158416        1.000000        0.170429   \n",
       "\n",
       "                VBFKEZGCUWHGSK  KJAYXCCGPDNITQ  NTAHMPNXQOYXSX  \\\n",
       "TXZUPPVCNIMVHW        0.220788        0.369819        0.553414   \n",
       "DGYASNDHNSXGSL        0.187037        0.241550        0.352905   \n",
       "JWYUFVNJZUSCSM        0.075710        0.078571        0.101093   \n",
       "ZQXBVPNSSGEUCM        0.223629        0.428328        0.476427   \n",
       "WIOKWEJDRXNVSH        0.115108        0.148259        0.213307   \n",
       "\n",
       "                YALMHTJLWDGANA  ...  DCPZWPYLSMMJKM  BFZHCUBIASXHPK  \\\n",
       "TXZUPPVCNIMVHW        0.488411  ...        0.245836        0.197547   \n",
       "DGYASNDHNSXGSL        0.346228  ...        0.239921        0.196926   \n",
       "JWYUFVNJZUSCSM        0.111277  ...        0.087171        0.076667   \n",
       "ZQXBVPNSSGEUCM        0.356584  ...        0.190833        0.303226   \n",
       "WIOKWEJDRXNVSH        0.193948  ...        0.235054        0.100985   \n",
       "\n",
       "                IYUIDAWSRJAFII  YMGXBGVMAOTRFZ  ZOVBJSDLILDXCH  \\\n",
       "TXZUPPVCNIMVHW        0.319240        0.170619        0.419412   \n",
       "DGYASNDHNSXGSL        0.248181        0.224319        0.328424   \n",
       "JWYUFVNJZUSCSM        0.090069        0.086042        0.097539   \n",
       "ZQXBVPNSSGEUCM        0.309870        0.151724        0.382889   \n",
       "WIOKWEJDRXNVSH        0.156159        0.146067        0.189189   \n",
       "\n",
       "                ZBAVIUQLFUYWMT  LBZHBTVSBILXAE  FQXXSQDCDRQNQE  \\\n",
       "TXZUPPVCNIMVHW        0.111339        0.502242        0.609171   \n",
       "DGYASNDHNSXGSL        0.134894        0.371523        0.395833   \n",
       "JWYUFVNJZUSCSM        0.082902        0.100224        0.097547   \n",
       "ZQXBVPNSSGEUCM        0.200405        0.419784        0.455195   \n",
       "WIOKWEJDRXNVSH        0.065600        0.208011        0.223117   \n",
       "\n",
       "                PKKTXAMCHLIVDS  HDDNZVWBRRAOGK  \n",
       "TXZUPPVCNIMVHW        0.456767        0.364198  \n",
       "DGYASNDHNSXGSL        0.325097        0.267617  \n",
       "JWYUFVNJZUSCSM        0.091977        0.091603  \n",
       "ZQXBVPNSSGEUCM        0.301105        0.505532  \n",
       "WIOKWEJDRXNVSH        0.272388        0.147978  \n",
       "\n",
       "[5 rows x 15062 columns]"
      ]
     },
     "execution_count": 4,
     "metadata": {},
     "output_type": "execute_result"
    }
   ],
   "source": [
    "filename = os.path.join(path_data, 'ALL_GNPS_210125_positive_tanimoto_scores.pickle')\n",
    "tanimoto_df = pd.read_pickle(filename)\n",
    "tanimoto_df.head()"
   ]
  },
  {
   "cell_type": "markdown",
   "id": "aquatic-nomination",
   "metadata": {},
   "source": [
    "## Split data"
   ]
  },
  {
   "cell_type": "code",
   "execution_count": 5,
   "id": "fifty-fight",
   "metadata": {},
   "outputs": [
    {
     "data": {
      "text/plain": [
       "array(['TXZUPPVCNIMVHW', 'DGYASNDHNSXGSL', 'JWYUFVNJZUSCSM',\n",
       "       'ZQXBVPNSSGEUCM', 'WIOKWEJDRXNVSH', 'NJMQSVWMCODQIP',\n",
       "       'VBFKEZGCUWHGSK', 'KJAYXCCGPDNITQ', 'NTAHMPNXQOYXSX',\n",
       "       'YALMHTJLWDGANA'], dtype=object)"
      ]
     },
     "execution_count": 5,
     "metadata": {},
     "output_type": "execute_result"
    }
   ],
   "source": [
    "tanimoto_df.index.to_numpy()[:10]"
   ]
  },
  {
   "cell_type": "code",
   "execution_count": 6,
   "id": "undefined-virus",
   "metadata": {},
   "outputs": [
    {
     "data": {
      "text/plain": [
       "(15062,)"
      ]
     },
     "execution_count": 6,
     "metadata": {},
     "output_type": "execute_result"
    }
   ],
   "source": [
    "inchikeys14 = tanimoto_df.index.to_numpy()\n",
    "inchikeys14.shape"
   ]
  },
  {
   "cell_type": "markdown",
   "id": "raised-genome",
   "metadata": {},
   "source": [
    "## Decide on data split"
   ]
  },
  {
   "cell_type": "code",
   "execution_count": null,
   "id": "crazy-richmond",
   "metadata": {},
   "outputs": [],
   "source": [
    "\"\"\"by fraction...\n",
    "\n",
    "split_ratio = (0.9, 0.05, 0.05)  # train / validation / test\n",
    "n_label = inchikeys14.shape[0]\n",
    "n_train = int(split_ratio[0] * n_label)\n",
    "n_val = int(split_ratio[1] * n_label)\n",
    "n_test = n_label - n_train - n_val\n",
    "print(\"Split dataset into train/val/test fractions:\", n_train, n_val, n_test)\"\"\""
   ]
  },
  {
   "cell_type": "code",
   "execution_count": 7,
   "id": "enclosed-handle",
   "metadata": {},
   "outputs": [
    {
     "name": "stdout",
     "output_type": "stream",
     "text": [
      "Split dataset into train/val/test fractions: 14062 500 500\n"
     ]
    }
   ],
   "source": [
    "# fixed numbers for validation and testset\n",
    "n_label = inchikeys14.shape[0]\n",
    "\n",
    "n_val = 500\n",
    "n_test = 500\n",
    "n_train = n_label - n_val - n_test\n",
    "print(\"Split dataset into train/val/test fractions:\", n_train, n_val, n_test)"
   ]
  },
  {
   "cell_type": "code",
   "execution_count": 8,
   "id": "boolean-trace",
   "metadata": {},
   "outputs": [
    {
     "name": "stdout",
     "output_type": "stream",
     "text": [
      "Train + val: 96.680 %\n",
      "Test: 3.320 %\n"
     ]
    }
   ],
   "source": [
    "print(f\"Train + val: {100 * (n_train + n_val)/n_label:.3f} %\")\n",
    "print(f\"Test: {100 * (n_test)/n_label:.3f} %\")"
   ]
  },
  {
   "cell_type": "code",
   "execution_count": 9,
   "id": "floral-oxygen",
   "metadata": {},
   "outputs": [],
   "source": [
    "np.random.seed(100) # 100\n",
    "inchikey_ids = np.arange(n_label)\n",
    "\n",
    "# Select training, validation, and test IDs:\n",
    "trainIDs = np.random.choice(inchikey_ids, n_train, replace=False)\n",
    "valIDs = np.random.choice(list(set(inchikey_ids) - set(trainIDs)), n_val, replace=False)\n",
    "testIDs = list(set(inchikey_ids) - set(trainIDs) - set(valIDs))"
   ]
  },
  {
   "cell_type": "code",
   "execution_count": 10,
   "id": "copyrighted-premium",
   "metadata": {},
   "outputs": [
    {
     "data": {
      "text/plain": [
       "array([ 7860, 10603, 12200,  7798, 13300, 10774,  5577,  6311,  8524,\n",
       "        8221,  7330, 12229,  8752, 12203,  7392,  8072, 10849,  2548,\n",
       "       14982,  8545])"
      ]
     },
     "execution_count": 10,
     "metadata": {},
     "output_type": "execute_result"
    }
   ],
   "source": [
    "trainIDs[:20]"
   ]
  },
  {
   "cell_type": "code",
   "execution_count": 11,
   "id": "lesser-jaguar",
   "metadata": {},
   "outputs": [],
   "source": [
    "# quick check to see if there's indeed no overlap\n",
    "for idx in trainIDs:\n",
    "    assert (idx in valIDs) or (idx in testIDs), f\"Found overlap for ID {idx}\""
   ]
  },
  {
   "cell_type": "code",
   "execution_count": 12,
   "id": "attractive-gateway",
   "metadata": {},
   "outputs": [
    {
     "name": "stdout",
     "output_type": "stream",
     "text": [
      "102536 spectrums in training data\n"
     ]
    }
   ],
   "source": [
    "inchikeys14_training = tanimoto_df.index.to_numpy()[trainIDs]\n",
    "\n",
    "spectrums_training = [s for s in spectrums if s.get(\"inchikey\")[:14] in inchikeys14_training]\n",
    "print(f\"{len(spectrums_training)} spectrums in training data\")"
   ]
  },
  {
   "cell_type": "code",
   "execution_count": 13,
   "id": "annoying-briefs",
   "metadata": {},
   "outputs": [
    {
     "name": "stdout",
     "output_type": "stream",
     "text": [
      "3597 spectrums in validation data.\n"
     ]
    }
   ],
   "source": [
    "inchikeys14_val = tanimoto_df.index.to_numpy()[valIDs]\n",
    "\n",
    "spectrums_val = [s for s in spectrums if s.get(\"inchikey\")[:14] in inchikeys14_val]\n",
    "print(f\"{len(spectrums_val)} spectrums in validation data.\")"
   ]
  },
  {
   "cell_type": "code",
   "execution_count": 14,
   "id": "affiliated-formula",
   "metadata": {},
   "outputs": [
    {
     "name": "stdout",
     "output_type": "stream",
     "text": [
      "3601 spectrums in test data.\n"
     ]
    }
   ],
   "source": [
    "inchikeys14_test = tanimoto_df.index.to_numpy()[testIDs]\n",
    "\n",
    "spectrums_test = [s for s in spectrums if s.get(\"inchikey\")[:14] in inchikeys14_test]\n",
    "print(f\"{len(spectrums_test)} spectrums in test data.\")"
   ]
  },
  {
   "cell_type": "code",
   "execution_count": 15,
   "id": "insured-grain",
   "metadata": {},
   "outputs": [
    {
     "name": "stdout",
     "output_type": "stream",
     "text": [
      "106133 spectrums in data w/o test\n"
     ]
    }
   ],
   "source": [
    "spectrums_wo_test = spectrums_training + spectrums_val\n",
    "print(f\"{len(spectrums_wo_test)} spectrums in data w/o test\")"
   ]
  },
  {
   "cell_type": "markdown",
   "id": "recorded-career",
   "metadata": {},
   "source": [
    "### Export splitted datasets"
   ]
  },
  {
   "cell_type": "code",
   "execution_count": 16,
   "id": "regular-modeling",
   "metadata": {},
   "outputs": [],
   "source": [
    "pickle.dump(spectrums_wo_test, \n",
    "            open(os.path.join(\n",
    "                path_data,\n",
    "                'GNPS_all',\n",
    "                'ALL_GNPS_positive_wo_test_split_210305.pickle'), \"wb\"))\n",
    "\n",
    "pickle.dump(spectrums_training, \n",
    "            open(os.path.join(\n",
    "                path_data,\n",
    "                'GNPS_all',\n",
    "                'ALL_GNPS_positive_train_split_210305.pickle'), \"wb\"))\n",
    "\n",
    "pickle.dump(spectrums_val, \n",
    "            open(os.path.join(\n",
    "                path_data,\n",
    "                'GNPS_all',\n",
    "                'ALL_GNPS_positive_val_split_210305.pickle'), \"wb\"))\n",
    "\n",
    "pickle.dump(spectrums_test, \n",
    "            open(os.path.join(\n",
    "                path_data,\n",
    "                'GNPS_all',\n",
    "                'ALL_GNPS_positive_test_split_210305.pickle'), \"wb\"))"
   ]
  },
  {
   "cell_type": "markdown",
   "id": "answering-honor",
   "metadata": {},
   "source": [
    "### Spectrum processing..."
   ]
  },
  {
   "cell_type": "code",
   "execution_count": 4,
   "id": "rotary-hamilton",
   "metadata": {},
   "outputs": [
    {
     "data": {
      "text/plain": [
       "(0.0, 1000.0)"
      ]
     },
     "execution_count": 4,
     "metadata": {},
     "output_type": "execute_result"
    },
    {
     "data": {
      "image/png": "[encoded data removed]",
      "text/plain": [
       "<Figure size 432x288 with 1 Axes>"
      ]
     },
     "metadata": {
      "needs_background": "light"
     },
     "output_type": "display_data"
    }
   ],
   "source": [
    "numbers_of_peaks = [len(s.peaks) for s in spectrums]\n",
    "plt.hist(numbers_of_peaks, np.linspace(0,1000,20))\n",
    "plt.xlim(0, 1000)"
   ]
  },
  {
   "cell_type": "code",
   "execution_count": 5,
   "id": "corrected-inspection",
   "metadata": {},
   "outputs": [
    {
     "data": {
      "text/plain": [
       "(5, 37922)"
      ]
     },
     "execution_count": 5,
     "metadata": {},
     "output_type": "execute_result"
    }
   ],
   "source": [
    "np.min(np.array(numbers_of_peaks)), np.max(np.array(numbers_of_peaks))"
   ]
  },
  {
   "cell_type": "markdown",
   "id": "informative-calendar",
   "metadata": {},
   "source": [
    "## Remove very small peaks \n",
    "- remove all peaks with intensities <0.001 max intensity\n",
    "- keep at max the highest 1000 peaks"
   ]
  },
  {
   "cell_type": "code",
   "execution_count": 6,
   "id": "color-income",
   "metadata": {},
   "outputs": [],
   "source": [
    "from matchms.filtering import reduce_to_number_of_peaks\n",
    "from matchms.filtering import select_by_relative_intensity\n",
    "\n",
    "def process_peaks(s):\n",
    "    s = select_by_relative_intensity(s, intensity_from=0.001)\n",
    "    s = reduce_to_number_of_peaks(s, n_max=1000)\n",
    "    return s\n",
    "    \n",
    "spectrums = [process_peaks(s) for s in spectrums]"
   ]
  },
  {
   "cell_type": "code",
   "execution_count": 10,
   "id": "civil-trail",
   "metadata": {},
   "outputs": [
    {
     "name": "stdout",
     "output_type": "stream",
     "text": [
      "1 1000\n"
     ]
    },
    {
     "data": {
      "image/png": "[encoded data removed]",
      "text/plain": [
       "<Figure size 432x288 with 1 Axes>"
      ]
     },
     "metadata": {
      "needs_background": "light"
     },
     "output_type": "display_data"
    }
   ],
   "source": [
    "numbers_of_peaks = [len(s.peaks) for s in spectrums]\n",
    "plt.hist(numbers_of_peaks, np.linspace(0,1000,20))\n",
    "plt.xlim(0, 1000)\n",
    "\n",
    "print(np.min(np.array(numbers_of_peaks)), np.max(np.array(numbers_of_peaks)))"
   ]
  }
 ],
 "metadata": {
  "kernelspec": {
   "display_name": "Python 3 (ipykernel)",
   "language": "python",
   "name": "python3"
  },
  "language_info": {
   "codemirror_mode": {
    "name": "ipython",
    "version": 3
   },
   "file_extension": ".py",
   "mimetype": "text/x-python",
   "name": "python",
   "nbconvert_exporter": "python",
   "pygments_lexer": "ipython3",
   "version": "3.9.16"
  }
 },
 "nbformat": 4,
 "nbformat_minor": 5
}
