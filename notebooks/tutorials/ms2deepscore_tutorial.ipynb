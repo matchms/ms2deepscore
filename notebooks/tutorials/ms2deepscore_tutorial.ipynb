{
 "cells": [
  {
   "cell_type": "markdown",
   "id": "180bc066-b5a4-4f03-bd14-4b89d2fee847",
   "metadata": {},
   "source": [
    "# This tutorial covers the basics of running MS2Deepscore\n",
    "We will cover:\n",
    "1. Calculating MS2Deepscore scores\n",
    "2. Creating an MS2Deepscore molecular network\n",
    "3. Calculating MS2Deepscore embeddings\n",
    "4. Visualizing an MS2Deepscore UMAP representation"
   ]
  },
  {
   "cell_type": "markdown",
   "id": "e478669f-c9e1-4887-8ab3-b7f1f2be757a",
   "metadata": {},
   "source": [
    "## Downloading model and dummy dataset\n",
    "\n",
    "The model is downloaded from https://zenodo.org/records/13897744 this can also be done manually\n",
    "\n",
    "You can of course also use your own spectrum file!"
   ]
  },
  {
   "cell_type": "code",
   "execution_count": 1,
   "id": "ef2c0500-650c-47b8-a071-8e55216c0482",
   "metadata": {},
   "outputs": [
    {
     "name": "stderr",
     "output_type": "stream",
     "text": [
      "Downloading file: 2.16kB [00:00, ?B/s]\n",
      "Downloading file: 100%|█████████████████████████████████████████████████████████████████████████████████████████████████████████████████████████████████████████████████████████████████████████████████████████████████████████████████████████████████████████████████████████████████████████████████████| 110M/110M [00:04<00:00, 23.1MB/s]\n",
      "Downloading file: 219kB [00:00, 1.26MB/s]                                                                                                                                                                                                                                                                                                      \n"
     ]
    }
   ],
   "source": [
    "import requests\n",
    "import os\n",
    "from tqdm import tqdm\n",
    "\n",
    "def download_file(link, file_name):\n",
    "    response = requests.get(link, stream=True)\n",
    "    if os.path.exists(file_name):\n",
    "        print(f\"The file {file_name} already exists, the file won't be downloaded\")\n",
    "        return\n",
    "    total_size = int(response.headers.get('content-length', 0))\n",
    "    \n",
    "    with open(file_name, \"wb\") as f, tqdm(desc=\"Downloading file\", total=total_size, unit='B', unit_scale=True, unit_divisor=1024,) as bar:\n",
    "        for chunk in response.iter_content(chunk_size=1024):\n",
    "            if chunk:\n",
    "                f.write(chunk)\n",
    "                bar.update(len(chunk))  # Update progress bar by the chunk size\n",
    "    \n",
    "model_file_name = \"ms2deepscore_model.pt\"\n",
    "spectrum_file_name = \"pesticides.mgf\"\n",
    "download_file(\"https://zenodo.org/records/13897744/files/settings.json?download=1\", \"ms2deepscore_settings.json\")\n",
    "download_file(\"https://zenodo.org/records/13897744/files/ms2deepscore_model.pt?download=1\", model_file_name)\n",
    "download_file(\"https://raw.githubusercontent.com/matchms/ms2deepscore/refs/heads/main/tests/resources/pesticides_processed.mgf\", spectrum_file_name)"
   ]
  },
  {
   "cell_type": "markdown",
   "id": "885a90bf-8197-419f-8a05-7e77cfb3bf5e",
   "metadata": {},
   "source": [
    "# 1. Calculating MS2Deepscore scores\n",
    "MS2Deepscore predicts chemical similarity between mass spectra. It tries to approximate the tanimoto score, which is a metric for chemical similarity. As input the model requires MS2 spectra. These can be loaded in from any of the common file formats that matchms allows (e.g., mzml, mgf, msp, json etc)\n"
   ]
  },
  {
   "cell_type": "code",
   "execution_count": 2,
   "id": "1e567b6e-d92b-4ae8-844e-35d52ed5f74d",
   "metadata": {},
   "outputs": [
    {
     "name": "stderr",
     "output_type": "stream",
     "text": [
      "c:\\users\\jonge094\\pycharmprojects\\ms2deepscore\\ms2deepscore\\ms2deepscore\\models\\load_model.py:34: FutureWarning: You are using `torch.load` with `weights_only=False` (the current default value), which uses the default pickle module implicitly. It is possible to construct malicious pickle data which will execute arbitrary code during unpickling (See https://github.com/pytorch/pytorch/blob/main/SECURITY.md#untrusted-models for more details). In a future release, the default value for `weights_only` will be flipped to `True`. This limits the functions that could be executed during unpickling. Arbitrary objects will no longer be allowed to be loaded via this mode unless they are explicitly allowlisted by the user via `torch.serialization.add_safe_globals`. We recommend you start setting `weights_only=True` for any use case where you don't have full control of the loaded file. Please open an issue on GitHub for any issues related to this experimental feature.\n",
      "  model_settings = torch.load(filename, map_location=device)\n"
     ]
    },
    {
     "name": "stdout",
     "output_type": "stream",
     "text": [
      "The model version (2.0.0) does not match the version of MS2Deepscore (2.1.0), consider downloading a new model or changing the MS2Deepscore version\n"
     ]
    }
   ],
   "source": [
    "from ms2deepscore.models import load_model\n",
    "\n",
    "# load in the ms2deepscore model\n",
    "model = load_model(model_file_name)\n"
   ]
  },
  {
   "cell_type": "code",
   "execution_count": 3,
   "id": "2df06abd-df3c-4ce3-8d91-84e6d052508d",
   "metadata": {},
   "outputs": [
    {
     "name": "stdout",
     "output_type": "stream",
     "text": [
      "2024-10-14 15:24:09,665:WARNING:matchms:Pipeline:The order of the filters has been changed compared to the Yaml file.\n",
      "2024-10-14 15:24:09,667:WARNING:matchms:Pipeline:The order of the filters has been changed compared to the Yaml file.\n",
      "2024-10-14 15:24:09,667:WARNING:matchms:Pipeline:No logging file was defined.Logging messages will not be written to file.\n"
     ]
    },
    {
     "name": "stderr",
     "output_type": "stream",
     "text": [
      "Processing spectra: 76it [00:01, 38.73it/s]\n",
      "76it [00:01, 47.98it/s]\n"
     ]
    }
   ],
   "source": [
    "from matchms.Pipeline import Pipeline, create_workflow\n",
    "from matchms.filtering.default_pipelines import DEFAULT_FILTERS\n",
    "from ms2deepscore import MS2DeepScore\n",
    "\n",
    "pipeline = Pipeline(create_workflow(query_filters=DEFAULT_FILTERS,\n",
    "                                    score_computations=[[MS2DeepScore, {\"model\": model}]]))\n",
    "report = pipeline.run(spectrum_file_name)\n",
    "similarity_matrix = pipeline.scores.to_array()"
   ]
  },
  {
   "cell_type": "markdown",
   "id": "a3e5089c-ee17-4c10-8159-94a8b6d69e0b",
   "metadata": {},
   "source": [
    "### Optional print a report for the spectrum cleaning by matchms. "
   ]
  },
  {
   "cell_type": "code",
   "execution_count": 4,
   "id": "7ff3047e-4964-44e8-80ec-1b7ec261cf31",
   "metadata": {},
   "outputs": [
    {
     "name": "stdout",
     "output_type": "stream",
     "text": [
      "----- Spectrum Processing Report -----\n",
      "Number of spectra processed: 76\n",
      "Number of spectra removed: 0\n",
      "Changes during processing:\n",
      "                              removed spectra  changed metadata  changed mass spectrum\n",
      "filter                                                                                \n",
      "add_retention_index                         0                76                      0\n",
      "add_retention_time                          0                76                      0\n",
      "clean_adduct                                0                76                      0\n",
      "add_parent_mass                             0                76                      0\n",
      "derive_formula_from_smiles                  0                76                      0\n",
      "make_charge_int                             0                 0                      0\n",
      "add_compound_name                           0                 0                      0\n",
      "derive_adduct_from_name                     0                 0                      0\n",
      "derive_formula_from_name                    0                 0                      0\n",
      "clean_compound_name                         0                 0                      0\n",
      "interpret_pepmass                           0                 0                      0\n",
      "add_precursor_mz                            0                 0                      0\n",
      "derive_ionmode                              0                 0                      0\n",
      "correct_charge                              0                 0                      0\n",
      "require_precursor_mz                        0                 0                      0\n",
      "harmonize_undefined_inchikey                0                 0                      0\n",
      "harmonize_undefined_inchi                   0                 0                      0\n",
      "harmonize_undefined_smiles                  0                 0                      0\n",
      "repair_inchi_inchikey_smiles                0                 0                      0\n",
      "derive_smiles_from_inchi                    0                 0                      0\n",
      "derive_inchi_from_smiles                    0                 0                      0\n",
      "derive_inchikey_from_inchi                  0                 0                      0\n",
      "require_correct_ionmode                     0                 0                      0\n",
      "normalize_intensities                       0                 0                      0\n"
     ]
    }
   ],
   "source": [
    "print(report)"
   ]
  },
  {
   "cell_type": "markdown",
   "id": "1d4a8912-615c-479c-81bd-40811a4de160",
   "metadata": {},
   "source": [
    "### The output is a matrix with all the scores between the spectra"
   ]
  },
  {
   "cell_type": "code",
   "execution_count": 5,
   "id": "f469f15f-171e-4c53-9939-3c98e94d8334",
   "metadata": {},
   "outputs": [
    {
     "name": "stdout",
     "output_type": "stream",
     "text": [
      "(76, 76)\n"
     ]
    }
   ],
   "source": [
    "# The size of the matrix\n",
    "print(similarity_matrix.shape)"
   ]
  },
  {
   "cell_type": "code",
   "execution_count": 6,
   "id": "47731ef1-b865-4516-9c82-b85dc6f1a107",
   "metadata": {},
   "outputs": [
    {
     "name": "stdout",
     "output_type": "stream",
     "text": [
      "[[1.         0.48136784 0.38333452 ... 0.1129471  0.12154851 0.17609512]\n",
      " [0.48136784 1.         0.57624004 ... 0.31962144 0.33227743 0.25157794]\n",
      " [0.38333452 0.57624004 1.         ... 0.44612529 0.43256014 0.50354019]\n",
      " ...\n",
      " [0.1129471  0.31962144 0.44612529 ... 1.         0.96423773 0.44607427]\n",
      " [0.12154851 0.33227743 0.43256014 ... 0.96423773 1.         0.40574703]\n",
      " [0.17609512 0.25157794 0.50354019 ... 0.44607427 0.40574703 1.        ]]\n"
     ]
    }
   ],
   "source": [
    "print(similarity_matrix)"
   ]
  },
  {
   "cell_type": "markdown",
   "id": "e8c05ea3-0965-4b6c-8098-a0ddf90d30a9",
   "metadata": {},
   "source": [
    "# 2. Create a molecular network file\n",
    "The calculated scores can be used to make a molecular network"
   ]
  },
  {
   "cell_type": "code",
   "execution_count": 7,
   "id": "5e595bf8-4770-45aa-b63b-b399f1a4fc50",
   "metadata": {},
   "outputs": [],
   "source": [
    "from matchms.networking import SimilarityNetwork\n",
    "\n",
    "# Define settings\n",
    "ms2ds_network = SimilarityNetwork(\n",
    "    identifier_key=\"spectrum_id\", # This is the identifier used for the nodes. You might need to change this to for instance feature_id, scans etc. \n",
    "    score_cutoff=0.90,  # higher numbers produce more isolated sub-graphs\n",
    "    max_links=5 ,  # lower number makes sparser networks\n",
    "    link_method=\"mutual\",  # mutual means: link is only added if in top list of both nodes\n",
    ")\n",
    "\n",
    "# Compute the graph (takes some time)\n",
    "ms2ds_network.create_network(pipeline.scores, score_name=\"MS2DeepScore\")\n",
    "# Export to graphml\n",
    "ms2ds_network.export_to_graphml(\"ms2ds_graph.graphml\")"
   ]
  },
  {
   "cell_type": "markdown",
   "id": "3395cd67-5d42-4fc5-ad73-ccf53a04d175",
   "metadata": {},
   "source": [
    "The graphml file can be loaded into cytoscape: for download see https://cytoscape.org/ This is an open source platform for visualizing graphs. "
   ]
  },
  {
   "cell_type": "markdown",
   "id": "de07774a-e27e-4b7b-b871-06f9f948f249",
   "metadata": {},
   "source": [
    "To load in the data\n",
    "- Open cytoscape\n",
    "- Load in the above created graphml file.\n",
    "- Load in a table with metadata that you want to overlay. For an example with ms2query annotations as table (see case_studies/add_annotations.ipynb)\n",
    "- Set style settings (or load in a style file)\n",
    "- Set up chemviz to visualize chemical information if you have annotations\n",
    "- Explore your data!"
   ]
  },
  {
   "cell_type": "markdown",
   "id": "e07bed7b-83d6-4d76-b807-328c83f26e9c",
   "metadata": {},
   "source": [
    "# 3. Calculate embeddings\n",
    "MS2Deepscore first converts spectra to embeddings, which are high dimensional vectors (500 dimensions). These embeddings are used for calculating the similarity score by calculating the [cosine distance](https://en.wikipedia.org/wiki/Cosine_similarity) between two embeddings. Embeddings can also been used directly to visualize the relative distance between spectra by using a dimensionality reduction method like UMAP."
   ]
  },
  {
   "cell_type": "code",
   "execution_count": 8,
   "id": "0009ed3e-101e-44f3-ac4c-24618f2cbb02",
   "metadata": {},
   "outputs": [
    {
     "name": "stderr",
     "output_type": "stream",
     "text": [
      "76it [00:00, 142.96it/s]\n"
     ]
    }
   ],
   "source": [
    "cleaned_spectra = pipeline.spectra_queries\n",
    "\n",
    "ms2ds_model = MS2DeepScore(model)\n",
    "ms2ds_embeddings = ms2ds_model.get_embedding_array(cleaned_spectra)\r\n"
   ]
  },
  {
   "cell_type": "markdown",
   "id": "7c1db22c-6160-4007-b402-d0a48891271e",
   "metadata": {},
   "source": [
    "This results in a matrix with the embeddings, it contains 76 embeddings with dimension 500."
   ]
  },
  {
   "cell_type": "code",
   "execution_count": 9,
   "id": "46373c2f-e04b-4624-83aa-1854c61fc31f",
   "metadata": {},
   "outputs": [
    {
     "data": {
      "text/plain": [
       "(76, 500)"
      ]
     },
     "execution_count": 9,
     "metadata": {},
     "output_type": "execute_result"
    }
   ],
   "source": [
    "ms2ds_embeddings.shape"
   ]
  },
  {
   "cell_type": "markdown",
   "id": "f3e15de2-cca5-49b4-8df9-cef2f036cd55",
   "metadata": {},
   "source": [
    "# 4. Visualize a ms2deepscore umap representation\n",
    "Umap is a method for reducing multidimensional data to 2 dimensions. This is done in a way that aims to keep distances between embeddings close to the thruth. However, since reducing from 500 dementions some distortions always take place. Reducing to 2 dimensions allows us to visualize the embeddings.\n",
    "\n",
    "The code below tries to learn how to best transform 500 dimensions to 2 dimensions.\n"
   ]
  },
  {
   "cell_type": "code",
   "execution_count": 10,
   "id": "f60408d3-24f5-44c9-bad0-ac5c5bd223c2",
   "metadata": {},
   "outputs": [
    {
     "name": "stderr",
     "output_type": "stream",
     "text": [
      "C:\\Users\\jonge094\\AppData\\Local\\miniconda3\\envs\\pytorch\\lib\\site-packages\\umap\\umap_.py:1943: UserWarning: n_jobs value -1 overridden to 1 by setting random_state. Use no seed for parallelism.\n",
      "  warn(f\"n_jobs value {self.n_jobs} overridden to 1 by setting random_state. Use no seed for parallelism.\")\n"
     ]
    },
    {
     "data": {
      "text/html": [
       "<style>#sk-container-id-1 {\n",
       "  /* Definition of color scheme common for light and dark mode */\n",
       "  --sklearn-color-text: black;\n",
       "  --sklearn-color-line: gray;\n",
       "  /* Definition of color scheme for unfitted estimators */\n",
       "  --sklearn-color-unfitted-level-0: #fff5e6;\n",
       "  --sklearn-color-unfitted-level-1: #f6e4d2;\n",
       "  --sklearn-color-unfitted-level-2: #ffe0b3;\n",
       "  --sklearn-color-unfitted-level-3: chocolate;\n",
       "  /* Definition of color scheme for fitted estimators */\n",
       "  --sklearn-color-fitted-level-0: #f0f8ff;\n",
       "  --sklearn-color-fitted-level-1: #d4ebff;\n",
       "  --sklearn-color-fitted-level-2: #b3dbfd;\n",
       "  --sklearn-color-fitted-level-3: cornflowerblue;\n",
       "\n",
       "  /* Specific color for light theme */\n",
       "  --sklearn-color-text-on-default-background: var(--sg-text-color, var(--theme-code-foreground, var(--jp-content-font-color1, black)));\n",
       "  --sklearn-color-background: var(--sg-background-color, var(--theme-background, var(--jp-layout-color0, white)));\n",
       "  --sklearn-color-border-box: var(--sg-text-color, var(--theme-code-foreground, var(--jp-content-font-color1, black)));\n",
       "  --sklearn-color-icon: #696969;\n",
       "\n",
       "  @media (prefers-color-scheme: dark) {\n",
       "    /* Redefinition of color scheme for dark theme */\n",
       "    --sklearn-color-text-on-default-background: var(--sg-text-color, var(--theme-code-foreground, var(--jp-content-font-color1, white)));\n",
       "    --sklearn-color-background: var(--sg-background-color, var(--theme-background, var(--jp-layout-color0, #111)));\n",
       "    --sklearn-color-border-box: var(--sg-text-color, var(--theme-code-foreground, var(--jp-content-font-color1, white)));\n",
       "    --sklearn-color-icon: #878787;\n",
       "  }\n",
       "}\n",
       "\n",
       "#sk-container-id-1 {\n",
       "  color: var(--sklearn-color-text);\n",
       "}\n",
       "\n",
       "#sk-container-id-1 pre {\n",
       "  padding: 0;\n",
       "}\n",
       "\n",
       "#sk-container-id-1 input.sk-hidden--visually {\n",
       "  border: 0;\n",
       "  clip: rect(1px 1px 1px 1px);\n",
       "  clip: rect(1px, 1px, 1px, 1px);\n",
       "  height: 1px;\n",
       "  margin: -1px;\n",
       "  overflow: hidden;\n",
       "  padding: 0;\n",
       "  position: absolute;\n",
       "  width: 1px;\n",
       "}\n",
       "\n",
       "#sk-container-id-1 div.sk-dashed-wrapped {\n",
       "  border: 1px dashed var(--sklearn-color-line);\n",
       "  margin: 0 0.4em 0.5em 0.4em;\n",
       "  box-sizing: border-box;\n",
       "  padding-bottom: 0.4em;\n",
       "  background-color: var(--sklearn-color-background);\n",
       "}\n",
       "\n",
       "#sk-container-id-1 div.sk-container {\n",
       "  /* jupyter's `normalize.less` sets `[hidden] { display: none; }`\n",
       "     but bootstrap.min.css set `[hidden] { display: none !important; }`\n",
       "     so we also need the `!important` here to be able to override the\n",
       "     default hidden behavior on the sphinx rendered scikit-learn.org.\n",
       "     See: https://github.com/scikit-learn/scikit-learn/issues/21755 */\n",
       "  display: inline-block !important;\n",
       "  position: relative;\n",
       "}\n",
       "\n",
       "#sk-container-id-1 div.sk-text-repr-fallback {\n",
       "  display: none;\n",
       "}\n",
       "\n",
       "div.sk-parallel-item,\n",
       "div.sk-serial,\n",
       "div.sk-item {\n",
       "  /* draw centered vertical line to link estimators */\n",
       "  background-image: linear-gradient(var(--sklearn-color-text-on-default-background), var(--sklearn-color-text-on-default-background));\n",
       "  background-size: 2px 100%;\n",
       "  background-repeat: no-repeat;\n",
       "  background-position: center center;\n",
       "}\n",
       "\n",
       "/* Parallel-specific style estimator block */\n",
       "\n",
       "#sk-container-id-1 div.sk-parallel-item::after {\n",
       "  content: \"\";\n",
       "  width: 100%;\n",
       "  border-bottom: 2px solid var(--sklearn-color-text-on-default-background);\n",
       "  flex-grow: 1;\n",
       "}\n",
       "\n",
       "#sk-container-id-1 div.sk-parallel {\n",
       "  display: flex;\n",
       "  align-items: stretch;\n",
       "  justify-content: center;\n",
       "  background-color: var(--sklearn-color-background);\n",
       "  position: relative;\n",
       "}\n",
       "\n",
       "#sk-container-id-1 div.sk-parallel-item {\n",
       "  display: flex;\n",
       "  flex-direction: column;\n",
       "}\n",
       "\n",
       "#sk-container-id-1 div.sk-parallel-item:first-child::after {\n",
       "  align-self: flex-end;\n",
       "  width: 50%;\n",
       "}\n",
       "\n",
       "#sk-container-id-1 div.sk-parallel-item:last-child::after {\n",
       "  align-self: flex-start;\n",
       "  width: 50%;\n",
       "}\n",
       "\n",
       "#sk-container-id-1 div.sk-parallel-item:only-child::after {\n",
       "  width: 0;\n",
       "}\n",
       "\n",
       "/* Serial-specific style estimator block */\n",
       "\n",
       "#sk-container-id-1 div.sk-serial {\n",
       "  display: flex;\n",
       "  flex-direction: column;\n",
       "  align-items: center;\n",
       "  background-color: var(--sklearn-color-background);\n",
       "  padding-right: 1em;\n",
       "  padding-left: 1em;\n",
       "}\n",
       "\n",
       "\n",
       "/* Toggleable style: style used for estimator/Pipeline/ColumnTransformer box that is\n",
       "clickable and can be expanded/collapsed.\n",
       "- Pipeline and ColumnTransformer use this feature and define the default style\n",
       "- Estimators will overwrite some part of the style using the `sk-estimator` class\n",
       "*/\n",
       "\n",
       "/* Pipeline and ColumnTransformer style (default) */\n",
       "\n",
       "#sk-container-id-1 div.sk-toggleable {\n",
       "  /* Default theme specific background. It is overwritten whether we have a\n",
       "  specific estimator or a Pipeline/ColumnTransformer */\n",
       "  background-color: var(--sklearn-color-background);\n",
       "}\n",
       "\n",
       "/* Toggleable label */\n",
       "#sk-container-id-1 label.sk-toggleable__label {\n",
       "  cursor: pointer;\n",
       "  display: block;\n",
       "  width: 100%;\n",
       "  margin-bottom: 0;\n",
       "  padding: 0.5em;\n",
       "  box-sizing: border-box;\n",
       "  text-align: center;\n",
       "}\n",
       "\n",
       "#sk-container-id-1 label.sk-toggleable__label-arrow:before {\n",
       "  /* Arrow on the left of the label */\n",
       "  content: \"▸\";\n",
       "  float: left;\n",
       "  margin-right: 0.25em;\n",
       "  color: var(--sklearn-color-icon);\n",
       "}\n",
       "\n",
       "#sk-container-id-1 label.sk-toggleable__label-arrow:hover:before {\n",
       "  color: var(--sklearn-color-text);\n",
       "}\n",
       "\n",
       "/* Toggleable content - dropdown */\n",
       "\n",
       "#sk-container-id-1 div.sk-toggleable__content {\n",
       "  max-height: 0;\n",
       "  max-width: 0;\n",
       "  overflow: hidden;\n",
       "  text-align: left;\n",
       "  /* unfitted */\n",
       "  background-color: var(--sklearn-color-unfitted-level-0);\n",
       "}\n",
       "\n",
       "#sk-container-id-1 div.sk-toggleable__content.fitted {\n",
       "  /* fitted */\n",
       "  background-color: var(--sklearn-color-fitted-level-0);\n",
       "}\n",
       "\n",
       "#sk-container-id-1 div.sk-toggleable__content pre {\n",
       "  margin: 0.2em;\n",
       "  border-radius: 0.25em;\n",
       "  color: var(--sklearn-color-text);\n",
       "  /* unfitted */\n",
       "  background-color: var(--sklearn-color-unfitted-level-0);\n",
       "}\n",
       "\n",
       "#sk-container-id-1 div.sk-toggleable__content.fitted pre {\n",
       "  /* unfitted */\n",
       "  background-color: var(--sklearn-color-fitted-level-0);\n",
       "}\n",
       "\n",
       "#sk-container-id-1 input.sk-toggleable__control:checked~div.sk-toggleable__content {\n",
       "  /* Expand drop-down */\n",
       "  max-height: 200px;\n",
       "  max-width: 100%;\n",
       "  overflow: auto;\n",
       "}\n",
       "\n",
       "#sk-container-id-1 input.sk-toggleable__control:checked~label.sk-toggleable__label-arrow:before {\n",
       "  content: \"▾\";\n",
       "}\n",
       "\n",
       "/* Pipeline/ColumnTransformer-specific style */\n",
       "\n",
       "#sk-container-id-1 div.sk-label input.sk-toggleable__control:checked~label.sk-toggleable__label {\n",
       "  color: var(--sklearn-color-text);\n",
       "  background-color: var(--sklearn-color-unfitted-level-2);\n",
       "}\n",
       "\n",
       "#sk-container-id-1 div.sk-label.fitted input.sk-toggleable__control:checked~label.sk-toggleable__label {\n",
       "  background-color: var(--sklearn-color-fitted-level-2);\n",
       "}\n",
       "\n",
       "/* Estimator-specific style */\n",
       "\n",
       "/* Colorize estimator box */\n",
       "#sk-container-id-1 div.sk-estimator input.sk-toggleable__control:checked~label.sk-toggleable__label {\n",
       "  /* unfitted */\n",
       "  background-color: var(--sklearn-color-unfitted-level-2);\n",
       "}\n",
       "\n",
       "#sk-container-id-1 div.sk-estimator.fitted input.sk-toggleable__control:checked~label.sk-toggleable__label {\n",
       "  /* fitted */\n",
       "  background-color: var(--sklearn-color-fitted-level-2);\n",
       "}\n",
       "\n",
       "#sk-container-id-1 div.sk-label label.sk-toggleable__label,\n",
       "#sk-container-id-1 div.sk-label label {\n",
       "  /* The background is the default theme color */\n",
       "  color: var(--sklearn-color-text-on-default-background);\n",
       "}\n",
       "\n",
       "/* On hover, darken the color of the background */\n",
       "#sk-container-id-1 div.sk-label:hover label.sk-toggleable__label {\n",
       "  color: var(--sklearn-color-text);\n",
       "  background-color: var(--sklearn-color-unfitted-level-2);\n",
       "}\n",
       "\n",
       "/* Label box, darken color on hover, fitted */\n",
       "#sk-container-id-1 div.sk-label.fitted:hover label.sk-toggleable__label.fitted {\n",
       "  color: var(--sklearn-color-text);\n",
       "  background-color: var(--sklearn-color-fitted-level-2);\n",
       "}\n",
       "\n",
       "/* Estimator label */\n",
       "\n",
       "#sk-container-id-1 div.sk-label label {\n",
       "  font-family: monospace;\n",
       "  font-weight: bold;\n",
       "  display: inline-block;\n",
       "  line-height: 1.2em;\n",
       "}\n",
       "\n",
       "#sk-container-id-1 div.sk-label-container {\n",
       "  text-align: center;\n",
       "}\n",
       "\n",
       "/* Estimator-specific */\n",
       "#sk-container-id-1 div.sk-estimator {\n",
       "  font-family: monospace;\n",
       "  border: 1px dotted var(--sklearn-color-border-box);\n",
       "  border-radius: 0.25em;\n",
       "  box-sizing: border-box;\n",
       "  margin-bottom: 0.5em;\n",
       "  /* unfitted */\n",
       "  background-color: var(--sklearn-color-unfitted-level-0);\n",
       "}\n",
       "\n",
       "#sk-container-id-1 div.sk-estimator.fitted {\n",
       "  /* fitted */\n",
       "  background-color: var(--sklearn-color-fitted-level-0);\n",
       "}\n",
       "\n",
       "/* on hover */\n",
       "#sk-container-id-1 div.sk-estimator:hover {\n",
       "  /* unfitted */\n",
       "  background-color: var(--sklearn-color-unfitted-level-2);\n",
       "}\n",
       "\n",
       "#sk-container-id-1 div.sk-estimator.fitted:hover {\n",
       "  /* fitted */\n",
       "  background-color: var(--sklearn-color-fitted-level-2);\n",
       "}\n",
       "\n",
       "/* Specification for estimator info (e.g. \"i\" and \"?\") */\n",
       "\n",
       "/* Common style for \"i\" and \"?\" */\n",
       "\n",
       ".sk-estimator-doc-link,\n",
       "a:link.sk-estimator-doc-link,\n",
       "a:visited.sk-estimator-doc-link {\n",
       "  float: right;\n",
       "  font-size: smaller;\n",
       "  line-height: 1em;\n",
       "  font-family: monospace;\n",
       "  background-color: var(--sklearn-color-background);\n",
       "  border-radius: 1em;\n",
       "  height: 1em;\n",
       "  width: 1em;\n",
       "  text-decoration: none !important;\n",
       "  margin-left: 1ex;\n",
       "  /* unfitted */\n",
       "  border: var(--sklearn-color-unfitted-level-1) 1pt solid;\n",
       "  color: var(--sklearn-color-unfitted-level-1);\n",
       "}\n",
       "\n",
       ".sk-estimator-doc-link.fitted,\n",
       "a:link.sk-estimator-doc-link.fitted,\n",
       "a:visited.sk-estimator-doc-link.fitted {\n",
       "  /* fitted */\n",
       "  border: var(--sklearn-color-fitted-level-1) 1pt solid;\n",
       "  color: var(--sklearn-color-fitted-level-1);\n",
       "}\n",
       "\n",
       "/* On hover */\n",
       "div.sk-estimator:hover .sk-estimator-doc-link:hover,\n",
       ".sk-estimator-doc-link:hover,\n",
       "div.sk-label-container:hover .sk-estimator-doc-link:hover,\n",
       ".sk-estimator-doc-link:hover {\n",
       "  /* unfitted */\n",
       "  background-color: var(--sklearn-color-unfitted-level-3);\n",
       "  color: var(--sklearn-color-background);\n",
       "  text-decoration: none;\n",
       "}\n",
       "\n",
       "div.sk-estimator.fitted:hover .sk-estimator-doc-link.fitted:hover,\n",
       ".sk-estimator-doc-link.fitted:hover,\n",
       "div.sk-label-container:hover .sk-estimator-doc-link.fitted:hover,\n",
       ".sk-estimator-doc-link.fitted:hover {\n",
       "  /* fitted */\n",
       "  background-color: var(--sklearn-color-fitted-level-3);\n",
       "  color: var(--sklearn-color-background);\n",
       "  text-decoration: none;\n",
       "}\n",
       "\n",
       "/* Span, style for the box shown on hovering the info icon */\n",
       ".sk-estimator-doc-link span {\n",
       "  display: none;\n",
       "  z-index: 9999;\n",
       "  position: relative;\n",
       "  font-weight: normal;\n",
       "  right: .2ex;\n",
       "  padding: .5ex;\n",
       "  margin: .5ex;\n",
       "  width: min-content;\n",
       "  min-width: 20ex;\n",
       "  max-width: 50ex;\n",
       "  color: var(--sklearn-color-text);\n",
       "  box-shadow: 2pt 2pt 4pt #999;\n",
       "  /* unfitted */\n",
       "  background: var(--sklearn-color-unfitted-level-0);\n",
       "  border: .5pt solid var(--sklearn-color-unfitted-level-3);\n",
       "}\n",
       "\n",
       ".sk-estimator-doc-link.fitted span {\n",
       "  /* fitted */\n",
       "  background: var(--sklearn-color-fitted-level-0);\n",
       "  border: var(--sklearn-color-fitted-level-3);\n",
       "}\n",
       "\n",
       ".sk-estimator-doc-link:hover span {\n",
       "  display: block;\n",
       "}\n",
       "\n",
       "/* \"?\"-specific style due to the `<a>` HTML tag */\n",
       "\n",
       "#sk-container-id-1 a.estimator_doc_link {\n",
       "  float: right;\n",
       "  font-size: 1rem;\n",
       "  line-height: 1em;\n",
       "  font-family: monospace;\n",
       "  background-color: var(--sklearn-color-background);\n",
       "  border-radius: 1rem;\n",
       "  height: 1rem;\n",
       "  width: 1rem;\n",
       "  text-decoration: none;\n",
       "  /* unfitted */\n",
       "  color: var(--sklearn-color-unfitted-level-1);\n",
       "  border: var(--sklearn-color-unfitted-level-1) 1pt solid;\n",
       "}\n",
       "\n",
       "#sk-container-id-1 a.estimator_doc_link.fitted {\n",
       "  /* fitted */\n",
       "  border: var(--sklearn-color-fitted-level-1) 1pt solid;\n",
       "  color: var(--sklearn-color-fitted-level-1);\n",
       "}\n",
       "\n",
       "/* On hover */\n",
       "#sk-container-id-1 a.estimator_doc_link:hover {\n",
       "  /* unfitted */\n",
       "  background-color: var(--sklearn-color-unfitted-level-3);\n",
       "  color: var(--sklearn-color-background);\n",
       "  text-decoration: none;\n",
       "}\n",
       "\n",
       "#sk-container-id-1 a.estimator_doc_link.fitted:hover {\n",
       "  /* fitted */\n",
       "  background-color: var(--sklearn-color-fitted-level-3);\n",
       "}\n",
       "</style><div id=\"sk-container-id-1\" class=\"sk-top-container\"><div class=\"sk-text-repr-fallback\"><pre>UMAP(min_dist=0.2, n_neighbors=50, random_state=42, tqdm_kwds={&#x27;bar_format&#x27;: &#x27;{desc}: {percentage:3.0f}%| {bar} {n_fmt}/{total_fmt} [{elapsed}]&#x27;, &#x27;desc&#x27;: &#x27;Epochs completed&#x27;, &#x27;disable&#x27;: True})</pre><b>In a Jupyter environment, please rerun this cell to show the HTML representation or trust the notebook. <br />On GitHub, the HTML representation is unable to render, please try loading this page with nbviewer.org.</b></div><div class=\"sk-container\" hidden><div class=\"sk-item\"><div class=\"sk-estimator fitted sk-toggleable\"><input class=\"sk-toggleable__control sk-hidden--visually\" id=\"sk-estimator-id-1\" type=\"checkbox\" checked><label for=\"sk-estimator-id-1\" class=\"sk-toggleable__label fitted sk-toggleable__label-arrow fitted\">&nbsp;UMAP<span class=\"sk-estimator-doc-link fitted\">i<span>Fitted</span></span></label><div class=\"sk-toggleable__content fitted\"><pre>UMAP(min_dist=0.2, n_neighbors=50, random_state=42, tqdm_kwds={&#x27;bar_format&#x27;: &#x27;{desc}: {percentage:3.0f}%| {bar} {n_fmt}/{total_fmt} [{elapsed}]&#x27;, &#x27;desc&#x27;: &#x27;Epochs completed&#x27;, &#x27;disable&#x27;: True})</pre></div> </div></div></div></div>"
      ],
      "text/plain": [
       "UMAP(min_dist=0.2, n_neighbors=50, random_state=42, tqdm_kwds={'bar_format': '{desc}: {percentage:3.0f}%| {bar} {n_fmt}/{total_fmt} [{elapsed}]', 'desc': 'Epochs completed', 'disable': True})"
      ]
     },
     "execution_count": 10,
     "metadata": {},
     "output_type": "execute_result"
    }
   ],
   "source": [
    "import umap\n",
    "\n",
    "reducer = umap.UMAP(random_state=42,  # this or whatever your favorite number is\n",
    "                    n_neighbors=50 ,  # key parameters How global or local the distribution 30, 50\n",
    "                    min_dist=0.2 , # can the dots overlap if you use 5 they move out a bit. 0.1, 0.2\n",
    "                    )\n",
    "reducer.fit(ms2ds_embeddings)"
   ]
  },
  {
   "cell_type": "markdown",
   "id": "778f0f93-b175-4313-89a7-10d5e898c834",
   "metadata": {},
   "source": [
    "\n",
    "### get 2d coordinates from embeddings\r\n",
    "Here we use the fitted umap model to actually transform embeddings to a x and y coordinate\r\n"
   ]
  },
  {
   "cell_type": "code",
   "execution_count": 11,
   "id": "3fef1d4a-8067-473f-b171-41e193e486d7",
   "metadata": {},
   "outputs": [],
   "source": [
    "embedding_umap = reducer.transform(ms2ds_embeddings)"
   ]
  },
  {
   "cell_type": "code",
   "execution_count": 14,
   "id": "f22cf0f2-9f36-4d8e-a57f-fb25934cae7b",
   "metadata": {},
   "outputs": [
    {
     "data": {
      "text/html": [
       "<div>\n",
       "<style scoped>\n",
       "    .dataframe tbody tr th:only-of-type {\n",
       "        vertical-align: middle;\n",
       "    }\n",
       "\n",
       "    .dataframe tbody tr th {\n",
       "        vertical-align: top;\n",
       "    }\n",
       "\n",
       "    .dataframe thead th {\n",
       "        text-align: right;\n",
       "    }\n",
       "</style>\n",
       "<table border=\"1\" class=\"dataframe\">\n",
       "  <thead>\n",
       "    <tr style=\"text-align: right;\">\n",
       "      <th></th>\n",
       "      <th>x</th>\n",
       "      <th>y</th>\n",
       "      <th>precursor_mz</th>\n",
       "      <th>smiles</th>\n",
       "    </tr>\n",
       "  </thead>\n",
       "  <tbody>\n",
       "    <tr>\n",
       "      <th>CCMSLIB00001058235</th>\n",
       "      <td>1.155417</td>\n",
       "      <td>8.516410</td>\n",
       "      <td>183.057</td>\n",
       "      <td>C1=CC=C2C(=C1)NC(=N2)C3=CC=CO3</td>\n",
       "    </tr>\n",
       "    <tr>\n",
       "      <th>CCMSLIB00001058238</th>\n",
       "      <td>0.379157</td>\n",
       "      <td>7.900370</td>\n",
       "      <td>208.146</td>\n",
       "      <td>CCCCC1=C(NC(=NC1=O)NCC)C</td>\n",
       "    </tr>\n",
       "    <tr>\n",
       "      <th>CCMSLIB00001058241</th>\n",
       "      <td>0.617763</td>\n",
       "      <td>7.225239</td>\n",
       "      <td>370.073</td>\n",
       "      <td>CC(C)(C)C(C(=CC1=C(C=C(C=C1)Cl)Cl)N2C=NC=N2)O</td>\n",
       "    </tr>\n",
       "    <tr>\n",
       "      <th>CCMSLIB00001058242</th>\n",
       "      <td>0.043208</td>\n",
       "      <td>8.382338</td>\n",
       "      <td>231.075</td>\n",
       "      <td>CN(C)C(=O)NC1=CC=CC(=C1)C(F)(F)F</td>\n",
       "    </tr>\n",
       "    <tr>\n",
       "      <th>CCMSLIB00001058245</th>\n",
       "      <td>0.242532</td>\n",
       "      <td>8.564999</td>\n",
       "      <td>246.044</td>\n",
       "      <td>C1=CC=C(C=C1)NC(=O)NC2=CC(=NC=C2)Cl</td>\n",
       "    </tr>\n",
       "    <tr>\n",
       "      <th>...</th>\n",
       "      <td>...</td>\n",
       "      <td>...</td>\n",
       "      <td>...</td>\n",
       "      <td>...</td>\n",
       "    </tr>\n",
       "    <tr>\n",
       "      <th>CCMSLIB00001058444</th>\n",
       "      <td>1.358423</td>\n",
       "      <td>4.128374</td>\n",
       "      <td>430.952</td>\n",
       "      <td>CCS(=O)C1=C(N(N=C1C#N)C2=C(C=C(C=C2Cl)C(F)(F)F...</td>\n",
       "    </tr>\n",
       "    <tr>\n",
       "      <th>CCMSLIB00001058449</th>\n",
       "      <td>1.806564</td>\n",
       "      <td>4.064288</td>\n",
       "      <td>434.931</td>\n",
       "      <td>C1=C(C=C(C(=C1Cl)N2C(=C(C(=N2)C#N)S(=O)C(F)(F)...</td>\n",
       "    </tr>\n",
       "    <tr>\n",
       "      <th>CCMSLIB00001058452</th>\n",
       "      <td>-0.409009</td>\n",
       "      <td>5.685254</td>\n",
       "      <td>681.016</td>\n",
       "      <td>CC1=CC=C(C=C1)C2=C(N=C(N2S(=O)(=O)N(C)C)C#N)Cl</td>\n",
       "    </tr>\n",
       "    <tr>\n",
       "      <th>CCMSLIB00001058458</th>\n",
       "      <td>-0.796274</td>\n",
       "      <td>5.357234</td>\n",
       "      <td>716.992</td>\n",
       "      <td>CC1=CC=C(C=C1)C2=C(N=C(N2S(=O)(=O)N(C)C)C#N)Cl</td>\n",
       "    </tr>\n",
       "    <tr>\n",
       "      <th>CCMSLIB00001058471</th>\n",
       "      <td>0.990005</td>\n",
       "      <td>5.232007</td>\n",
       "      <td>342.024</td>\n",
       "      <td>C1CC1(C(CC2=CC=CC=C2Cl)(CN3C(=S)N=CN3)O)Cl</td>\n",
       "    </tr>\n",
       "  </tbody>\n",
       "</table>\n",
       "<p>76 rows × 4 columns</p>\n",
       "</div>"
      ],
      "text/plain": [
       "                           x         y  precursor_mz                                             smiles\n",
       "CCMSLIB00001058235  1.155417  8.516410       183.057                     C1=CC=C2C(=C1)NC(=N2)C3=CC=CO3\n",
       "CCMSLIB00001058238  0.379157  7.900370       208.146                           CCCCC1=C(NC(=NC1=O)NCC)C\n",
       "CCMSLIB00001058241  0.617763  7.225239       370.073      CC(C)(C)C(C(=CC1=C(C=C(C=C1)Cl)Cl)N2C=NC=N2)O\n",
       "CCMSLIB00001058242  0.043208  8.382338       231.075                   CN(C)C(=O)NC1=CC=CC(=C1)C(F)(F)F\n",
       "CCMSLIB00001058245  0.242532  8.564999       246.044                C1=CC=C(C=C1)NC(=O)NC2=CC(=NC=C2)Cl\n",
       "...                      ...       ...           ...                                                ...\n",
       "CCMSLIB00001058444  1.358423  4.128374       430.952  CCS(=O)C1=C(N(N=C1C#N)C2=C(C=C(C=C2Cl)C(F)(F)F...\n",
       "CCMSLIB00001058449  1.806564  4.064288       434.931  C1=C(C=C(C(=C1Cl)N2C(=C(C(=N2)C#N)S(=O)C(F)(F)...\n",
       "CCMSLIB00001058452 -0.409009  5.685254       681.016     CC1=CC=C(C=C1)C2=C(N=C(N2S(=O)(=O)N(C)C)C#N)Cl\n",
       "CCMSLIB00001058458 -0.796274  5.357234       716.992     CC1=CC=C(C=C1)C2=C(N=C(N2S(=O)(=O)N(C)C)C#N)Cl\n",
       "CCMSLIB00001058471  0.990005  5.232007       342.024         C1CC1(C(CC2=CC=CC=C2Cl)(CN3C(=S)N=CN3)O)Cl\n",
       "\n",
       "[76 rows x 4 columns]"
      ]
     },
     "execution_count": 14,
     "metadata": {},
     "output_type": "execute_result"
    }
   ],
   "source": [
    "import pandas as pd\n",
    "embedding_umap_df = pd.DataFrame(embedding_umap, \n",
    "                                 index = [spectrum.get(\"spectrum_id\") for spectrum in cleaned_spectra],\n",
    "                                columns = [\"x\", \"y\"])\n",
    "# Add metadata to the table\n",
    "embedding_umap_df[\"precursor_mz\"] = [spectrum.get(\"precursor_mz\") for spectrum in cleaned_spectra]\n",
    "embedding_umap_df[\"smiles\"] = [spectrum.get(\"smiles\") for spectrum in cleaned_spectra]\n",
    "embedding_umap_df"
   ]
  },
  {
   "cell_type": "markdown",
   "id": "40ffbb92-0f1c-4c4c-848f-5bb14c599b4b",
   "metadata": {},
   "source": [
    "### Visualize the embeddings\n",
    "The embeddings are visualized by using the x and y coordinate calculated from the embeddings using umap. You can color the nodes based on any of the available metadata, in the example we show coloring on precursor mz, but you could also use retention time or for instance predicted compound class. "
   ]
  },
  {
   "cell_type": "code",
   "execution_count": 18,
   "id": "56b209f0-b39d-4dfc-8cdd-35a0a8dd0739",
   "metadata": {},
   "outputs": [
    {
     "data": {
      "application/vnd.plotly.v1+json": {
       "config": {
        "plotlyServerURL": "https://plot.ly"
       },
       "data": [
        {
         "customdata": [
          [
           "C1=CC=C2C(=C1)NC(=N2)C3=CC=CO3",
           183.057
          ],
          [
           "CCCCC1=C(NC(=NC1=O)NCC)C",
           208.146
          ],
          [
           "CC(C)(C)C(C(=CC1=C(C=C(C=C1)Cl)Cl)N2C=NC=N2)O",
           370.073
          ],
          [
           "CN(C)C(=O)NC1=CC=CC(=C1)C(F)(F)F",
           231.075
          ],
          [
           "C1=CC=C(C=C1)NC(=O)NC2=CC(=NC=C2)Cl",
           246.044
          ],
          [
           "C1=CC=C(C=C1)NC(=O)NC2=CC(=NC=C2)Cl",
           282.02
          ],
          [
           "C1=CC=C(C=C1)NC(=O)NC2=CC(=NC=C2)Cl",
           292.049
          ],
          [
           "CC1=C(C=C(C=C1)NC(=O)N(C)C)Cl",
           211.065
          ],
          [
           "CN(C)C(=O)NC1=CC(=C(C=C1)Cl)Cl",
           231.01
          ],
          [
           "C1=CC(=C(C(=C1)F)C(=O)NC(=O)NC2=CC=C(C=C2)Cl)F",
           309.025
          ],
          [
           "CCCCN(C)C(=O)NC1=CC(=C(C=C1)Cl)Cl",
           273.057
          ],
          [
           "C1=CC=C(C(=C1)C(=O)NC(=O)NC2=CC=C(C=C2)OC(F)(F)F)Cl",
           357.026
          ],
          [
           "C1=CC(=C(C(=C1)F)C(=O)NC(=O)NC2=CC(=C(C(=C2)Cl)OC(C(F)F)(F)F)Cl)F",
           458.975
          ],
          [
           "C1=CC(=C(C(=C1)F)C(=O)NC(=O)NC2=CC(=C(C=C2)OC(C(OC(F)(F)F)F)(F)F)Cl)F",
           491.005
          ],
          [
           "C1=CC(=C(C(=C1)F)C(=O)NC(=O)NC2=CC(=C(C=C2)OC(C(OC(F)(F)F)F)(F)F)Cl)F",
           472.994
          ],
          [
           "C1=CC(=C(C(=C1)F)C(=O)NC(=O)NC2=CC(=C(C=C2)OC(C(OC(F)(F)F)F)(F)F)Cl)F",
           526.981
          ],
          [
           "C1=CC(=C(C(=C1)F)C(=O)NC(=O)NC2=CC(=C(C(=C2F)Cl)F)Cl)F",
           378.967
          ],
          [
           "C1=CC(=C(C(=C1)F)C(=O)NC(=O)NC2=CC(=C(C=C2Cl)OC(C(C(F)(F)F)F)(F)F)Cl)F",
           508.971
          ],
          [
           "C1=CC(=C(C(=C1)F)C(=O)NC(=O)NC2=CC(=C(C(=C2)Cl)OC(C(F)F)(F)F)Cl)F",
           458.975
          ],
          [
           "C1=CC(=C(C(=C1)F)C(=O)NC(=O)NC2=C(C=C(C=C2)OC3=C(C=C(C=C3)C(F)(F)F)Cl)F)F",
           487.029
          ],
          [
           "C1=CC(=C(C(=C1)F)C(=O)NC(=O)NC2=CC(=C(C=C2)OC(C(OC(F)(F)F)F)(F)F)Cl)F",
           491.005
          ],
          [
           "C1=CC(=C(C(=C1)F)C(=O)NC(=O)NC2=CC(=C(C=C2)OC(C(OC(F)(F)F)F)(F)F)Cl)F",
           526.981
          ],
          [
           "C1=CC(=C(C(=C1)F)C(=O)NC(=O)NC2=CC(=C(C(=C2)Cl)OC3=C(C=C(C=N3)C(F)(F)F)Cl)Cl)F",
           537.956
          ],
          [
           "C1=CC(=C(C(=C1)F)C(=O)NC(=O)NC2=CC(=C(C=C2Cl)OC(C(C(F)(F)F)F)(F)F)Cl)F",
           508.971
          ],
          [
           "CC(=O)NP(=O)(OC)SC",
           182.005
          ],
          [
           "C1=CC(=C(C(=C1)F)C(=O)NC(=O)NC2=C(C=C(C=C2)OC3=C(C=C(C=C3)C(F)(F)F)Cl)F)F",
           487.029
          ],
          [
           "CN=C(NCC1CCOC1)N[N+](=O)[O-]",
           201.1
          ],
          [
           "C1=CC(=C(C(=C1)F)C(=O)NC(=O)NC2=CC(=C(C(=C2)Cl)OC3=C(C=C(C=N3)C(F)(F)F)Cl)Cl)F",
           537.956
          ],
          [
           "C1=CN=CC(=C1C(F)(F)F)C(=O)NCC#N",
           228.039
          ],
          [
           "CC1=NN(C(=O)N1C(F)F)C2=CC(=C(C=C2Cl)Cl)NS(=O)(=O)C",
           384.975
          ],
          [
           "CCN(C)C(=C[N+](=O)[O-])NCC1=CN=C(C=C1)Cl",
           269.081
          ],
          [
           "CC1=NNC(=O)N(C1)N=CC2=CN=CC=C2",
           254.045
          ],
          [
           "C1=C(C=C(C(=C1Cl)N2C(=C(C(=N2)C#N)S(=O)C(F)(F)F)N)Cl)C(F)(F)F",
           434.931
          ],
          [
           "C1=C(C=C(C(=C1Cl)N2C(=C(C(=N2)C#N)S(=O)C(F)(F)F)N)Cl)C(F)(F)F",
           470.908
          ],
          [
           "CC1=CC=C(C=C1)C2=C(N=C(N2S(=O)(=O)N(C)C)C#N)Cl",
           681.016
          ],
          [
           "CCNC(=O)NC(=O)C(=NOC)C#N",
           235.109
          ],
          [
           "CC1=CC=C(C=C1)C2=C(N=C(N2S(=O)(=O)N(C)C)C#N)Cl",
           716.992
          ],
          [
           "CC1=C(C(=CC(=C1)Cl)C(=O)NC)NC(=O)C2=CC(=NN2C3=C(C=CC=N3)Cl)Br",
           479.964
          ],
          [
           "CC(C)(C)N(C(=O)C1=CC=CC=C1)NC(=O)C2=CC=C(C=C2)Cl",
           329.107
          ],
          [
           "CC(C)(C)N(C(=O)C1=CC=CC=C1)NC(=O)C2=CC=C(C=C2)Cl",
           365.083
          ],
          [
           "C1=CC=C(C(=C1)C2=CC=C(C=C2)Cl)NC(=O)C3=C(N=CC=C3)Cl",
           367.203
          ],
          [
           "C1=CC(=C2C(=C1)OC(O2)(F)F)C3=CNC=C3C#N",
           247.032
          ],
          [
           "CC(C)OC1=CC=CC(=C1)NC(=O)C2=CC=CC=C2C(F)(F)F",
           322.106
          ],
          [
           "CCC1=CC=C(C=C1)C(=O)NN(C(=O)C2=CC(=CC(=C2)C)C)C(C)(C)C",
           397.213
          ],
          [
           "C1=C(C=NC(=C1Cl)NC2=C(C=C(C(=C2[N+](=O)[O-])Cl)C(F)(F)F)[N+](=O)[O-])C(F)(F)F",
           462.944
          ],
          [
           "CC1=CC(=NC(=N1)N)C",
           341.026
          ],
          [
           "C1=CC(=CC(=C1)C(F)(F)F)C(=NNC(=O)NC2=CC=C(C=C2)OC(F)(F)F)CC3=CC=C(C=C3)C#N",
           505.11
          ],
          [
           "C1=CC=C(C(=C1)C2=CC=C(C=C2)Cl)NC(=O)C3=C(N=CC=C3)Cl",
           367.203
          ],
          [
           "C1=CC(=CC(=C1)C(F)(F)F)C(=NNC(=O)NC2=CC=C(C=C2)OC(F)(F)F)CC3=CC=C(C=C3)C#N",
           541.087
          ],
          [
           "CC(C)(C)C(=O)C(N1C=NC=N1)OC2=CC=C(C=C2)Cl",
           300.057
          ],
          [
           "C1=CC(=CC(=C1)C(F)(F)F)C(=NNC(=O)NC2=CC=C(C=C2)OC(F)(F)F)CC3=CC=C(C=C3)C#N",
           551.116
          ],
          [
           "CCC(C)C1C(C=CC2(O1)CC3CC(O2)CC=C(C(C(C=CC=C4COC5C4(C(C=C(C5O)C)C(=O)O3)O)C)OC6CC(C(C(O6)C)OC7CC(C(C(O7)C)O)OC)OC)C)C",
           917.49
          ],
          [
           "CCC1=CC=C(C=C1)C(=O)NN(C(=O)C2=CC(=CC(=C2)C)C)C(C)(C)C",
           351.208
          ],
          [
           "CC1C=CC=C2COC3C2(C(C=C(C3O)C)C(=O)OC4CC(CC=C(C1OC5CC(C(C(O5)C)OC6CC(C(C(O6)C)O)OC)OC)C)OC7(C4)C=CC(C(O7)C8CCCCC8)C)O",
           943.506
          ],
          [
           "CCC1=CC=C(C=C1)C(=O)NN(C(=O)C2=CC(=CC(=C2)C)C)C(C)(C)C",
           387.184
          ],
          [
           "C1=C(C=NC(=C1Cl)NC2=C(C=C(C(=C2[N+](=O)[O-])Cl)C(F)(F)F)[N+](=O)[O-])C(F)(F)F",
           462.944
          ],
          [
           "CCC(C)C1C(CCC2(O1)CC3CC(O2)CC=C(C(C(C=CC=C4COC5C4(C(C=C(C5O)C)C(=O)O3)O)C)OC6CC(C(C(O6)C)OC7CC(C(C(O7)C)O)OC)OC)C)C",
           919.506
          ],
          [
           "C1=CC(=CC(=C1)C(F)(F)F)C(=NNC(=O)NC2=CC=C(C=C2)OC(F)(F)F)CC3=CC=C(C=C3)C#N",
           505.11
          ],
          [
           "CC1(CNC(=NC1)NN=C(C=CC2=CC=C(C=C2)C(F)(F)F)C=CC3=CC=C(C=C3)C(F)(F)F)C",
           493.184
          ],
          [
           "C1=CC(=CC(=C1)C(F)(F)F)C(=NNC(=O)NC2=CC=C(C=C2)OC(F)(F)F)CC3=CC=C(C=C3)C#N",
           541.087
          ],
          [
           "CCC(C)C1C(C=CC2(O1)CC3CC(O2)CC=C(C(C(C=CC=C4COC5C4(C(C=C(C5O)C)C(=O)O3)O)C)OC6CC(C(C(O6)C)OC7CC(C(C(O7)C)NC(=O)C)OC)OC)C)C",
           912.512
          ],
          [
           "CC1C=CC=C2COC3C2(C(C=C(C3O)C)C(=O)OC4CC(CC=C(C1OC5CC(C(C(O5)C)OC6CC(C(C(O6)C)O)OC)OC)C)OC7(C4)C=CC(C(O7)C8CCCCC8)C)O",
           897.501
          ],
          [
           "CC1C=CC=C2COC3C2(C(C=C(C3O)C)C(=O)OC4CC(CC=C(C1OC5CC(C(C(O5)C)OC6CC(C(C(O6)C)O)OC)OC)C)OC7(C4)C=CC(C(O7)C8CCCCC8)C)O",
           943.506
          ],
          [
           "C1=CC=C(C=C1)NC(=O)NC2=CN=NS2",
           219.035
          ],
          [
           "C1=CC=C(C=C1)NC(=O)NC2=CN=NS2",
           255.011
          ],
          [
           "COC(=O)NC(=S)NC1=CC=CC=C1NC(=S)NC(=O)OC",
           341.039
          ],
          [
           "CC1(CNC(=NC1)NN=C(C=CC2=CC=C(C=C2)C(F)(F)F)C=CC3=CC=C(C=C3)C(F)(F)F)C",
           493.184
          ],
          [
           "CC1(CNC(=NC1)NN=C(C=CC2=CC=C(C=C2)C(F)(F)F)C=CC3=CC=C(C=C3)C(F)(F)F)C",
           529.16
          ],
          [
           "CN=C(NCC1=CN=C(S1)Cl)N[N+](=O)[O-]",
           248.002
          ],
          [
           "CC1=NN(C(=O)N1C(F)F)C2=CC(=C(C=C2Cl)Cl)NS(=O)(=O)C",
           384.975
          ],
          [
           "CCS(=O)C1=C(N(N=C1C#N)C2=C(C=C(C=C2Cl)C(F)(F)F)Cl)N",
           394.975
          ],
          [
           "CCS(=O)C1=C(N(N=C1C#N)C2=C(C=C(C=C2Cl)C(F)(F)F)Cl)N",
           430.952
          ],
          [
           "C1=C(C=C(C(=C1Cl)N2C(=C(C(=N2)C#N)S(=O)C(F)(F)F)N)Cl)C(F)(F)F",
           434.931
          ],
          [
           "CC1=CC=C(C=C1)C2=C(N=C(N2S(=O)(=O)N(C)C)C#N)Cl",
           681.016
          ],
          [
           "CC1=CC=C(C=C1)C2=C(N=C(N2S(=O)(=O)N(C)C)C#N)Cl",
           716.992
          ],
          [
           "C1CC1(C(CC2=CC=CC=C2Cl)(CN3C(=S)N=CN3)O)Cl",
           342.024
          ]
         ],
         "hovertemplate": "smiles=%{customdata[0]}<br>precursor_mz=%{marker.color}<extra></extra>",
         "legendgroup": "",
         "marker": {
          "color": [
           183.057,
           208.146,
           370.073,
           231.075,
           246.044,
           282.02,
           292.049,
           211.065,
           231.01,
           309.025,
           273.057,
           357.026,
           458.975,
           491.005,
           472.994,
           526.981,
           378.967,
           508.971,
           458.975,
           487.029,
           491.005,
           526.981,
           537.956,
           508.971,
           182.005,
           487.029,
           201.1,
           537.956,
           228.039,
           384.975,
           269.081,
           254.045,
           434.931,
           470.908,
           681.016,
           235.109,
           716.992,
           479.964,
           329.107,
           365.083,
           367.203,
           247.032,
           322.106,
           397.213,
           462.944,
           341.026,
           505.11,
           367.203,
           541.087,
           300.057,
           551.116,
           917.49,
           351.208,
           943.506,
           387.184,
           462.944,
           919.506,
           505.11,
           493.184,
           541.087,
           912.512,
           897.501,
           943.506,
           219.035,
           255.011,
           341.039,
           493.184,
           529.16,
           248.002,
           384.975,
           394.975,
           430.952,
           434.931,
           681.016,
           716.992,
           342.024
          ],
          "coloraxis": "coloraxis",
          "opacity": 0.5,
          "symbol": "circle"
         },
         "mode": "markers",
         "name": "",
         "orientation": "v",
         "showlegend": false,
         "type": "scatter",
         "x": [
          1.15541672706604,
          0.3791574239730835,
          0.617763340473175,
          0.043207962065935135,
          0.24253195524215698,
          0.37695929408073425,
          0.21300064027309418,
          1.3727971315383911,
          0.122089684009552,
          -0.09716516733169556,
          -0.09142366051673889,
          0.5310463905334473,
          0.2418023943901062,
          -0.16893313825130463,
          -0.7710670828819275,
          -0.6065375208854675,
          1.803576111793518,
          -0.27245429158210754,
          0.9477307200431824,
          -0.5275216698646545,
          -0.27798059582710266,
          -0.820212185382843,
          0.16855452954769135,
          -0.043539248406887054,
          1.0251330137252808,
          -0.9912293553352356,
          1.6206082105636597,
          0.570421040058136,
          0.6025611162185669,
          0.767335057258606,
          1.1813828945159912,
          0.3817259967327118,
          1.5179226398468018,
          1.3531291484832764,
          -0.6248157620429993,
          0.49373799562454224,
          -0.3863808512687683,
          0.33790266513824463,
          1.476521611213684,
          1.4727402925491333,
          2.0305678844451904,
          1.2892365455627441,
          0.5207607746124268,
          2.202591896057129,
          1.0505198240280151,
          1.3669037818908691,
          0.11010880023241043,
          1.8627598285675049,
          -1.1134577989578247,
          0.7445894479751587,
          -0.6735901832580566,
          -1.40718412399292,
          2.0641238689422607,
          -1.305367350578308,
          1.8291683197021484,
          0.780845046043396,
          -1.5504601001739502,
          -0.01171473041176796,
          -1.2226811647415161,
          -0.3487509489059448,
          -1.0766199827194214,
          -1.4461784362792969,
          -1.364309549331665,
          0.6948845386505127,
          0.4188604950904846,
          1.1937226057052612,
          -1.5026355981826782,
          -0.9131903052330017,
          1.6891623735427856,
          0.9836345314979553,
          1.3209545612335205,
          1.3584227561950684,
          1.8065636157989502,
          -0.40900906920433044,
          -0.7962743043899536,
          0.990005373954773
         ],
         "xaxis": "x",
         "y": [
          8.516409873962402,
          7.900370121002197,
          7.225239276885986,
          8.38233757019043,
          8.564998626708984,
          6.979404926300049,
          6.702301502227783,
          7.971576690673828,
          8.677544593811035,
          7.046711444854736,
          7.635891437530518,
          5.5234246253967285,
          4.943220138549805,
          4.101586818695068,
          4.7792863845825195,
          4.057748317718506,
          4.67802095413208,
          4.816667079925537,
          4.5361328125,
          3.6799235343933105,
          4.363459587097168,
          4.088343143463135,
          4.204746723175049,
          4.961354732513428,
          8.691141128540039,
          3.795337200164795,
          8.387362480163574,
          4.308992862701416,
          8.239304542541504,
          4.144448757171631,
          7.81852912902832,
          7.890350341796875,
          4.184808731079102,
          4.599465370178223,
          5.810381889343262,
          7.593772888183594,
          5.683014869689941,
          4.683314800262451,
          7.109129905700684,
          6.6173319816589355,
          6.791566848754883,
          7.448192119598389,
          6.045731067657471,
          7.293898582458496,
          3.648075819015503,
          5.386901378631592,
          3.669119119644165,
          7.023976802825928,
          3.6033999919891357,
          6.522274971008301,
          3.563345193862915,
          6.105853080749512,
          7.459784507751465,
          6.325221538543701,
          7.7324700355529785,
          3.5891759395599365,
          6.235714435577393,
          3.3971104621887207,
          4.5044755935668945,
          3.255685329437256,
          5.372530937194824,
          5.866438388824463,
          5.688374042510986,
          8.971114158630371,
          9.012534141540527,
          6.169300079345703,
          4.788358211517334,
          4.428603649139404,
          8.177450180053711,
          4.198889255523682,
          4.541559219360352,
          4.128374099731445,
          4.0642876625061035,
          5.685253620147705,
          5.357234477996826,
          5.232006549835205
         ],
         "yaxis": "y"
        }
       ],
       "layout": {
        "coloraxis": {
         "colorbar": {
          "title": {
           "text": "precursor_mz"
          }
         },
         "colorscale": [
          [
           0,
           "#0d0887"
          ],
          [
           0.1111111111111111,
           "#46039f"
          ],
          [
           0.2222222222222222,
           "#7201a8"
          ],
          [
           0.3333333333333333,
           "#9c179e"
          ],
          [
           0.4444444444444444,
           "#bd3786"
          ],
          [
           0.5555555555555556,
           "#d8576b"
          ],
          [
           0.6666666666666666,
           "#ed7953"
          ],
          [
           0.7777777777777778,
           "#fb9f3a"
          ],
          [
           0.8888888888888888,
           "#fdca26"
          ],
          [
           1,
           "#f0f921"
          ]
         ]
        },
        "height": 1000,
        "legend": {
         "tracegroupgap": 0
        },
        "template": {
         "data": {
          "bar": [
           {
            "error_x": {
             "color": "#2a3f5f"
            },
            "error_y": {
             "color": "#2a3f5f"
            },
            "marker": {
             "line": {
              "color": "#E5ECF6",
              "width": 0.5
             },
             "pattern": {
              "fillmode": "overlay",
              "size": 10,
              "solidity": 0.2
             }
            },
            "type": "bar"
           }
          ],
          "barpolar": [
           {
            "marker": {
             "line": {
              "color": "#E5ECF6",
              "width": 0.5
             },
             "pattern": {
              "fillmode": "overlay",
              "size": 10,
              "solidity": 0.2
             }
            },
            "type": "barpolar"
           }
          ],
          "carpet": [
           {
            "aaxis": {
             "endlinecolor": "#2a3f5f",
             "gridcolor": "white",
             "linecolor": "white",
             "minorgridcolor": "white",
             "startlinecolor": "#2a3f5f"
            },
            "baxis": {
             "endlinecolor": "#2a3f5f",
             "gridcolor": "white",
             "linecolor": "white",
             "minorgridcolor": "white",
             "startlinecolor": "#2a3f5f"
            },
            "type": "carpet"
           }
          ],
          "choropleth": [
           {
            "colorbar": {
             "outlinewidth": 0,
             "ticks": ""
            },
            "type": "choropleth"
           }
          ],
          "contour": [
           {
            "colorbar": {
             "outlinewidth": 0,
             "ticks": ""
            },
            "colorscale": [
             [
              0,
              "#0d0887"
             ],
             [
              0.1111111111111111,
              "#46039f"
             ],
             [
              0.2222222222222222,
              "#7201a8"
             ],
             [
              0.3333333333333333,
              "#9c179e"
             ],
             [
              0.4444444444444444,
              "#bd3786"
             ],
             [
              0.5555555555555556,
              "#d8576b"
             ],
             [
              0.6666666666666666,
              "#ed7953"
             ],
             [
              0.7777777777777778,
              "#fb9f3a"
             ],
             [
              0.8888888888888888,
              "#fdca26"
             ],
             [
              1,
              "#f0f921"
             ]
            ],
            "type": "contour"
           }
          ],
          "contourcarpet": [
           {
            "colorbar": {
             "outlinewidth": 0,
             "ticks": ""
            },
            "type": "contourcarpet"
           }
          ],
          "heatmap": [
           {
            "colorbar": {
             "outlinewidth": 0,
             "ticks": ""
            },
            "colorscale": [
             [
              0,
              "#0d0887"
             ],
             [
              0.1111111111111111,
              "#46039f"
             ],
             [
              0.2222222222222222,
              "#7201a8"
             ],
             [
              0.3333333333333333,
              "#9c179e"
             ],
             [
              0.4444444444444444,
              "#bd3786"
             ],
             [
              0.5555555555555556,
              "#d8576b"
             ],
             [
              0.6666666666666666,
              "#ed7953"
             ],
             [
              0.7777777777777778,
              "#fb9f3a"
             ],
             [
              0.8888888888888888,
              "#fdca26"
             ],
             [
              1,
              "#f0f921"
             ]
            ],
            "type": "heatmap"
           }
          ],
          "heatmapgl": [
           {
            "colorbar": {
             "outlinewidth": 0,
             "ticks": ""
            },
            "colorscale": [
             [
              0,
              "#0d0887"
             ],
             [
              0.1111111111111111,
              "#46039f"
             ],
             [
              0.2222222222222222,
              "#7201a8"
             ],
             [
              0.3333333333333333,
              "#9c179e"
             ],
             [
              0.4444444444444444,
              "#bd3786"
             ],
             [
              0.5555555555555556,
              "#d8576b"
             ],
             [
              0.6666666666666666,
              "#ed7953"
             ],
             [
              0.7777777777777778,
              "#fb9f3a"
             ],
             [
              0.8888888888888888,
              "#fdca26"
             ],
             [
              1,
              "#f0f921"
             ]
            ],
            "type": "heatmapgl"
           }
          ],
          "histogram": [
           {
            "marker": {
             "pattern": {
              "fillmode": "overlay",
              "size": 10,
              "solidity": 0.2
             }
            },
            "type": "histogram"
           }
          ],
          "histogram2d": [
           {
            "colorbar": {
             "outlinewidth": 0,
             "ticks": ""
            },
            "colorscale": [
             [
              0,
              "#0d0887"
             ],
             [
              0.1111111111111111,
              "#46039f"
             ],
             [
              0.2222222222222222,
              "#7201a8"
             ],
             [
              0.3333333333333333,
              "#9c179e"
             ],
             [
              0.4444444444444444,
              "#bd3786"
             ],
             [
              0.5555555555555556,
              "#d8576b"
             ],
             [
              0.6666666666666666,
              "#ed7953"
             ],
             [
              0.7777777777777778,
              "#fb9f3a"
             ],
             [
              0.8888888888888888,
              "#fdca26"
             ],
             [
              1,
              "#f0f921"
             ]
            ],
            "type": "histogram2d"
           }
          ],
          "histogram2dcontour": [
           {
            "colorbar": {
             "outlinewidth": 0,
             "ticks": ""
            },
            "colorscale": [
             [
              0,
              "#0d0887"
             ],
             [
              0.1111111111111111,
              "#46039f"
             ],
             [
              0.2222222222222222,
              "#7201a8"
             ],
             [
              0.3333333333333333,
              "#9c179e"
             ],
             [
              0.4444444444444444,
              "#bd3786"
             ],
             [
              0.5555555555555556,
              "#d8576b"
             ],
             [
              0.6666666666666666,
              "#ed7953"
             ],
             [
              0.7777777777777778,
              "#fb9f3a"
             ],
             [
              0.8888888888888888,
              "#fdca26"
             ],
             [
              1,
              "#f0f921"
             ]
            ],
            "type": "histogram2dcontour"
           }
          ],
          "mesh3d": [
           {
            "colorbar": {
             "outlinewidth": 0,
             "ticks": ""
            },
            "type": "mesh3d"
           }
          ],
          "parcoords": [
           {
            "line": {
             "colorbar": {
              "outlinewidth": 0,
              "ticks": ""
             }
            },
            "type": "parcoords"
           }
          ],
          "pie": [
           {
            "automargin": true,
            "type": "pie"
           }
          ],
          "scatter": [
           {
            "fillpattern": {
             "fillmode": "overlay",
             "size": 10,
             "solidity": 0.2
            },
            "type": "scatter"
           }
          ],
          "scatter3d": [
           {
            "line": {
             "colorbar": {
              "outlinewidth": 0,
              "ticks": ""
             }
            },
            "marker": {
             "colorbar": {
              "outlinewidth": 0,
              "ticks": ""
             }
            },
            "type": "scatter3d"
           }
          ],
          "scattercarpet": [
           {
            "marker": {
             "colorbar": {
              "outlinewidth": 0,
              "ticks": ""
             }
            },
            "type": "scattercarpet"
           }
          ],
          "scattergeo": [
           {
            "marker": {
             "colorbar": {
              "outlinewidth": 0,
              "ticks": ""
             }
            },
            "type": "scattergeo"
           }
          ],
          "scattergl": [
           {
            "marker": {
             "colorbar": {
              "outlinewidth": 0,
              "ticks": ""
             }
            },
            "type": "scattergl"
           }
          ],
          "scattermapbox": [
           {
            "marker": {
             "colorbar": {
              "outlinewidth": 0,
              "ticks": ""
             }
            },
            "type": "scattermapbox"
           }
          ],
          "scatterpolar": [
           {
            "marker": {
             "colorbar": {
              "outlinewidth": 0,
              "ticks": ""
             }
            },
            "type": "scatterpolar"
           }
          ],
          "scatterpolargl": [
           {
            "marker": {
             "colorbar": {
              "outlinewidth": 0,
              "ticks": ""
             }
            },
            "type": "scatterpolargl"
           }
          ],
          "scatterternary": [
           {
            "marker": {
             "colorbar": {
              "outlinewidth": 0,
              "ticks": ""
             }
            },
            "type": "scatterternary"
           }
          ],
          "surface": [
           {
            "colorbar": {
             "outlinewidth": 0,
             "ticks": ""
            },
            "colorscale": [
             [
              0,
              "#0d0887"
             ],
             [
              0.1111111111111111,
              "#46039f"
             ],
             [
              0.2222222222222222,
              "#7201a8"
             ],
             [
              0.3333333333333333,
              "#9c179e"
             ],
             [
              0.4444444444444444,
              "#bd3786"
             ],
             [
              0.5555555555555556,
              "#d8576b"
             ],
             [
              0.6666666666666666,
              "#ed7953"
             ],
             [
              0.7777777777777778,
              "#fb9f3a"
             ],
             [
              0.8888888888888888,
              "#fdca26"
             ],
             [
              1,
              "#f0f921"
             ]
            ],
            "type": "surface"
           }
          ],
          "table": [
           {
            "cells": {
             "fill": {
              "color": "#EBF0F8"
             },
             "line": {
              "color": "white"
             }
            },
            "header": {
             "fill": {
              "color": "#C8D4E3"
             },
             "line": {
              "color": "white"
             }
            },
            "type": "table"
           }
          ]
         },
         "layout": {
          "annotationdefaults": {
           "arrowcolor": "#2a3f5f",
           "arrowhead": 0,
           "arrowwidth": 1
          },
          "autotypenumbers": "strict",
          "coloraxis": {
           "colorbar": {
            "outlinewidth": 0,
            "ticks": ""
           }
          },
          "colorscale": {
           "diverging": [
            [
             0,
             "#8e0152"
            ],
            [
             0.1,
             "#c51b7d"
            ],
            [
             0.2,
             "#de77ae"
            ],
            [
             0.3,
             "#f1b6da"
            ],
            [
             0.4,
             "#fde0ef"
            ],
            [
             0.5,
             "#f7f7f7"
            ],
            [
             0.6,
             "#e6f5d0"
            ],
            [
             0.7,
             "#b8e186"
            ],
            [
             0.8,
             "#7fbc41"
            ],
            [
             0.9,
             "#4d9221"
            ],
            [
             1,
             "#276419"
            ]
           ],
           "sequential": [
            [
             0,
             "#0d0887"
            ],
            [
             0.1111111111111111,
             "#46039f"
            ],
            [
             0.2222222222222222,
             "#7201a8"
            ],
            [
             0.3333333333333333,
             "#9c179e"
            ],
            [
             0.4444444444444444,
             "#bd3786"
            ],
            [
             0.5555555555555556,
             "#d8576b"
            ],
            [
             0.6666666666666666,
             "#ed7953"
            ],
            [
             0.7777777777777778,
             "#fb9f3a"
            ],
            [
             0.8888888888888888,
             "#fdca26"
            ],
            [
             1,
             "#f0f921"
            ]
           ],
           "sequentialminus": [
            [
             0,
             "#0d0887"
            ],
            [
             0.1111111111111111,
             "#46039f"
            ],
            [
             0.2222222222222222,
             "#7201a8"
            ],
            [
             0.3333333333333333,
             "#9c179e"
            ],
            [
             0.4444444444444444,
             "#bd3786"
            ],
            [
             0.5555555555555556,
             "#d8576b"
            ],
            [
             0.6666666666666666,
             "#ed7953"
            ],
            [
             0.7777777777777778,
             "#fb9f3a"
            ],
            [
             0.8888888888888888,
             "#fdca26"
            ],
            [
             1,
             "#f0f921"
            ]
           ]
          },
          "colorway": [
           "#636efa",
           "#EF553B",
           "#00cc96",
           "#ab63fa",
           "#FFA15A",
           "#19d3f3",
           "#FF6692",
           "#B6E880",
           "#FF97FF",
           "#FECB52"
          ],
          "font": {
           "color": "#2a3f5f"
          },
          "geo": {
           "bgcolor": "white",
           "lakecolor": "white",
           "landcolor": "#E5ECF6",
           "showlakes": true,
           "showland": true,
           "subunitcolor": "white"
          },
          "hoverlabel": {
           "align": "left"
          },
          "hovermode": "closest",
          "mapbox": {
           "style": "light"
          },
          "paper_bgcolor": "white",
          "plot_bgcolor": "#E5ECF6",
          "polar": {
           "angularaxis": {
            "gridcolor": "white",
            "linecolor": "white",
            "ticks": ""
           },
           "bgcolor": "#E5ECF6",
           "radialaxis": {
            "gridcolor": "white",
            "linecolor": "white",
            "ticks": ""
           }
          },
          "scene": {
           "xaxis": {
            "backgroundcolor": "#E5ECF6",
            "gridcolor": "white",
            "gridwidth": 2,
            "linecolor": "white",
            "showbackground": true,
            "ticks": "",
            "zerolinecolor": "white"
           },
           "yaxis": {
            "backgroundcolor": "#E5ECF6",
            "gridcolor": "white",
            "gridwidth": 2,
            "linecolor": "white",
            "showbackground": true,
            "ticks": "",
            "zerolinecolor": "white"
           },
           "zaxis": {
            "backgroundcolor": "#E5ECF6",
            "gridcolor": "white",
            "gridwidth": 2,
            "linecolor": "white",
            "showbackground": true,
            "ticks": "",
            "zerolinecolor": "white"
           }
          },
          "shapedefaults": {
           "line": {
            "color": "#2a3f5f"
           }
          },
          "ternary": {
           "aaxis": {
            "gridcolor": "white",
            "linecolor": "white",
            "ticks": ""
           },
           "baxis": {
            "gridcolor": "white",
            "linecolor": "white",
            "ticks": ""
           },
           "bgcolor": "#E5ECF6",
           "caxis": {
            "gridcolor": "white",
            "linecolor": "white",
            "ticks": ""
           }
          },
          "title": {
           "x": 0.05
          },
          "xaxis": {
           "automargin": true,
           "gridcolor": "white",
           "linecolor": "white",
           "ticks": "",
           "title": {
            "standoff": 15
           },
           "zerolinecolor": "white",
           "zerolinewidth": 2
          },
          "yaxis": {
           "automargin": true,
           "gridcolor": "white",
           "linecolor": "white",
           "ticks": "",
           "title": {
            "standoff": 15
           },
           "zerolinecolor": "white",
           "zerolinewidth": 2
          }
         }
        },
        "title": {
         "text": "UMAP projection MS2DeepScore embeddings"
        },
        "width": 1000,
        "xaxis": {
         "anchor": "y",
         "autorange": true,
         "domain": [
          0,
          1
         ],
         "range": [
          -1.7815968239250464,
          2.433728619808225
         ],
         "title": {
          "text": "x"
         },
         "type": "linear"
        },
        "yaxis": {
         "anchor": "x",
         "autorange": true,
         "domain": [
          0,
          1
         ],
         "range": [
          2.9030241599073157,
          9.365195311070467
         ],
         "title": {
          "text": "y"
         },
         "type": "linear"
        }
       }
      },
      "image/png": "[encoded data removed]",
      "text/html": [
       "<div>                            <div id=\"9c734648-3d02-4900-97cb-1d3cc4edc910\" class=\"plotly-graph-div\" style=\"height:1000px; width:1000px;\"></div>            <script type=\"text/javascript\">                require([\"plotly\"], function(Plotly) {                    window.PLOTLYENV=window.PLOTLYENV || {};                                    if (document.getElementById(\"9c734648-3d02-4900-97cb-1d3cc4edc910\")) {                    Plotly.newPlot(                        \"9c734648-3d02-4900-97cb-1d3cc4edc910\",                        [{\"customdata\":[[\"C1=CC=C2C(=C1)NC(=N2)C3=CC=CO3\",183.057],[\"CCCCC1=C(NC(=NC1=O)NCC)C\",208.146],[\"CC(C)(C)C(C(=CC1=C(C=C(C=C1)Cl)Cl)N2C=NC=N2)O\",370.073],[\"CN(C)C(=O)NC1=CC=CC(=C1)C(F)(F)F\",231.075],[\"C1=CC=C(C=C1)NC(=O)NC2=CC(=NC=C2)Cl\",246.044],[\"C1=CC=C(C=C1)NC(=O)NC2=CC(=NC=C2)Cl\",282.02],[\"C1=CC=C(C=C1)NC(=O)NC2=CC(=NC=C2)Cl\",292.049],[\"CC1=C(C=C(C=C1)NC(=O)N(C)C)Cl\",211.065],[\"CN(C)C(=O)NC1=CC(=C(C=C1)Cl)Cl\",231.01],[\"C1=CC(=C(C(=C1)F)C(=O)NC(=O)NC2=CC=C(C=C2)Cl)F\",309.025],[\"CCCCN(C)C(=O)NC1=CC(=C(C=C1)Cl)Cl\",273.057],[\"C1=CC=C(C(=C1)C(=O)NC(=O)NC2=CC=C(C=C2)OC(F)(F)F)Cl\",357.026],[\"C1=CC(=C(C(=C1)F)C(=O)NC(=O)NC2=CC(=C(C(=C2)Cl)OC(C(F)F)(F)F)Cl)F\",458.975],[\"C1=CC(=C(C(=C1)F)C(=O)NC(=O)NC2=CC(=C(C=C2)OC(C(OC(F)(F)F)F)(F)F)Cl)F\",491.005],[\"C1=CC(=C(C(=C1)F)C(=O)NC(=O)NC2=CC(=C(C=C2)OC(C(OC(F)(F)F)F)(F)F)Cl)F\",472.994],[\"C1=CC(=C(C(=C1)F)C(=O)NC(=O)NC2=CC(=C(C=C2)OC(C(OC(F)(F)F)F)(F)F)Cl)F\",526.981],[\"C1=CC(=C(C(=C1)F)C(=O)NC(=O)NC2=CC(=C(C(=C2F)Cl)F)Cl)F\",378.967],[\"C1=CC(=C(C(=C1)F)C(=O)NC(=O)NC2=CC(=C(C=C2Cl)OC(C(C(F)(F)F)F)(F)F)Cl)F\",508.971],[\"C1=CC(=C(C(=C1)F)C(=O)NC(=O)NC2=CC(=C(C(=C2)Cl)OC(C(F)F)(F)F)Cl)F\",458.975],[\"C1=CC(=C(C(=C1)F)C(=O)NC(=O)NC2=C(C=C(C=C2)OC3=C(C=C(C=C3)C(F)(F)F)Cl)F)F\",487.029],[\"C1=CC(=C(C(=C1)F)C(=O)NC(=O)NC2=CC(=C(C=C2)OC(C(OC(F)(F)F)F)(F)F)Cl)F\",491.005],[\"C1=CC(=C(C(=C1)F)C(=O)NC(=O)NC2=CC(=C(C=C2)OC(C(OC(F)(F)F)F)(F)F)Cl)F\",526.981],[\"C1=CC(=C(C(=C1)F)C(=O)NC(=O)NC2=CC(=C(C(=C2)Cl)OC3=C(C=C(C=N3)C(F)(F)F)Cl)Cl)F\",537.956],[\"C1=CC(=C(C(=C1)F)C(=O)NC(=O)NC2=CC(=C(C=C2Cl)OC(C(C(F)(F)F)F)(F)F)Cl)F\",508.971],[\"CC(=O)NP(=O)(OC)SC\",182.005],[\"C1=CC(=C(C(=C1)F)C(=O)NC(=O)NC2=C(C=C(C=C2)OC3=C(C=C(C=C3)C(F)(F)F)Cl)F)F\",487.029],[\"CN=C(NCC1CCOC1)N[N+](=O)[O-]\",201.1],[\"C1=CC(=C(C(=C1)F)C(=O)NC(=O)NC2=CC(=C(C(=C2)Cl)OC3=C(C=C(C=N3)C(F)(F)F)Cl)Cl)F\",537.956],[\"C1=CN=CC(=C1C(F)(F)F)C(=O)NCC#N\",228.039],[\"CC1=NN(C(=O)N1C(F)F)C2=CC(=C(C=C2Cl)Cl)NS(=O)(=O)C\",384.975],[\"CCN(C)C(=C[N+](=O)[O-])NCC1=CN=C(C=C1)Cl\",269.081],[\"CC1=NNC(=O)N(C1)N=CC2=CN=CC=C2\",254.045],[\"C1=C(C=C(C(=C1Cl)N2C(=C(C(=N2)C#N)S(=O)C(F)(F)F)N)Cl)C(F)(F)F\",434.931],[\"C1=C(C=C(C(=C1Cl)N2C(=C(C(=N2)C#N)S(=O)C(F)(F)F)N)Cl)C(F)(F)F\",470.908],[\"CC1=CC=C(C=C1)C2=C(N=C(N2S(=O)(=O)N(C)C)C#N)Cl\",681.016],[\"CCNC(=O)NC(=O)C(=NOC)C#N\",235.109],[\"CC1=CC=C(C=C1)C2=C(N=C(N2S(=O)(=O)N(C)C)C#N)Cl\",716.992],[\"CC1=C(C(=CC(=C1)Cl)C(=O)NC)NC(=O)C2=CC(=NN2C3=C(C=CC=N3)Cl)Br\",479.964],[\"CC(C)(C)N(C(=O)C1=CC=CC=C1)NC(=O)C2=CC=C(C=C2)Cl\",329.107],[\"CC(C)(C)N(C(=O)C1=CC=CC=C1)NC(=O)C2=CC=C(C=C2)Cl\",365.083],[\"C1=CC=C(C(=C1)C2=CC=C(C=C2)Cl)NC(=O)C3=C(N=CC=C3)Cl\",367.203],[\"C1=CC(=C2C(=C1)OC(O2)(F)F)C3=CNC=C3C#N\",247.032],[\"CC(C)OC1=CC=CC(=C1)NC(=O)C2=CC=CC=C2C(F)(F)F\",322.106],[\"CCC1=CC=C(C=C1)C(=O)NN(C(=O)C2=CC(=CC(=C2)C)C)C(C)(C)C\",397.213],[\"C1=C(C=NC(=C1Cl)NC2=C(C=C(C(=C2[N+](=O)[O-])Cl)C(F)(F)F)[N+](=O)[O-])C(F)(F)F\",462.944],[\"CC1=CC(=NC(=N1)N)C\",341.026],[\"C1=CC(=CC(=C1)C(F)(F)F)C(=NNC(=O)NC2=CC=C(C=C2)OC(F)(F)F)CC3=CC=C(C=C3)C#N\",505.11],[\"C1=CC=C(C(=C1)C2=CC=C(C=C2)Cl)NC(=O)C3=C(N=CC=C3)Cl\",367.203],[\"C1=CC(=CC(=C1)C(F)(F)F)C(=NNC(=O)NC2=CC=C(C=C2)OC(F)(F)F)CC3=CC=C(C=C3)C#N\",541.087],[\"CC(C)(C)C(=O)C(N1C=NC=N1)OC2=CC=C(C=C2)Cl\",300.057],[\"C1=CC(=CC(=C1)C(F)(F)F)C(=NNC(=O)NC2=CC=C(C=C2)OC(F)(F)F)CC3=CC=C(C=C3)C#N\",551.116],[\"CCC(C)C1C(C=CC2(O1)CC3CC(O2)CC=C(C(C(C=CC=C4COC5C4(C(C=C(C5O)C)C(=O)O3)O)C)OC6CC(C(C(O6)C)OC7CC(C(C(O7)C)O)OC)OC)C)C\",917.49],[\"CCC1=CC=C(C=C1)C(=O)NN(C(=O)C2=CC(=CC(=C2)C)C)C(C)(C)C\",351.208],[\"CC1C=CC=C2COC3C2(C(C=C(C3O)C)C(=O)OC4CC(CC=C(C1OC5CC(C(C(O5)C)OC6CC(C(C(O6)C)O)OC)OC)C)OC7(C4)C=CC(C(O7)C8CCCCC8)C)O\",943.506],[\"CCC1=CC=C(C=C1)C(=O)NN(C(=O)C2=CC(=CC(=C2)C)C)C(C)(C)C\",387.184],[\"C1=C(C=NC(=C1Cl)NC2=C(C=C(C(=C2[N+](=O)[O-])Cl)C(F)(F)F)[N+](=O)[O-])C(F)(F)F\",462.944],[\"CCC(C)C1C(CCC2(O1)CC3CC(O2)CC=C(C(C(C=CC=C4COC5C4(C(C=C(C5O)C)C(=O)O3)O)C)OC6CC(C(C(O6)C)OC7CC(C(C(O7)C)O)OC)OC)C)C\",919.506],[\"C1=CC(=CC(=C1)C(F)(F)F)C(=NNC(=O)NC2=CC=C(C=C2)OC(F)(F)F)CC3=CC=C(C=C3)C#N\",505.11],[\"CC1(CNC(=NC1)NN=C(C=CC2=CC=C(C=C2)C(F)(F)F)C=CC3=CC=C(C=C3)C(F)(F)F)C\",493.184],[\"C1=CC(=CC(=C1)C(F)(F)F)C(=NNC(=O)NC2=CC=C(C=C2)OC(F)(F)F)CC3=CC=C(C=C3)C#N\",541.087],[\"CCC(C)C1C(C=CC2(O1)CC3CC(O2)CC=C(C(C(C=CC=C4COC5C4(C(C=C(C5O)C)C(=O)O3)O)C)OC6CC(C(C(O6)C)OC7CC(C(C(O7)C)NC(=O)C)OC)OC)C)C\",912.512],[\"CC1C=CC=C2COC3C2(C(C=C(C3O)C)C(=O)OC4CC(CC=C(C1OC5CC(C(C(O5)C)OC6CC(C(C(O6)C)O)OC)OC)C)OC7(C4)C=CC(C(O7)C8CCCCC8)C)O\",897.501],[\"CC1C=CC=C2COC3C2(C(C=C(C3O)C)C(=O)OC4CC(CC=C(C1OC5CC(C(C(O5)C)OC6CC(C(C(O6)C)O)OC)OC)C)OC7(C4)C=CC(C(O7)C8CCCCC8)C)O\",943.506],[\"C1=CC=C(C=C1)NC(=O)NC2=CN=NS2\",219.035],[\"C1=CC=C(C=C1)NC(=O)NC2=CN=NS2\",255.011],[\"COC(=O)NC(=S)NC1=CC=CC=C1NC(=S)NC(=O)OC\",341.039],[\"CC1(CNC(=NC1)NN=C(C=CC2=CC=C(C=C2)C(F)(F)F)C=CC3=CC=C(C=C3)C(F)(F)F)C\",493.184],[\"CC1(CNC(=NC1)NN=C(C=CC2=CC=C(C=C2)C(F)(F)F)C=CC3=CC=C(C=C3)C(F)(F)F)C\",529.16],[\"CN=C(NCC1=CN=C(S1)Cl)N[N+](=O)[O-]\",248.002],[\"CC1=NN(C(=O)N1C(F)F)C2=CC(=C(C=C2Cl)Cl)NS(=O)(=O)C\",384.975],[\"CCS(=O)C1=C(N(N=C1C#N)C2=C(C=C(C=C2Cl)C(F)(F)F)Cl)N\",394.975],[\"CCS(=O)C1=C(N(N=C1C#N)C2=C(C=C(C=C2Cl)C(F)(F)F)Cl)N\",430.952],[\"C1=C(C=C(C(=C1Cl)N2C(=C(C(=N2)C#N)S(=O)C(F)(F)F)N)Cl)C(F)(F)F\",434.931],[\"CC1=CC=C(C=C1)C2=C(N=C(N2S(=O)(=O)N(C)C)C#N)Cl\",681.016],[\"CC1=CC=C(C=C1)C2=C(N=C(N2S(=O)(=O)N(C)C)C#N)Cl\",716.992],[\"C1CC1(C(CC2=CC=CC=C2Cl)(CN3C(=S)N=CN3)O)Cl\",342.024]],\"hovertemplate\":\"smiles=%{customdata[0]}\\u003cbr\\u003eprecursor_mz=%{marker.color}\\u003cextra\\u003e\\u003c\\u002fextra\\u003e\",\"legendgroup\":\"\",\"marker\":{\"color\":[183.057,208.146,370.073,231.075,246.044,282.02,292.049,211.065,231.01,309.025,273.057,357.026,458.975,491.005,472.994,526.981,378.967,508.971,458.975,487.029,491.005,526.981,537.956,508.971,182.005,487.029,201.1,537.956,228.039,384.975,269.081,254.045,434.931,470.908,681.016,235.109,716.992,479.964,329.107,365.083,367.203,247.032,322.106,397.213,462.944,341.026,505.11,367.203,541.087,300.057,551.116,917.49,351.208,943.506,387.184,462.944,919.506,505.11,493.184,541.087,912.512,897.501,943.506,219.035,255.011,341.039,493.184,529.16,248.002,384.975,394.975,430.952,434.931,681.016,716.992,342.024],\"coloraxis\":\"coloraxis\",\"opacity\":0.5,\"symbol\":\"circle\"},\"mode\":\"markers\",\"name\":\"\",\"orientation\":\"v\",\"showlegend\":false,\"x\":[1.15541672706604,0.3791574239730835,0.617763340473175,0.043207962065935135,0.24253195524215698,0.37695929408073425,0.21300064027309418,1.3727971315383911,0.122089684009552,-0.09716516733169556,-0.09142366051673889,0.5310463905334473,0.2418023943901062,-0.16893313825130463,-0.7710670828819275,-0.6065375208854675,1.803576111793518,-0.27245429158210754,0.9477307200431824,-0.5275216698646545,-0.27798059582710266,-0.820212185382843,0.16855452954769135,-0.043539248406887054,1.0251330137252808,-0.9912293553352356,1.6206082105636597,0.570421040058136,0.6025611162185669,0.767335057258606,1.1813828945159912,0.3817259967327118,1.5179226398468018,1.3531291484832764,-0.6248157620429993,0.49373799562454224,-0.3863808512687683,0.33790266513824463,1.476521611213684,1.4727402925491333,2.0305678844451904,1.2892365455627441,0.5207607746124268,2.202591896057129,1.0505198240280151,1.3669037818908691,0.11010880023241043,1.8627598285675049,-1.1134577989578247,0.7445894479751587,-0.6735901832580566,-1.40718412399292,2.0641238689422607,-1.305367350578308,1.8291683197021484,0.780845046043396,-1.5504601001739502,-0.01171473041176796,-1.2226811647415161,-0.3487509489059448,-1.0766199827194214,-1.4461784362792969,-1.364309549331665,0.6948845386505127,0.4188604950904846,1.1937226057052612,-1.5026355981826782,-0.9131903052330017,1.6891623735427856,0.9836345314979553,1.3209545612335205,1.3584227561950684,1.8065636157989502,-0.40900906920433044,-0.7962743043899536,0.990005373954773],\"xaxis\":\"x\",\"y\":[8.516409873962402,7.900370121002197,7.225239276885986,8.38233757019043,8.564998626708984,6.979404926300049,6.702301502227783,7.971576690673828,8.677544593811035,7.046711444854736,7.635891437530518,5.5234246253967285,4.943220138549805,4.101586818695068,4.7792863845825195,4.057748317718506,4.67802095413208,4.816667079925537,4.5361328125,3.6799235343933105,4.363459587097168,4.088343143463135,4.204746723175049,4.961354732513428,8.691141128540039,3.795337200164795,8.387362480163574,4.308992862701416,8.239304542541504,4.144448757171631,7.81852912902832,7.890350341796875,4.184808731079102,4.599465370178223,5.810381889343262,7.593772888183594,5.683014869689941,4.683314800262451,7.109129905700684,6.6173319816589355,6.791566848754883,7.448192119598389,6.045731067657471,7.293898582458496,3.648075819015503,5.386901378631592,3.669119119644165,7.023976802825928,3.6033999919891357,6.522274971008301,3.563345193862915,6.105853080749512,7.459784507751465,6.325221538543701,7.7324700355529785,3.5891759395599365,6.235714435577393,3.3971104621887207,4.5044755935668945,3.255685329437256,5.372530937194824,5.866438388824463,5.688374042510986,8.971114158630371,9.012534141540527,6.169300079345703,4.788358211517334,4.428603649139404,8.177450180053711,4.198889255523682,4.541559219360352,4.128374099731445,4.0642876625061035,5.685253620147705,5.357234477996826,5.232006549835205],\"yaxis\":\"y\",\"type\":\"scatter\"}],                        {\"template\":{\"data\":{\"histogram2dcontour\":[{\"type\":\"histogram2dcontour\",\"colorbar\":{\"outlinewidth\":0,\"ticks\":\"\"},\"colorscale\":[[0.0,\"#0d0887\"],[0.1111111111111111,\"#46039f\"],[0.2222222222222222,\"#7201a8\"],[0.3333333333333333,\"#9c179e\"],[0.4444444444444444,\"#bd3786\"],[0.5555555555555556,\"#d8576b\"],[0.6666666666666666,\"#ed7953\"],[0.7777777777777778,\"#fb9f3a\"],[0.8888888888888888,\"#fdca26\"],[1.0,\"#f0f921\"]]}],\"choropleth\":[{\"type\":\"choropleth\",\"colorbar\":{\"outlinewidth\":0,\"ticks\":\"\"}}],\"histogram2d\":[{\"type\":\"histogram2d\",\"colorbar\":{\"outlinewidth\":0,\"ticks\":\"\"},\"colorscale\":[[0.0,\"#0d0887\"],[0.1111111111111111,\"#46039f\"],[0.2222222222222222,\"#7201a8\"],[0.3333333333333333,\"#9c179e\"],[0.4444444444444444,\"#bd3786\"],[0.5555555555555556,\"#d8576b\"],[0.6666666666666666,\"#ed7953\"],[0.7777777777777778,\"#fb9f3a\"],[0.8888888888888888,\"#fdca26\"],[1.0,\"#f0f921\"]]}],\"heatmap\":[{\"type\":\"heatmap\",\"colorbar\":{\"outlinewidth\":0,\"ticks\":\"\"},\"colorscale\":[[0.0,\"#0d0887\"],[0.1111111111111111,\"#46039f\"],[0.2222222222222222,\"#7201a8\"],[0.3333333333333333,\"#9c179e\"],[0.4444444444444444,\"#bd3786\"],[0.5555555555555556,\"#d8576b\"],[0.6666666666666666,\"#ed7953\"],[0.7777777777777778,\"#fb9f3a\"],[0.8888888888888888,\"#fdca26\"],[1.0,\"#f0f921\"]]}],\"heatmapgl\":[{\"type\":\"heatmapgl\",\"colorbar\":{\"outlinewidth\":0,\"ticks\":\"\"},\"colorscale\":[[0.0,\"#0d0887\"],[0.1111111111111111,\"#46039f\"],[0.2222222222222222,\"#7201a8\"],[0.3333333333333333,\"#9c179e\"],[0.4444444444444444,\"#bd3786\"],[0.5555555555555556,\"#d8576b\"],[0.6666666666666666,\"#ed7953\"],[0.7777777777777778,\"#fb9f3a\"],[0.8888888888888888,\"#fdca26\"],[1.0,\"#f0f921\"]]}],\"contourcarpet\":[{\"type\":\"contourcarpet\",\"colorbar\":{\"outlinewidth\":0,\"ticks\":\"\"}}],\"contour\":[{\"type\":\"contour\",\"colorbar\":{\"outlinewidth\":0,\"ticks\":\"\"},\"colorscale\":[[0.0,\"#0d0887\"],[0.1111111111111111,\"#46039f\"],[0.2222222222222222,\"#7201a8\"],[0.3333333333333333,\"#9c179e\"],[0.4444444444444444,\"#bd3786\"],[0.5555555555555556,\"#d8576b\"],[0.6666666666666666,\"#ed7953\"],[0.7777777777777778,\"#fb9f3a\"],[0.8888888888888888,\"#fdca26\"],[1.0,\"#f0f921\"]]}],\"surface\":[{\"type\":\"surface\",\"colorbar\":{\"outlinewidth\":0,\"ticks\":\"\"},\"colorscale\":[[0.0,\"#0d0887\"],[0.1111111111111111,\"#46039f\"],[0.2222222222222222,\"#7201a8\"],[0.3333333333333333,\"#9c179e\"],[0.4444444444444444,\"#bd3786\"],[0.5555555555555556,\"#d8576b\"],[0.6666666666666666,\"#ed7953\"],[0.7777777777777778,\"#fb9f3a\"],[0.8888888888888888,\"#fdca26\"],[1.0,\"#f0f921\"]]}],\"mesh3d\":[{\"type\":\"mesh3d\",\"colorbar\":{\"outlinewidth\":0,\"ticks\":\"\"}}],\"scatter\":[{\"fillpattern\":{\"fillmode\":\"overlay\",\"size\":10,\"solidity\":0.2},\"type\":\"scatter\"}],\"parcoords\":[{\"type\":\"parcoords\",\"line\":{\"colorbar\":{\"outlinewidth\":0,\"ticks\":\"\"}}}],\"scatterpolargl\":[{\"type\":\"scatterpolargl\",\"marker\":{\"colorbar\":{\"outlinewidth\":0,\"ticks\":\"\"}}}],\"bar\":[{\"error_x\":{\"color\":\"#2a3f5f\"},\"error_y\":{\"color\":\"#2a3f5f\"},\"marker\":{\"line\":{\"color\":\"#E5ECF6\",\"width\":0.5},\"pattern\":{\"fillmode\":\"overlay\",\"size\":10,\"solidity\":0.2}},\"type\":\"bar\"}],\"scattergeo\":[{\"type\":\"scattergeo\",\"marker\":{\"colorbar\":{\"outlinewidth\":0,\"ticks\":\"\"}}}],\"scatterpolar\":[{\"type\":\"scatterpolar\",\"marker\":{\"colorbar\":{\"outlinewidth\":0,\"ticks\":\"\"}}}],\"histogram\":[{\"marker\":{\"pattern\":{\"fillmode\":\"overlay\",\"size\":10,\"solidity\":0.2}},\"type\":\"histogram\"}],\"scattergl\":[{\"type\":\"scattergl\",\"marker\":{\"colorbar\":{\"outlinewidth\":0,\"ticks\":\"\"}}}],\"scatter3d\":[{\"type\":\"scatter3d\",\"line\":{\"colorbar\":{\"outlinewidth\":0,\"ticks\":\"\"}},\"marker\":{\"colorbar\":{\"outlinewidth\":0,\"ticks\":\"\"}}}],\"scattermapbox\":[{\"type\":\"scattermapbox\",\"marker\":{\"colorbar\":{\"outlinewidth\":0,\"ticks\":\"\"}}}],\"scatterternary\":[{\"type\":\"scatterternary\",\"marker\":{\"colorbar\":{\"outlinewidth\":0,\"ticks\":\"\"}}}],\"scattercarpet\":[{\"type\":\"scattercarpet\",\"marker\":{\"colorbar\":{\"outlinewidth\":0,\"ticks\":\"\"}}}],\"carpet\":[{\"aaxis\":{\"endlinecolor\":\"#2a3f5f\",\"gridcolor\":\"white\",\"linecolor\":\"white\",\"minorgridcolor\":\"white\",\"startlinecolor\":\"#2a3f5f\"},\"baxis\":{\"endlinecolor\":\"#2a3f5f\",\"gridcolor\":\"white\",\"linecolor\":\"white\",\"minorgridcolor\":\"white\",\"startlinecolor\":\"#2a3f5f\"},\"type\":\"carpet\"}],\"table\":[{\"cells\":{\"fill\":{\"color\":\"#EBF0F8\"},\"line\":{\"color\":\"white\"}},\"header\":{\"fill\":{\"color\":\"#C8D4E3\"},\"line\":{\"color\":\"white\"}},\"type\":\"table\"}],\"barpolar\":[{\"marker\":{\"line\":{\"color\":\"#E5ECF6\",\"width\":0.5},\"pattern\":{\"fillmode\":\"overlay\",\"size\":10,\"solidity\":0.2}},\"type\":\"barpolar\"}],\"pie\":[{\"automargin\":true,\"type\":\"pie\"}]},\"layout\":{\"autotypenumbers\":\"strict\",\"colorway\":[\"#636efa\",\"#EF553B\",\"#00cc96\",\"#ab63fa\",\"#FFA15A\",\"#19d3f3\",\"#FF6692\",\"#B6E880\",\"#FF97FF\",\"#FECB52\"],\"font\":{\"color\":\"#2a3f5f\"},\"hovermode\":\"closest\",\"hoverlabel\":{\"align\":\"left\"},\"paper_bgcolor\":\"white\",\"plot_bgcolor\":\"#E5ECF6\",\"polar\":{\"bgcolor\":\"#E5ECF6\",\"angularaxis\":{\"gridcolor\":\"white\",\"linecolor\":\"white\",\"ticks\":\"\"},\"radialaxis\":{\"gridcolor\":\"white\",\"linecolor\":\"white\",\"ticks\":\"\"}},\"ternary\":{\"bgcolor\":\"#E5ECF6\",\"aaxis\":{\"gridcolor\":\"white\",\"linecolor\":\"white\",\"ticks\":\"\"},\"baxis\":{\"gridcolor\":\"white\",\"linecolor\":\"white\",\"ticks\":\"\"},\"caxis\":{\"gridcolor\":\"white\",\"linecolor\":\"white\",\"ticks\":\"\"}},\"coloraxis\":{\"colorbar\":{\"outlinewidth\":0,\"ticks\":\"\"}},\"colorscale\":{\"sequential\":[[0.0,\"#0d0887\"],[0.1111111111111111,\"#46039f\"],[0.2222222222222222,\"#7201a8\"],[0.3333333333333333,\"#9c179e\"],[0.4444444444444444,\"#bd3786\"],[0.5555555555555556,\"#d8576b\"],[0.6666666666666666,\"#ed7953\"],[0.7777777777777778,\"#fb9f3a\"],[0.8888888888888888,\"#fdca26\"],[1.0,\"#f0f921\"]],\"sequentialminus\":[[0.0,\"#0d0887\"],[0.1111111111111111,\"#46039f\"],[0.2222222222222222,\"#7201a8\"],[0.3333333333333333,\"#9c179e\"],[0.4444444444444444,\"#bd3786\"],[0.5555555555555556,\"#d8576b\"],[0.6666666666666666,\"#ed7953\"],[0.7777777777777778,\"#fb9f3a\"],[0.8888888888888888,\"#fdca26\"],[1.0,\"#f0f921\"]],\"diverging\":[[0,\"#8e0152\"],[0.1,\"#c51b7d\"],[0.2,\"#de77ae\"],[0.3,\"#f1b6da\"],[0.4,\"#fde0ef\"],[0.5,\"#f7f7f7\"],[0.6,\"#e6f5d0\"],[0.7,\"#b8e186\"],[0.8,\"#7fbc41\"],[0.9,\"#4d9221\"],[1,\"#276419\"]]},\"xaxis\":{\"gridcolor\":\"white\",\"linecolor\":\"white\",\"ticks\":\"\",\"title\":{\"standoff\":15},\"zerolinecolor\":\"white\",\"automargin\":true,\"zerolinewidth\":2},\"yaxis\":{\"gridcolor\":\"white\",\"linecolor\":\"white\",\"ticks\":\"\",\"title\":{\"standoff\":15},\"zerolinecolor\":\"white\",\"automargin\":true,\"zerolinewidth\":2},\"scene\":{\"xaxis\":{\"backgroundcolor\":\"#E5ECF6\",\"gridcolor\":\"white\",\"linecolor\":\"white\",\"showbackground\":true,\"ticks\":\"\",\"zerolinecolor\":\"white\",\"gridwidth\":2},\"yaxis\":{\"backgroundcolor\":\"#E5ECF6\",\"gridcolor\":\"white\",\"linecolor\":\"white\",\"showbackground\":true,\"ticks\":\"\",\"zerolinecolor\":\"white\",\"gridwidth\":2},\"zaxis\":{\"backgroundcolor\":\"#E5ECF6\",\"gridcolor\":\"white\",\"linecolor\":\"white\",\"showbackground\":true,\"ticks\":\"\",\"zerolinecolor\":\"white\",\"gridwidth\":2}},\"shapedefaults\":{\"line\":{\"color\":\"#2a3f5f\"}},\"annotationdefaults\":{\"arrowcolor\":\"#2a3f5f\",\"arrowhead\":0,\"arrowwidth\":1},\"geo\":{\"bgcolor\":\"white\",\"landcolor\":\"#E5ECF6\",\"subunitcolor\":\"white\",\"showland\":true,\"showlakes\":true,\"lakecolor\":\"white\"},\"title\":{\"x\":0.05},\"mapbox\":{\"style\":\"light\"}}},\"xaxis\":{\"anchor\":\"y\",\"domain\":[0.0,1.0],\"title\":{\"text\":\"x\"}},\"yaxis\":{\"anchor\":\"x\",\"domain\":[0.0,1.0],\"title\":{\"text\":\"y\"}},\"coloraxis\":{\"colorbar\":{\"title\":{\"text\":\"precursor_mz\"}},\"colorscale\":[[0.0,\"#0d0887\"],[0.1111111111111111,\"#46039f\"],[0.2222222222222222,\"#7201a8\"],[0.3333333333333333,\"#9c179e\"],[0.4444444444444444,\"#bd3786\"],[0.5555555555555556,\"#d8576b\"],[0.6666666666666666,\"#ed7953\"],[0.7777777777777778,\"#fb9f3a\"],[0.8888888888888888,\"#fdca26\"],[1.0,\"#f0f921\"]]},\"legend\":{\"tracegroupgap\":0},\"title\":{\"text\":\"UMAP projection MS2DeepScore embeddings\"},\"height\":1000,\"width\":1000},                        {\"responsive\": true}                    ).then(function(){\n",
       "                            \n",
       "var gd = document.getElementById('9c734648-3d02-4900-97cb-1d3cc4edc910');\n",
       "var x = new MutationObserver(function (mutations, observer) {{\n",
       "        var display = window.getComputedStyle(gd).display;\n",
       "        if (!display || display === 'none') {{\n",
       "            console.log([gd, 'removed!']);\n",
       "            Plotly.purge(gd);\n",
       "            observer.disconnect();\n",
       "        }}\n",
       "}});\n",
       "\n",
       "// Listen for the removal of the full notebook cells\n",
       "var notebookContainer = gd.closest('#notebook-container');\n",
       "if (notebookContainer) {{\n",
       "    x.observe(notebookContainer, {childList: true});\n",
       "}}\n",
       "\n",
       "// Listen for the clearing of the current output cell\n",
       "var outputEl = gd.closest('.output');\n",
       "if (outputEl) {{\n",
       "    x.observe(outputEl, {childList: true});\n",
       "}}\n",
       "\n",
       "                        })                };                });            </script>        </div>"
      ]
     },
     "metadata": {},
     "output_type": "display_data"
    }
   ],
   "source": [
    "import plotly.express as px\n",
    "import numpy as np\n",
    "\n",
    "# Create scatter plot using Plotly Express\n",
    "fig = px.scatter(embedding_umap_df,\n",
    "    x=\"x\",\n",
    "    y=\"y\",\n",
    "    color=\"precursor_mz\",\n",
    "    size_max=50,\n",
    "    opacity=0.5,\n",
    "    title='UMAP projection MS2DeepScore embeddings',\n",
    "    hover_data={\"x\": False,\n",
    "                \"y\": False,\n",
    "               \"smiles\": True,\n",
    "               \"precursor_mz\": True},\n",
    "    width=1000,\n",
    "    height=1000,\n",
    ")\n",
    "\n",
    "fig.show()"
   ]
  },
  {
   "cell_type": "markdown",
   "id": "be9342af-51b6-425c-bbe6-04a29be3c9ab",
   "metadata": {},
   "source": [
    "### Add annotations to visualization\n",
    "Visualizing just the embeddings is not very informative. To make the visualization helpfull it is good to overlay some additional information. \n",
    "You can show any metadata like retention time, ionisation mode, or precursor mz. But you can also visualize potential annotations. \n",
    "\n",
    "An example of adding annotations by using MS2Query is given in the case study notebooks. But the same principle can work with any other form of annotation. Since this is a MS2Deepscore tutorial, we will just use the manually added annotations added to this \"pesticides\" test set. \n",
    "\n"
   ]
  },
  {
   "cell_type": "code",
   "execution_count": 32,
   "id": "885155c2-ec2e-4c74-810e-bfad24458cd8",
   "metadata": {},
   "outputs": [],
   "source": [
    "port = 8700"
   ]
  },
  {
   "cell_type": "code",
   "execution_count": 56,
   "id": "80e6089f-80ab-4fca-b93c-3fce06d02f1a",
   "metadata": {},
   "outputs": [
    {
     "name": "stderr",
     "output_type": "stream",
     "text": [
      "C:\\Users\\jonge094\\AppData\\Roaming\\Python\\Python39\\site-packages\\dash\\dash.py:556: UserWarning:\n",
      "\n",
      "JupyterDash is deprecated, use Dash instead.\n",
      "See https://dash.plotly.com/dash-in-jupyter for more details.\n",
      "\n"
     ]
    },
    {
     "name": "stdout",
     "output_type": "stream",
     "text": [
      "Dash app running on http://127.0.0.1:8723/\n"
     ]
    },
    {
     "data": {
      "text/html": [
       "\n",
       "        <iframe\n",
       "            width=\"100%\"\n",
       "            height=\"1000\"\n",
       "            src=\"http://127.0.0.1:8723/\"\n",
       "            frameborder=\"0\"\n",
       "            allowfullscreen\n",
       "            \n",
       "        ></iframe>\n",
       "        "
      ],
      "text/plain": [
       "<IPython.lib.display.IFrame at 0x1798f586d30>"
      ]
     },
     "metadata": {},
     "output_type": "display_data"
    }
   ],
   "source": [
    "import pandas as pd\n",
    "import plotly.express as px\n",
    "\n",
    "import molplotly\n",
    "\n",
    "fig = px.scatter(embedding_umap_df,\n",
    "    x=\"x\",\n",
    "    y=\"y\",\n",
    "    color=\"precursor_mz\",\n",
    "    width=1000,\n",
    "    height=1000,\n",
    ")\n",
    "\n",
    "# add molecules to the plotly graph - returns a Dash app\n",
    "app = molplotly.add_molecules(fig=fig,\n",
    "                              df=embedding_umap_df,\n",
    "                              smiles_col='smiles',\n",
    "                              color_col=\"precursor_mz\",\n",
    "                              caption_cols=['precursor_mz'],\n",
    "                              show_coords=False,\n",
    "                            )\n",
    "\n",
    "port += 1 # If you want to recreate a plot the port has to not be used before (this makes it easy to not forget increasing the port)\n",
    "\n",
    "# run Dash app inline in notebook (or in an external server)\n",
    "app.run_server(mode='inline', jupyter_mode=\"external\", port=port, height=1000)"
   ]
  },
  {
   "cell_type": "code",
   "execution_count": null,
   "id": "32caad3a-874a-4ee0-a970-92d0bb2bced2",
   "metadata": {},
   "outputs": [],
   "source": []
  }
 ],
 "metadata": {
  "kernelspec": {
   "display_name": "Python 3 (ipykernel)",
   "language": "python",
   "name": "python3"
  },
  "language_info": {
   "codemirror_mode": {
    "name": "ipython",
    "version": 3
   },
   "file_extension": ".py",
   "mimetype": "text/x-python",
   "name": "python",
   "nbconvert_exporter": "python",
   "pygments_lexer": "ipython3",
   "version": "3.9.18"
  }
 },
 "nbformat": 4,
 "nbformat_minor": 5
}
