{
 "cells": [
  {
   "cell_type": "markdown",
   "id": "4db7db5b-039f-4ab9-b33e-6c198daa6694",
   "metadata": {},
   "source": [
    "# Create molecular networks\n",
    "This notebooks creates a graphml file for the case study data to enable visualizing mol networks in cytoscape"
   ]
  },
  {
   "cell_type": "markdown",
   "id": "f9f10acb-338a-405a-9e44-774f9a148050",
   "metadata": {},
   "source": [
    "# Download data from zenodo\n",
    "The ms2deepscore model, case study data and MS2Query annotations are downloaded from zenodo"
   ]
  },
  {
   "cell_type": "code",
   "execution_count": 1,
   "id": "34597759-16f8-4f61-a622-4cad9a1f9217",
   "metadata": {},
   "outputs": [
    {
     "name": "stdout",
     "output_type": "stream",
     "text": [
      "The file ms2deepscore_settings.json already exists, the file won't be downloaded\n",
      "The file case_study_spectra.mgf already exists, the file won't be downloaded\n"
     ]
    }
   ],
   "source": [
    "import requests\n",
    "import os\n",
    "from tqdm import tqdm\n",
    "\n",
    "def download_file(link, file_name):\n",
    "    response = requests.get(link, stream=True)\n",
    "    if os.path.exists(file_name):\n",
    "        print(f\"The file {file_name} already exists, the file won't be downloaded\")\n",
    "        return\n",
    "    total_size = int(response.headers.get('content-length', 0))\n",
    "    \n",
    "    with open(file_name, \"wb\") as f, tqdm(desc=\"Downloading file\", total=total_size, unit='B', unit_scale=True, unit_divisor=1024,) as bar:\n",
    "        for chunk in response.iter_content(chunk_size=1024):\n",
    "            if chunk:\n",
    "                f.write(chunk)\n",
    "                bar.update(len(chunk))  # Update progress bar by the chunk size\n",
    "    \n",
    "model_file_name=\"../../../../data/pytorch/new_corinna_included/trained_models/positive_mode_precursor_mz_ionmode_10000_layers_500_embedding_2024_11_26_11_30_47/ms2deepscore_model.pt\"\n",
    "\n",
    "case_study_spectra_file_name = \"case_study_spectra.mgf\"\n",
    "\n",
    "download_file(\"https://zenodo.org/records/14290920/files/settings.json?download=1\", \"ms2deepscore_settings.json\")\n",
    "download_file(\"https://zenodo.org/records/14535374/files/cleaned_spectra_pos_neg_with_numbering.mgf?download=1\", case_study_spectra_file_name)\n"
   ]
  },
  {
   "cell_type": "markdown",
   "id": "fa3c0313-7898-4bbb-9b69-c63b02badfd2",
   "metadata": {},
   "source": [
    "### Load MS2Deepscore model"
   ]
  },
  {
   "cell_type": "code",
   "execution_count": 2,
   "id": "53a7944c-19e5-450c-a931-5f46ff0459be",
   "metadata": {},
   "outputs": [
    {
     "name": "stderr",
     "output_type": "stream",
     "text": [
      "/lustre/BIF/nobackup/jonge094/ms2deepscore/ms2deepscore/ms2deepscore/models/load_model.py:34: FutureWarning: You are using `torch.load` with `weights_only=False` (the current default value), which uses the default pickle module implicitly. It is possible to construct malicious pickle data which will execute arbitrary code during unpickling (See https://github.com/pytorch/pytorch/blob/main/SECURITY.md#untrusted-models for more details). In a future release, the default value for `weights_only` will be flipped to `True`. This limits the functions that could be executed during unpickling. Arbitrary objects will no longer be allowed to be loaded via this mode unless they are explicitly allowlisted by the user via `torch.serialization.add_safe_globals`. We recommend you start setting `weights_only=True` for any use case where you don't have full control of the loaded file. Please open an issue on GitHub for any issues related to this experimental feature.\n",
      "  model_settings = torch.load(filename, map_location=device)\n"
     ]
    }
   ],
   "source": [
    "from ms2deepscore.models import load_model\n",
    "model = load_model(model_file_name)"
   ]
  },
  {
   "cell_type": "markdown",
   "id": "0ca4bd69-e282-4b3c-a2b8-d0f266509349",
   "metadata": {},
   "source": [
    "### Create spectral similarity scores\n",
    "The spectrum file \"./cleaned_spectra_pos_neg_with_numbering.mgf\" was created in pre_processing_spectra"
   ]
  },
  {
   "cell_type": "code",
   "execution_count": 3,
   "id": "a3afc943-9e07-4649-8e7b-dbae5e4f8656",
   "metadata": {},
   "outputs": [
    {
     "name": "stdout",
     "output_type": "stream",
     "text": [
      "2025-07-03 11:44:25,611:WARNING:matchms:Pipeline:No logging file was defined.Logging messages will not be written to file.\n",
      "2025-07-03 11:44:25,613:WARNING:matchms:SpectrumProcessor:No filters have been specified, so spectra were not filtered\n"
     ]
    },
    {
     "name": "stderr",
     "output_type": "stream",
     "text": [
      "Processing spectra: 2909it [00:00, 3335.52it/s]\n",
      "2909it [00:03, 789.76it/s]\n"
     ]
    }
   ],
   "source": [
    "from matchms.Pipeline import Pipeline, create_workflow\n",
    "from ms2deepscore import MS2DeepScore\n",
    "\n",
    "workflow = create_workflow(\n",
    "    query_filters=[],\n",
    "    score_computations=[\n",
    "        [MS2DeepScore, {\"model\": model}],\n",
    "        ],\n",
    ")\n",
    "pipeline = Pipeline(workflow)\n",
    "report = pipeline.run(case_study_spectra_file_name)"
   ]
  },
  {
   "cell_type": "markdown",
   "id": "f394489e-cccd-4f09-b140-32c5652b3624",
   "metadata": {},
   "source": [
    "### Create a network\n",
    "The pipeline.scores contain all the scores. To make a molecular network only some of the similarity scores are stored. They are only stored if the score is at least 0.85 and each node (spectrum) is only connected to the top 5 highest similarity scores and only if it is in the tup 5 of that other spectrum as well. \n",
    "\n",
    "This is the common approach for creating molecular networks (exact settings vary) and allows for getting visually pleasing mol networks (preventing giant hairbals)."
   ]
  },
  {
   "cell_type": "code",
   "execution_count": 4,
   "id": "a2ac340d-ddef-44c2-abbd-8b137f404655",
   "metadata": {},
   "outputs": [],
   "source": [
    "from matchms.networking import SimilarityNetwork\n",
    "\n",
    "# Define settings\n",
    "ms2ds_network = SimilarityNetwork(\n",
    "    identifier_key=\"query_spectrum_nr\",\n",
    "    score_cutoff=0.85,  # higher numbers produce more isolated sub-graphs\n",
    "    max_links=10,  # lower number makes sparser networks\n",
    "    link_method=\"mutual\",  # mutual means: link is only added if in top list of both nodes\n",
    ")\n",
    "\n",
    "# Compute the graph (takes some time)\n",
    "ms2ds_network.create_network(pipeline.scores, score_name=\"MS2DeepScore\")"
   ]
  },
  {
   "cell_type": "markdown",
   "id": "8a45c7e0-9938-4b77-b341-c9fc48818f9a",
   "metadata": {},
   "source": [
    "### save to graphml"
   ]
  },
  {
   "cell_type": "code",
   "execution_count": 5,
   "id": "aa9d8500-51b2-47ae-a1a7-fc1567903fb5",
   "metadata": {
    "ExecuteTime": {
     "end_time": "2025-06-19T14:06:32.983516Z",
     "start_time": "2025-06-19T14:06:32.045854Z"
    }
   },
   "outputs": [],
   "source": [
    "# Export to graphml\n",
    "ms2ds_network.export_to_graphml(\"signle_ion_mode_ms2ds_graph_min_0_85_score_10_links.graphml\")\n"
   ]
  },
  {
   "cell_type": "markdown",
   "id": "d6d73c95-6064-42d9-8087-dcbb449a1ccf",
   "metadata": {},
   "source": [
    "### Load into cytoscape"
   ]
  },
  {
   "cell_type": "markdown",
   "id": "dba908f6-a98b-4f71-aaf4-a4feea409ebf",
   "metadata": {},
   "source": [
    "The graphml file can be loaded into cytoscape: https://cytoscape.org/ This is an open source platform for visualizing graphs. \n"
   ]
  },
  {
   "cell_type": "markdown",
   "id": "be464374-a845-411c-8770-b302d01758f9",
   "metadata": {},
   "source": [
    "To recreate the case study results:\n",
    "- Open cytoscape\n",
    "- Load in the above created graphml file.\n",
    "- Load in ms2query annotations as table, see file add_annotations.ipynb. Can be downloaded from https://zenodo.org/records/14535374\n",
    "- Set style settings (or load in a style file)\n",
    "- Set up chemviz to visualize chemical information.\n",
    "- Explore your data!"
   ]
  },
  {
   "cell_type": "code",
   "execution_count": 8,
   "id": "84f4d9da-a347-4a02-b65a-79d63dcd848b",
   "metadata": {},
   "outputs": [],
   "source": [
    "filtered_edges = [\n",
    "    (u, v)\n",
    "    for u, v in ms2ds_network.graph.edges()\n",
    "    if (u.startswith(\"pos\") and v.startswith(\"neg\")) or (u.startswith(\"neg\") and v.startswith(\"pos\"))\n",
    "]"
   ]
  },
  {
   "cell_type": "code",
   "execution_count": 9,
   "id": "4adaacf8-e13b-4999-95ef-6859fc70dacb",
   "metadata": {},
   "outputs": [
    {
     "data": {
      "text/plain": [
       "[('neg_1160', 'pos_762'),\n",
       " ('neg_1160', 'pos_763'),\n",
       " ('neg_1160', 'pos_1559'),\n",
       " ('neg_1160', 'pos_1560'),\n",
       " ('neg_626', 'pos_511'),\n",
       " ('neg_626', 'pos_1308'),\n",
       " ('neg_704', 'pos_153'),\n",
       " ('neg_704', 'pos_348'),\n",
       " ('neg_704', 'pos_950'),\n",
       " ('neg_704', 'pos_1145'),\n",
       " ('neg_5', 'pos_30'),\n",
       " ('neg_5', 'pos_827'),\n",
       " ('pos_1295', 'neg_1067'),\n",
       " ('neg_1296', 'pos_71'),\n",
       " ('neg_1296', 'pos_74'),\n",
       " ('neg_1296', 'pos_131'),\n",
       " ('neg_1296', 'pos_132'),\n",
       " ('neg_1296', 'pos_868'),\n",
       " ('neg_1296', 'pos_871'),\n",
       " ('neg_1296', 'pos_928'),\n",
       " ('neg_1296', 'pos_929'),\n",
       " ('pos_1522', 'neg_17'),\n",
       " ('pos_1522', 'neg_56'),\n",
       " ('pos_1341', 'neg_1159'),\n",
       " ('pos_307', 'neg_993'),\n",
       " ('pos_928', 'neg_1185'),\n",
       " ('pos_928', 'neg_789'),\n",
       " ('pos_928', 'neg_519'),\n",
       " ('neg_17', 'pos_659'),\n",
       " ('neg_17', 'pos_1456'),\n",
       " ('neg_17', 'pos_725'),\n",
       " ('pos_74', 'neg_1273'),\n",
       " ('pos_74', 'neg_1185'),\n",
       " ('neg_1159', 'pos_544'),\n",
       " ('pos_1296', 'neg_1076'),\n",
       " ('neg_1076', 'pos_499'),\n",
       " ('pos_659', 'neg_56'),\n",
       " ('pos_868', 'neg_1273'),\n",
       " ('pos_868', 'neg_1185'),\n",
       " ('neg_789', 'pos_131'),\n",
       " ('neg_789', 'pos_132'),\n",
       " ('neg_789', 'pos_929'),\n",
       " ('neg_1185', 'pos_71'),\n",
       " ('neg_1185', 'pos_131'),\n",
       " ('neg_1185', 'pos_132'),\n",
       " ('neg_1185', 'pos_871'),\n",
       " ('neg_1185', 'pos_929'),\n",
       " ('pos_71', 'neg_1273'),\n",
       " ('pos_1104', 'neg_993'),\n",
       " ('neg_1273', 'pos_871'),\n",
       " ('neg_1273', 'pos_132'),\n",
       " ('neg_1273', 'pos_929'),\n",
       " ('pos_1456', 'neg_56'),\n",
       " ('neg_56', 'pos_725'),\n",
       " ('neg_519', 'pos_132'),\n",
       " ('neg_519', 'pos_929'),\n",
       " ('neg_1067', 'pos_498')]"
      ]
     },
     "execution_count": 9,
     "metadata": {},
     "output_type": "execute_result"
    }
   ],
   "source": [
    "filtered_edges"
   ]
  },
  {
   "cell_type": "code",
   "execution_count": 7,
   "id": "6c2c0076-8e03-46ba-ba1b-bd353889cff9",
   "metadata": {},
   "outputs": [],
   "source": [
    "pairs_in_cross_ion_mode_mol_network = [('pos_334', 'neg_144'),\n",
    " ('pos_498', 'neg_1067'),\n",
    " ('neg_1076', 'pos_499'),\n",
    " ('neg_1076', 'pos_1296'),\n",
    " ('pos_173', 'neg_316'),\n",
    " ('pos_173', 'neg_157'),\n",
    " ('pos_173', 'neg_366'),\n",
    " ('neg_157', 'pos_113'),\n",
    " ('neg_157', 'pos_910'),\n",
    " ('neg_157', 'pos_970'),\n",
    " ('pos_398', 'neg_343'),\n",
    " ('pos_398', 'neg_111'),\n",
    " ('pos_99', 'neg_771'),\n",
    " ('pos_1131', 'neg_144'),\n",
    " ('pos_1195', 'neg_343'),\n",
    " ('pos_1195', 'neg_111'),\n",
    " ('pos_910', 'neg_316'),\n",
    " ('pos_910', 'neg_366'),\n",
    " ('pos_896', 'neg_771'),\n",
    " ('pos_113', 'neg_316'),\n",
    " ('pos_113', 'neg_366'),\n",
    " ('pos_401', 'neg_380'),\n",
    " ('pos_401', 'neg_316'),\n",
    " ('pos_1198', 'neg_380'),\n",
    " ('pos_1198', 'neg_316'),\n",
    " ('pos_1104', 'neg_771'),\n",
    " ('neg_834', 'pos_1363'),\n",
    " ('neg_834', 'pos_566'),\n",
    " ('neg_316', 'pos_970'),\n",
    " ('pos_970', 'neg_366'),\n",
    " ('neg_771', 'pos_307'),\n",
    " ('pos_1295', 'neg_1067')]"
   ]
  },
  {
   "cell_type": "code",
   "execution_count": 13,
   "id": "1315c585-307e-4980-8f11-37d8e547f1ea",
   "metadata": {},
   "outputs": [
    {
     "name": "stdout",
     "output_type": "stream",
     "text": [
      "('pos_498', 'neg_1067')\n",
      "('neg_1076', 'pos_499')\n",
      "('neg_1076', 'pos_1296')\n",
      "('pos_1295', 'neg_1067')\n"
     ]
    }
   ],
   "source": [
    "for pair in pairs_in_cross_ion_mode_mol_network:\n",
    "    for other_pair in filtered_edges:\n",
    "        if set(pair) == set(other_pair):\n",
    "            print(pair)\n"
   ]
  },
  {
   "cell_type": "code",
   "execution_count": 39,
   "id": "5d55eaaf-9d85-4e67-a04a-38d845c2630b",
   "metadata": {},
   "outputs": [],
   "source": [
    "from matchms.plotting.spectrum_plots import plot_spectra_mirror\n",
    "from rdkit import Chem\n",
    "from rdkit.Chem import Draw\n",
    "import matchms.similarity as mssim\n",
    "import numpy as np\n",
    "\n",
    "def plot_mirror_plot_with_structures(spectrum_ids, ax):\n",
    "    pos_spectrum = [spectrum for spectrum in spectra if spectrum.get(\"query_spectrum_nr\") == spectrum_ids[0]][0]\n",
    "    neg_spectrum = [spectrum for spectrum in spectra if spectrum.get(\"query_spectrum_nr\") == spectrum_ids[1]][0]\n",
    "    print_top5_mz_by_intensity(spectrum_ids[0])\n",
    "    print_top5_mz_by_intensity(spectrum_ids[1])\n",
    "\n",
    "    pos_spectrum.set(\"compound_name\", \"\")\n",
    "    neg_spectrum.set(\"compound_name\", \"\")\n",
    "    ax = plot_spectra_mirror(pos_spectrum, neg_spectrum, grid=False,\n",
    "                              ax=ax,\n",
    "                              # max_mz=420,\n",
    "                              color_top = \"#C6DBEF\",\n",
    "                              color_bottom=\"#FCBBA1\"\n",
    "                             )\n",
    "\n",
    "    xmin, xmax = ax.get_xlim()\n",
    "    ymin, ymax = ax.get_ylim()\n",
    "    ax.set_title(None)\n",
    "    return ax"
   ]
  },
  {
   "cell_type": "code",
   "execution_count": 17,
   "id": "a4b4bf47-925d-42e8-bde5-b852e2c53508",
   "metadata": {},
   "outputs": [],
   "source": [
    "filtered_edges\n",
    "from matchms.importing import load_from_mgf\n",
    "\n",
    "spectra = list(load_from_mgf(case_study_spectra_file_name))"
   ]
  },
  {
   "cell_type": "code",
   "execution_count": 26,
   "id": "c9e01aaf-4423-4b59-8b7d-a35996c9e506",
   "metadata": {},
   "outputs": [
    {
     "data": {
      "text/plain": [
       "Spectrum(precursor m/z=613.34, 13 fragments between 375.9 and 613.8)"
      ]
     },
     "execution_count": 26,
     "metadata": {},
     "output_type": "execute_result"
    }
   ],
   "source": [
    "[spectrum for spectrum in spectra if spectrum.get(\"query_spectrum_nr\") =='pos_498'][0]"
   ]
  },
  {
   "cell_type": "code",
   "execution_count": 41,
   "id": "4603f3a3-1021-4f42-9cf9-40ae685682e0",
   "metadata": {},
   "outputs": [],
   "source": [
    "def print_top5_mz_by_intensity(spectrum_id):\n",
    "    spectrum = [spectrum for spectrum in spectra if spectrum.get(\"query_spectrum_nr\") == spectrum_id][0]\n",
    "\n",
    "    if spectrum is None or spectrum.peaks is None:\n",
    "        print(\"Invalid spectrum.\")\n",
    "        return\n",
    "\n",
    "    mzs, intensities = spectrum.peaks.mz, spectrum.peaks.intensities\n",
    "\n",
    "    # Get indices of top 5 intensities\n",
    "    top_indices = np.argsort(intensities)[-5:][::-1]  # Descending order\n",
    "\n",
    "    print(\"Top 5 m/z values by intensity:\")\n",
    "    for idx in top_indices:\n",
    "        print(f\"m/z: {mzs[idx]:.4f}, intensity: {intensities[idx]:.2f}\")\n",
    "    print(spectrum.get(\"precursor_mz\"))\n",
    "    print(spectrum.get(\"parent_mass\"))"
   ]
  },
  {
   "cell_type": "code",
   "execution_count": 42,
   "id": "28a9cd51-7aec-46b1-a6fd-a15663e24a6f",
   "metadata": {},
   "outputs": [
    {
     "name": "stdout",
     "output_type": "stream",
     "text": [
      "Top 5 m/z values by intensity:\n",
      "m/z: 613.3399, intensity: 1.00\n",
      "m/z: 613.4257, intensity: 0.00\n",
      "m/z: 613.5267, intensity: 0.00\n",
      "m/z: 613.4810, intensity: 0.00\n",
      "m/z: 613.6475, intensity: 0.00\n",
      "613.3399\n",
      "612.3326235480092\n",
      "Top 5 m/z values by intensity:\n",
      "m/z: 613.3595, intensity: 1.00\n",
      "m/z: 613.3590, intensity: 0.63\n",
      "m/z: 613.3586, intensity: 0.52\n",
      "m/z: 613.3604, intensity: 0.49\n",
      "m/z: 613.3592, intensity: 0.37\n",
      "613.3601\n",
      "614.3673764519907\n"
     ]
    },
    {
     "data": {
      "image/png": "[encoded data removed]",
      "text/plain": [
       "<Figure size 500x600 with 1 Axes>"
      ]
     },
     "metadata": {},
     "output_type": "display_data"
    },
    {
     "data": {
      "text/plain": [
       "<function __main__.print_top5_mz_by_intensity(spectrum_id)>"
      ]
     },
     "execution_count": 42,
     "metadata": {},
     "output_type": "execute_result"
    }
   ],
   "source": [
    "import matplotlib.pyplot as plt\n",
    "\n",
    "fig, ax = plt.subplots(figsize=(5, 6))\n",
    "\n",
    "ax = plot_mirror_plot_with_structures(('pos_498', 'neg_1067'), ax)\n",
    "plt.show()\n",
    "print_top5_mz_by_intensity"
   ]
  },
  {
   "cell_type": "code",
   "execution_count": 28,
   "id": "3d2c08b7-4481-417b-8c09-7a4179b4f8e1",
   "metadata": {},
   "outputs": [
    {
     "data": {
      "image/png": "[encoded data removed]",
      "text/plain": [
       "<Figure size 500x600 with 1 Axes>"
      ]
     },
     "metadata": {},
     "output_type": "display_data"
    }
   ],
   "source": [
    "import matplotlib.pyplot as plt\n",
    "\n",
    "fig, ax = plt.subplots(figsize=(5, 6))\n",
    "\n",
    "ax = plot_mirror_plot_with_structures(('neg_1076', 'pos_499'), ax)\n",
    "plt.show()"
   ]
  },
  {
   "cell_type": "code",
   "execution_count": 29,
   "id": "925f141f-9296-4f69-9dbd-1ae06e927d64",
   "metadata": {},
   "outputs": [
    {
     "data": {
      "image/png": "[encoded data removed]",
      "text/plain": [
       "<Figure size 500x600 with 1 Axes>"
      ]
     },
     "metadata": {},
     "output_type": "display_data"
    }
   ],
   "source": [
    "import matplotlib.pyplot as plt\n",
    "\n",
    "fig, ax = plt.subplots(figsize=(5, 6))\n",
    "\n",
    "ax = plot_mirror_plot_with_structures(('neg_1076', 'pos_1296'), ax)\n",
    "plt.show()"
   ]
  },
  {
   "cell_type": "code",
   "execution_count": 31,
   "id": "0326f501-0b5d-4646-a8f9-8dc29916231c",
   "metadata": {},
   "outputs": [
    {
     "data": {
      "image/png": "[encoded data removed]",
      "text/plain": [
       "<Figure size 500x600 with 1 Axes>"
      ]
     },
     "metadata": {},
     "output_type": "display_data"
    }
   ],
   "source": [
    "import matplotlib.pyplot as plt\n",
    "\n",
    "fig, ax = plt.subplots(figsize=(5, 6))\n",
    "\n",
    "ax = plot_mirror_plot_with_structures(('pos_1295', 'neg_1067'), ax)\n",
    "plt.show()"
   ]
  }
 ],
 "metadata": {
  "kernelspec": {
   "display_name": "Python 3 (ipykernel)",
   "language": "python",
   "name": "python3"
  },
  "language_info": {
   "codemirror_mode": {
    "name": "ipython",
    "version": 3
   },
   "file_extension": ".py",
   "mimetype": "text/x-python",
   "name": "python",
   "nbconvert_exporter": "python",
   "pygments_lexer": "ipython3",
   "version": "3.11.9"
  }
 },
 "nbformat": 4,
 "nbformat_minor": 5
}
