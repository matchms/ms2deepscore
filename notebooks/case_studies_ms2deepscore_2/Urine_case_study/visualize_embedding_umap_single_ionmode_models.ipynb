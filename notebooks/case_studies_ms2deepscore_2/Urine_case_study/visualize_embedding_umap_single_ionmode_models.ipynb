{
 "cells": [
  {
   "cell_type": "markdown",
   "id": "599fbb5e-11d0-4d2f-bf9e-8a2f13370da2",
   "metadata": {},
   "source": [
    "# Visualize spectra using embedding umap\n",
    "This notebooks creates a 2D visualization of the case study spectrum set. By using Umap the multidiminsional embeddings are reduced to 2 dimensions. Annotations are added to make a interactive visualization possible"
   ]
  },
  {
   "cell_type": "markdown",
   "id": "63d16d13-314a-40b3-a24c-97cf666fb0d2",
   "metadata": {},
   "source": [
    "# Download model, spectra and annotations"
   ]
  },
  {
   "cell_type": "code",
   "execution_count": 3,
   "id": "ec6d8df7-cee1-4a75-88ab-ba91e6e7e15d",
   "metadata": {},
   "outputs": [
    {
     "name": "stdout",
     "output_type": "stream",
     "text": [
      "The file ms2deepscore_settings.json already exists, the file won't be downloaded\n",
      "The file case_study_spectra.mgf already exists, the file won't be downloaded\n",
      "The file ms2query_annotations.csv already exists, the file won't be downloaded\n"
     ]
    }
   ],
   "source": [
    "import requests\n",
    "import os\n",
    "from tqdm import tqdm\n",
    "\n",
    "def download_file(link, file_name):\n",
    "    response = requests.get(link, stream=True)\n",
    "    if os.path.exists(file_name):\n",
    "        print(f\"The file {file_name} already exists, the file won't be downloaded\")\n",
    "        return\n",
    "    total_size = int(response.headers.get('content-length', 0))\n",
    "    \n",
    "    with open(file_name, \"wb\") as f, tqdm(desc=\"Downloading file\", total=total_size, unit='B', unit_scale=True, unit_divisor=1024,) as bar:\n",
    "        for chunk in response.iter_content(chunk_size=1024):\n",
    "            if chunk:\n",
    "                f.write(chunk)\n",
    "                bar.update(len(chunk))  # Update progress bar by the chunk size\n",
    "    \n",
    "model_file_name=\"../../../../data/pytorch/new_corinna_included/trained_models/positive_mode_precursor_mz_ionmode_10000_layers_500_embedding_2024_11_26_11_30_47/ms2deepscore_model.pt\"\n",
    "\n",
    "case_study_spectra_file_name = \"case_study_spectra.mgf\"\n",
    "ms2query_annotations = \"ms2query_annotations.csv\"\n",
    "\n",
    "download_file(\"https://zenodo.org/records/14290920/files/settings.json?download=1\", \"ms2deepscore_settings.json\")\n",
    "download_file(\"https://zenodo.org/records/14535374/files/cleaned_spectra_pos_neg_with_numbering.mgf?download=1\", case_study_spectra_file_name)\n",
    "download_file(\"https://zenodo.org/records/14535374/files/ms2query_annotations.csv?download=1\", ms2query_annotations)\n",
    "\n"
   ]
  },
  {
   "cell_type": "markdown",
   "id": "e78d92f0-482d-4d66-8c75-29327549e676",
   "metadata": {},
   "source": [
    "### Load ms2deepscore model"
   ]
  },
  {
   "cell_type": "code",
   "execution_count": 4,
   "id": "92ca68ad-86a3-4de8-90d9-ac573c656f25",
   "metadata": {},
   "outputs": [],
   "source": [
    "from ms2deepscore.models import load_model\n",
    "model = load_model(model_file_name)"
   ]
  },
  {
   "cell_type": "code",
   "execution_count": 5,
   "id": "acb81672-b972-4289-9555-d43e28053723",
   "metadata": {},
   "outputs": [],
   "source": [
    "from ms2deepscore import MS2DeepScore\n",
    "ms2ds_model = MS2DeepScore(model)"
   ]
  },
  {
   "cell_type": "markdown",
   "id": "4c0411bc-5482-42c3-a4c5-a4679c34b6fe",
   "metadata": {},
   "source": [
    "### load spectra\n",
    "The spectra are precprocessed in the notebook pre_processing_spectra.ipynb"
   ]
  },
  {
   "cell_type": "code",
   "execution_count": 6,
   "id": "acaf7229-d93d-48a4-8252-ff14cafc0c7f",
   "metadata": {},
   "outputs": [
    {
     "name": "stderr",
     "output_type": "stream",
     "text": [
      "2909it [00:00, 3226.33it/s]\n"
     ]
    }
   ],
   "source": [
    "from matchms.importing import load_from_mgf\n",
    "from tqdm import tqdm\n",
    "spectra = list(tqdm(load_from_mgf(case_study_spectra_file_name)))"
   ]
  },
  {
   "cell_type": "markdown",
   "id": "a68ce537-cd72-4131-9885-8de5cb4c27b8",
   "metadata": {},
   "source": [
    "### Create embeddings\n",
    "MS2Deepscore embeddings are a 500 dimensional representation of a spectrum. Similar embeddings should correspond to similar molecules."
   ]
  },
  {
   "cell_type": "code",
   "execution_count": 7,
   "id": "2361bfbb-cbab-43b2-8e0f-3e705d6ca10f",
   "metadata": {},
   "outputs": [
    {
     "name": "stderr",
     "output_type": "stream",
     "text": [
      "2909it [00:15, 186.71it/s]\n"
     ]
    }
   ],
   "source": [
    "ms2ds_embeddings = ms2ds_model.get_embedding_array(spectra)"
   ]
  },
  {
   "cell_type": "code",
   "execution_count": 8,
   "id": "7fc24477-b0c8-4551-8ffc-9a95779eb33c",
   "metadata": {},
   "outputs": [
    {
     "data": {
      "text/plain": [
       "(2909, 500)"
      ]
     },
     "execution_count": 8,
     "metadata": {},
     "output_type": "execute_result"
    }
   ],
   "source": [
    "ms2ds_embeddings.shape"
   ]
  },
  {
   "cell_type": "markdown",
   "id": "1218ffc9-91c5-4704-9fe4-1badee35c74c",
   "metadata": {},
   "source": [
    "### Fit Umap\n",
    "Umap is a method for reducing multidimensional data to 2 dimensions. This is done in a way that aims to keep distances between embeddings close to the thruth. However, since reducing from 500 dementions some distortions always take place. Reducing to 2 dimensions allows us to visualize the embeddings.\n",
    "\n",
    "The code below tries to learn how to best transform 500 dimensions to 2 dimensions."
   ]
  },
  {
   "cell_type": "code",
   "execution_count": 9,
   "id": "c259b80f-5c15-4045-8808-b4c19cbfe134",
   "metadata": {},
   "outputs": [
    {
     "name": "stderr",
     "output_type": "stream",
     "text": [
      "/lustre/BIF/nobackup/jonge094/bin/miniconda3/envs/ms2deepscore/lib/python3.11/site-packages/umap/umap_.py:1952: UserWarning: n_jobs value 1 overridden to 1 by setting random_state. Use no seed for parallelism.\n",
      "  warn(\n"
     ]
    },
    {
     "data": {
      "text/html": [
       "<style>#sk-container-id-1 {\n",
       "  /* Definition of color scheme common for light and dark mode */\n",
       "  --sklearn-color-text: black;\n",
       "  --sklearn-color-line: gray;\n",
       "  /* Definition of color scheme for unfitted estimators */\n",
       "  --sklearn-color-unfitted-level-0: #fff5e6;\n",
       "  --sklearn-color-unfitted-level-1: #f6e4d2;\n",
       "  --sklearn-color-unfitted-level-2: #ffe0b3;\n",
       "  --sklearn-color-unfitted-level-3: chocolate;\n",
       "  /* Definition of color scheme for fitted estimators */\n",
       "  --sklearn-color-fitted-level-0: #f0f8ff;\n",
       "  --sklearn-color-fitted-level-1: #d4ebff;\n",
       "  --sklearn-color-fitted-level-2: #b3dbfd;\n",
       "  --sklearn-color-fitted-level-3: cornflowerblue;\n",
       "\n",
       "  /* Specific color for light theme */\n",
       "  --sklearn-color-text-on-default-background: var(--sg-text-color, var(--theme-code-foreground, var(--jp-content-font-color1, black)));\n",
       "  --sklearn-color-background: var(--sg-background-color, var(--theme-background, var(--jp-layout-color0, white)));\n",
       "  --sklearn-color-border-box: var(--sg-text-color, var(--theme-code-foreground, var(--jp-content-font-color1, black)));\n",
       "  --sklearn-color-icon: #696969;\n",
       "\n",
       "  @media (prefers-color-scheme: dark) {\n",
       "    /* Redefinition of color scheme for dark theme */\n",
       "    --sklearn-color-text-on-default-background: var(--sg-text-color, var(--theme-code-foreground, var(--jp-content-font-color1, white)));\n",
       "    --sklearn-color-background: var(--sg-background-color, var(--theme-background, var(--jp-layout-color0, #111)));\n",
       "    --sklearn-color-border-box: var(--sg-text-color, var(--theme-code-foreground, var(--jp-content-font-color1, white)));\n",
       "    --sklearn-color-icon: #878787;\n",
       "  }\n",
       "}\n",
       "\n",
       "#sk-container-id-1 {\n",
       "  color: var(--sklearn-color-text);\n",
       "}\n",
       "\n",
       "#sk-container-id-1 pre {\n",
       "  padding: 0;\n",
       "}\n",
       "\n",
       "#sk-container-id-1 input.sk-hidden--visually {\n",
       "  border: 0;\n",
       "  clip: rect(1px 1px 1px 1px);\n",
       "  clip: rect(1px, 1px, 1px, 1px);\n",
       "  height: 1px;\n",
       "  margin: -1px;\n",
       "  overflow: hidden;\n",
       "  padding: 0;\n",
       "  position: absolute;\n",
       "  width: 1px;\n",
       "}\n",
       "\n",
       "#sk-container-id-1 div.sk-dashed-wrapped {\n",
       "  border: 1px dashed var(--sklearn-color-line);\n",
       "  margin: 0 0.4em 0.5em 0.4em;\n",
       "  box-sizing: border-box;\n",
       "  padding-bottom: 0.4em;\n",
       "  background-color: var(--sklearn-color-background);\n",
       "}\n",
       "\n",
       "#sk-container-id-1 div.sk-container {\n",
       "  /* jupyter's `normalize.less` sets `[hidden] { display: none; }`\n",
       "     but bootstrap.min.css set `[hidden] { display: none !important; }`\n",
       "     so we also need the `!important` here to be able to override the\n",
       "     default hidden behavior on the sphinx rendered scikit-learn.org.\n",
       "     See: https://github.com/scikit-learn/scikit-learn/issues/21755 */\n",
       "  display: inline-block !important;\n",
       "  position: relative;\n",
       "}\n",
       "\n",
       "#sk-container-id-1 div.sk-text-repr-fallback {\n",
       "  display: none;\n",
       "}\n",
       "\n",
       "div.sk-parallel-item,\n",
       "div.sk-serial,\n",
       "div.sk-item {\n",
       "  /* draw centered vertical line to link estimators */\n",
       "  background-image: linear-gradient(var(--sklearn-color-text-on-default-background), var(--sklearn-color-text-on-default-background));\n",
       "  background-size: 2px 100%;\n",
       "  background-repeat: no-repeat;\n",
       "  background-position: center center;\n",
       "}\n",
       "\n",
       "/* Parallel-specific style estimator block */\n",
       "\n",
       "#sk-container-id-1 div.sk-parallel-item::after {\n",
       "  content: \"\";\n",
       "  width: 100%;\n",
       "  border-bottom: 2px solid var(--sklearn-color-text-on-default-background);\n",
       "  flex-grow: 1;\n",
       "}\n",
       "\n",
       "#sk-container-id-1 div.sk-parallel {\n",
       "  display: flex;\n",
       "  align-items: stretch;\n",
       "  justify-content: center;\n",
       "  background-color: var(--sklearn-color-background);\n",
       "  position: relative;\n",
       "}\n",
       "\n",
       "#sk-container-id-1 div.sk-parallel-item {\n",
       "  display: flex;\n",
       "  flex-direction: column;\n",
       "}\n",
       "\n",
       "#sk-container-id-1 div.sk-parallel-item:first-child::after {\n",
       "  align-self: flex-end;\n",
       "  width: 50%;\n",
       "}\n",
       "\n",
       "#sk-container-id-1 div.sk-parallel-item:last-child::after {\n",
       "  align-self: flex-start;\n",
       "  width: 50%;\n",
       "}\n",
       "\n",
       "#sk-container-id-1 div.sk-parallel-item:only-child::after {\n",
       "  width: 0;\n",
       "}\n",
       "\n",
       "/* Serial-specific style estimator block */\n",
       "\n",
       "#sk-container-id-1 div.sk-serial {\n",
       "  display: flex;\n",
       "  flex-direction: column;\n",
       "  align-items: center;\n",
       "  background-color: var(--sklearn-color-background);\n",
       "  padding-right: 1em;\n",
       "  padding-left: 1em;\n",
       "}\n",
       "\n",
       "\n",
       "/* Toggleable style: style used for estimator/Pipeline/ColumnTransformer box that is\n",
       "clickable and can be expanded/collapsed.\n",
       "- Pipeline and ColumnTransformer use this feature and define the default style\n",
       "- Estimators will overwrite some part of the style using the `sk-estimator` class\n",
       "*/\n",
       "\n",
       "/* Pipeline and ColumnTransformer style (default) */\n",
       "\n",
       "#sk-container-id-1 div.sk-toggleable {\n",
       "  /* Default theme specific background. It is overwritten whether we have a\n",
       "  specific estimator or a Pipeline/ColumnTransformer */\n",
       "  background-color: var(--sklearn-color-background);\n",
       "}\n",
       "\n",
       "/* Toggleable label */\n",
       "#sk-container-id-1 label.sk-toggleable__label {\n",
       "  cursor: pointer;\n",
       "  display: block;\n",
       "  width: 100%;\n",
       "  margin-bottom: 0;\n",
       "  padding: 0.5em;\n",
       "  box-sizing: border-box;\n",
       "  text-align: center;\n",
       "}\n",
       "\n",
       "#sk-container-id-1 label.sk-toggleable__label-arrow:before {\n",
       "  /* Arrow on the left of the label */\n",
       "  content: \"▸\";\n",
       "  float: left;\n",
       "  margin-right: 0.25em;\n",
       "  color: var(--sklearn-color-icon);\n",
       "}\n",
       "\n",
       "#sk-container-id-1 label.sk-toggleable__label-arrow:hover:before {\n",
       "  color: var(--sklearn-color-text);\n",
       "}\n",
       "\n",
       "/* Toggleable content - dropdown */\n",
       "\n",
       "#sk-container-id-1 div.sk-toggleable__content {\n",
       "  max-height: 0;\n",
       "  max-width: 0;\n",
       "  overflow: hidden;\n",
       "  text-align: left;\n",
       "  /* unfitted */\n",
       "  background-color: var(--sklearn-color-unfitted-level-0);\n",
       "}\n",
       "\n",
       "#sk-container-id-1 div.sk-toggleable__content.fitted {\n",
       "  /* fitted */\n",
       "  background-color: var(--sklearn-color-fitted-level-0);\n",
       "}\n",
       "\n",
       "#sk-container-id-1 div.sk-toggleable__content pre {\n",
       "  margin: 0.2em;\n",
       "  border-radius: 0.25em;\n",
       "  color: var(--sklearn-color-text);\n",
       "  /* unfitted */\n",
       "  background-color: var(--sklearn-color-unfitted-level-0);\n",
       "}\n",
       "\n",
       "#sk-container-id-1 div.sk-toggleable__content.fitted pre {\n",
       "  /* unfitted */\n",
       "  background-color: var(--sklearn-color-fitted-level-0);\n",
       "}\n",
       "\n",
       "#sk-container-id-1 input.sk-toggleable__control:checked~div.sk-toggleable__content {\n",
       "  /* Expand drop-down */\n",
       "  max-height: 200px;\n",
       "  max-width: 100%;\n",
       "  overflow: auto;\n",
       "}\n",
       "\n",
       "#sk-container-id-1 input.sk-toggleable__control:checked~label.sk-toggleable__label-arrow:before {\n",
       "  content: \"▾\";\n",
       "}\n",
       "\n",
       "/* Pipeline/ColumnTransformer-specific style */\n",
       "\n",
       "#sk-container-id-1 div.sk-label input.sk-toggleable__control:checked~label.sk-toggleable__label {\n",
       "  color: var(--sklearn-color-text);\n",
       "  background-color: var(--sklearn-color-unfitted-level-2);\n",
       "}\n",
       "\n",
       "#sk-container-id-1 div.sk-label.fitted input.sk-toggleable__control:checked~label.sk-toggleable__label {\n",
       "  background-color: var(--sklearn-color-fitted-level-2);\n",
       "}\n",
       "\n",
       "/* Estimator-specific style */\n",
       "\n",
       "/* Colorize estimator box */\n",
       "#sk-container-id-1 div.sk-estimator input.sk-toggleable__control:checked~label.sk-toggleable__label {\n",
       "  /* unfitted */\n",
       "  background-color: var(--sklearn-color-unfitted-level-2);\n",
       "}\n",
       "\n",
       "#sk-container-id-1 div.sk-estimator.fitted input.sk-toggleable__control:checked~label.sk-toggleable__label {\n",
       "  /* fitted */\n",
       "  background-color: var(--sklearn-color-fitted-level-2);\n",
       "}\n",
       "\n",
       "#sk-container-id-1 div.sk-label label.sk-toggleable__label,\n",
       "#sk-container-id-1 div.sk-label label {\n",
       "  /* The background is the default theme color */\n",
       "  color: var(--sklearn-color-text-on-default-background);\n",
       "}\n",
       "\n",
       "/* On hover, darken the color of the background */\n",
       "#sk-container-id-1 div.sk-label:hover label.sk-toggleable__label {\n",
       "  color: var(--sklearn-color-text);\n",
       "  background-color: var(--sklearn-color-unfitted-level-2);\n",
       "}\n",
       "\n",
       "/* Label box, darken color on hover, fitted */\n",
       "#sk-container-id-1 div.sk-label.fitted:hover label.sk-toggleable__label.fitted {\n",
       "  color: var(--sklearn-color-text);\n",
       "  background-color: var(--sklearn-color-fitted-level-2);\n",
       "}\n",
       "\n",
       "/* Estimator label */\n",
       "\n",
       "#sk-container-id-1 div.sk-label label {\n",
       "  font-family: monospace;\n",
       "  font-weight: bold;\n",
       "  display: inline-block;\n",
       "  line-height: 1.2em;\n",
       "}\n",
       "\n",
       "#sk-container-id-1 div.sk-label-container {\n",
       "  text-align: center;\n",
       "}\n",
       "\n",
       "/* Estimator-specific */\n",
       "#sk-container-id-1 div.sk-estimator {\n",
       "  font-family: monospace;\n",
       "  border: 1px dotted var(--sklearn-color-border-box);\n",
       "  border-radius: 0.25em;\n",
       "  box-sizing: border-box;\n",
       "  margin-bottom: 0.5em;\n",
       "  /* unfitted */\n",
       "  background-color: var(--sklearn-color-unfitted-level-0);\n",
       "}\n",
       "\n",
       "#sk-container-id-1 div.sk-estimator.fitted {\n",
       "  /* fitted */\n",
       "  background-color: var(--sklearn-color-fitted-level-0);\n",
       "}\n",
       "\n",
       "/* on hover */\n",
       "#sk-container-id-1 div.sk-estimator:hover {\n",
       "  /* unfitted */\n",
       "  background-color: var(--sklearn-color-unfitted-level-2);\n",
       "}\n",
       "\n",
       "#sk-container-id-1 div.sk-estimator.fitted:hover {\n",
       "  /* fitted */\n",
       "  background-color: var(--sklearn-color-fitted-level-2);\n",
       "}\n",
       "\n",
       "/* Specification for estimator info (e.g. \"i\" and \"?\") */\n",
       "\n",
       "/* Common style for \"i\" and \"?\" */\n",
       "\n",
       ".sk-estimator-doc-link,\n",
       "a:link.sk-estimator-doc-link,\n",
       "a:visited.sk-estimator-doc-link {\n",
       "  float: right;\n",
       "  font-size: smaller;\n",
       "  line-height: 1em;\n",
       "  font-family: monospace;\n",
       "  background-color: var(--sklearn-color-background);\n",
       "  border-radius: 1em;\n",
       "  height: 1em;\n",
       "  width: 1em;\n",
       "  text-decoration: none !important;\n",
       "  margin-left: 1ex;\n",
       "  /* unfitted */\n",
       "  border: var(--sklearn-color-unfitted-level-1) 1pt solid;\n",
       "  color: var(--sklearn-color-unfitted-level-1);\n",
       "}\n",
       "\n",
       ".sk-estimator-doc-link.fitted,\n",
       "a:link.sk-estimator-doc-link.fitted,\n",
       "a:visited.sk-estimator-doc-link.fitted {\n",
       "  /* fitted */\n",
       "  border: var(--sklearn-color-fitted-level-1) 1pt solid;\n",
       "  color: var(--sklearn-color-fitted-level-1);\n",
       "}\n",
       "\n",
       "/* On hover */\n",
       "div.sk-estimator:hover .sk-estimator-doc-link:hover,\n",
       ".sk-estimator-doc-link:hover,\n",
       "div.sk-label-container:hover .sk-estimator-doc-link:hover,\n",
       ".sk-estimator-doc-link:hover {\n",
       "  /* unfitted */\n",
       "  background-color: var(--sklearn-color-unfitted-level-3);\n",
       "  color: var(--sklearn-color-background);\n",
       "  text-decoration: none;\n",
       "}\n",
       "\n",
       "div.sk-estimator.fitted:hover .sk-estimator-doc-link.fitted:hover,\n",
       ".sk-estimator-doc-link.fitted:hover,\n",
       "div.sk-label-container:hover .sk-estimator-doc-link.fitted:hover,\n",
       ".sk-estimator-doc-link.fitted:hover {\n",
       "  /* fitted */\n",
       "  background-color: var(--sklearn-color-fitted-level-3);\n",
       "  color: var(--sklearn-color-background);\n",
       "  text-decoration: none;\n",
       "}\n",
       "\n",
       "/* Span, style for the box shown on hovering the info icon */\n",
       ".sk-estimator-doc-link span {\n",
       "  display: none;\n",
       "  z-index: 9999;\n",
       "  position: relative;\n",
       "  font-weight: normal;\n",
       "  right: .2ex;\n",
       "  padding: .5ex;\n",
       "  margin: .5ex;\n",
       "  width: min-content;\n",
       "  min-width: 20ex;\n",
       "  max-width: 50ex;\n",
       "  color: var(--sklearn-color-text);\n",
       "  box-shadow: 2pt 2pt 4pt #999;\n",
       "  /* unfitted */\n",
       "  background: var(--sklearn-color-unfitted-level-0);\n",
       "  border: .5pt solid var(--sklearn-color-unfitted-level-3);\n",
       "}\n",
       "\n",
       ".sk-estimator-doc-link.fitted span {\n",
       "  /* fitted */\n",
       "  background: var(--sklearn-color-fitted-level-0);\n",
       "  border: var(--sklearn-color-fitted-level-3);\n",
       "}\n",
       "\n",
       ".sk-estimator-doc-link:hover span {\n",
       "  display: block;\n",
       "}\n",
       "\n",
       "/* \"?\"-specific style due to the `<a>` HTML tag */\n",
       "\n",
       "#sk-container-id-1 a.estimator_doc_link {\n",
       "  float: right;\n",
       "  font-size: 1rem;\n",
       "  line-height: 1em;\n",
       "  font-family: monospace;\n",
       "  background-color: var(--sklearn-color-background);\n",
       "  border-radius: 1rem;\n",
       "  height: 1rem;\n",
       "  width: 1rem;\n",
       "  text-decoration: none;\n",
       "  /* unfitted */\n",
       "  color: var(--sklearn-color-unfitted-level-1);\n",
       "  border: var(--sklearn-color-unfitted-level-1) 1pt solid;\n",
       "}\n",
       "\n",
       "#sk-container-id-1 a.estimator_doc_link.fitted {\n",
       "  /* fitted */\n",
       "  border: var(--sklearn-color-fitted-level-1) 1pt solid;\n",
       "  color: var(--sklearn-color-fitted-level-1);\n",
       "}\n",
       "\n",
       "/* On hover */\n",
       "#sk-container-id-1 a.estimator_doc_link:hover {\n",
       "  /* unfitted */\n",
       "  background-color: var(--sklearn-color-unfitted-level-3);\n",
       "  color: var(--sklearn-color-background);\n",
       "  text-decoration: none;\n",
       "}\n",
       "\n",
       "#sk-container-id-1 a.estimator_doc_link.fitted:hover {\n",
       "  /* fitted */\n",
       "  background-color: var(--sklearn-color-fitted-level-3);\n",
       "}\n",
       "</style><div id=\"sk-container-id-1\" class=\"sk-top-container\"><div class=\"sk-text-repr-fallback\"><pre>UMAP(min_dist=0.2, n_jobs=1, n_neighbors=50, random_state=42, tqdm_kwds={&#x27;bar_format&#x27;: &#x27;{desc}: {percentage:3.0f}%| {bar} {n_fmt}/{total_fmt} [{elapsed}]&#x27;, &#x27;desc&#x27;: &#x27;Epochs completed&#x27;, &#x27;disable&#x27;: True})</pre><b>In a Jupyter environment, please rerun this cell to show the HTML representation or trust the notebook. <br />On GitHub, the HTML representation is unable to render, please try loading this page with nbviewer.org.</b></div><div class=\"sk-container\" hidden><div class=\"sk-item\"><div class=\"sk-estimator fitted sk-toggleable\"><input class=\"sk-toggleable__control sk-hidden--visually\" id=\"sk-estimator-id-1\" type=\"checkbox\" checked><label for=\"sk-estimator-id-1\" class=\"sk-toggleable__label fitted sk-toggleable__label-arrow fitted\">&nbsp;UMAP<span class=\"sk-estimator-doc-link fitted\">i<span>Fitted</span></span></label><div class=\"sk-toggleable__content fitted\"><pre>UMAP(min_dist=0.2, n_jobs=1, n_neighbors=50, random_state=42, tqdm_kwds={&#x27;bar_format&#x27;: &#x27;{desc}: {percentage:3.0f}%| {bar} {n_fmt}/{total_fmt} [{elapsed}]&#x27;, &#x27;desc&#x27;: &#x27;Epochs completed&#x27;, &#x27;disable&#x27;: True})</pre></div> </div></div></div></div>"
      ],
      "text/plain": [
       "UMAP(min_dist=0.2, n_jobs=1, n_neighbors=50, random_state=42, tqdm_kwds={'bar_format': '{desc}: {percentage:3.0f}%| {bar} {n_fmt}/{total_fmt} [{elapsed}]', 'desc': 'Epochs completed', 'disable': True})"
      ]
     },
     "execution_count": 9,
     "metadata": {},
     "output_type": "execute_result"
    }
   ],
   "source": [
    "import umap\n",
    "\n",
    "reducer = umap.UMAP(random_state=42,  # this or whatever your favorite number is\n",
    "                    n_neighbors=50 ,  # key parameters How global or local the distribution 30, 50\n",
    "                    min_dist=0.2 , # can the dots overlap if you use 5 they move out a bit. 0.1, 0.2\n",
    "                    )\n",
    "reducer.fit(ms2ds_embeddings)"
   ]
  },
  {
   "cell_type": "markdown",
   "id": "6e602b05-6981-4c4a-873c-87a314ce06c7",
   "metadata": {},
   "source": [
    "### get 2d coordinates from embeddings\n",
    "Here we use the fitted umap model to actually transform embeddings to a x and y coordinate"
   ]
  },
  {
   "cell_type": "code",
   "execution_count": 10,
   "id": "1786c188-4bb3-4280-ab2c-2a087553215b",
   "metadata": {},
   "outputs": [],
   "source": [
    "embedding_umap = reducer.transform(ms2ds_embeddings)"
   ]
  },
  {
   "cell_type": "code",
   "execution_count": 27,
   "id": "8e6f2a9d-281b-4fbb-b043-8f4a3ce13c3e",
   "metadata": {},
   "outputs": [
    {
     "data": {
      "text/plain": [
       "array([[ 6.399148  ,  5.249808  ],\n",
       "       [ 5.9670463 ,  0.29087648],\n",
       "       [ 4.300889  ,  3.7659795 ],\n",
       "       ...,\n",
       "       [18.725214  , -1.9337422 ],\n",
       "       [10.805029  , -9.491422  ],\n",
       "       [18.697523  , -1.9080055 ]], dtype=float32)"
      ]
     },
     "execution_count": 27,
     "metadata": {},
     "output_type": "execute_result"
    }
   ],
   "source": [
    "embedding_umap"
   ]
  },
  {
   "cell_type": "markdown",
   "id": "4211c631-b95a-4104-b4d6-112a44cb6f90",
   "metadata": {},
   "source": [
    "### Convert to pandas df\n",
    "Use the query_spectrum_id from the spectra as index for the pandas dataframe"
   ]
  },
  {
   "cell_type": "code",
   "execution_count": 11,
   "id": "099e27d9-8935-499b-9c9b-b0889bdf9751",
   "metadata": {},
   "outputs": [],
   "source": [
    "import pandas as pd\n",
    "embedding_umap_df = pd.DataFrame(embedding_umap, \n",
    "                                 index = [spectrum.get(\"query_spectrum_nr\") for spectrum in spectra],\n",
    "                                columns = [\"x\", \"y\"])\n",
    "indexes = embedding_umap_df.index\n",
    "embedding_umap_df[\"query_spectrum_nr\"] = indexes"
   ]
  },
  {
   "cell_type": "markdown",
   "id": "cc3f1ebc-920b-448a-9650-c7912c91264e",
   "metadata": {},
   "source": [
    "### Visualize embeddings\n",
    "We use plotly to visualize the embeddings of the spectra"
   ]
  },
  {
   "cell_type": "code",
   "execution_count": 12,
   "id": "e00ef86f-22e2-4341-8440-027f2cee5d90",
   "metadata": {},
   "outputs": [],
   "source": [
    "import plotly.io as pio\n",
    "pio.renderers.default = 'iframe'"
   ]
  },
  {
   "cell_type": "code",
   "execution_count": 13,
   "id": "a632f6a1-1df7-4df8-b24f-586b2e0a223f",
   "metadata": {},
   "outputs": [
    {
     "data": {
      "text/html": [
       "<iframe\n",
       "    scrolling=\"no\"\n",
       "    width=\"820px\"\n",
       "    height=\"820\"\n",
       "    src=\"iframe_figures/figure_13.html\"\n",
       "    frameborder=\"0\"\n",
       "    allowfullscreen\n",
       "></iframe>\n"
      ]
     },
     "metadata": {},
     "output_type": "display_data"
    }
   ],
   "source": [
    "import plotly.express as px\n",
    "import numpy as np\n",
    "\n",
    "# Create scatter plot using Plotly Express\n",
    "fig = px.scatter(embedding_umap_df,\n",
    "    x=\"x\",\n",
    "    y=\"y\",\n",
    "    size_max=50,\n",
    "    opacity=0.5,\n",
    "    title='UMAP projection MS2DeepScore embeddings',\n",
    "    width=800,\n",
    "    height=800,\n",
    ")\n",
    "\n",
    "fig.show()"
   ]
  },
  {
   "cell_type": "markdown",
   "id": "a530c84a-2640-46ff-abe0-59525daefb03",
   "metadata": {},
   "source": [
    "### Add annotations to visualization\n",
    "Visualizing just the embeddings is not very informative. Below we add the ms2query annotations, but any information can be added in principle. \n"
   ]
  },
  {
   "cell_type": "code",
   "execution_count": 14,
   "id": "0a1b2a3e-a5aa-4874-b62a-6a04da225d02",
   "metadata": {},
   "outputs": [],
   "source": [
    "ms2query_annotations = pd.read_csv(ms2query_annotations)"
   ]
  },
  {
   "cell_type": "markdown",
   "id": "4ecbef58-9f8a-46fe-ad71-30d4c3f976ab",
   "metadata": {},
   "source": [
    "### Merge annotations with umap table"
   ]
  },
  {
   "cell_type": "code",
   "execution_count": 15,
   "id": "450c16e6-40d6-4be3-a4a0-4d573614e85e",
   "metadata": {},
   "outputs": [],
   "source": [
    "merged_data = pd.merge(embedding_umap_df, ms2query_annotations, on=\"query_spectrum_nr\", how= \"outer\")"
   ]
  },
  {
   "cell_type": "code",
   "execution_count": 16,
   "id": "f580d61e-a987-45b5-935e-c73ba6069e39",
   "metadata": {
    "scrolled": true
   },
   "outputs": [
    {
     "data": {
      "text/html": [
       "<iframe\n",
       "    scrolling=\"no\"\n",
       "    width=\"820px\"\n",
       "    height=\"820\"\n",
       "    src=\"iframe_figures/figure_16.html\"\n",
       "    frameborder=\"0\"\n",
       "    allowfullscreen\n",
       "></iframe>\n"
      ]
     },
     "metadata": {},
     "output_type": "display_data"
    }
   ],
   "source": [
    "import plotly.express as px\n",
    "import numpy as np\n",
    "\n",
    "# Create scatter plot using Plotly Express\n",
    "fig = px.scatter(merged_data.iloc[::-1],\n",
    "    x=\"x\",\n",
    "    y=\"y\",\n",
    "    color=\"ionmode\",\n",
    "    color_discrete_map={\"positive\": \"#C6DBEF\", \"negative\": \"#FCBBA1\"},\n",
    "\n",
    "    # color_continuous_scale=\"viridis\",\n",
    "    size_max=50,\n",
    "    opacity=1.0,\n",
    "    title='UMAP projection MS2DeepScore embeddings',\n",
    "    hover_data={\"x\": False,\n",
    "                \"y\": False,\n",
    "                # \"fraction\": True,\n",
    "                \"precursor_mz_difference\": False,\n",
    "               \"ionmode\": True,\n",
    "               \"ms2query_model_prediction\": False,\n",
    "               \"smiles\": True,\n",
    "               \"analog_compound_name\": True,\n",
    "                \"precursor_mz_query_spectrum\": True, \n",
    "               \"rtinminutes\": True,\n",
    "               \"query_spectrum_nr\": True},\n",
    "    # symbol=\"cf_superclass\",\n",
    "    width=800,\n",
    "    height=800,\n",
    ")\n",
    "# Update background colors\n",
    "fig.update_layout(\n",
    "    plot_bgcolor='white',  # Set the plot area background color\n",
    "    paper_bgcolor='white',    # Set the figure background color\n",
    ")\n",
    "\n",
    "# Update grid line colors\n",
    "fig.update_xaxes(\n",
    "    gridcolor='gray',          # Grid lines on x-axis\n",
    "    zerolinecolor='gray'      # Line at x=0\n",
    ")\n",
    "fig.update_yaxes(\n",
    "    gridcolor='gray',          # Grid lines on y-axis\n",
    "    zerolinecolor='gray'      # Line at y=0\n",
    ")\n",
    "\n",
    "fig.update_traces(marker=dict(size=5))  # Increase size to 12 (default is typically smaller)\n",
    "\n",
    "fig.show()"
   ]
  },
  {
   "cell_type": "code",
   "execution_count": null,
   "id": "4e1504a7-c8e2-432f-bc65-0b8c060c4eb3",
   "metadata": {},
   "outputs": [],
   "source": [
    "fig.write_html(\"embedding_visualization_red_blue.html\")"
   ]
  },
  {
   "cell_type": "markdown",
   "id": "f5cf2b88-9a40-4a1f-b0db-08ce2977673b",
   "metadata": {},
   "source": [
    "### Create zoomed in versions"
   ]
  },
  {
   "cell_type": "code",
   "execution_count": null,
   "id": "23dafdaa-5106-4efe-8929-60cc42d435a2",
   "metadata": {},
   "outputs": [],
   "source": [
    "fig.update_layout(\n",
    "    xaxis=dict(range=[0, 18],\n",
    "              dtick=2),  # Set x-axis zoom range (adjust as needed)\n",
    "    yaxis=dict(range=[0, 18],\n",
    "              dtick=2)   # Set y-axis zoom range (adjust as needed)\n",
    ")"
   ]
  },
  {
   "cell_type": "code",
   "execution_count": null,
   "id": "fbd360db-47ce-4d06-8d0a-431495460a67",
   "metadata": {},
   "outputs": [],
   "source": [
    "# percentage of umap dots excluded with specified zoom\n",
    "nr_of_spectra_outside_range = merged_data[(merged_data['x'] > 18) | (merged_data['x'] < 0) | (merged_data['y'] > 18) | (merged_data['y'] < 0)].shape[0]\n",
    "print(f\"nr of spectra outside range of 0-18: {nr_of_spectra_outside_range/merged_data.shape[0]*100:.1f} %\")\n"
   ]
  },
  {
   "cell_type": "code",
   "execution_count": null,
   "id": "4f53c314-2006-4612-89b1-3a725b8f2d8b",
   "metadata": {},
   "outputs": [],
   "source": [
    "fig.update_layout(\n",
    "    xaxis=dict(range=[7.99, 10.01]),  # Set x-axis zoom range (adjust as needed)\n",
    "    yaxis=dict(range=[3.99, 6.01])   # Set y-axis zoom range (adjust as needed)\n",
    ")\n",
    "fig.update_traces(marker=dict(size=15))  # Increase size to 12 (default is typically smaller)\n",
    "\n",
    "fig.show()"
   ]
  },
  {
   "cell_type": "markdown",
   "id": "72a348c2-bd60-4bf8-ac34-b3968158099e",
   "metadata": {},
   "source": [
    "### Find interesting examples with reliable MS2Query annotations in both ionmodes"
   ]
  },
  {
   "cell_type": "code",
   "execution_count": null,
   "id": "53c7e0bd-6592-4d57-8aa4-a1ef8fea3121",
   "metadata": {},
   "outputs": [],
   "source": [
    "# get all ms2query scores above 0.8\n",
    "high_ms2query_score = merged_data[(merged_data['ms2query_model_prediction'] > 0.8)]\n",
    "high_ms2query_score['precursor_mz_difference'].astype(float)\n",
    "# and mass diff < 0.1 Da\n",
    "high_ms2query_exact_matches = high_ms2query_score[(high_ms2query_score['precursor_mz_difference'].astype(float) < 0.1)]\n",
    "# Get the cases that have at least 1 pos and 1 neg example\n",
    "has_pos_and_neg = high_ms2query_exact_matches.groupby('inchikey')['ionmode'].apply(lambda x: {'positive', 'negative'}.issubset(set(x)))\n",
    "result = high_ms2query_exact_matches[high_ms2query_exact_matches['inchikey'].isin(has_pos_and_neg[has_pos_and_neg].index)]\n"
   ]
  },
  {
   "cell_type": "code",
   "execution_count": null,
   "id": "de8e7143-97c2-4780-867b-17fe86276951",
   "metadata": {
    "scrolled": true
   },
   "outputs": [],
   "source": [
    "pd.set_option('display.max_columns', None)\n",
    "pd.set_option('display.max_colwidth', None)\n",
    "\n",
    "result.sort_values(by='inchikey')\n"
   ]
  },
  {
   "cell_type": "markdown",
   "id": "a51e6753-40f0-462e-b0b4-a3b06c14db3b",
   "metadata": {},
   "source": [
    "# plot example spectra\n",
    "Based on these results we pick the first pos and neg example"
   ]
  },
  {
   "cell_type": "code",
   "execution_count": null,
   "id": "e9a7544f-c0f9-4c77-838b-5017384a0327",
   "metadata": {},
   "outputs": [],
   "source": [
    "from matchms.plotting.spectrum_plots import plot_spectra_mirror\n",
    "import matplotlib.pyplot as plt\n",
    "selected_spectra =[spectrum for spectrum in spectra if spectrum.get(\"query_spectrum_nr\") in [\"neg_1231\", \"pos_761\", ]]\n",
    "# Set compound name to empty string, since matchms by default prints the compound name\n",
    "selected_spectra[0].set(\"compound_name\", \"\")\n",
    "selected_spectra[1].set(\"compound_name\", \"\")\n",
    "plt.figure(figsize=(5, 5))\n",
    "fig = plot_spectra_mirror(selected_spectra[1], selected_spectra[0], grid=False, \n",
    "                          max_mz=420,\n",
    "                          color_top = \"#FCBBA1\",\n",
    "                          color_bottom=\"#C6DBEF\"\n",
    "                         )\n",
    " # \"positive\": \"#C6DBEF\", \"negative\": \"#FCBBA1\"\n",
    "plt.savefig(\"./spectrum_comparison_cholin_acid.svg\", bbox_inches='tight')"
   ]
  },
  {
   "cell_type": "code",
   "execution_count": null,
   "id": "89a24e5f-a790-4bdd-b771-bb36215c88a8",
   "metadata": {},
   "outputs": [],
   "source": [
    "print(selected_spectra[0].metadata)\n",
    "print(selected_spectra[1].metadata)"
   ]
  },
  {
   "cell_type": "markdown",
   "id": "7a6162eb-3cb6-4d71-83fe-baecb84baad3",
   "metadata": {},
   "source": [
    "#### Get (modified) cosine score and MS2Deepscore for example spectrum pair"
   ]
  },
  {
   "cell_type": "code",
   "execution_count": null,
   "id": "4ea23bf6-e21c-429d-a028-92b5855b994d",
   "metadata": {},
   "outputs": [],
   "source": [
    "import matchms.similarity as mssim\n",
    "selected_spectra =[spectrum for spectrum in spectra if spectrum.get(\"query_spectrum_nr\") in [\"neg_1231\", \"pos_1558\", ]]\n",
    "\n",
    "similarity_cosine = mssim.CosineGreedy(tolerance=0.1).pair(selected_spectra[0], selected_spectra[1])\n",
    "similarity_modified_cosine = mssim.ModifiedCosine(tolerance=0.1).pair(selected_spectra[0], selected_spectra[1])\n",
    "ms2deepscore_score = ms2ds_model.pair(selected_spectra[0], selected_spectra[1])\n",
    "print(f\"MS2Deepscore: {ms2deepscore_score:.3f}\")\n",
    "print(f\"Cosine score: {similarity_cosine['score']:.3f}\")\n",
    "print(f\"Modified cosine score: {similarity_modified_cosine['score']:.3f}\")"
   ]
  },
  {
   "cell_type": "markdown",
   "id": "b6ef3be8-9f8f-46b3-ba0b-840aa0f0ab00",
   "metadata": {},
   "source": [
    "# Plot with superclass overlay\n",
    "MS2Query adds classifier annotations. These can be used to visualize the spectra. "
   ]
  },
  {
   "cell_type": "code",
   "execution_count": 26,
   "id": "991cfd56-b848-4a30-99d2-a4a75e4f890f",
   "metadata": {},
   "outputs": [
    {
     "data": {
      "text/html": [
       "<iframe\n",
       "    scrolling=\"no\"\n",
       "    width=\"1020px\"\n",
       "    height=\"820\"\n",
       "    src=\"iframe_figures/figure_26.html\"\n",
       "    frameborder=\"0\"\n",
       "    allowfullscreen\n",
       "></iframe>\n"
      ]
     },
     "metadata": {},
     "output_type": "display_data"
    }
   ],
   "source": [
    "import plotly.express as px\n",
    "import numpy as np\n",
    "\n",
    "# Create scatter plot using Plotly Express\n",
    "fig = px.scatter(merged_data,\n",
    "    x=\"x\",\n",
    "    y=\"y\",\n",
    "    color=\"ionmode\",\n",
    "    color_discrete_map={\"unknown\": 'lightgrey'},\n",
    "\n",
    "    # color_continuous_scale=\"viridis\",\n",
    "    size_max=50,\n",
    "    opacity=0.5,\n",
    "    title='UMAP projection MS2DeepScore embeddings',\n",
    "    hover_data={\"x\": False,\n",
    "                \"y\": False,\n",
    "                # \"fraction\": True,\n",
    "                \"precursor_mz_difference\": True,\n",
    "               \"ionmode\": True,\n",
    "               \"ms2query_model_prediction\": True,\n",
    "               \"smiles\": True,\n",
    "               \"analog_compound_name\": True,\n",
    "               \"rtinminutes\": True},\n",
    "    # symbol=\"ionmode\",\n",
    "    width=1000,\n",
    "    height=800,\n",
    ")\n",
    "\n",
    "fig.show()\n"
   ]
  },
  {
   "cell_type": "code",
   "execution_count": null,
   "id": "73d68e7f-3992-4d29-9ce0-f4194d59fa9b",
   "metadata": {},
   "outputs": [],
   "source": [
    "fig.write_html(\"embedding_visualization_compound_classes.html\")"
   ]
  },
  {
   "cell_type": "markdown",
   "id": "989f7521-db23-4709-b9e0-ec609fa7f3ae",
   "metadata": {},
   "source": [
    "### Visualize molecular structures\n",
    "Below you can create an interactive plot, that draws the molecular structure directly on top of the plot. \n",
    "The molecular structures are drawn based on MS2Query annotations."
   ]
  },
  {
   "cell_type": "code",
   "execution_count": null,
   "id": "11dcc5cb894c729d",
   "metadata": {},
   "outputs": [],
   "source": []
  },
  {
   "cell_type": "code",
   "execution_count": 18,
   "id": "c6042174-6457-43a3-ab9e-45a160783384",
   "metadata": {},
   "outputs": [],
   "source": [
    "merged_data = merged_data[merged_data[\"smiles\"] != \"unknown\"]"
   ]
  },
  {
   "cell_type": "code",
   "execution_count": 19,
   "id": "0d6cd49d-452e-4242-96dc-f7e1c46b558c",
   "metadata": {},
   "outputs": [],
   "source": [
    "# make number\n",
    "merged_data.loc[:, \"rtinminutes\"] = merged_data[\"rtinminutes\"].astype(float)"
   ]
  },
  {
   "cell_type": "code",
   "execution_count": 24,
   "id": "1d34be2c-6ded-4e38-9c36-710cc70b8018",
   "metadata": {},
   "outputs": [],
   "source": [
    "port = 8800"
   ]
  },
  {
   "cell_type": "code",
   "execution_count": 25,
   "id": "d6646214eda7edf9",
   "metadata": {},
   "outputs": [
    {
     "name": "stdout",
     "output_type": "stream",
     "text": [
      "Dash app running on http://127.0.0.1:8801/\n"
     ]
    },
    {
     "name": "stderr",
     "output_type": "stream",
     "text": [
      "/lustre/BIF/nobackup/jonge094/bin/miniconda3/envs/ms2deepscore/lib/python3.11/site-packages/dash/dash.py:579: UserWarning:\n",
      "\n",
      "JupyterDash is deprecated, use Dash instead.\n",
      "See https://dash.plotly.com/dash-in-jupyter for more details.\n",
      "\n"
     ]
    },
    {
     "data": {
      "text/html": [
       "\n",
       "        <iframe\n",
       "            width=\"100%\"\n",
       "            height=\"650\"\n",
       "            src=\"http://127.0.0.1:8801/\"\n",
       "            frameborder=\"0\"\n",
       "            allowfullscreen\n",
       "            \n",
       "        ></iframe>\n",
       "        "
      ],
      "text/plain": [
       "<IPython.lib.display.IFrame at 0x7f9604047450>"
      ]
     },
     "metadata": {},
     "output_type": "display_data"
    }
   ],
   "source": [
    "import pandas as pd\n",
    "import plotly.express as px\n",
    "\n",
    "import molplotly\n",
    "\n",
    "fig = px.scatter(merged_data,\n",
    "    x=\"x\",\n",
    "    y=\"y\",\n",
    "    color=\"ionmode\",\n",
    "    symbol=\"cf_superclass\",\n",
    "    width=1200,\n",
    "    height=800,\n",
    ")\n",
    "\n",
    "# add molecules to the plotly graph - returns a Dash app\n",
    "app = molplotly.add_molecules(fig=fig,\n",
    "                              df=merged_data,\n",
    "                              smiles_col='smiles',\n",
    "                              color_col=\"ionmode\",\n",
    "                              caption_cols=['rtinminutes', \"ionmode\", \"precursor_mz_query_spectrum\", \"analog_compound_name\"],\n",
    "                              show_coords=False,\n",
    "                              symbol_col=\"cf_superclass\"\n",
    "                            )\n",
    "\n",
    "port += 1 # If you want to recreate a plot the port has to not be used before (this makes it easy to not forget increasing the port)\n",
    "\n",
    "# run Dash app inline in notebook (or in an external server)\n",
    "app.run_server(mode='external', port=port, height=1000)"
   ]
  },
  {
   "cell_type": "code",
   "execution_count": null,
   "id": "c082ee49-fac4-4a5c-b63d-b8227c68845f",
   "metadata": {},
   "outputs": [],
   "source": []
  }
 ],
 "metadata": {
  "kernelspec": {
   "display_name": "Python 3 (ipykernel)",
   "language": "python",
   "name": "python3"
  },
  "language_info": {
   "codemirror_mode": {
    "name": "ipython",
    "version": 3
   },
   "file_extension": ".py",
   "mimetype": "text/x-python",
   "name": "python",
   "nbconvert_exporter": "python",
   "pygments_lexer": "ipython3",
   "version": "3.11.9"
  }
 },
 "nbformat": 4,
 "nbformat_minor": 5
}
