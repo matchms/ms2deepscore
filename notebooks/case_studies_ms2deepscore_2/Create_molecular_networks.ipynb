{
 "cells": [
  {
   "cell_type": "markdown",
   "id": "4db7db5b-039f-4ab9-b33e-6c198daa6694",
   "metadata": {},
   "source": [
    "# Create molecular networks\n",
    "This notebooks creates a graphml file for the case study data to enable visualizing mol networks in cytoscape"
   ]
  },
  {
   "cell_type": "markdown",
   "id": "f9f10acb-338a-405a-9e44-774f9a148050",
   "metadata": {},
   "source": [
    "# Download data from zenodo\n",
    "The ms2deepscore model, case study data and MS2Query annotations are downloaded from zenodo"
   ]
  },
  {
   "cell_type": "code",
   "execution_count": 5,
   "id": "34597759-16f8-4f61-a622-4cad9a1f9217",
   "metadata": {},
   "outputs": [
    {
     "name": "stderr",
     "output_type": "stream",
     "text": [
      "Downloading file: 2.18kB [00:00, 70.7kB/s]\n",
      "Downloading file: 100%|███████████████████████████████████████████████████████████████████████████████████████████████████████████████████████████████| 397M/397M [00:03<00:00, 107MB/s]\n",
      "Downloading file: 100%|████████████████████████████████████████████████████████████████████████████████████████████████████████████████████████████| 5.57M/5.57M [00:00<00:00, 26.9MB/s]\n"
     ]
    }
   ],
   "source": [
    "import requests\n",
    "import os\n",
    "from tqdm import tqdm\n",
    "\n",
    "def download_file(link, file_name):\n",
    "    response = requests.get(link, stream=True)\n",
    "    if os.path.exists(file_name):\n",
    "        print(f\"The file {file_name} already exists, the file won't be downloaded\")\n",
    "        return\n",
    "    total_size = int(response.headers.get('content-length', 0))\n",
    "    \n",
    "    with open(file_name, \"wb\") as f, tqdm(desc=\"Downloading file\", total=total_size, unit='B', unit_scale=True, unit_divisor=1024,) as bar:\n",
    "        for chunk in response.iter_content(chunk_size=1024):\n",
    "            if chunk:\n",
    "                f.write(chunk)\n",
    "                bar.update(len(chunk))  # Update progress bar by the chunk size\n",
    "    \n",
    "model_file_name = \"ms2deepscore_model.pt\"\n",
    "case_study_spectra_file_name = \"case_study_spectra.mgf\"\n",
    "\n",
    "download_file(\"https://zenodo.org/records/14290920/files/settings.json?download=1\", \"ms2deepscore_settings.json\")\n",
    "download_file(\"https://zenodo.org/records/14290920/files/ms2deepscore_model.pt?download=1\", model_file_name)\n",
    "download_file(\"https://zenodo.org/records/14535374/files/cleaned_spectra_pos_neg_with_numbering.mgf?download=1\", case_study_spectra_file_name)\n"
   ]
  },
  {
   "cell_type": "markdown",
   "id": "fa3c0313-7898-4bbb-9b69-c63b02badfd2",
   "metadata": {},
   "source": [
    "### Load MS2Deepscore model"
   ]
  },
  {
   "cell_type": "code",
   "execution_count": 6,
   "id": "53a7944c-19e5-450c-a931-5f46ff0459be",
   "metadata": {},
   "outputs": [
    {
     "name": "stderr",
     "output_type": "stream",
     "text": [
      "/lustre/BIF/nobackup/jonge094/ms2deepscore/ms2deepscore/ms2deepscore/models/load_model.py:34: FutureWarning: You are using `torch.load` with `weights_only=False` (the current default value), which uses the default pickle module implicitly. It is possible to construct malicious pickle data which will execute arbitrary code during unpickling (See https://github.com/pytorch/pytorch/blob/main/SECURITY.md#untrusted-models for more details). In a future release, the default value for `weights_only` will be flipped to `True`. This limits the functions that could be executed during unpickling. Arbitrary objects will no longer be allowed to be loaded via this mode unless they are explicitly allowlisted by the user via `torch.serialization.add_safe_globals`. We recommend you start setting `weights_only=True` for any use case where you don't have full control of the loaded file. Please open an issue on GitHub for any issues related to this experimental feature.\n",
      "  model_settings = torch.load(filename, map_location=device)\n"
     ]
    }
   ],
   "source": [
    "from ms2deepscore.models import load_model\n",
    "model = load_model(model_file_name)"
   ]
  },
  {
   "cell_type": "markdown",
   "id": "0ca4bd69-e282-4b3c-a2b8-d0f266509349",
   "metadata": {},
   "source": [
    "### Create spectral similarity scores\n",
    "The spectrum file \"./cleaned_spectra_pos_neg_with_numbering.mgf\" was created in pre_processing_spectra"
   ]
  },
  {
   "cell_type": "code",
   "execution_count": 7,
   "id": "a3afc943-9e07-4649-8e7b-dbae5e4f8656",
   "metadata": {},
   "outputs": [
    {
     "name": "stdout",
     "output_type": "stream",
     "text": [
      "2024-12-20 13:19:01,785:WARNING:matchms:Pipeline:No logging file was defined.Logging messages will not be written to file.\n",
      "2024-12-20 13:19:01,787:WARNING:matchms:SpectrumProcessor:No filters have been specified, so spectra were not filtered\n"
     ]
    },
    {
     "name": "stderr",
     "output_type": "stream",
     "text": [
      "Processing spectra: 2909it [00:00, 3123.46it/s]\n",
      "2909it [00:05, 547.08it/s]\n"
     ]
    }
   ],
   "source": [
    "from matchms.Pipeline import Pipeline, create_workflow\n",
    "from ms2deepscore import MS2DeepScore\n",
    "\n",
    "workflow = create_workflow(\n",
    "    query_filters=[],\n",
    "    score_computations=[\n",
    "        [MS2DeepScore, {\"model\": model}],\n",
    "        ],\n",
    ")\n",
    "pipeline = Pipeline(workflow)\n",
    "report = pipeline.run(case_study_spectra_file_name)"
   ]
  },
  {
   "cell_type": "markdown",
   "id": "f394489e-cccd-4f09-b140-32c5652b3624",
   "metadata": {},
   "source": [
    "### Create a network\n",
    "The pipeline.scores contain all the scores. To make a molecular network only some of the similarity scores are stored. They are only stored if the score is at least 0.85 and each node (spectrum) is only connected to the top 5 highest similarity scores and only if it is in the tup 5 of that other spectrum as well. \n",
    "\n",
    "This is the common approach for creating molecular networks (exact settings vary) and allows for getting visually pleasing mol networks (preventing giant hairbals)."
   ]
  },
  {
   "cell_type": "code",
   "execution_count": 8,
   "id": "a2ac340d-ddef-44c2-abbd-8b137f404655",
   "metadata": {},
   "outputs": [],
   "source": [
    "from matchms.networking import SimilarityNetwork\n",
    "\n",
    "# Define settings\n",
    "ms2ds_network = SimilarityNetwork(\n",
    "    identifier_key=\"query_spectrum_nr\",\n",
    "    score_cutoff=0.85,  # higher numbers produce more isolated sub-graphs\n",
    "    max_links=10,  # lower number makes sparser networks\n",
    "    link_method=\"mutual\",  # mutual means: link is only added if in top list of both nodes\n",
    ")\n",
    "\n",
    "# Compute the graph (takes some time)\n",
    "ms2ds_network.create_network(pipeline.scores, score_name=\"MS2DeepScore\")"
   ]
  },
  {
   "cell_type": "markdown",
   "id": "8a45c7e0-9938-4b77-b341-c9fc48818f9a",
   "metadata": {},
   "source": [
    "### save to graphml"
   ]
  },
  {
   "cell_type": "code",
   "execution_count": 4,
   "id": "aa9d8500-51b2-47ae-a1a7-fc1567903fb5",
   "metadata": {},
   "outputs": [],
   "source": [
    "# Export to graphml\n",
    "ms2ds_network.export_to_graphml(\"ms2ds_graph_min_0_85_score_10_links.graphml\")\n"
   ]
  },
  {
   "cell_type": "markdown",
   "id": "d6d73c95-6064-42d9-8087-dcbb449a1ccf",
   "metadata": {},
   "source": [
    "### Load into cytoscape"
   ]
  },
  {
   "cell_type": "markdown",
   "id": "dba908f6-a98b-4f71-aaf4-a4feea409ebf",
   "metadata": {},
   "source": [
    "The graphml file can be loaded into cytoscape: https://cytoscape.org/ This is an open source platform for visualizing graphs. \n"
   ]
  },
  {
   "cell_type": "markdown",
   "id": "be464374-a845-411c-8770-b302d01758f9",
   "metadata": {},
   "source": [
    "To recreate the case study results:\n",
    "- Open cytoscape\n",
    "- Load in the above created graphml file.\n",
    "- Load in ms2query annotations as table, see file add_annotations.ipynb. Can be downloaded from https://zenodo.org/records/14535374\n",
    "- Set style settings (or load in a style file)\n",
    "- Set up chemviz to visualize chemical information.\n",
    "- Explore your data!"
   ]
  }
 ],
 "metadata": {
  "kernelspec": {
   "display_name": "Python 3 (ipykernel)",
   "language": "python",
   "name": "python3"
  },
  "language_info": {
   "codemirror_mode": {
    "name": "ipython",
    "version": 3
   },
   "file_extension": ".py",
   "mimetype": "text/x-python",
   "name": "python",
   "nbconvert_exporter": "python",
   "pygments_lexer": "ipython3",
   "version": "3.11.9"
  }
 },
 "nbformat": 4,
 "nbformat_minor": 5
}
