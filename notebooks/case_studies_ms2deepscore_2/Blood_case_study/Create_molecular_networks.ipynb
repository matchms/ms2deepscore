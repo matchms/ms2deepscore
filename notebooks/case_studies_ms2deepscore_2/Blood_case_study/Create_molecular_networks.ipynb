{
 "cells": [
  {
   "cell_type": "markdown",
   "id": "4db7db5b-039f-4ab9-b33e-6c198daa6694",
   "metadata": {},
   "source": [
    "# Create molecular networks\n",
    "This notebooks creates a graphml file for the case study data to enable visualizing mol networks in cytoscape"
   ]
  },
  {
   "cell_type": "markdown",
   "id": "f9f10acb-338a-405a-9e44-774f9a148050",
   "metadata": {},
   "source": [
    "# Download data from zenodo\n",
    "The ms2deepscore model, case study data and MS2Query annotations are downloaded from zenodo"
   ]
  },
  {
   "cell_type": "code",
   "id": "34597759-16f8-4f61-a622-4cad9a1f9217",
   "metadata": {
    "ExecuteTime": {
     "end_time": "2025-06-19T12:55:39.993104Z",
     "start_time": "2025-06-19T12:55:38.190896Z"
    }
   },
   "source": [
    "import requests\n",
    "import os\n",
    "\n",
    "from matchms.exporting import save_as_mgf\n",
    "from matchms.filtering import require_minimum_number_of_peaks\n",
    "from matchms.importing import load_from_mgf\n",
    "from tqdm import tqdm\n",
    "\n",
    "def download_file(link, file_name):\n",
    "    response = requests.get(link, stream=True)\n",
    "    if os.path.exists(file_name):\n",
    "        print(f\"The file {file_name} already exists, the file won't be downloaded\")\n",
    "        return\n",
    "    total_size = int(response.headers.get('content-length', 0))\n",
    "    \n",
    "    with open(file_name, \"wb\") as f, tqdm(desc=\"Downloading file\", total=total_size, unit='B', unit_scale=True, unit_divisor=1024,) as bar:\n",
    "        for chunk in response.iter_content(chunk_size=1024):\n",
    "            if chunk:\n",
    "                f.write(chunk)\n",
    "                bar.update(len(chunk))  # Update progress bar by the chunk size\n",
    "    \n",
    "model_file_name = \"ms2deepscore_model.pt\"\n",
    "# case_study_spectra_file_name = \"case_study_spectra.mgf\"\n",
    "\n",
    "download_file(\"https://zenodo.org/records/14290920/files/settings.json?download=1\", \"ms2deepscore_settings.json\")\n",
    "download_file(\"https://zenodo.org/records/14290920/files/ms2deepscore_model.pt?download=1\", model_file_name)\n",
    "# download_file(\"https://zenodo.org/records/14535374/files/cleaned_spectra_pos_neg_with_numbering.mgf?download=1\", case_study_spectra_file_name)\n"
   ],
   "outputs": [
    {
     "name": "stderr",
     "output_type": "stream",
     "text": [
      "Downloading file: 2.18kB [00:00, ?B/s]\n"
     ]
    },
    {
     "ename": "FileNotFoundError",
     "evalue": "[Errno 2] No such file or directory: '../UrineCase_study/ms2deepscore_model.pt'",
     "output_type": "error",
     "traceback": [
      "\u001B[1;31m---------------------------------------------------------------------------\u001B[0m",
      "\u001B[1;31mFileNotFoundError\u001B[0m                         Traceback (most recent call last)",
      "Cell \u001B[1;32mIn[1], line 22\u001B[0m\n\u001B[0;32m     19\u001B[0m \u001B[38;5;66;03m# case_study_spectra_file_name = \"case_study_spectra.mgf\"\u001B[39;00m\n\u001B[0;32m     21\u001B[0m download_file(\u001B[38;5;124m\"\u001B[39m\u001B[38;5;124mhttps://zenodo.org/records/14290920/files/settings.json?download=1\u001B[39m\u001B[38;5;124m\"\u001B[39m, \u001B[38;5;124m\"\u001B[39m\u001B[38;5;124mms2deepscore_settings.json\u001B[39m\u001B[38;5;124m\"\u001B[39m)\n\u001B[1;32m---> 22\u001B[0m \u001B[43mdownload_file\u001B[49m\u001B[43m(\u001B[49m\u001B[38;5;124;43m\"\u001B[39;49m\u001B[38;5;124;43mhttps://zenodo.org/records/14290920/files/ms2deepscore_model.pt?download=1\u001B[39;49m\u001B[38;5;124;43m\"\u001B[39;49m\u001B[43m,\u001B[49m\u001B[43m \u001B[49m\u001B[43mmodel_file_name\u001B[49m\u001B[43m)\u001B[49m\n\u001B[0;32m     23\u001B[0m \u001B[38;5;66;03m# download_file(\"https://zenodo.org/records/14535374/files/cleaned_spectra_pos_neg_with_numbering.mgf?download=1\", case_study_spectra_file_name)\u001B[39;00m\n",
      "Cell \u001B[1;32mIn[1], line 12\u001B[0m, in \u001B[0;36mdownload_file\u001B[1;34m(link, file_name)\u001B[0m\n\u001B[0;32m      9\u001B[0m     \u001B[38;5;28;01mreturn\u001B[39;00m\n\u001B[0;32m     10\u001B[0m total_size \u001B[38;5;241m=\u001B[39m \u001B[38;5;28mint\u001B[39m(response\u001B[38;5;241m.\u001B[39mheaders\u001B[38;5;241m.\u001B[39mget(\u001B[38;5;124m'\u001B[39m\u001B[38;5;124mcontent-length\u001B[39m\u001B[38;5;124m'\u001B[39m, \u001B[38;5;241m0\u001B[39m))\n\u001B[1;32m---> 12\u001B[0m \u001B[38;5;28;01mwith\u001B[39;00m \u001B[38;5;28;43mopen\u001B[39;49m\u001B[43m(\u001B[49m\u001B[43mfile_name\u001B[49m\u001B[43m,\u001B[49m\u001B[43m \u001B[49m\u001B[38;5;124;43m\"\u001B[39;49m\u001B[38;5;124;43mwb\u001B[39;49m\u001B[38;5;124;43m\"\u001B[39;49m\u001B[43m)\u001B[49m \u001B[38;5;28;01mas\u001B[39;00m f, tqdm(desc\u001B[38;5;241m=\u001B[39m\u001B[38;5;124m\"\u001B[39m\u001B[38;5;124mDownloading file\u001B[39m\u001B[38;5;124m\"\u001B[39m, total\u001B[38;5;241m=\u001B[39mtotal_size, unit\u001B[38;5;241m=\u001B[39m\u001B[38;5;124m'\u001B[39m\u001B[38;5;124mB\u001B[39m\u001B[38;5;124m'\u001B[39m, unit_scale\u001B[38;5;241m=\u001B[39m\u001B[38;5;28;01mTrue\u001B[39;00m, unit_divisor\u001B[38;5;241m=\u001B[39m\u001B[38;5;241m1024\u001B[39m,) \u001B[38;5;28;01mas\u001B[39;00m bar:\n\u001B[0;32m     13\u001B[0m     \u001B[38;5;28;01mfor\u001B[39;00m chunk \u001B[38;5;129;01min\u001B[39;00m response\u001B[38;5;241m.\u001B[39miter_content(chunk_size\u001B[38;5;241m=\u001B[39m\u001B[38;5;241m1024\u001B[39m):\n\u001B[0;32m     14\u001B[0m         \u001B[38;5;28;01mif\u001B[39;00m chunk:\n",
      "File \u001B[1;32m~\\AppData\\Local\\miniconda3\\envs\\pytorch\\lib\\site-packages\\IPython\\core\\interactiveshell.py:310\u001B[0m, in \u001B[0;36m_modified_open\u001B[1;34m(file, *args, **kwargs)\u001B[0m\n\u001B[0;32m    303\u001B[0m \u001B[38;5;28;01mif\u001B[39;00m file \u001B[38;5;129;01min\u001B[39;00m {\u001B[38;5;241m0\u001B[39m, \u001B[38;5;241m1\u001B[39m, \u001B[38;5;241m2\u001B[39m}:\n\u001B[0;32m    304\u001B[0m     \u001B[38;5;28;01mraise\u001B[39;00m \u001B[38;5;167;01mValueError\u001B[39;00m(\n\u001B[0;32m    305\u001B[0m         \u001B[38;5;124mf\u001B[39m\u001B[38;5;124m\"\u001B[39m\u001B[38;5;124mIPython won\u001B[39m\u001B[38;5;124m'\u001B[39m\u001B[38;5;124mt let you open fd=\u001B[39m\u001B[38;5;132;01m{\u001B[39;00mfile\u001B[38;5;132;01m}\u001B[39;00m\u001B[38;5;124m by default \u001B[39m\u001B[38;5;124m\"\u001B[39m\n\u001B[0;32m    306\u001B[0m         \u001B[38;5;124m\"\u001B[39m\u001B[38;5;124mas it is likely to crash IPython. If you know what you are doing, \u001B[39m\u001B[38;5;124m\"\u001B[39m\n\u001B[0;32m    307\u001B[0m         \u001B[38;5;124m\"\u001B[39m\u001B[38;5;124myou can use builtins\u001B[39m\u001B[38;5;124m'\u001B[39m\u001B[38;5;124m open.\u001B[39m\u001B[38;5;124m\"\u001B[39m\n\u001B[0;32m    308\u001B[0m     )\n\u001B[1;32m--> 310\u001B[0m \u001B[38;5;28;01mreturn\u001B[39;00m io_open(file, \u001B[38;5;241m*\u001B[39margs, \u001B[38;5;241m*\u001B[39m\u001B[38;5;241m*\u001B[39mkwargs)\n",
      "\u001B[1;31mFileNotFoundError\u001B[0m: [Errno 2] No such file or directory: '../UrineCase_study/ms2deepscore_model.pt'"
     ]
    }
   ],
   "execution_count": 1
  },
  {
   "metadata": {},
   "cell_type": "markdown",
   "source": "### Merge the spectra into a single file\n",
   "id": "154cb34e079e0770"
  },
  {
   "metadata": {
    "ExecuteTime": {
     "end_time": "2025-06-19T13:57:22.679907Z",
     "start_time": "2025-06-19T13:56:52.571438Z"
    }
   },
   "cell_type": "code",
   "source": [
    "import os\n",
    "from matchms.importing.load_from_mzml import load_from_mzml\n",
    "\n",
    "neg_folder_path = './mzml/neg'\n",
    "pos_folder_path = './mzml/pos'\n",
    "\n",
    "mzml_neg_files = [f for f in os.listdir(neg_folder_path) if f.lower().endswith('.mzml')]\n",
    "mzml_pos_files = [f for f in os.listdir(pos_folder_path) if f.lower().endswith('.mzml')]\n",
    "\n",
    "all_spectra = []\n",
    "for spectrum_file_name in mzml_neg_files:\n",
    "    file_id = spectrum_file_name[-7:-5]\n",
    "    spectra = list(load_from_mzml(os.path.join(neg_folder_path, spectrum_file_name)))\n",
    "    for i, spectrum in enumerate(spectra):\n",
    "        spectrum.set(\"identifier\", f\"neg_{file_id}_{i}\")\n",
    "        spectrum.set(\"ionmode\", \"negative\")\n",
    "    all_spectra += spectra\n",
    "for spectrum_file_name in mzml_pos_files:\n",
    "    file_id = spectrum_file_name[-7:-5]\n",
    "    spectra = list(load_from_mzml(os.path.join(pos_folder_path, spectrum_file_name)))\n",
    "    for i, spectrum in enumerate(spectra):\n",
    "        spectrum.set(\"identifier\", f\"pos_{file_id}_{i}\")\n",
    "        spectrum.set(\"ionmode\", \"positive\")\n",
    "\n",
    "    all_spectra += spectra"
   ],
   "id": "72697a2a44efc81e",
   "outputs": [],
   "execution_count": 29
  },
  {
   "metadata": {
    "ExecuteTime": {
     "end_time": "2025-06-19T13:57:22.711175Z",
     "start_time": "2025-06-19T13:57:22.703655Z"
    }
   },
   "cell_type": "code",
   "source": "len(all_spectra)",
   "id": "a9e6531568b95001",
   "outputs": [
    {
     "data": {
      "text/plain": [
       "6105"
      ]
     },
     "execution_count": 30,
     "metadata": {},
     "output_type": "execute_result"
    }
   ],
   "execution_count": 30
  },
  {
   "metadata": {
    "ExecuteTime": {
     "end_time": "2025-06-19T13:59:45.653716Z",
     "start_time": "2025-06-19T13:59:41.479438Z"
    }
   },
   "cell_type": "code",
   "source": [
    "from matchms.exporting.save_as_mgf import save_as_mgf\n",
    "save_as_mgf(all_spectra, \"blood_case_study_spectra.mgf\")"
   ],
   "id": "b56c062dcceef8e0",
   "outputs": [
    {
     "name": "stdout",
     "output_type": "stream",
     "text": [
      "dict_keys(['spectra'])\n"
     ]
    }
   ],
   "execution_count": 33
  },
  {
   "cell_type": "markdown",
   "id": "fa3c0313-7898-4bbb-9b69-c63b02badfd2",
   "metadata": {},
   "source": [
    "### Load MS2Deepscore model"
   ]
  },
  {
   "cell_type": "code",
   "id": "53a7944c-19e5-450c-a931-5f46ff0459be",
   "metadata": {
    "ExecuteTime": {
     "end_time": "2025-06-19T13:52:52.452290Z",
     "start_time": "2025-06-19T13:52:50.599686Z"
    }
   },
   "source": [
    "from ms2deepscore.models import load_model\n",
    "model_file_name = \"../Urine_case_study/ms2deepscore_model.pt\"\n",
    "\n",
    "model = load_model(model_file_name)"
   ],
   "outputs": [],
   "execution_count": 27
  },
  {
   "cell_type": "markdown",
   "id": "0ca4bd69-e282-4b3c-a2b8-d0f266509349",
   "metadata": {},
   "source": [
    "### Create spectral similarity scores\n",
    "The spectrum file \"./cleaned_spectra_pos_neg_with_numbering.mgf\" was created in pre_processing_spectra"
   ]
  },
  {
   "cell_type": "code",
   "id": "a3afc943-9e07-4649-8e7b-dbae5e4f8656",
   "metadata": {
    "ExecuteTime": {
     "end_time": "2025-06-19T14:02:50.242009Z",
     "start_time": "2025-06-19T13:59:57.835414Z"
    }
   },
   "source": [
    "from matchms.Pipeline import Pipeline, create_workflow\n",
    "from ms2deepscore import MS2DeepScore\n",
    "\n",
    "workflow = create_workflow(\n",
    "    query_filters=[[\"require_minimum_number_of_peaks\", {\"n_required\": 3}]],\n",
    "    score_computations=[\n",
    "        [MS2DeepScore, {\"model\": model}],\n",
    "        ],\n",
    ")\n",
    "pipeline = Pipeline(workflow)\n",
    "pipeline.logging_level = \"ERROR\"  # To define the verbosety of the logging\n",
    "report = pipeline.run(\"blood_case_study_spectra.mgf\")"
   ],
   "outputs": [
    {
     "name": "stderr",
     "output_type": "stream",
     "text": [
      "Processing spectra: 6105it [00:07, 821.40it/s] \n",
      "6100it [02:33, 39.63it/s]\n"
     ]
    }
   ],
   "execution_count": 34
  },
  {
   "cell_type": "markdown",
   "id": "f394489e-cccd-4f09-b140-32c5652b3624",
   "metadata": {},
   "source": [
    "### Create a network\n",
    "The pipeline.scores contain all the scores. To make a molecular network only some of the similarity scores are stored. They are only stored if the score is at least 0.85 and each node (spectrum) is only connected to the top 5 highest similarity scores and only if it is in the tup 5 of that other spectrum as well. \n",
    "\n",
    "This is the common approach for creating molecular networks (exact settings vary) and allows for getting visually pleasing mol networks (preventing giant hairbals)."
   ]
  },
  {
   "cell_type": "code",
   "id": "a2ac340d-ddef-44c2-abbd-8b137f404655",
   "metadata": {
    "ExecuteTime": {
     "end_time": "2025-06-19T14:11:45.767190Z",
     "start_time": "2025-06-19T14:03:26.367377Z"
    }
   },
   "source": [
    "from matchms.networking import SimilarityNetwork\n",
    "\n",
    "# Define settings\n",
    "ms2ds_network = SimilarityNetwork(\n",
    "    identifier_key=\"identifier\",\n",
    "    score_cutoff=0.85,  # higher numbers produce more isolated sub-graphs\n",
    "    max_links=10,  # lower number makes sparser networks\n",
    "    link_method=\"mutual\",  # mutual means: link is only added if in top list of both nodes\n",
    ")\n",
    "\n",
    "# Compute the graph (takes some time)\n",
    "ms2ds_network.create_network(pipeline.scores, score_name=\"MS2DeepScore\")"
   ],
   "outputs": [],
   "execution_count": 36
  },
  {
   "cell_type": "markdown",
   "id": "8a45c7e0-9938-4b77-b341-c9fc48818f9a",
   "metadata": {},
   "source": [
    "### save to graphml"
   ]
  },
  {
   "cell_type": "code",
   "id": "aa9d8500-51b2-47ae-a1a7-fc1567903fb5",
   "metadata": {
    "ExecuteTime": {
     "end_time": "2025-06-19T14:11:46.448627Z",
     "start_time": "2025-06-19T14:11:45.955732Z"
    }
   },
   "source": [
    "# Export to graphml\n",
    "ms2ds_network.export_to_graphml(\"ms2ds_graph_min_0_85_score_10_links.graphml\")\n"
   ],
   "outputs": [],
   "execution_count": 37
  },
  {
   "metadata": {},
   "cell_type": "markdown",
   "source": "# Add annotations",
   "id": "d95a28d4e8ec5436"
  },
  {
   "metadata": {},
   "cell_type": "markdown",
   "source": "Load MS2Query annotations",
   "id": "70c1686043fa738e"
  },
  {
   "metadata": {
    "ExecuteTime": {
     "end_time": "2025-06-19T14:29:34.352173Z",
     "start_time": "2025-06-19T14:29:34.307232Z"
    }
   },
   "cell_type": "code",
   "source": [
    "import pandas as pd\n",
    "\n",
    "neg_annotations = pd.read_csv(\"./mzml/neg/results/combined_ms2query_neg_results.csv\")\n",
    "\n",
    "neg_ids = neg_annotations['query_spectrum_nr'].tolist()\n",
    "neg_identifiers =[]\n",
    "file_id = 0\n",
    "previous_id = 1000\n",
    "for id in neg_ids:\n",
    "    if previous_id > id:\n",
    "        file_id += 1\n",
    "    previous_id = id\n",
    "\n",
    "    if file_id < 10:\n",
    "        spectrum_identifier = f\"neg_0{file_id}_{id-1}\"\n",
    "    else:\n",
    "        spectrum_identifier = f\"neg_{file_id}_{id-1}\"\n",
    "    neg_identifiers.append(spectrum_identifier)\n",
    "neg_annotations.insert(loc=1, column='identifiers', value=neg_identifiers)\n",
    "neg_annotations\n"
   ],
   "id": "2b6359a2bb4c5064",
   "outputs": [
    {
     "data": {
      "text/plain": [
       "      query_spectrum_nr identifiers  ...  npc_superclass_results  npc_pathway_results\n",
       "0                     1    neg_01_0  ...             Saccharides        Carbohydrates\n",
       "1                     2    neg_01_1  ...             Nucleosides        Carbohydrates\n",
       "2                     3    neg_01_2  ...                     NaN        Carbohydrates\n",
       "3                     4    neg_01_3  ...                     NaN          Fatty acids\n",
       "4                     5    neg_01_4  ...             Saccharides        Carbohydrates\n",
       "...                 ...         ...  ...                     ...                  ...\n",
       "2887                286  neg_10_285  ...    Glycerophospholipids          Fatty acids\n",
       "2888                287  neg_10_286  ...      Tyrosine alkaloids            Alkaloids\n",
       "2889                288  neg_10_287  ...                     NaN            Alkaloids\n",
       "2890                289  neg_10_288  ...    Glycerophospholipids          Fatty acids\n",
       "2891                290  neg_10_289  ...           Triterpenoids           Terpenoids\n",
       "\n",
       "[2892 rows x 18 columns]"
      ],
      "text/html": [
       "<div>\n",
       "<style scoped>\n",
       "    .dataframe tbody tr th:only-of-type {\n",
       "        vertical-align: middle;\n",
       "    }\n",
       "\n",
       "    .dataframe tbody tr th {\n",
       "        vertical-align: top;\n",
       "    }\n",
       "\n",
       "    .dataframe thead th {\n",
       "        text-align: right;\n",
       "    }\n",
       "</style>\n",
       "<table border=\"1\" class=\"dataframe\">\n",
       "  <thead>\n",
       "    <tr style=\"text-align: right;\">\n",
       "      <th></th>\n",
       "      <th>query_spectrum_nr</th>\n",
       "      <th>identifiers</th>\n",
       "      <th>...</th>\n",
       "      <th>npc_superclass_results</th>\n",
       "      <th>npc_pathway_results</th>\n",
       "    </tr>\n",
       "  </thead>\n",
       "  <tbody>\n",
       "    <tr>\n",
       "      <th>0</th>\n",
       "      <td>1</td>\n",
       "      <td>neg_01_0</td>\n",
       "      <td>...</td>\n",
       "      <td>Saccharides</td>\n",
       "      <td>Carbohydrates</td>\n",
       "    </tr>\n",
       "    <tr>\n",
       "      <th>1</th>\n",
       "      <td>2</td>\n",
       "      <td>neg_01_1</td>\n",
       "      <td>...</td>\n",
       "      <td>Nucleosides</td>\n",
       "      <td>Carbohydrates</td>\n",
       "    </tr>\n",
       "    <tr>\n",
       "      <th>2</th>\n",
       "      <td>3</td>\n",
       "      <td>neg_01_2</td>\n",
       "      <td>...</td>\n",
       "      <td>NaN</td>\n",
       "      <td>Carbohydrates</td>\n",
       "    </tr>\n",
       "    <tr>\n",
       "      <th>3</th>\n",
       "      <td>4</td>\n",
       "      <td>neg_01_3</td>\n",
       "      <td>...</td>\n",
       "      <td>NaN</td>\n",
       "      <td>Fatty acids</td>\n",
       "    </tr>\n",
       "    <tr>\n",
       "      <th>4</th>\n",
       "      <td>5</td>\n",
       "      <td>neg_01_4</td>\n",
       "      <td>...</td>\n",
       "      <td>Saccharides</td>\n",
       "      <td>Carbohydrates</td>\n",
       "    </tr>\n",
       "    <tr>\n",
       "      <th>...</th>\n",
       "      <td>...</td>\n",
       "      <td>...</td>\n",
       "      <td>...</td>\n",
       "      <td>...</td>\n",
       "      <td>...</td>\n",
       "    </tr>\n",
       "    <tr>\n",
       "      <th>2887</th>\n",
       "      <td>286</td>\n",
       "      <td>neg_10_285</td>\n",
       "      <td>...</td>\n",
       "      <td>Glycerophospholipids</td>\n",
       "      <td>Fatty acids</td>\n",
       "    </tr>\n",
       "    <tr>\n",
       "      <th>2888</th>\n",
       "      <td>287</td>\n",
       "      <td>neg_10_286</td>\n",
       "      <td>...</td>\n",
       "      <td>Tyrosine alkaloids</td>\n",
       "      <td>Alkaloids</td>\n",
       "    </tr>\n",
       "    <tr>\n",
       "      <th>2889</th>\n",
       "      <td>288</td>\n",
       "      <td>neg_10_287</td>\n",
       "      <td>...</td>\n",
       "      <td>NaN</td>\n",
       "      <td>Alkaloids</td>\n",
       "    </tr>\n",
       "    <tr>\n",
       "      <th>2890</th>\n",
       "      <td>289</td>\n",
       "      <td>neg_10_288</td>\n",
       "      <td>...</td>\n",
       "      <td>Glycerophospholipids</td>\n",
       "      <td>Fatty acids</td>\n",
       "    </tr>\n",
       "    <tr>\n",
       "      <th>2891</th>\n",
       "      <td>290</td>\n",
       "      <td>neg_10_289</td>\n",
       "      <td>...</td>\n",
       "      <td>Triterpenoids</td>\n",
       "      <td>Terpenoids</td>\n",
       "    </tr>\n",
       "  </tbody>\n",
       "</table>\n",
       "<p>2892 rows × 18 columns</p>\n",
       "</div>"
      ]
     },
     "execution_count": 66,
     "metadata": {},
     "output_type": "execute_result"
    }
   ],
   "execution_count": 66
  },
  {
   "metadata": {
    "ExecuteTime": {
     "end_time": "2025-06-19T14:30:01.458280Z",
     "start_time": "2025-06-19T14:30:01.413886Z"
    }
   },
   "cell_type": "code",
   "source": [
    "import pandas as pd\n",
    "\n",
    "pos_annotations = pd.read_csv(\"./mzml/pos/results/combined_ms2query_pos_results.csv\")\n",
    "\n",
    "pos_ids = pos_annotations['query_spectrum_nr'].tolist()\n",
    "pos_identifiers =[]\n",
    "file_id = 0\n",
    "previous_id = 1000\n",
    "for id in pos_ids:\n",
    "    if previous_id > id:\n",
    "        file_id += 1\n",
    "    previous_id = id\n",
    "    if file_id < 10:\n",
    "        spectrum_identifier = f\"pos_0{file_id}_{id-1}\"\n",
    "    else:\n",
    "        spectrum_identifier = f\"pos_{file_id}_{id-1}\"\n",
    "    pos_identifiers.append(spectrum_identifier)\n",
    "pos_annotations.insert(loc=1, column='identifiers', value=pos_identifiers)\n",
    "pos_annotations"
   ],
   "id": "f295aa8a8ebdeefb",
   "outputs": [
    {
     "data": {
      "text/plain": [
       "      query_spectrum_nr identifiers  ...    npc_superclass_results                    npc_pathway_results\n",
       "0                     1    pos_01_0  ...                       NaN                          Carbohydrates\n",
       "1                     2    pos_01_1  ...               Saccharides                          Carbohydrates\n",
       "2                     3    pos_01_2  ...  Nicotinic acid alkaloids                              Alkaloids\n",
       "3                     4    pos_01_3  ...                Polyethers                            Polyketides\n",
       "4                     5    pos_01_4  ...                 Coumarins        Shikimates and Phenylpropanoids\n",
       "...                 ...         ...  ...                       ...                                    ...\n",
       "3200                305  pos_10_304  ...          Lysine alkaloids                              Alkaloids\n",
       "3201                306  pos_10_305  ...             Oligopeptides  Amino acids and Peptides; Polyketides\n",
       "3202                307  pos_10_306  ...                  Steroids                             Terpenoids\n",
       "3203                308  pos_10_307  ...             Octadecanoids                            Fatty acids\n",
       "3204                309  pos_10_308  ...                       NaN                                    NaN\n",
       "\n",
       "[3205 rows x 18 columns]"
      ],
      "text/html": [
       "<div>\n",
       "<style scoped>\n",
       "    .dataframe tbody tr th:only-of-type {\n",
       "        vertical-align: middle;\n",
       "    }\n",
       "\n",
       "    .dataframe tbody tr th {\n",
       "        vertical-align: top;\n",
       "    }\n",
       "\n",
       "    .dataframe thead th {\n",
       "        text-align: right;\n",
       "    }\n",
       "</style>\n",
       "<table border=\"1\" class=\"dataframe\">\n",
       "  <thead>\n",
       "    <tr style=\"text-align: right;\">\n",
       "      <th></th>\n",
       "      <th>query_spectrum_nr</th>\n",
       "      <th>identifiers</th>\n",
       "      <th>...</th>\n",
       "      <th>npc_superclass_results</th>\n",
       "      <th>npc_pathway_results</th>\n",
       "    </tr>\n",
       "  </thead>\n",
       "  <tbody>\n",
       "    <tr>\n",
       "      <th>0</th>\n",
       "      <td>1</td>\n",
       "      <td>pos_01_0</td>\n",
       "      <td>...</td>\n",
       "      <td>NaN</td>\n",
       "      <td>Carbohydrates</td>\n",
       "    </tr>\n",
       "    <tr>\n",
       "      <th>1</th>\n",
       "      <td>2</td>\n",
       "      <td>pos_01_1</td>\n",
       "      <td>...</td>\n",
       "      <td>Saccharides</td>\n",
       "      <td>Carbohydrates</td>\n",
       "    </tr>\n",
       "    <tr>\n",
       "      <th>2</th>\n",
       "      <td>3</td>\n",
       "      <td>pos_01_2</td>\n",
       "      <td>...</td>\n",
       "      <td>Nicotinic acid alkaloids</td>\n",
       "      <td>Alkaloids</td>\n",
       "    </tr>\n",
       "    <tr>\n",
       "      <th>3</th>\n",
       "      <td>4</td>\n",
       "      <td>pos_01_3</td>\n",
       "      <td>...</td>\n",
       "      <td>Polyethers</td>\n",
       "      <td>Polyketides</td>\n",
       "    </tr>\n",
       "    <tr>\n",
       "      <th>4</th>\n",
       "      <td>5</td>\n",
       "      <td>pos_01_4</td>\n",
       "      <td>...</td>\n",
       "      <td>Coumarins</td>\n",
       "      <td>Shikimates and Phenylpropanoids</td>\n",
       "    </tr>\n",
       "    <tr>\n",
       "      <th>...</th>\n",
       "      <td>...</td>\n",
       "      <td>...</td>\n",
       "      <td>...</td>\n",
       "      <td>...</td>\n",
       "      <td>...</td>\n",
       "    </tr>\n",
       "    <tr>\n",
       "      <th>3200</th>\n",
       "      <td>305</td>\n",
       "      <td>pos_10_304</td>\n",
       "      <td>...</td>\n",
       "      <td>Lysine alkaloids</td>\n",
       "      <td>Alkaloids</td>\n",
       "    </tr>\n",
       "    <tr>\n",
       "      <th>3201</th>\n",
       "      <td>306</td>\n",
       "      <td>pos_10_305</td>\n",
       "      <td>...</td>\n",
       "      <td>Oligopeptides</td>\n",
       "      <td>Amino acids and Peptides; Polyketides</td>\n",
       "    </tr>\n",
       "    <tr>\n",
       "      <th>3202</th>\n",
       "      <td>307</td>\n",
       "      <td>pos_10_306</td>\n",
       "      <td>...</td>\n",
       "      <td>Steroids</td>\n",
       "      <td>Terpenoids</td>\n",
       "    </tr>\n",
       "    <tr>\n",
       "      <th>3203</th>\n",
       "      <td>308</td>\n",
       "      <td>pos_10_307</td>\n",
       "      <td>...</td>\n",
       "      <td>Octadecanoids</td>\n",
       "      <td>Fatty acids</td>\n",
       "    </tr>\n",
       "    <tr>\n",
       "      <th>3204</th>\n",
       "      <td>309</td>\n",
       "      <td>pos_10_308</td>\n",
       "      <td>...</td>\n",
       "      <td>NaN</td>\n",
       "      <td>NaN</td>\n",
       "    </tr>\n",
       "  </tbody>\n",
       "</table>\n",
       "<p>3205 rows × 18 columns</p>\n",
       "</div>"
      ]
     },
     "execution_count": 67,
     "metadata": {},
     "output_type": "execute_result"
    }
   ],
   "execution_count": 67
  },
  {
   "metadata": {
    "ExecuteTime": {
     "end_time": "2025-06-19T14:39:51.882203Z",
     "start_time": "2025-06-19T14:38:44.785064Z"
    }
   },
   "cell_type": "code",
   "source": [
    "# double check that the ids match\n",
    "for row in tqdm(pos_annotations.itertuples()):\n",
    "    identifier = row.identifiers\n",
    "    precursor_mz = row.precursor_mz_query_spectrum\n",
    "    for spectrum in all_spectra:\n",
    "        if spectrum.get('identifier') == identifier:\n",
    "            assert round(float(spectrum.get(\"precursor_mz\")), ndigits=1) == round(precursor_mz, 1), \"not matching precursor_mz\"\n"
   ],
   "id": "e3e9855ce94ca066",
   "outputs": [
    {
     "name": "stderr",
     "output_type": "stream",
     "text": [
      "406it [01:06,  6.06it/s]\n"
     ]
    },
    {
     "ename": "KeyboardInterrupt",
     "evalue": "",
     "output_type": "error",
     "traceback": [
      "\u001B[1;31m---------------------------------------------------------------------------\u001B[0m",
      "\u001B[1;31mKeyboardInterrupt\u001B[0m                         Traceback (most recent call last)",
      "Cell \u001B[1;32mIn[74], line 6\u001B[0m\n\u001B[0;32m      4\u001B[0m precursor_mz \u001B[38;5;241m=\u001B[39m row\u001B[38;5;241m.\u001B[39mprecursor_mz_query_spectrum\n\u001B[0;32m      5\u001B[0m \u001B[38;5;28;01mfor\u001B[39;00m spectrum \u001B[38;5;129;01min\u001B[39;00m all_spectra:\n\u001B[1;32m----> 6\u001B[0m     \u001B[38;5;28;01mif\u001B[39;00m \u001B[43mspectrum\u001B[49m\u001B[38;5;241;43m.\u001B[39;49m\u001B[43mget\u001B[49m\u001B[43m(\u001B[49m\u001B[38;5;124;43m'\u001B[39;49m\u001B[38;5;124;43midentifier\u001B[39;49m\u001B[38;5;124;43m'\u001B[39;49m\u001B[43m)\u001B[49m \u001B[38;5;241m==\u001B[39m identifier:\n\u001B[0;32m      7\u001B[0m         \u001B[38;5;28;01massert\u001B[39;00m \u001B[38;5;28mround\u001B[39m(\u001B[38;5;28mfloat\u001B[39m(spectrum\u001B[38;5;241m.\u001B[39mget(\u001B[38;5;124m\"\u001B[39m\u001B[38;5;124mprecursor_mz\u001B[39m\u001B[38;5;124m\"\u001B[39m)), ndigits\u001B[38;5;241m=\u001B[39m\u001B[38;5;241m1\u001B[39m) \u001B[38;5;241m==\u001B[39m \u001B[38;5;28mround\u001B[39m(precursor_mz, \u001B[38;5;241m1\u001B[39m), \u001B[38;5;124m\"\u001B[39m\u001B[38;5;124mnot matching precursor_mz\u001B[39m\u001B[38;5;124m\"\u001B[39m\n",
      "File \u001B[1;32m~\\AppData\\Local\\miniconda3\\envs\\pytorch\\lib\\site-packages\\matchms\\Spectrum.py:176\u001B[0m, in \u001B[0;36mSpectrum.get\u001B[1;34m(self, key, default)\u001B[0m\n\u001B[0;32m    168\u001B[0m \u001B[38;5;28;01mdef\u001B[39;00m \u001B[38;5;21mget\u001B[39m(\u001B[38;5;28mself\u001B[39m, key: \u001B[38;5;28mstr\u001B[39m, default\u001B[38;5;241m=\u001B[39m\u001B[38;5;28;01mNone\u001B[39;00m):\n\u001B[0;32m    169\u001B[0m \u001B[38;5;250m    \u001B[39m\u001B[38;5;124;03m\"\"\"Retrieve value from :attr:`metadata` dict. Shorthand for\u001B[39;00m\n\u001B[0;32m    170\u001B[0m \n\u001B[0;32m    171\u001B[0m \u001B[38;5;124;03m    .. code-block:: python\u001B[39;00m\n\u001B[1;32m   (...)\u001B[0m\n\u001B[0;32m    174\u001B[0m \n\u001B[0;32m    175\u001B[0m \u001B[38;5;124;03m    \"\"\"\u001B[39;00m\n\u001B[1;32m--> 176\u001B[0m     \u001B[38;5;28;01mreturn\u001B[39;00m \u001B[38;5;28;43mself\u001B[39;49m\u001B[38;5;241;43m.\u001B[39;49m\u001B[43m_metadata\u001B[49m\u001B[38;5;241;43m.\u001B[39;49m\u001B[43mget\u001B[49m\u001B[43m(\u001B[49m\u001B[43mkey\u001B[49m\u001B[43m,\u001B[49m\u001B[43m \u001B[49m\u001B[43mdefault\u001B[49m\u001B[43m)\u001B[49m\n",
      "File \u001B[1;32m~\\AppData\\Local\\miniconda3\\envs\\pytorch\\lib\\site-packages\\matchms\\Metadata.py:134\u001B[0m, in \u001B[0;36mMetadata.get\u001B[1;34m(self, key, default)\u001B[0m\n\u001B[0;32m    131\u001B[0m \u001B[38;5;28;01mdef\u001B[39;00m \u001B[38;5;21mget\u001B[39m(\u001B[38;5;28mself\u001B[39m, key: \u001B[38;5;28mstr\u001B[39m, default\u001B[38;5;241m=\u001B[39m\u001B[38;5;28;01mNone\u001B[39;00m):\n\u001B[0;32m    132\u001B[0m \u001B[38;5;250m    \u001B[39m\u001B[38;5;124;03m\"\"\"Retrieve value from :attr:`metadata` dict.\u001B[39;00m\n\u001B[0;32m    133\u001B[0m \u001B[38;5;124;03m    \"\"\"\u001B[39;00m\n\u001B[1;32m--> 134\u001B[0m     \u001B[38;5;28;01mreturn\u001B[39;00m \u001B[38;5;28;43mself\u001B[39;49m\u001B[38;5;241;43m.\u001B[39;49m\u001B[43m_data\u001B[49m\u001B[38;5;241;43m.\u001B[39;49m\u001B[43mcopy\u001B[49m\u001B[43m(\u001B[49m\u001B[43m)\u001B[49m\u001B[38;5;241m.\u001B[39mget(key, default)\n",
      "File \u001B[1;32m~\\AppData\\Local\\miniconda3\\envs\\pytorch\\lib\\site-packages\\pickydict\\PickyDict.py:111\u001B[0m, in \u001B[0;36mPickyDict.copy\u001B[1;34m(self)\u001B[0m\n\u001B[0;32m    110\u001B[0m \u001B[38;5;28;01mdef\u001B[39;00m \u001B[38;5;21mcopy\u001B[39m(\u001B[38;5;28mself\u001B[39m):\n\u001B[1;32m--> 111\u001B[0m     \u001B[38;5;28;01mreturn\u001B[39;00m \u001B[43mPickyDict\u001B[49m\u001B[43m(\u001B[49m\u001B[38;5;28;43mself\u001B[39;49m\u001B[43m,\u001B[49m\n\u001B[0;32m    112\u001B[0m \u001B[43m                     \u001B[49m\u001B[38;5;28;43mself\u001B[39;49m\u001B[38;5;241;43m.\u001B[39;49m\u001B[43m_key_replacements\u001B[49m\u001B[43m,\u001B[49m\n\u001B[0;32m    113\u001B[0m \u001B[43m                     \u001B[49m\u001B[38;5;28;43mself\u001B[39;49m\u001B[38;5;241;43m.\u001B[39;49m\u001B[43m_key_regex_replacements\u001B[49m\u001B[43m,\u001B[49m\n\u001B[0;32m    114\u001B[0m \u001B[43m                     \u001B[49m\u001B[38;5;28;43mself\u001B[39;49m\u001B[38;5;241;43m.\u001B[39;49m\u001B[43m_force_lower_case\u001B[49m\u001B[43m)\u001B[49m\n",
      "File \u001B[1;32m~\\AppData\\Local\\miniconda3\\envs\\pytorch\\lib\\site-packages\\pickydict\\PickyDict.py:106\u001B[0m, in \u001B[0;36mPickyDict.__init__\u001B[1;34m(self, input_dict, key_replacements, key_regex_replacements, force_lower_case)\u001B[0m\n\u001B[0;32m    104\u001B[0m \u001B[38;5;28;01mif\u001B[39;00m input_dict \u001B[38;5;129;01mis\u001B[39;00m \u001B[38;5;129;01mnot\u001B[39;00m \u001B[38;5;28;01mNone\u001B[39;00m:\n\u001B[0;32m    105\u001B[0m     \u001B[38;5;28msuper\u001B[39m()\u001B[38;5;241m.\u001B[39m\u001B[38;5;21m__init__\u001B[39m(input_dict)\n\u001B[1;32m--> 106\u001B[0m     \u001B[38;5;28;43mself\u001B[39;49m\u001B[38;5;241;43m.\u001B[39;49m\u001B[43m_apply_replacements\u001B[49m\u001B[43m(\u001B[49m\u001B[43m)\u001B[49m\n\u001B[0;32m    107\u001B[0m \u001B[38;5;28;01melse\u001B[39;00m:\n\u001B[0;32m    108\u001B[0m     \u001B[38;5;28msuper\u001B[39m()\u001B[38;5;241m.\u001B[39m\u001B[38;5;21m__init__\u001B[39m()\n",
      "File \u001B[1;32m~\\AppData\\Local\\miniconda3\\envs\\pytorch\\lib\\site-packages\\pickydict\\PickyDict.py:167\u001B[0m, in \u001B[0;36mPickyDict._apply_replacements\u001B[1;34m(self)\u001B[0m\n\u001B[0;32m    165\u001B[0m keys_initial \u001B[38;5;241m=\u001B[39m \u001B[38;5;28mself\u001B[39m\u001B[38;5;241m.\u001B[39mkeys()\n\u001B[0;32m    166\u001B[0m \u001B[38;5;28;01mfor\u001B[39;00m key \u001B[38;5;129;01min\u001B[39;00m \u001B[38;5;28mlist\u001B[39m(keys_initial)\u001B[38;5;241m.\u001B[39mcopy():\n\u001B[1;32m--> 167\u001B[0m     proper_key \u001B[38;5;241m=\u001B[39m \u001B[38;5;28;43mself\u001B[39;49m\u001B[38;5;241;43m.\u001B[39;49m\u001B[43m_harmonize_key\u001B[49m\u001B[43m(\u001B[49m\u001B[43mkey\u001B[49m\u001B[43m)\u001B[49m\n\u001B[0;32m    168\u001B[0m     \u001B[38;5;28;01mif\u001B[39;00m key \u001B[38;5;241m!=\u001B[39m proper_key:\n\u001B[0;32m    169\u001B[0m         value \u001B[38;5;241m=\u001B[39m \u001B[38;5;28mself\u001B[39m\u001B[38;5;241m.\u001B[39mget(key)\n",
      "File \u001B[1;32m~\\AppData\\Local\\miniconda3\\envs\\pytorch\\lib\\site-packages\\pickydict\\PickyDict.py:158\u001B[0m, in \u001B[0;36mPickyDict._harmonize_key\u001B[1;34m(self, key)\u001B[0m\n\u001B[0;32m    156\u001B[0m \u001B[38;5;28;01mif\u001B[39;00m \u001B[38;5;28mself\u001B[39m\u001B[38;5;241m.\u001B[39m_key_regex_replacements \u001B[38;5;129;01mis\u001B[39;00m \u001B[38;5;129;01mnot\u001B[39;00m \u001B[38;5;28;01mNone\u001B[39;00m:\n\u001B[0;32m    157\u001B[0m     \u001B[38;5;28;01mfor\u001B[39;00m regex_pattern, target \u001B[38;5;129;01min\u001B[39;00m \u001B[38;5;28mself\u001B[39m\u001B[38;5;241m.\u001B[39m_key_regex_replacements\u001B[38;5;241m.\u001B[39mitems():\n\u001B[1;32m--> 158\u001B[0m         key \u001B[38;5;241m=\u001B[39m \u001B[43mre\u001B[49m\u001B[38;5;241;43m.\u001B[39;49m\u001B[43msub\u001B[49m\u001B[43m(\u001B[49m\u001B[43mregex_pattern\u001B[49m\u001B[43m,\u001B[49m\u001B[43m \u001B[49m\u001B[43mtarget\u001B[49m\u001B[43m,\u001B[49m\u001B[43m \u001B[49m\u001B[43mkey\u001B[49m\u001B[43m)\u001B[49m\n\u001B[0;32m    159\u001B[0m \u001B[38;5;28;01mif\u001B[39;00m \u001B[38;5;28mself\u001B[39m\u001B[38;5;241m.\u001B[39m_key_replacements \u001B[38;5;129;01mis\u001B[39;00m \u001B[38;5;129;01mnot\u001B[39;00m \u001B[38;5;28;01mNone\u001B[39;00m \u001B[38;5;129;01mand\u001B[39;00m key \u001B[38;5;129;01min\u001B[39;00m \u001B[38;5;28mself\u001B[39m\u001B[38;5;241m.\u001B[39m_key_replacements:\n\u001B[0;32m    160\u001B[0m     key \u001B[38;5;241m=\u001B[39m \u001B[38;5;28mself\u001B[39m\u001B[38;5;241m.\u001B[39m_key_replacements[key]\n",
      "File \u001B[1;32m~\\AppData\\Local\\miniconda3\\envs\\pytorch\\lib\\re.py:210\u001B[0m, in \u001B[0;36msub\u001B[1;34m(pattern, repl, string, count, flags)\u001B[0m\n\u001B[0;32m    203\u001B[0m \u001B[38;5;28;01mdef\u001B[39;00m \u001B[38;5;21msub\u001B[39m(pattern, repl, string, count\u001B[38;5;241m=\u001B[39m\u001B[38;5;241m0\u001B[39m, flags\u001B[38;5;241m=\u001B[39m\u001B[38;5;241m0\u001B[39m):\n\u001B[0;32m    204\u001B[0m \u001B[38;5;250m    \u001B[39m\u001B[38;5;124;03m\"\"\"Return the string obtained by replacing the leftmost\u001B[39;00m\n\u001B[0;32m    205\u001B[0m \u001B[38;5;124;03m    non-overlapping occurrences of the pattern in string by the\u001B[39;00m\n\u001B[0;32m    206\u001B[0m \u001B[38;5;124;03m    replacement repl.  repl can be either a string or a callable;\u001B[39;00m\n\u001B[0;32m    207\u001B[0m \u001B[38;5;124;03m    if a string, backslash escapes in it are processed.  If it is\u001B[39;00m\n\u001B[0;32m    208\u001B[0m \u001B[38;5;124;03m    a callable, it's passed the Match object and must return\u001B[39;00m\n\u001B[0;32m    209\u001B[0m \u001B[38;5;124;03m    a replacement string to be used.\"\"\"\u001B[39;00m\n\u001B[1;32m--> 210\u001B[0m     \u001B[38;5;28;01mreturn\u001B[39;00m \u001B[43m_compile\u001B[49m\u001B[43m(\u001B[49m\u001B[43mpattern\u001B[49m\u001B[43m,\u001B[49m\u001B[43m \u001B[49m\u001B[43mflags\u001B[49m\u001B[43m)\u001B[49m\u001B[38;5;241m.\u001B[39msub(repl, string, count)\n",
      "File \u001B[1;32m~\\AppData\\Local\\miniconda3\\envs\\pytorch\\lib\\re.py:294\u001B[0m, in \u001B[0;36m_compile\u001B[1;34m(pattern, flags)\u001B[0m\n\u001B[0;32m    292\u001B[0m     flags \u001B[38;5;241m=\u001B[39m flags\u001B[38;5;241m.\u001B[39mvalue\n\u001B[0;32m    293\u001B[0m \u001B[38;5;28;01mtry\u001B[39;00m:\n\u001B[1;32m--> 294\u001B[0m     \u001B[38;5;28;01mreturn\u001B[39;00m _cache[\u001B[38;5;28;43mtype\u001B[39;49m\u001B[43m(\u001B[49m\u001B[43mpattern\u001B[49m\u001B[43m)\u001B[49m, pattern, flags]\n\u001B[0;32m    295\u001B[0m \u001B[38;5;28;01mexcept\u001B[39;00m \u001B[38;5;167;01mKeyError\u001B[39;00m:\n\u001B[0;32m    296\u001B[0m     \u001B[38;5;28;01mpass\u001B[39;00m\n",
      "\u001B[1;31mKeyboardInterrupt\u001B[0m: "
     ]
    }
   ],
   "execution_count": 74
  },
  {
   "metadata": {
    "ExecuteTime": {
     "end_time": "2025-06-19T14:42:48.072655Z",
     "start_time": "2025-06-19T14:42:48.053226Z"
    }
   },
   "cell_type": "code",
   "source": "combined_ms2query_annotations = pd.concat([pos_annotations, neg_annotations])",
   "id": "14fe9858ee6dbea0",
   "outputs": [],
   "execution_count": 77
  },
  {
   "metadata": {
    "ExecuteTime": {
     "end_time": "2025-06-19T14:42:48.915619Z",
     "start_time": "2025-06-19T14:42:48.882435Z"
    }
   },
   "cell_type": "code",
   "source": "combined_ms2query_annotations",
   "id": "c600bc7971eef7a4",
   "outputs": [
    {
     "data": {
      "text/plain": [
       "      query_spectrum_nr identifiers  ...    npc_superclass_results              npc_pathway_results\n",
       "0                     1    pos_01_0  ...                       NaN                    Carbohydrates\n",
       "1                     2    pos_01_1  ...               Saccharides                    Carbohydrates\n",
       "2                     3    pos_01_2  ...  Nicotinic acid alkaloids                        Alkaloids\n",
       "3                     4    pos_01_3  ...                Polyethers                      Polyketides\n",
       "4                     5    pos_01_4  ...                 Coumarins  Shikimates and Phenylpropanoids\n",
       "...                 ...         ...  ...                       ...                              ...\n",
       "2887                286  neg_10_285  ...      Glycerophospholipids                      Fatty acids\n",
       "2888                287  neg_10_286  ...        Tyrosine alkaloids                        Alkaloids\n",
       "2889                288  neg_10_287  ...                       NaN                        Alkaloids\n",
       "2890                289  neg_10_288  ...      Glycerophospholipids                      Fatty acids\n",
       "2891                290  neg_10_289  ...             Triterpenoids                       Terpenoids\n",
       "\n",
       "[6097 rows x 18 columns]"
      ],
      "text/html": [
       "<div>\n",
       "<style scoped>\n",
       "    .dataframe tbody tr th:only-of-type {\n",
       "        vertical-align: middle;\n",
       "    }\n",
       "\n",
       "    .dataframe tbody tr th {\n",
       "        vertical-align: top;\n",
       "    }\n",
       "\n",
       "    .dataframe thead th {\n",
       "        text-align: right;\n",
       "    }\n",
       "</style>\n",
       "<table border=\"1\" class=\"dataframe\">\n",
       "  <thead>\n",
       "    <tr style=\"text-align: right;\">\n",
       "      <th></th>\n",
       "      <th>query_spectrum_nr</th>\n",
       "      <th>identifiers</th>\n",
       "      <th>...</th>\n",
       "      <th>npc_superclass_results</th>\n",
       "      <th>npc_pathway_results</th>\n",
       "    </tr>\n",
       "  </thead>\n",
       "  <tbody>\n",
       "    <tr>\n",
       "      <th>0</th>\n",
       "      <td>1</td>\n",
       "      <td>pos_01_0</td>\n",
       "      <td>...</td>\n",
       "      <td>NaN</td>\n",
       "      <td>Carbohydrates</td>\n",
       "    </tr>\n",
       "    <tr>\n",
       "      <th>1</th>\n",
       "      <td>2</td>\n",
       "      <td>pos_01_1</td>\n",
       "      <td>...</td>\n",
       "      <td>Saccharides</td>\n",
       "      <td>Carbohydrates</td>\n",
       "    </tr>\n",
       "    <tr>\n",
       "      <th>2</th>\n",
       "      <td>3</td>\n",
       "      <td>pos_01_2</td>\n",
       "      <td>...</td>\n",
       "      <td>Nicotinic acid alkaloids</td>\n",
       "      <td>Alkaloids</td>\n",
       "    </tr>\n",
       "    <tr>\n",
       "      <th>3</th>\n",
       "      <td>4</td>\n",
       "      <td>pos_01_3</td>\n",
       "      <td>...</td>\n",
       "      <td>Polyethers</td>\n",
       "      <td>Polyketides</td>\n",
       "    </tr>\n",
       "    <tr>\n",
       "      <th>4</th>\n",
       "      <td>5</td>\n",
       "      <td>pos_01_4</td>\n",
       "      <td>...</td>\n",
       "      <td>Coumarins</td>\n",
       "      <td>Shikimates and Phenylpropanoids</td>\n",
       "    </tr>\n",
       "    <tr>\n",
       "      <th>...</th>\n",
       "      <td>...</td>\n",
       "      <td>...</td>\n",
       "      <td>...</td>\n",
       "      <td>...</td>\n",
       "      <td>...</td>\n",
       "    </tr>\n",
       "    <tr>\n",
       "      <th>2887</th>\n",
       "      <td>286</td>\n",
       "      <td>neg_10_285</td>\n",
       "      <td>...</td>\n",
       "      <td>Glycerophospholipids</td>\n",
       "      <td>Fatty acids</td>\n",
       "    </tr>\n",
       "    <tr>\n",
       "      <th>2888</th>\n",
       "      <td>287</td>\n",
       "      <td>neg_10_286</td>\n",
       "      <td>...</td>\n",
       "      <td>Tyrosine alkaloids</td>\n",
       "      <td>Alkaloids</td>\n",
       "    </tr>\n",
       "    <tr>\n",
       "      <th>2889</th>\n",
       "      <td>288</td>\n",
       "      <td>neg_10_287</td>\n",
       "      <td>...</td>\n",
       "      <td>NaN</td>\n",
       "      <td>Alkaloids</td>\n",
       "    </tr>\n",
       "    <tr>\n",
       "      <th>2890</th>\n",
       "      <td>289</td>\n",
       "      <td>neg_10_288</td>\n",
       "      <td>...</td>\n",
       "      <td>Glycerophospholipids</td>\n",
       "      <td>Fatty acids</td>\n",
       "    </tr>\n",
       "    <tr>\n",
       "      <th>2891</th>\n",
       "      <td>290</td>\n",
       "      <td>neg_10_289</td>\n",
       "      <td>...</td>\n",
       "      <td>Triterpenoids</td>\n",
       "      <td>Terpenoids</td>\n",
       "    </tr>\n",
       "  </tbody>\n",
       "</table>\n",
       "<p>6097 rows × 18 columns</p>\n",
       "</div>"
      ]
     },
     "execution_count": 78,
     "metadata": {},
     "output_type": "execute_result"
    }
   ],
   "execution_count": 78
  },
  {
   "metadata": {
    "ExecuteTime": {
     "end_time": "2025-06-19T14:43:11.126260Z",
     "start_time": "2025-06-19T14:43:11.047909Z"
    }
   },
   "cell_type": "code",
   "source": "combined_ms2query_annotations.to_csv(\"combined_ms2query_annotations.csv\")",
   "id": "9eb3301c129ddb2c",
   "outputs": [],
   "execution_count": 79
  },
  {
   "metadata": {},
   "cell_type": "markdown",
   "source": "### Load into cytoscape",
   "id": "d6d73c95-6064-42d9-8087-dcbb449a1ccf"
  },
  {
   "metadata": {},
   "cell_type": "markdown",
   "source": "The graphml file can be loaded into cytoscape: https://cytoscape.org/ This is an open source platform for visualizing graphs.\n",
   "id": "dba908f6-a98b-4f71-aaf4-a4feea409ebf"
  },
  {
   "metadata": {},
   "cell_type": "markdown",
   "source": [
    "To recreate the case study results:\n",
    "- Open cytoscape\n",
    "- Load in the above created graphml file.\n",
    "- Set style settings (or load in a style file)\n",
    "- Set up chemviz to visualize chemical information.\n",
    "- Explore your data!"
   ],
   "id": "be464374-a845-411c-8770-b302d01758f9"
  }
 ],
 "metadata": {
  "kernelspec": {
   "display_name": "Python 3 (ipykernel)",
   "language": "python",
   "name": "python3"
  },
  "language_info": {
   "codemirror_mode": {
    "name": "ipython",
    "version": 3
   },
   "file_extension": ".py",
   "mimetype": "text/x-python",
   "name": "python",
   "nbconvert_exporter": "python",
   "pygments_lexer": "ipython3",
   "version": "3.11.9"
  }
 },
 "nbformat": 4,
 "nbformat_minor": 5
}
