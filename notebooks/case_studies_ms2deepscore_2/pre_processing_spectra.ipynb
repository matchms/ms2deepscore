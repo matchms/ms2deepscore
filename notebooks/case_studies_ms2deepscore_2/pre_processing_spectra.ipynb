{
 "cells": [
  {
   "cell_type": "markdown",
   "id": "2f045a9c-d632-4c13-a87a-21c00b281be1",
   "metadata": {},
   "source": [
    "# Pre processing of case study spectra\n",
    "The case studies spectra are first preprocessed using MSDIAL (not included in this notebook). Followed by the processing in this notebook. "
   ]
  },
  {
   "cell_type": "markdown",
   "id": "46aaf415-8255-4a96-8837-9fa51adfae7f",
   "metadata": {},
   "source": [
    "### Merge fractions\n",
    "Multiple fractions are used, which are stored in separate files. To make processing easier the files are combined and the fraction is added as metadata. "
   ]
  },
  {
   "cell_type": "code",
   "execution_count": 2,
   "id": "6185e51d-729b-4c38-a512-7de5eb29abd7",
   "metadata": {},
   "outputs": [],
   "source": [
    "import os\n",
    "from matchms.importing import load_from_mgf\n",
    "import re\n",
    "\n",
    "\n",
    "all_spectra = []\n",
    "# Define the path to the folder\n",
    "for dir_name in (\"./mgf_RNEG_RP_each5\", \"./mgf_RPOS_RP_each5\"):\n",
    "    for file_name in os.listdir(dir_name):\n",
    "        file_path = os.path.join(dir_name, file_name)\n",
    "    \n",
    "        if os.path.isfile(file_path):\n",
    "            fraction_nr_match = re.search(r'Fraction(\\d+)', file_name)\n",
    "            if fraction_nr_match:\n",
    "                fraction_number = fraction_nr_match.group(1)\n",
    "                fraction_number = int(fraction_number)\n",
    "            spectra = list(load_from_mgf(file_path))\n",
    "            \n",
    "            for spectrum in spectra:\n",
    "                spectrum.set(\"fraction\", fraction_number)\n",
    "                all_spectra.append(spectrum)\n"
   ]
  },
  {
   "cell_type": "code",
   "execution_count": null,
   "id": "ed0713b3-20da-4dd0-96cd-6d32025683aa",
   "metadata": {},
   "outputs": [],
   "source": [
    "from matchms.exporting import save_as_mgf\n",
    "save_as_mgf(all_spectra, \"./combined_spectra.mgf\")"
   ]
  },
  {
   "cell_type": "markdown",
   "id": "b997637b-ef0f-47ae-9a90-2a793bb8d8a5",
   "metadata": {},
   "source": [
    "### Clean using matchms\n",
    "The spectra are cleaned and harmonized using matchms"
   ]
  },
  {
   "cell_type": "code",
   "execution_count": 3,
   "id": "1d68ca1b-be1e-4240-aad2-4c8fb9bd9a1e",
   "metadata": {},
   "outputs": [
    {
     "name": "stdout",
     "output_type": "stream",
     "text": [
      "2024-08-20 15:25:56,034:WARNING:matchms:Pipeline:The order of the filters has been changed compared to the Yaml file.\n",
      "2024-08-20 15:25:56,036:WARNING:matchms:Pipeline:The order of the filters has been changed compared to the Yaml file.\n",
      "2024-08-20 15:25:56,036:WARNING:matchms:Pipeline:No logging file was defined.Logging messages will not be written to file.\n"
     ]
    },
    {
     "name": "stderr",
     "output_type": "stream",
     "text": [
      "Processing spectrums: 40265it [09:38, 69.57it/s]\n"
     ]
    }
   ],
   "source": [
    "import os\n",
    "from matchms.Pipeline import Pipeline, create_workflow\n",
    "from matchms.filtering.default_pipelines import DEFAULT_FILTERS\n",
    "from matchms.similarity.PrecursorMzMatch import PrecursorMzMatch\n",
    "\n",
    "workflow = create_workflow(\n",
    "    query_filters=DEFAULT_FILTERS + [(\"require_minimum_number_of_peaks\", {\"n_required\": 5})],\n",
    ")\n",
    "pipeline = Pipeline(workflow)\n",
    "report = pipeline.run(\"./combined_spectra.mgf\")"
   ]
  },
  {
   "cell_type": "code",
   "execution_count": 4,
   "id": "d3318e80-8bfd-40b3-87b6-6ad91df78c50",
   "metadata": {},
   "outputs": [
    {
     "name": "stdout",
     "output_type": "stream",
     "text": [
      "----- Spectrum Processing Report -----\n",
      "Number of spectrums processed: 40265\n",
      "Number of spectrums removed: 38153\n",
      "Changes during processing:\n",
      "                                 removed spectra  changed metadata  changed mass spectrum\n",
      "filter                                                                                   \n",
      "require_minimum_number_of_peaks            38153                 0                      0\n",
      "add_compound_name                              0             40265                      0\n",
      "add_retention_index                            0             40265                      0\n",
      "add_retention_time                             0             40265                      0\n",
      "derive_ionmode                                 0             40265                      0\n",
      "harmonize_undefined_inchikey                   0             40265                      0\n",
      "harmonize_undefined_inchi                      0             40265                      0\n",
      "harmonize_undefined_smiles                     0             40265                      0\n",
      "add_parent_mass                                0             40265                      0\n",
      "derive_formula_from_smiles                     0             40265                      0\n",
      "derive_adduct_from_name                        0                51                      0\n",
      "normalize_intensities                          0                 0                   2571\n",
      "make_charge_int                                0                 0                      0\n",
      "derive_formula_from_name                       0                 0                      0\n",
      "clean_compound_name                            0                 0                      0\n",
      "interpret_pepmass                              0                 0                      0\n",
      "add_precursor_mz                               0                 0                      0\n",
      "correct_charge                                 0                 0                      0\n",
      "require_precursor_mz                           0                 0                      0\n",
      "repair_inchi_inchikey_smiles                   0                 0                      0\n",
      "clean_adduct                                   0                 0                      0\n",
      "derive_smiles_from_inchi                       0                 0                      0\n",
      "derive_inchi_from_smiles                       0                 0                      0\n",
      "derive_inchikey_from_inchi                     0                 0                      0\n",
      "require_correct_ionmode                        0                 0                      0\n"
     ]
    }
   ],
   "source": [
    "print(report)"
   ]
  },
  {
   "cell_type": "code",
   "execution_count": null,
   "id": "baf5c119-3590-46c5-975e-f913c5158b2b",
   "metadata": {},
   "outputs": [],
   "source": [
    "from matchms.exporting import save_as_mgf\n",
    "save_as_mgf(pipeline.spectrums_queries, \"./cleaned_spectra.mgf\")"
   ]
  },
  {
   "cell_type": "markdown",
   "id": "8463ea45-5929-4beb-80c4-6c3d21c8bd3e",
   "metadata": {},
   "source": [
    "### Separately save pos and neg for MS2Query predictions\n",
    "MS2Query needs to be run separately for pos and neg. So the files with pos and neg are saved separately."
   ]
  },
  {
   "cell_type": "code",
   "execution_count": 5,
   "id": "94578595-1ee3-4be7-8570-4e44127559fd",
   "metadata": {},
   "outputs": [],
   "source": [
    "pos_spectra = []\n",
    "neg_spectra = []\n",
    "for spectrum in pipeline.spectrums_queries:\n",
    "    if spectrum.get(\"ionmode\") == \"positive\":\n",
    "        pos_spectra.append(spectrum)\n",
    "    else:\n",
    "        neg_spectra.append(spectrum)\n"
   ]
  },
  {
   "cell_type": "code",
   "execution_count": null,
   "id": "ddc70aac-fda0-4c70-94f0-fa9b3d47738f",
   "metadata": {},
   "outputs": [],
   "source": [
    "save_as_mgf(pos_spectra, \"./cleaned_pos_spectra.mgf\")\n",
    "save_as_mgf(neg_spectra, \"./cleaned_neg_spectra.mgf\")"
   ]
  },
  {
   "cell_type": "markdown",
   "id": "1b1400d6-2834-4080-b03c-0d2a7e35b433",
   "metadata": {},
   "source": [
    "# Add identifiers\n",
    "To be able to cross link the identifiers between ms2query results, mol networking and other annotations, the spectra need identifiers. They are simply numbered with a prefix of pos or neg"
   ]
  },
  {
   "cell_type": "code",
   "execution_count": null,
   "id": "8e8ccb25-a71e-4521-93e5-61f01686ab0d",
   "metadata": {},
   "outputs": [],
   "source": [
    "spectra_pos = list(load_from_mgf(\"./cleaned_pos_spectra.mgf\"))\n",
    "spectra_neg = list(load_from_mgf(\"./cleaned_neg_spectra.mgf\"))"
   ]
  },
  {
   "cell_type": "code",
   "execution_count": null,
   "id": "b27eb074-4ab2-4ff0-a937-9d4a3fc2c283",
   "metadata": {},
   "outputs": [],
   "source": [
    "for i, spectrum in enumerate(spectra_pos):\n",
    "    query_spectrum_nr = \"pos_\"+ str(i + 1)\n",
    "    spectrum.set(\"query_spectrum_nr\", query_spectrum_nr)\n",
    "for i, spectrum in enumerate(spectra_neg):\n",
    "    query_spectrum_nr = \"neg_\"+ str(i + 1)\n",
    "    spectrum.set(\"query_spectrum_nr\", query_spectrum_nr)"
   ]
  },
  {
   "cell_type": "code",
   "execution_count": null,
   "id": "8b13437b-7e9e-4840-ad0e-51c417b83a98",
   "metadata": {},
   "outputs": [],
   "source": [
    "from matchms.exporting import save_as_mgf\n",
    "save_as_mgf(spectra_pos + spectra_neg, \"./cleaned_spectra_pos_neg_with_numbering.mgf\")"
   ]
  },
  {
   "cell_type": "code",
   "execution_count": null,
   "id": "39b4f81b-e0da-4123-8fd8-ad06c3789b5b",
   "metadata": {},
   "outputs": [],
   "source": []
  }
 ],
 "metadata": {
  "kernelspec": {
   "display_name": "Python 3 (ipykernel)",
   "language": "python",
   "name": "python3"
  },
  "language_info": {
   "codemirror_mode": {
    "name": "ipython",
    "version": 3
   },
   "file_extension": ".py",
   "mimetype": "text/x-python",
   "name": "python",
   "nbconvert_exporter": "python",
   "pygments_lexer": "ipython3",
   "version": "3.9.18"
  }
 },
 "nbformat": 4,
 "nbformat_minor": 5
}
