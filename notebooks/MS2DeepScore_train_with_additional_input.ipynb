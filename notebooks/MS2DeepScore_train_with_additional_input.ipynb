{
 "cells": [
  {
   "cell_type": "markdown",
   "metadata": {},
   "source": [
    "# ms2deepscore example additional input values: precursor_mz"
   ]
  },
  {
   "cell_type": "code",
   "execution_count": 1,
   "metadata": {},
   "outputs": [],
   "source": [
    "from pathlib import Path\n",
    "\n",
    "from matchms.importing import load_from_mgf\n",
    "from tensorflow import keras\n",
    "import pandas as pd\n",
    "\n",
    "import os\n",
    "import sys\n",
    "module_path = os.path.abspath(os.path.join('..'))\n",
    "sys.path.append(module_path)\n",
    "\n",
    "from ms2deepscore import SpectrumBinner\n",
    "from ms2deepscore.data_generators import DataGeneratorAllSpectrums\n",
    "from ms2deepscore.models import SiameseModel\n",
    "from ms2deepscore import MS2DeepScore"
   ]
  },
  {
   "cell_type": "markdown",
   "metadata": {},
   "source": [
    "## Data loading"
   ]
  },
  {
   "cell_type": "markdown",
   "metadata": {},
   "source": [
    "Here we load in a small sample of test spectrum as well as reference scores data."
   ]
  },
  {
   "cell_type": "code",
   "execution_count": 2,
   "metadata": {},
   "outputs": [],
   "source": [
    "TEST_RESOURCES_PATH = Path.cwd().parent / 'tests' / 'resources'\n",
    "spectrums_filepath = str(TEST_RESOURCES_PATH / \"pesticides_processed.mgf\")\n",
    "score_filepath = str(TEST_RESOURCES_PATH / \"pesticides_tanimoto_scores.json\")"
   ]
  },
  {
   "cell_type": "markdown",
   "metadata": {},
   "source": [
    "Load processed spectrums from .mgf file. For processing itself see [matchms](https://github.com/matchms/matchms) documentation."
   ]
  },
  {
   "cell_type": "code",
   "execution_count": 3,
   "metadata": {},
   "outputs": [
    {
     "name": "stdout",
     "output_type": "stream",
     "text": [
      "2022-11-29 03:16:37,267:WARNING:matchms:interpret_pepmass:Overwriting existing precursor_mz 183.057 with new one: 183.057\n",
      "2022-11-29 03:16:37,270:WARNING:matchms:interpret_pepmass:Overwriting existing precursor_mz 208.146 with new one: 208.146\n",
      "2022-11-29 03:16:37,271:WARNING:matchms:interpret_pepmass:Overwriting existing precursor_mz 370.073 with new one: 370.073\n",
      "2022-11-29 03:16:37,274:WARNING:matchms:interpret_pepmass:Overwriting existing precursor_mz 231.075 with new one: 231.075\n",
      "2022-11-29 03:16:37,275:WARNING:matchms:interpret_pepmass:Overwriting existing precursor_mz 246.044 with new one: 246.044\n",
      "2022-11-29 03:16:37,277:WARNING:matchms:interpret_pepmass:Overwriting existing precursor_mz 282.02 with new one: 282.02\n",
      "2022-11-29 03:16:37,279:WARNING:matchms:interpret_pepmass:Overwriting existing precursor_mz 292.049 with new one: 292.049\n",
      "2022-11-29 03:16:37,282:WARNING:matchms:interpret_pepmass:Overwriting existing precursor_mz 211.065 with new one: 211.065\n",
      "2022-11-29 03:16:37,284:WARNING:matchms:interpret_pepmass:Overwriting existing precursor_mz 231.01 with new one: 231.01\n",
      "2022-11-29 03:16:37,286:WARNING:matchms:interpret_pepmass:Overwriting existing precursor_mz 309.025 with new one: 309.025\n",
      "2022-11-29 03:16:37,289:WARNING:matchms:interpret_pepmass:Overwriting existing precursor_mz 273.057 with new one: 273.057\n",
      "2022-11-29 03:16:37,290:WARNING:matchms:interpret_pepmass:Overwriting existing precursor_mz 357.026 with new one: 357.026\n",
      "2022-11-29 03:16:37,291:WARNING:matchms:interpret_pepmass:Overwriting existing precursor_mz 458.975 with new one: 458.975\n",
      "2022-11-29 03:16:37,294:WARNING:matchms:interpret_pepmass:Overwriting existing precursor_mz 491.005 with new one: 491.005\n",
      "2022-11-29 03:16:37,296:WARNING:matchms:interpret_pepmass:Overwriting existing precursor_mz 472.994 with new one: 472.994\n",
      "2022-11-29 03:16:37,297:WARNING:matchms:interpret_pepmass:Overwriting existing precursor_mz 526.981 with new one: 526.981\n",
      "2022-11-29 03:16:37,299:WARNING:matchms:interpret_pepmass:Overwriting existing precursor_mz 378.967 with new one: 378.967\n",
      "2022-11-29 03:16:37,301:WARNING:matchms:interpret_pepmass:Overwriting existing precursor_mz 508.971 with new one: 508.971\n",
      "2022-11-29 03:16:37,303:WARNING:matchms:interpret_pepmass:Overwriting existing precursor_mz 458.975 with new one: 458.975\n",
      "2022-11-29 03:16:37,304:WARNING:matchms:interpret_pepmass:Overwriting existing precursor_mz 487.029 with new one: 487.029\n",
      "2022-11-29 03:16:37,305:WARNING:matchms:interpret_pepmass:Overwriting existing precursor_mz 491.005 with new one: 491.005\n",
      "2022-11-29 03:16:37,308:WARNING:matchms:interpret_pepmass:Overwriting existing precursor_mz 526.981 with new one: 526.981\n",
      "2022-11-29 03:16:37,310:WARNING:matchms:interpret_pepmass:Overwriting existing precursor_mz 537.956 with new one: 537.956\n",
      "2022-11-29 03:16:37,311:WARNING:matchms:interpret_pepmass:Overwriting existing precursor_mz 508.971 with new one: 508.971\n",
      "2022-11-29 03:16:37,312:WARNING:matchms:interpret_pepmass:Overwriting existing precursor_mz 182.005 with new one: 182.005\n",
      "2022-11-29 03:16:37,315:WARNING:matchms:interpret_pepmass:Overwriting existing precursor_mz 487.029 with new one: 487.029\n",
      "2022-11-29 03:16:37,317:WARNING:matchms:interpret_pepmass:Overwriting existing precursor_mz 201.1 with new one: 201.1\n",
      "2022-11-29 03:16:37,318:WARNING:matchms:interpret_pepmass:Overwriting existing precursor_mz 537.956 with new one: 537.956\n",
      "2022-11-29 03:16:37,320:WARNING:matchms:interpret_pepmass:Overwriting existing precursor_mz 228.039 with new one: 228.039\n",
      "2022-11-29 03:16:37,321:WARNING:matchms:interpret_pepmass:Overwriting existing precursor_mz 384.975 with new one: 384.975\n",
      "2022-11-29 03:16:37,323:WARNING:matchms:interpret_pepmass:Overwriting existing precursor_mz 269.081 with new one: 269.081\n",
      "2022-11-29 03:16:37,324:WARNING:matchms:interpret_pepmass:Overwriting existing precursor_mz 254.045 with new one: 254.045\n",
      "2022-11-29 03:16:37,326:WARNING:matchms:interpret_pepmass:Overwriting existing precursor_mz 434.931 with new one: 434.931\n",
      "2022-11-29 03:16:37,327:WARNING:matchms:interpret_pepmass:Overwriting existing precursor_mz 470.908 with new one: 470.908\n",
      "2022-11-29 03:16:37,330:WARNING:matchms:interpret_pepmass:Overwriting existing precursor_mz 681.016 with new one: 681.016\n",
      "2022-11-29 03:16:37,332:WARNING:matchms:interpret_pepmass:Overwriting existing precursor_mz 235.109 with new one: 235.109\n",
      "2022-11-29 03:16:37,333:WARNING:matchms:interpret_pepmass:Overwriting existing precursor_mz 716.992 with new one: 716.992\n",
      "2022-11-29 03:16:37,335:WARNING:matchms:interpret_pepmass:Overwriting existing precursor_mz 479.964 with new one: 479.964\n",
      "2022-11-29 03:16:37,336:WARNING:matchms:interpret_pepmass:Overwriting existing precursor_mz 329.107 with new one: 329.107\n",
      "2022-11-29 03:16:37,337:WARNING:matchms:interpret_pepmass:Overwriting existing precursor_mz 365.083 with new one: 365.083\n",
      "2022-11-29 03:16:37,339:WARNING:matchms:interpret_pepmass:Overwriting existing precursor_mz 367.203 with new one: 367.203\n",
      "2022-11-29 03:16:37,341:WARNING:matchms:interpret_pepmass:Overwriting existing precursor_mz 247.032 with new one: 247.032\n",
      "2022-11-29 03:16:37,342:WARNING:matchms:interpret_pepmass:Overwriting existing precursor_mz 322.106 with new one: 322.106\n",
      "2022-11-29 03:16:37,344:WARNING:matchms:interpret_pepmass:Overwriting existing precursor_mz 397.213 with new one: 397.213\n",
      "2022-11-29 03:16:37,345:WARNING:matchms:interpret_pepmass:Overwriting existing precursor_mz 462.944 with new one: 462.944\n",
      "2022-11-29 03:16:37,347:WARNING:matchms:interpret_pepmass:Overwriting existing precursor_mz 341.026 with new one: 341.026\n",
      "2022-11-29 03:16:37,350:WARNING:matchms:interpret_pepmass:Overwriting existing precursor_mz 505.11 with new one: 505.11\n",
      "2022-11-29 03:16:37,351:WARNING:matchms:interpret_pepmass:Overwriting existing precursor_mz 367.203 with new one: 367.203\n",
      "2022-11-29 03:16:37,353:WARNING:matchms:interpret_pepmass:Overwriting existing precursor_mz 541.087 with new one: 541.087\n",
      "2022-11-29 03:16:37,354:WARNING:matchms:interpret_pepmass:Overwriting existing precursor_mz 300.057 with new one: 300.057\n",
      "2022-11-29 03:16:37,357:WARNING:matchms:interpret_pepmass:Overwriting existing precursor_mz 551.116 with new one: 551.116\n",
      "2022-11-29 03:16:37,358:WARNING:matchms:interpret_pepmass:Overwriting existing precursor_mz 917.49 with new one: 917.49\n",
      "2022-11-29 03:16:37,360:WARNING:matchms:interpret_pepmass:Overwriting existing precursor_mz 351.208 with new one: 351.208\n",
      "2022-11-29 03:16:37,361:WARNING:matchms:interpret_pepmass:Overwriting existing precursor_mz 943.506 with new one: 943.506\n",
      "2022-11-29 03:16:37,362:WARNING:matchms:interpret_pepmass:Overwriting existing precursor_mz 387.184 with new one: 387.184\n",
      "2022-11-29 03:16:37,365:WARNING:matchms:interpret_pepmass:Overwriting existing precursor_mz 462.944 with new one: 462.944\n",
      "2022-11-29 03:16:37,366:WARNING:matchms:interpret_pepmass:Overwriting existing precursor_mz 919.506 with new one: 919.506\n",
      "2022-11-29 03:16:37,368:WARNING:matchms:interpret_pepmass:Overwriting existing precursor_mz 505.11 with new one: 505.11\n",
      "2022-11-29 03:16:37,371:WARNING:matchms:interpret_pepmass:Overwriting existing precursor_mz 493.184 with new one: 493.184\n",
      "2022-11-29 03:16:37,372:WARNING:matchms:interpret_pepmass:Overwriting existing precursor_mz 541.087 with new one: 541.087\n",
      "2022-11-29 03:16:37,374:WARNING:matchms:interpret_pepmass:Overwriting existing precursor_mz 912.512 with new one: 912.512\n",
      "2022-11-29 03:16:37,375:WARNING:matchms:interpret_pepmass:Overwriting existing precursor_mz 897.501 with new one: 897.501\n",
      "2022-11-29 03:16:37,377:WARNING:matchms:interpret_pepmass:Overwriting existing precursor_mz 943.506 with new one: 943.506\n",
      "2022-11-29 03:16:37,379:WARNING:matchms:interpret_pepmass:Overwriting existing precursor_mz 219.035 with new one: 219.035\n",
      "2022-11-29 03:16:37,381:WARNING:matchms:interpret_pepmass:Overwriting existing precursor_mz 255.011 with new one: 255.011\n",
      "2022-11-29 03:16:37,382:WARNING:matchms:interpret_pepmass:Overwriting existing precursor_mz 341.039 with new one: 341.039\n",
      "2022-11-29 03:16:37,384:WARNING:matchms:interpret_pepmass:Overwriting existing precursor_mz 493.184 with new one: 493.184\n",
      "2022-11-29 03:16:37,385:WARNING:matchms:interpret_pepmass:Overwriting existing precursor_mz 529.16 with new one: 529.16\n",
      "2022-11-29 03:16:37,387:WARNING:matchms:interpret_pepmass:Overwriting existing precursor_mz 248.002 with new one: 248.002\n",
      "2022-11-29 03:16:37,389:WARNING:matchms:interpret_pepmass:Overwriting existing precursor_mz 384.975 with new one: 384.975\n",
      "2022-11-29 03:16:37,390:WARNING:matchms:interpret_pepmass:Overwriting existing precursor_mz 394.975 with new one: 394.975\n",
      "2022-11-29 03:16:37,393:WARNING:matchms:interpret_pepmass:Overwriting existing precursor_mz 430.952 with new one: 430.952\n",
      "2022-11-29 03:16:37,394:WARNING:matchms:interpret_pepmass:Overwriting existing precursor_mz 434.931 with new one: 434.931\n",
      "2022-11-29 03:16:37,396:WARNING:matchms:interpret_pepmass:Overwriting existing precursor_mz 681.016 with new one: 681.016\n",
      "2022-11-29 03:16:37,397:WARNING:matchms:interpret_pepmass:Overwriting existing precursor_mz 716.992 with new one: 716.992\n",
      "2022-11-29 03:16:37,399:WARNING:matchms:interpret_pepmass:Overwriting existing precursor_mz 342.024 with new one: 342.024\n"
     ]
    }
   ],
   "source": [
    "spectrums = list(load_from_mgf(spectrums_filepath))"
   ]
  },
  {
   "cell_type": "markdown",
   "metadata": {},
   "source": [
    "Load reference scores from a .json file. This is a Pandas DataFrame with reference similarity scores (=labels) for compounds identified by inchikeys. Columns and index should be inchikeys, the value in a row x column depicting the similarity score for that pair. Must be symmetric (reference_scores_df[i,j] == reference_scores_df[j,i]) and column names should be identical to the index."
   ]
  },
  {
   "cell_type": "code",
   "execution_count": 4,
   "metadata": {},
   "outputs": [],
   "source": [
    "tanimoto_scores_df = pd.read_json(score_filepath)"
   ]
  },
  {
   "cell_type": "markdown",
   "metadata": {},
   "source": [
    "## Data preprocessing"
   ]
  },
  {
   "cell_type": "markdown",
   "metadata": {},
   "source": [
    "Bin the spectrums using `ms2deepscore.SpectrumBinner`. In this binned form we can feed spectra to the model."
   ]
  },
  {
   "cell_type": "code",
   "execution_count": 5,
   "metadata": {},
   "outputs": [
    {
     "name": "stdout",
     "output_type": "stream",
     "text": [
      "Collect spectrum peaks...\n",
      "Calculated embedding dimension: 543.\n",
      "Convert spectrums to binned spectrums...\n"
     ]
    },
    {
     "name": "stderr",
     "output_type": "stream",
     "text": [
      "Spectrum binning: 100%|██████████| 76/76 [00:00<00:00, 6159.63it/s]\n",
      "Create BinnedSpectrum instances: 100%|██████████| 76/76 [00:00<00:00, 2390.65it/s]\n"
     ]
    }
   ],
   "source": [
    "additional_input=[\"precursor_mz\", \"parent_mass\"]\n",
    "spectrum_binner = SpectrumBinner(1000, mz_min=10.0, mz_max=1000.0, peak_scaling=0.5, additional_metadata=additional_input)\n",
    "binned_spectrums = spectrum_binner.fit_transform(spectrums)"
   ]
  },
  {
   "cell_type": "code",
   "execution_count": 6,
   "metadata": {},
   "outputs": [
    {
     "data": {
      "text/plain": [
       "{'inchikey': 'UYJUZNLFJAWNEZ-UHFFFAOYSA-N',\n",
       " 'precursor_mz': 183.057,\n",
       " 'parent_mass': '184.06427645199074'}"
      ]
     },
     "execution_count": 6,
     "metadata": {},
     "output_type": "execute_result"
    }
   ],
   "source": [
    "binned_spectrums[0].metadata"
   ]
  },
  {
   "cell_type": "markdown",
   "metadata": {},
   "source": [
    "Create a data generator that will generate batches of training examples.\n",
    "Each training example consists of a pair of binned spectra and the corresponding reference similarity score."
   ]
  },
  {
   "cell_type": "code",
   "execution_count": 7,
   "metadata": {},
   "outputs": [
    {
     "name": "stdout",
     "output_type": "stream",
     "text": [
      "The value for additional_input is set from [] (default) to ['precursor_mz', 'parent_mass']\n"
     ]
    }
   ],
   "source": [
    "dimension = len(spectrum_binner.known_bins)\n",
    "data_generator = DataGeneratorAllSpectrums(binned_spectrums, tanimoto_scores_df,\n",
    "                                           dim=dimension, additional_input=additional_input)"
   ]
  },
  {
   "cell_type": "markdown",
   "metadata": {},
   "source": [
    "## Model training"
   ]
  },
  {
   "cell_type": "markdown",
   "metadata": {},
   "source": [
    "Initialize a SiameseModel. It consists of a dense 'base' network that produces an embedding for each of the 2 inputs. The 'head' model computes the cosine similarity between the embeddings."
   ]
  },
  {
   "cell_type": "code",
   "execution_count": 8,
   "metadata": {},
   "outputs": [
    {
     "name": "stdout",
     "output_type": "stream",
     "text": [
      "Model: \"base\"\n",
      "__________________________________________________________________________________________________\n",
      "Layer (type)                    Output Shape         Param #     Connected to                     \n",
      "==================================================================================================\n",
      "base_input (InputLayer)         [(None, 543)]        0                                            \n",
      "__________________________________________________________________________________________________\n",
      "additional_input (InputLayer)   [(None, 2)]          0                                            \n",
      "__________________________________________________________________________________________________\n",
      "concatenate (Concatenate)       (None, 545)          0           base_input[0][0]                 \n",
      "                                                                 additional_input[0][0]           \n",
      "__________________________________________________________________________________________________\n",
      "dense1 (Dense)                  (None, 200)          109200      concatenate[0][0]                \n",
      "__________________________________________________________________________________________________\n",
      "normalization1 (BatchNormalizat (None, 200)          800         dense1[0][0]                     \n",
      "__________________________________________________________________________________________________\n",
      "dense2 (Dense)                  (None, 200)          40200       normalization1[0][0]             \n",
      "__________________________________________________________________________________________________\n",
      "normalization2 (BatchNormalizat (None, 200)          800         dense2[0][0]                     \n",
      "__________________________________________________________________________________________________\n",
      "dropout2 (Dropout)              (None, 200)          0           normalization2[0][0]             \n",
      "__________________________________________________________________________________________________\n",
      "dense3 (Dense)                  (None, 200)          40200       dropout2[0][0]                   \n",
      "__________________________________________________________________________________________________\n",
      "normalization3 (BatchNormalizat (None, 200)          800         dense3[0][0]                     \n",
      "__________________________________________________________________________________________________\n",
      "dropout3 (Dropout)              (None, 200)          0           normalization3[0][0]             \n",
      "__________________________________________________________________________________________________\n",
      "embedding (Dense)               (None, 200)          40200       dropout3[0][0]                   \n",
      "==================================================================================================\n",
      "Total params: 232,200\n",
      "Trainable params: 231,000\n",
      "Non-trainable params: 1,200\n",
      "__________________________________________________________________________________________________\n",
      "Model: \"head\"\n",
      "__________________________________________________________________________________________________\n",
      "Layer (type)                    Output Shape         Param #     Connected to                     \n",
      "==================================================================================================\n",
      "input_a (InputLayer)            [(None, 543)]        0                                            \n",
      "__________________________________________________________________________________________________\n",
      "input_a_2 (InputLayer)          [(None, 2)]          0                                            \n",
      "__________________________________________________________________________________________________\n",
      "input_b (InputLayer)            [(None, 543)]        0                                            \n",
      "__________________________________________________________________________________________________\n",
      "input_b_2 (InputLayer)          [(None, 2)]          0                                            \n",
      "__________________________________________________________________________________________________\n",
      "base (Functional)               (None, 200)          232200      input_a[0][0]                    \n",
      "                                                                 input_a_2[0][0]                  \n",
      "                                                                 input_b[0][0]                    \n",
      "                                                                 input_b_2[0][0]                  \n",
      "__________________________________________________________________________________________________\n",
      "cosine_similarity (Dot)         (None, 1)            0           base[0][0]                       \n",
      "                                                                 base[1][0]                       \n",
      "==================================================================================================\n",
      "Total params: 232,200\n",
      "Trainable params: 231,000\n",
      "Non-trainable params: 1,200\n",
      "__________________________________________________________________________________________________\n"
     ]
    },
    {
     "data": {
      "image/png": "[encoded data removed]",
      "text/plain": [
       "<IPython.core.display.Image object>"
      ]
     },
     "execution_count": 8,
     "metadata": {},
     "output_type": "execute_result"
    }
   ],
   "source": [
    "model = SiameseModel(spectrum_binner, base_dims=(200, 200, 200), embedding_dim=200,\n",
    "                     dropout_rate=0.2, additional_input=len(additional_input))\n",
    "model.compile(loss='mse', optimizer=keras.optimizers.Adam(learning_rate=0.001))\n",
    "model.summary()\n",
    "keras.utils.plot_model(model.model, show_shapes=True)"
   ]
  },
  {
   "cell_type": "markdown",
   "metadata": {},
   "source": [
    "Train the model on the data, for the sake of simplicity we use the same dataset for training and validation."
   ]
  },
  {
   "cell_type": "code",
   "execution_count": 9,
   "metadata": {},
   "outputs": [
    {
     "name": "stdout",
     "output_type": "stream",
     "text": [
      "Epoch 1/10\n",
      "2/2 [==============================] - 0s 141ms/step - loss: 0.0974 - val_loss: 0.2438\n",
      "Epoch 2/10\n",
      "2/2 [==============================] - 0s 50ms/step - loss: 0.1096 - val_loss: 0.2285\n",
      "Epoch 3/10\n",
      "2/2 [==============================] - 0s 48ms/step - loss: 0.1066 - val_loss: 0.2368\n",
      "Epoch 4/10\n",
      "2/2 [==============================] - 0s 47ms/step - loss: 0.0999 - val_loss: 0.2465\n",
      "Epoch 5/10\n",
      "2/2 [==============================] - 0s 46ms/step - loss: 0.0885 - val_loss: 0.2501\n",
      "Epoch 6/10\n",
      "2/2 [==============================] - 0s 45ms/step - loss: 0.0741 - val_loss: 0.2312\n",
      "Epoch 7/10\n",
      "2/2 [==============================] - 0s 48ms/step - loss: 0.0728 - val_loss: 0.2070\n",
      "Epoch 8/10\n",
      "2/2 [==============================] - 0s 44ms/step - loss: 0.0706 - val_loss: 0.2410\n",
      "Epoch 9/10\n",
      "2/2 [==============================] - 0s 49ms/step - loss: 0.0757 - val_loss: 0.2161\n",
      "Epoch 10/10\n",
      "2/2 [==============================] - 0s 46ms/step - loss: 0.0812 - val_loss: 0.2112\n"
     ]
    }
   ],
   "source": [
    "model.fit(data_generator,\n",
    "          validation_data=data_generator,\n",
    "          epochs=10)"
   ]
  },
  {
   "cell_type": "markdown",
   "metadata": {},
   "source": [
    "## Model inference"
   ]
  },
  {
   "cell_type": "markdown",
   "metadata": {},
   "source": [
    "Calculate similariteis for a pair of spectra"
   ]
  },
  {
   "cell_type": "code",
   "execution_count": 10,
   "metadata": {},
   "outputs": [
    {
     "name": "stderr",
     "output_type": "stream",
     "text": [
      "Spectrum binning: 100%|██████████| 1/1 [00:00<?, ?it/s]\n",
      "Create BinnedSpectrum instances: 100%|██████████| 1/1 [00:00<?, ?it/s]\n",
      "Spectrum binning: 100%|██████████| 1/1 [00:00<?, ?it/s]\n",
      "Create BinnedSpectrum instances: 100%|██████████| 1/1 [00:00<?, ?it/s]\n"
     ]
    },
    {
     "name": "stdout",
     "output_type": "stream",
     "text": [
      "0.9638993773384849\n"
     ]
    }
   ],
   "source": [
    "similarity_measure = MS2DeepScore(model, multi_inputs=True)\n",
    "score = similarity_measure.pair(spectrums[0], spectrums[1])\n",
    "print(score)"
   ]
  },
  {
   "cell_type": "markdown",
   "metadata": {},
   "source": [
    "Calculate similarities for a 3x3 matrix of spectra"
   ]
  },
  {
   "cell_type": "code",
   "execution_count": 11,
   "metadata": {},
   "outputs": [
    {
     "name": "stderr",
     "output_type": "stream",
     "text": [
      "Spectrum binning: 100%|██████████| 3/3 [00:00<00:00, 2999.50it/s]\n",
      "Create BinnedSpectrum instances: 100%|██████████| 3/3 [00:00<00:00, 1495.30it/s]\n",
      "Calculating vectors of reference spectrums: 100%|██████████| 3/3 [00:00<00:00, 27.95it/s]\n",
      "Spectrum binning: 100%|██████████| 3/3 [00:00<00:00, 2985.27it/s]\n",
      "Create BinnedSpectrum instances: 100%|██████████| 3/3 [00:00<00:00, 1192.69it/s]\n",
      "Calculating vectors of reference spectrums: 100%|██████████| 3/3 [00:00<00:00, 26.60it/s]\n"
     ]
    },
    {
     "name": "stdout",
     "output_type": "stream",
     "text": [
      "[[1.         0.96389938 0.77738906]\n",
      " [0.96389938 1.         0.90417731]\n",
      " [0.77738906 0.90417731 1.        ]]\n"
     ]
    }
   ],
   "source": [
    "scores = similarity_measure.matrix(spectrums[:3], spectrums[:3])\n",
    "print(scores)"
   ]
  },
  {
   "cell_type": "code",
   "execution_count": null,
   "metadata": {},
   "outputs": [],
   "source": []
  }
 ],
 "metadata": {
  "kernelspec": {
   "name": "pycharm-fa943600",
   "language": "python",
   "display_name": "PyCharm (ms2deepscore)"
  },
  "language_info": {
   "codemirror_mode": {
    "name": "ipython",
    "version": 3
   },
   "file_extension": ".py",
   "mimetype": "text/x-python",
   "name": "python",
   "nbconvert_exporter": "python",
   "pygments_lexer": "ipython3",
   "version": "3.8.13"
  },
  "orig_nbformat": 4,
  "vscode": {
   "interpreter": {
    "hash": "d4ce8bf91ac7e7c6213eea793229127602b899d699f8ce3407857b1742e882f1"
   }
  }
 },
 "nbformat": 4,
 "nbformat_minor": 2
}