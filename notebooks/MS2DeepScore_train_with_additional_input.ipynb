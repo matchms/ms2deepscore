{
 "cells": [
  {
   "cell_type": "markdown",
   "metadata": {},
   "source": [
    "# ms2deepscore example additional input values: precursor_mz"
   ]
  },
  {
   "cell_type": "code",
   "execution_count": 1,
   "metadata": {},
   "outputs": [],
   "source": [
    "from pathlib import Path\n",
    "\n",
    "from matchms.importing import load_from_mgf\n",
    "from tensorflow import keras\n",
    "import pandas as pd\n",
    "\n",
    "import os\n",
    "import sys\n",
    "module_path = os.path.abspath(os.path.join('..'))\n",
    "sys.path.append(module_path)\n",
    "\n",
    "from ms2deepscore import SpectrumBinner\n",
    "from ms2deepscore.data_generators import DataGeneratorAllSpectrums\n",
    "from ms2deepscore.models import SiameseModel\n",
    "from ms2deepscore import MS2DeepScore"
   ]
  },
  {
   "cell_type": "markdown",
   "metadata": {},
   "source": [
    "## Data loading"
   ]
  },
  {
   "cell_type": "markdown",
   "metadata": {},
   "source": [
    "Here we load in a small sample of test spectrum as well as reference scores data."
   ]
  },
  {
   "cell_type": "code",
   "execution_count": 2,
   "metadata": {},
   "outputs": [],
   "source": [
    "TEST_RESOURCES_PATH = Path.cwd().parent / 'tests' / 'resources'\n",
    "spectrums_filepath = str(TEST_RESOURCES_PATH / \"pesticides_processed.mgf\")\n",
    "score_filepath = str(TEST_RESOURCES_PATH / \"pesticides_tanimoto_scores.json\")"
   ]
  },
  {
   "cell_type": "markdown",
   "metadata": {},
   "source": [
    "Load processed spectrums from .mgf file. For processing itself see [matchms](https://github.com/matchms/matchms) documentation."
   ]
  },
  {
   "cell_type": "code",
   "execution_count": 3,
   "metadata": {},
   "outputs": [
    {
     "name": "stdout",
     "output_type": "stream",
     "text": [
      "2022-12-05 15:26:57,646:WARNING:matchms:interpret_pepmass:Overwriting existing precursor_mz 183.057 with new one: 183.057\n",
      "2022-12-05 15:26:57,649:WARNING:matchms:interpret_pepmass:Overwriting existing precursor_mz 208.146 with new one: 208.146\n",
      "2022-12-05 15:26:57,650:WARNING:matchms:interpret_pepmass:Overwriting existing precursor_mz 370.073 with new one: 370.073\n",
      "2022-12-05 15:26:57,654:WARNING:matchms:interpret_pepmass:Overwriting existing precursor_mz 231.075 with new one: 231.075\n",
      "2022-12-05 15:26:57,657:WARNING:matchms:interpret_pepmass:Overwriting existing precursor_mz 246.044 with new one: 246.044\n",
      "2022-12-05 15:26:57,659:WARNING:matchms:interpret_pepmass:Overwriting existing precursor_mz 282.02 with new one: 282.02\n",
      "2022-12-05 15:26:57,663:WARNING:matchms:interpret_pepmass:Overwriting existing precursor_mz 292.049 with new one: 292.049\n",
      "2022-12-05 15:26:57,667:WARNING:matchms:interpret_pepmass:Overwriting existing precursor_mz 211.065 with new one: 211.065\n",
      "2022-12-05 15:26:57,670:WARNING:matchms:interpret_pepmass:Overwriting existing precursor_mz 231.01 with new one: 231.01\n",
      "2022-12-05 15:26:57,673:WARNING:matchms:interpret_pepmass:Overwriting existing precursor_mz 309.025 with new one: 309.025\n",
      "2022-12-05 15:26:57,676:WARNING:matchms:interpret_pepmass:Overwriting existing precursor_mz 273.057 with new one: 273.057\n",
      "2022-12-05 15:26:57,680:WARNING:matchms:interpret_pepmass:Overwriting existing precursor_mz 357.026 with new one: 357.026\n",
      "2022-12-05 15:26:57,683:WARNING:matchms:interpret_pepmass:Overwriting existing precursor_mz 458.975 with new one: 458.975\n",
      "2022-12-05 15:26:57,686:WARNING:matchms:interpret_pepmass:Overwriting existing precursor_mz 491.005 with new one: 491.005\n",
      "2022-12-05 15:26:57,690:WARNING:matchms:interpret_pepmass:Overwriting existing precursor_mz 472.994 with new one: 472.994\n",
      "2022-12-05 15:26:57,692:WARNING:matchms:interpret_pepmass:Overwriting existing precursor_mz 526.981 with new one: 526.981\n",
      "2022-12-05 15:26:57,694:WARNING:matchms:interpret_pepmass:Overwriting existing precursor_mz 378.967 with new one: 378.967\n",
      "2022-12-05 15:26:57,699:WARNING:matchms:interpret_pepmass:Overwriting existing precursor_mz 508.971 with new one: 508.971\n",
      "2022-12-05 15:26:57,702:WARNING:matchms:interpret_pepmass:Overwriting existing precursor_mz 458.975 with new one: 458.975\n",
      "2022-12-05 15:26:57,705:WARNING:matchms:interpret_pepmass:Overwriting existing precursor_mz 487.029 with new one: 487.029\n",
      "2022-12-05 15:26:57,708:WARNING:matchms:interpret_pepmass:Overwriting existing precursor_mz 491.005 with new one: 491.005\n",
      "2022-12-05 15:26:57,712:WARNING:matchms:interpret_pepmass:Overwriting existing precursor_mz 526.981 with new one: 526.981\n",
      "2022-12-05 15:26:57,715:WARNING:matchms:interpret_pepmass:Overwriting existing precursor_mz 537.956 with new one: 537.956\n",
      "2022-12-05 15:26:57,718:WARNING:matchms:interpret_pepmass:Overwriting existing precursor_mz 508.971 with new one: 508.971\n",
      "2022-12-05 15:26:57,722:WARNING:matchms:interpret_pepmass:Overwriting existing precursor_mz 182.005 with new one: 182.005\n",
      "2022-12-05 15:26:57,725:WARNING:matchms:interpret_pepmass:Overwriting existing precursor_mz 487.029 with new one: 487.029\n",
      "2022-12-05 15:26:57,728:WARNING:matchms:interpret_pepmass:Overwriting existing precursor_mz 201.1 with new one: 201.1\n",
      "2022-12-05 15:26:57,731:WARNING:matchms:interpret_pepmass:Overwriting existing precursor_mz 537.956 with new one: 537.956\n",
      "2022-12-05 15:26:57,734:WARNING:matchms:interpret_pepmass:Overwriting existing precursor_mz 228.039 with new one: 228.039\n",
      "2022-12-05 15:26:57,737:WARNING:matchms:interpret_pepmass:Overwriting existing precursor_mz 384.975 with new one: 384.975\n",
      "2022-12-05 15:26:57,741:WARNING:matchms:interpret_pepmass:Overwriting existing precursor_mz 269.081 with new one: 269.081\n",
      "2022-12-05 15:26:57,744:WARNING:matchms:interpret_pepmass:Overwriting existing precursor_mz 254.045 with new one: 254.045\n",
      "2022-12-05 15:26:57,748:WARNING:matchms:interpret_pepmass:Overwriting existing precursor_mz 434.931 with new one: 434.931\n",
      "2022-12-05 15:26:57,749:WARNING:matchms:interpret_pepmass:Overwriting existing precursor_mz 470.908 with new one: 470.908\n",
      "2022-12-05 15:26:57,752:WARNING:matchms:interpret_pepmass:Overwriting existing precursor_mz 681.016 with new one: 681.016\n",
      "2022-12-05 15:26:57,755:WARNING:matchms:interpret_pepmass:Overwriting existing precursor_mz 235.109 with new one: 235.109\n",
      "2022-12-05 15:26:57,758:WARNING:matchms:interpret_pepmass:Overwriting existing precursor_mz 716.992 with new one: 716.992\n",
      "2022-12-05 15:26:57,762:WARNING:matchms:interpret_pepmass:Overwriting existing precursor_mz 479.964 with new one: 479.964\n",
      "2022-12-05 15:26:57,765:WARNING:matchms:interpret_pepmass:Overwriting existing precursor_mz 329.107 with new one: 329.107\n",
      "2022-12-05 15:26:57,768:WARNING:matchms:interpret_pepmass:Overwriting existing precursor_mz 365.083 with new one: 365.083\n",
      "2022-12-05 15:26:57,769:WARNING:matchms:interpret_pepmass:Overwriting existing precursor_mz 367.203 with new one: 367.203\n",
      "2022-12-05 15:26:57,773:WARNING:matchms:interpret_pepmass:Overwriting existing precursor_mz 247.032 with new one: 247.032\n",
      "2022-12-05 15:26:57,775:WARNING:matchms:interpret_pepmass:Overwriting existing precursor_mz 322.106 with new one: 322.106\n",
      "2022-12-05 15:26:57,779:WARNING:matchms:interpret_pepmass:Overwriting existing precursor_mz 397.213 with new one: 397.213\n",
      "2022-12-05 15:26:57,781:WARNING:matchms:interpret_pepmass:Overwriting existing precursor_mz 462.944 with new one: 462.944\n",
      "2022-12-05 15:26:57,784:WARNING:matchms:interpret_pepmass:Overwriting existing precursor_mz 341.026 with new one: 341.026\n",
      "2022-12-05 15:26:57,787:WARNING:matchms:interpret_pepmass:Overwriting existing precursor_mz 505.11 with new one: 505.11\n",
      "2022-12-05 15:26:57,790:WARNING:matchms:interpret_pepmass:Overwriting existing precursor_mz 367.203 with new one: 367.203\n",
      "2022-12-05 15:26:57,793:WARNING:matchms:interpret_pepmass:Overwriting existing precursor_mz 541.087 with new one: 541.087\n",
      "2022-12-05 15:26:57,796:WARNING:matchms:interpret_pepmass:Overwriting existing precursor_mz 300.057 with new one: 300.057\n",
      "2022-12-05 15:26:57,798:WARNING:matchms:interpret_pepmass:Overwriting existing precursor_mz 551.116 with new one: 551.116\n",
      "2022-12-05 15:26:57,802:WARNING:matchms:interpret_pepmass:Overwriting existing precursor_mz 917.49 with new one: 917.49\n",
      "2022-12-05 15:26:57,805:WARNING:matchms:interpret_pepmass:Overwriting existing precursor_mz 351.208 with new one: 351.208\n",
      "2022-12-05 15:26:57,808:WARNING:matchms:interpret_pepmass:Overwriting existing precursor_mz 943.506 with new one: 943.506\n",
      "2022-12-05 15:26:57,810:WARNING:matchms:interpret_pepmass:Overwriting existing precursor_mz 387.184 with new one: 387.184\n",
      "2022-12-05 15:26:57,814:WARNING:matchms:interpret_pepmass:Overwriting existing precursor_mz 462.944 with new one: 462.944\n",
      "2022-12-05 15:26:57,817:WARNING:matchms:interpret_pepmass:Overwriting existing precursor_mz 919.506 with new one: 919.506\n",
      "2022-12-05 15:26:57,819:WARNING:matchms:interpret_pepmass:Overwriting existing precursor_mz 505.11 with new one: 505.11\n",
      "2022-12-05 15:26:57,823:WARNING:matchms:interpret_pepmass:Overwriting existing precursor_mz 493.184 with new one: 493.184\n",
      "2022-12-05 15:26:57,826:WARNING:matchms:interpret_pepmass:Overwriting existing precursor_mz 541.087 with new one: 541.087\n",
      "2022-12-05 15:26:57,831:WARNING:matchms:interpret_pepmass:Overwriting existing precursor_mz 912.512 with new one: 912.512\n",
      "2022-12-05 15:26:57,834:WARNING:matchms:interpret_pepmass:Overwriting existing precursor_mz 897.501 with new one: 897.501\n",
      "2022-12-05 15:26:57,838:WARNING:matchms:interpret_pepmass:Overwriting existing precursor_mz 943.506 with new one: 943.506\n",
      "2022-12-05 15:26:57,841:WARNING:matchms:interpret_pepmass:Overwriting existing precursor_mz 219.035 with new one: 219.035\n",
      "2022-12-05 15:26:57,844:WARNING:matchms:interpret_pepmass:Overwriting existing precursor_mz 255.011 with new one: 255.011\n",
      "2022-12-05 15:26:57,847:WARNING:matchms:interpret_pepmass:Overwriting existing precursor_mz 341.039 with new one: 341.039\n",
      "2022-12-05 15:26:57,850:WARNING:matchms:interpret_pepmass:Overwriting existing precursor_mz 493.184 with new one: 493.184\n",
      "2022-12-05 15:26:57,853:WARNING:matchms:interpret_pepmass:Overwriting existing precursor_mz 529.16 with new one: 529.16\n",
      "2022-12-05 15:26:57,856:WARNING:matchms:interpret_pepmass:Overwriting existing precursor_mz 248.002 with new one: 248.002\n",
      "2022-12-05 15:26:57,862:WARNING:matchms:interpret_pepmass:Overwriting existing precursor_mz 384.975 with new one: 384.975\n",
      "2022-12-05 15:26:57,866:WARNING:matchms:interpret_pepmass:Overwriting existing precursor_mz 394.975 with new one: 394.975\n",
      "2022-12-05 15:26:57,868:WARNING:matchms:interpret_pepmass:Overwriting existing precursor_mz 430.952 with new one: 430.952\n",
      "2022-12-05 15:26:57,872:WARNING:matchms:interpret_pepmass:Overwriting existing precursor_mz 434.931 with new one: 434.931\n",
      "2022-12-05 15:26:57,875:WARNING:matchms:interpret_pepmass:Overwriting existing precursor_mz 681.016 with new one: 681.016\n",
      "2022-12-05 15:26:57,878:WARNING:matchms:interpret_pepmass:Overwriting existing precursor_mz 716.992 with new one: 716.992\n",
      "2022-12-05 15:26:57,881:WARNING:matchms:interpret_pepmass:Overwriting existing precursor_mz 342.024 with new one: 342.024\n"
     ]
    }
   ],
   "source": [
    "spectrums = list(load_from_mgf(spectrums_filepath))"
   ]
  },
  {
   "cell_type": "markdown",
   "metadata": {},
   "source": [
    "Load reference scores from a .json file. This is a Pandas DataFrame with reference similarity scores (=labels) for compounds identified by inchikeys. Columns and index should be inchikeys, the value in a row x column depicting the similarity score for that pair. Must be symmetric (reference_scores_df[i,j] == reference_scores_df[j,i]) and column names should be identical to the index."
   ]
  },
  {
   "cell_type": "code",
   "execution_count": 4,
   "metadata": {},
   "outputs": [],
   "source": [
    "tanimoto_scores_df = pd.read_json(score_filepath)"
   ]
  },
  {
   "cell_type": "markdown",
   "metadata": {},
   "source": [
    "## Data preprocessing"
   ]
  },
  {
   "cell_type": "markdown",
   "metadata": {},
   "source": [
    "Bin the spectrums using `ms2deepscore.SpectrumBinner`. In this binned form we can feed spectra to the model."
   ]
  },
  {
   "cell_type": "code",
   "execution_count": 5,
   "metadata": {},
   "outputs": [
    {
     "name": "stdout",
     "output_type": "stream",
     "text": [
      "Collect spectrum peaks...\n",
      "Calculated embedding dimension: 543.\n",
      "Convert spectrums to binned spectrums...\n"
     ]
    },
    {
     "name": "stderr",
     "output_type": "stream",
     "text": [
      "Spectrum binning: 100%|██████████| 76/76 [00:00<00:00, 3583.14it/s]\n",
      "Create BinnedSpectrum instances: 100%|██████████| 76/76 [00:00<00:00, 6815.19it/s]\n"
     ]
    }
   ],
   "source": [
    "additional_input=[\"precursor_mz\", \"parent_mass\"]\n",
    "spectrum_binner = SpectrumBinner(1000, mz_min=10.0, mz_max=1000.0, peak_scaling=0.5, additional_metadata=additional_input)\n",
    "binned_spectrums = spectrum_binner.fit_transform(spectrums)"
   ]
  },
  {
   "cell_type": "code",
   "execution_count": 6,
   "metadata": {},
   "outputs": [
    {
     "data": {
      "text/plain": [
       "{'inchikey': 'UYJUZNLFJAWNEZ-UHFFFAOYSA-N'}"
      ]
     },
     "execution_count": 6,
     "metadata": {},
     "output_type": "execute_result"
    }
   ],
   "source": [
    "binned_spectrums[0].metadata"
   ]
  },
  {
   "cell_type": "markdown",
   "metadata": {},
   "source": [
    "Create a data generator that will generate batches of training examples.\n",
    "Each training example consists of a pair of binned spectra and the corresponding reference similarity score."
   ]
  },
  {
   "cell_type": "code",
   "execution_count": 7,
   "metadata": {},
   "outputs": [],
   "source": [
    "dimension = len(spectrum_binner.known_bins)\n",
    "data_generator = DataGeneratorAllSpectrums(binned_spectrums, tanimoto_scores_df,\n",
    "                                           dim=dimension, additional_input=additional_input)"
   ]
  },
  {
   "cell_type": "markdown",
   "metadata": {},
   "source": [
    "## Model training"
   ]
  },
  {
   "cell_type": "markdown",
   "metadata": {},
   "source": [
    "Initialize a SiameseModel. It consists of a dense 'base' network that produces an embedding for each of the 2 inputs. The 'head' model computes the cosine similarity between the embeddings."
   ]
  },
  {
   "cell_type": "code",
   "execution_count": 8,
   "metadata": {},
   "outputs": [
    {
     "name": "stdout",
     "output_type": "stream",
     "text": [
      "Model: \"base\"\n",
      "_________________________________________________________________\n",
      "Layer (type)                 Output Shape              Param #   \n",
      "=================================================================\n",
      "base_input (InputLayer)      [(None, 543)]             0         \n",
      "_________________________________________________________________\n",
      "dense1 (Dense)               (None, 200)               108800    \n",
      "_________________________________________________________________\n",
      "normalization1 (BatchNormali (None, 200)               800       \n",
      "_________________________________________________________________\n",
      "dense2 (Dense)               (None, 200)               40200     \n",
      "_________________________________________________________________\n",
      "normalization2 (BatchNormali (None, 200)               800       \n",
      "_________________________________________________________________\n",
      "dropout2 (Dropout)           (None, 200)               0         \n",
      "_________________________________________________________________\n",
      "dense3 (Dense)               (None, 200)               40200     \n",
      "_________________________________________________________________\n",
      "normalization3 (BatchNormali (None, 200)               800       \n",
      "_________________________________________________________________\n",
      "dropout3 (Dropout)           (None, 200)               0         \n",
      "_________________________________________________________________\n",
      "embedding (Dense)            (None, 200)               40200     \n",
      "=================================================================\n",
      "Total params: 231,800\n",
      "Trainable params: 230,600\n",
      "Non-trainable params: 1,200\n",
      "_________________________________________________________________\n",
      "Model: \"head\"\n",
      "__________________________________________________________________________________________________\n",
      "Layer (type)                    Output Shape         Param #     Connected to                     \n",
      "==================================================================================================\n",
      "input_a (InputLayer)            [(None, 543)]        0                                            \n",
      "__________________________________________________________________________________________________\n",
      "input_b (InputLayer)            [(None, 543)]        0                                            \n",
      "__________________________________________________________________________________________________\n",
      "base (Functional)               (None, 200)          231800      input_a[0][0]                    \n",
      "                                                                 input_b[0][0]                    \n",
      "__________________________________________________________________________________________________\n",
      "cosine_similarity (Dot)         (None, 1)            0           base[0][0]                       \n",
      "                                                                 base[1][0]                       \n",
      "==================================================================================================\n",
      "Total params: 231,800\n",
      "Trainable params: 230,600\n",
      "Non-trainable params: 1,200\n",
      "__________________________________________________________________________________________________\n"
     ]
    },
    {
     "data": {
      "image/png": "[encoded data removed]",
      "text/plain": [
       "<IPython.core.display.Image object>"
      ]
     },
     "execution_count": 8,
     "metadata": {},
     "output_type": "execute_result"
    }
   ],
   "source": [
    "model = SiameseModel(spectrum_binner, base_dims=(200, 200, 200), embedding_dim=200,\n",
    "                     dropout_rate=0.2, additional_input=len(additional_input))\n",
    "model.compile(loss='mse', optimizer=keras.optimizers.Adam(lr=0.001))\n",
    "model.summary()\n",
    "keras.utils.plot_model(model.model, show_shapes=True)"
   ]
  },
  {
   "cell_type": "markdown",
   "metadata": {},
   "source": [
    "Train the model on the data, for the sake of simplicity we use the same dataset for training and validation."
   ]
  },
  {
   "cell_type": "code",
   "execution_count": 9,
   "metadata": {},
   "outputs": [
    {
     "name": "stdout",
     "output_type": "stream",
     "text": [
      "Epoch 1/10\n",
      "2/2 [==============================] - 0s 183ms/step - loss: 0.0785 - val_loss: 0.0517\n",
      "Epoch 2/10\n",
      "2/2 [==============================] - 0s 75ms/step - loss: 0.0988 - val_loss: 0.0720\n",
      "Epoch 3/10\n",
      "2/2 [==============================] - 0s 88ms/step - loss: 0.0946 - val_loss: 0.1189\n",
      "Epoch 4/10\n",
      "2/2 [==============================] - 0s 70ms/step - loss: 0.0757 - val_loss: 0.1240\n",
      "Epoch 5/10\n",
      "2/2 [==============================] - 0s 70ms/step - loss: 0.0650 - val_loss: 0.1958\n",
      "Epoch 6/10\n",
      "2/2 [==============================] - 0s 61ms/step - loss: 0.1038 - val_loss: 0.1857\n",
      "Epoch 7/10\n",
      "2/2 [==============================] - 0s 59ms/step - loss: 0.0811 - val_loss: 0.1900\n",
      "Epoch 8/10\n",
      "2/2 [==============================] - 0s 66ms/step - loss: 0.0818 - val_loss: 0.1983\n",
      "Epoch 9/10\n",
      "2/2 [==============================] - 0s 64ms/step - loss: 0.0692 - val_loss: 0.2013\n",
      "Epoch 10/10\n",
      "2/2 [==============================] - 0s 63ms/step - loss: 0.0938 - val_loss: 0.2253\n"
     ]
    }
   ],
   "source": [
    "model.fit(data_generator,\n",
    "          validation_data=data_generator,\n",
    "          epochs=10)"
   ]
  },
  {
   "cell_type": "markdown",
   "metadata": {},
   "source": [
    "## Model inference"
   ]
  },
  {
   "cell_type": "markdown",
   "metadata": {},
   "source": [
    "Calculate similariteis for a pair of spectra"
   ]
  },
  {
   "cell_type": "code",
   "execution_count": 10,
   "metadata": {},
   "outputs": [
    {
     "name": "stderr",
     "output_type": "stream",
     "text": [
      "Spectrum binning: 100%|██████████| 1/1 [00:00<?, ?it/s]\n",
      "Create BinnedSpectrum instances: 100%|██████████| 1/1 [00:00<00:00, 963.10it/s]\n",
      "Spectrum binning: 100%|██████████| 1/1 [00:00<?, ?it/s]\n",
      "Create BinnedSpectrum instances: 100%|██████████| 1/1 [00:00<?, ?it/s]\n"
     ]
    },
    {
     "name": "stdout",
     "output_type": "stream",
     "text": [
      "0.9739812391575717\n"
     ]
    }
   ],
   "source": [
    "similarity_measure = MS2DeepScore(model)\n",
    "score = similarity_measure.pair(spectrums[0], spectrums[1])\n",
    "print(score)"
   ]
  },
  {
   "cell_type": "markdown",
   "metadata": {},
   "source": [
    "Calculate similarities for a 3x3 matrix of spectra"
   ]
  },
  {
   "cell_type": "code",
   "execution_count": 11,
   "metadata": {},
   "outputs": [
    {
     "name": "stderr",
     "output_type": "stream",
     "text": [
      "Spectrum binning: 100%|██████████| 3/3 [00:00<00:00, 3000.22it/s]\n",
      "Create BinnedSpectrum instances: 100%|██████████| 3/3 [00:00<00:00, 2802.43it/s]\n",
      "Calculating vectors of reference spectrums: 100%|██████████| 3/3 [00:00<00:00, 19.06it/s]\n",
      "Spectrum binning: 100%|██████████| 3/3 [00:00<00:00, 5855.24it/s]\n",
      "Create BinnedSpectrum instances: 100%|██████████| 3/3 [00:00<00:00, 5888.12it/s]\n",
      "Calculating vectors of reference spectrums: 100%|██████████| 3/3 [00:00<00:00, 13.69it/s]\n"
     ]
    },
    {
     "name": "stdout",
     "output_type": "stream",
     "text": [
      "[[1.         0.97398124 0.92202114]\n",
      " [0.97398124 1.         0.94127514]\n",
      " [0.92202114 0.94127514 1.        ]]\n"
     ]
    }
   ],
   "source": [
    "scores = similarity_measure.matrix(spectrums[:3], spectrums[:3])\n",
    "print(scores)"
   ]
  },
  {
   "cell_type": "code",
   "execution_count": null,
   "metadata": {},
   "outputs": [],
   "source": []
  }
 ],
 "metadata": {
  "kernelspec": {
   "display_name": "Python 3.8.13",
   "language": "python",
   "name": "python3"
  },
  "language_info": {
   "codemirror_mode": {
    "name": "ipython",
    "version": 3
   },
   "file_extension": ".py",
   "mimetype": "text/x-python",
   "name": "python",
   "nbconvert_exporter": "python",
   "pygments_lexer": "ipython3",
   "version": "3.8.13"
  },
  "orig_nbformat": 4,
  "vscode": {
   "interpreter": {
    "hash": "d4ce8bf91ac7e7c6213eea793229127602b899d699f8ce3407857b1742e882f1"
   }
  }
 },
 "nbformat": 4,
 "nbformat_minor": 2
}
