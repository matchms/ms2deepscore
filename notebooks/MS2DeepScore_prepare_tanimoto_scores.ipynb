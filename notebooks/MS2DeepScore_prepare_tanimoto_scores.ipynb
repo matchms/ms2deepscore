{
 "cells": [
  {
   "cell_type": "code",
   "execution_count": 51,
   "metadata": {},
   "outputs": [],
   "source": [
    "import os\n",
    "import sys\n",
    "import numpy as np\n",
    "from tqdm.notebook import tqdm\n",
    "from matchms.importing import load_from_json\n",
    "import tensorflow as tf\n",
    "from tensorflow.keras.utils import to_categorical\n",
    "\n",
    "ROOT = os.path.dirname(os.getcwd())\n",
    "sys.path.insert(0, ROOT)\n",
    "path_data = 'C:\\\\OneDrive - Netherlands eScience Center\\\\Project_Wageningen_iOMEGA\\\\Data\\\\'"
   ]
  },
  {
   "cell_type": "markdown",
   "metadata": {},
   "source": [
    "## Load spectra"
   ]
  },
  {
   "cell_type": "code",
   "execution_count": 12,
   "metadata": {},
   "outputs": [
    {
     "name": "stdout",
     "output_type": "stream",
     "text": [
      "number of spectra: 144691\n"
     ]
    }
   ],
   "source": [
    "import pickle\n",
    "\n",
    "outfile = os.path.join(path_data, 'GNPS_all', 'ALL_GNPS_210125_positive_cleaned_by_matchms_and_lookups.pickle')\n",
    "with open(outfile, 'rb') as file:\n",
    "    spectrums = pickle.load(file)\n",
    "\n",
    "print(\"number of spectra:\", len(spectrums))"
   ]
  },
  {
   "cell_type": "code",
   "execution_count": 5,
   "metadata": {},
   "outputs": [],
   "source": [
    "from matchms.filtering import normalize_intensities\n",
    "from matchms.filtering import require_minimum_number_of_peaks\n",
    "from matchms.filtering import select_by_mz\n",
    "from matchms.filtering import select_by_relative_intensity\n",
    "from matchms.filtering import reduce_to_number_of_peaks\n",
    "from matchms.filtering import add_losses"
   ]
  },
  {
   "cell_type": "code",
   "execution_count": 13,
   "metadata": {},
   "outputs": [
    {
     "name": "stdout",
     "output_type": "stream",
     "text": [
      "Number of remaining spectra: 129411\n"
     ]
    }
   ],
   "source": [
    "def post_process(s):\n",
    "    s = normalize_intensities(s)\n",
    "    s = select_by_mz(s, mz_from=10.0, mz_to=1000)\n",
    "    s = require_minimum_number_of_peaks(s, n_required=5)\n",
    "    return s\n",
    "\n",
    "# apply post processing steps to the data\n",
    "spectrums = [post_process(s) for s in spectrums]\n",
    "\n",
    "# omit spectrums that didn't qualify for analysis\n",
    "spectrums = [s for s in spectrums if s is not None]\n",
    "\n",
    "print(\"Number of remaining spectra:\", len(spectrums))"
   ]
  },
  {
   "cell_type": "code",
   "execution_count": 7,
   "metadata": {},
   "outputs": [],
   "source": [
    "import pickle\n",
    "pickle.dump(spectrums, \n",
    "            open(os.path.join(path_data,'ALL_GNPS_210125_positive_processed.pickle'), \"wb\"))"
   ]
  },
  {
   "cell_type": "code",
   "execution_count": 6,
   "metadata": {},
   "outputs": [],
   "source": [
    "import pickle\n",
    "outfile = os.path.join(path_data,'ALL_GNPS_210125_positive_processed.pickle')\n",
    "with open(outfile, 'rb') as file:\n",
    "    spectrums = pickle.load(file)"
   ]
  },
  {
   "cell_type": "markdown",
   "metadata": {},
   "source": [
    "### Minimum filtering"
   ]
  },
  {
   "cell_type": "code",
   "execution_count": 8,
   "metadata": {},
   "outputs": [
    {
     "name": "stdout",
     "output_type": "stream",
     "text": [
      "Maximum number of peaks in one spectrum: 37922\n",
      "Number of spectra with > 1000 peaks: 5474\n",
      "Number of spectra with > 2000 peaks: 2244\n",
      "Number of spectra with > 5000 peaks: 691\n",
      "Careful: Number of spectra with < 10 peaks: 0\n"
     ]
    }
   ],
   "source": [
    "number_of_peaks = [len(spec.peaks) for spec in spectrums]\n",
    "\n",
    "print(\"Maximum number of peaks in one spectrum:\", np.max(number_of_peaks))\n",
    "print(\"Number of spectra with > 1000 peaks:\", np.sum(np.array(number_of_peaks)>1000))\n",
    "print(\"Number of spectra with > 2000 peaks:\", np.sum(np.array(number_of_peaks)>2000))\n",
    "print(\"Number of spectra with > 5000 peaks:\", np.sum(np.array(number_of_peaks)>5000))\n",
    "print(\"Careful: Number of spectra with < 10 peaks:\", np.sum(np.array(number_of_peaks)<10))"
   ]
  },
  {
   "cell_type": "code",
   "execution_count": 9,
   "metadata": {},
   "outputs": [
    {
     "name": "stdout",
     "output_type": "stream",
     "text": [
      "InChI=1S/C28H26N4O3/c1-28-26(34-3)17(29-2)12-20(35-28)31-18-10-6-4-8-14(18)22-23-16(13-30-27(23)33)21-15-9-5-7-11-19(15)32(28)25(21)24(22)31/h4-11,17,20,26,29H,12-13H2,1-3H3,(H,30,33)\n",
      "\n",
      "CNC1CC2OC(C)(C1OC)N1C3=CC=CC=C3C3=C4CNC(=O)C4=C4C5=C(C=CC=C5)N2C4=C13\n"
     ]
    }
   ],
   "source": [
    "ID = 102\n",
    "if spectrums[ID].get(\"inchi\") + spectrums[ID].get(\"smiles\"):\n",
    "    print(spectrums[ID].get(\"inchi\") + \"\\n\\n\" + spectrums[ID].get(\"smiles\"))"
   ]
  },
  {
   "cell_type": "code",
   "execution_count": 18,
   "metadata": {},
   "outputs": [],
   "source": [
    "def count_annotations(spectra):\n",
    "    inchi_lst = []\n",
    "    smiles_lst = []\n",
    "    inchikey_lst = []\n",
    "    for i, spec in enumerate(spectra):\n",
    "        inchi_lst.append(spec.get(\"inchi\"))\n",
    "        smiles_lst.append(spec.get(\"smiles\"))\n",
    "        inchikey = spec.get(\"inchikey\")\n",
    "        if inchikey is None:\n",
    "            inchikey = spec.get(\"inchikey_inchi\")\n",
    "        inchikey_lst.append(inchikey)\n",
    "\n",
    "    inchi_count = sum([1 for x in inchi_lst if x])\n",
    "    smiles_count = sum([1 for x in smiles_lst if x])\n",
    "    inchikey_count = sum([1 for x in inchikey_lst if x])\n",
    "    print(f\"Inchis: {inchi_count} -- {len(set(inchi_lst))} unique\")\n",
    "    print(\"Smiles: {smiles_count} -- {len(set(smiles_lst))} unique\")\n",
    "    print(\"Inchikeys:\", inchikey_count, \"--\",\n",
    "          len(set(inchikey_lst)), \"unique\")\n",
    "    print(\"Inchikeys:\", inchikey_count, \"--\",\n",
    "          len(set([x[:14] for x in inchikey_lst if x])), \"unique (first 14 characters)\")"
   ]
  },
  {
   "cell_type": "code",
   "execution_count": 19,
   "metadata": {},
   "outputs": [
    {
     "name": "stdout",
     "output_type": "stream",
     "text": [
      "Inchis: 109775 -- 18686 unique\n",
      "Smiles: {smiles_count} -- {len(set(smiles_lst))} unique\n",
      "Inchikeys: 109739 -- 17303 unique\n",
      "Inchikeys: 109739 -- 15062 unique (first 14 characters)\n"
     ]
    }
   ],
   "source": [
    "count_annotations(spectrums)"
   ]
  },
  {
   "cell_type": "code",
   "execution_count": 31,
   "metadata": {},
   "outputs": [],
   "source": [
    "def annotated(s):\n",
    "    return (s.get(\"inchi\") or s.get(\"smiles\")) and s.get(\"inchikey\")"
   ]
  },
  {
   "cell_type": "code",
   "execution_count": 20,
   "metadata": {},
   "outputs": [],
   "source": [
    "annotation_list = []\n",
    "for i, s in enumerate(spectrums):\n",
    "    if annotated(s):\n",
    "        annotation_list.append((i, s.get(\"inchi\"), s.get(\"smiles\"), s.get(\"inchikey\")))"
   ]
  },
  {
   "cell_type": "code",
   "execution_count": 21,
   "metadata": {},
   "outputs": [
    {
     "data": {
      "text/plain": [
       "109734"
      ]
     },
     "execution_count": 21,
     "metadata": {},
     "output_type": "execute_result"
    }
   ],
   "source": [
    "len(annotation_list)"
   ]
  },
  {
   "cell_type": "code",
   "execution_count": 29,
   "metadata": {},
   "outputs": [
    {
     "name": "stdout",
     "output_type": "stream",
     "text": [
      "Unique inchikeys (14char) in annotated dat: 15062\n"
     ]
    }
   ],
   "source": [
    "print(f\"Unique inchikeys (14char) in annotated dat: {len({x[3][:14] for x in annotation_list})}\")"
   ]
  },
  {
   "cell_type": "code",
   "execution_count": 32,
   "metadata": {},
   "outputs": [],
   "source": [
    "spectrums_annotated = [s for s in spectrums if annotated(s)]"
   ]
  },
  {
   "cell_type": "code",
   "execution_count": 33,
   "metadata": {},
   "outputs": [
    {
     "data": {
      "text/plain": [
       "(109734, 129411)"
      ]
     },
     "execution_count": 33,
     "metadata": {},
     "output_type": "execute_result"
    }
   ],
   "source": [
    "len(spectrums_annotated), len(spectrums)"
   ]
  },
  {
   "cell_type": "code",
   "execution_count": 34,
   "metadata": {},
   "outputs": [],
   "source": [
    "import pickle\n",
    "pickle.dump(spectrums_annotated, \n",
    "            open(os.path.join(path_data,'GNPS_all', 'ALL_GNPS_210125_positive_processed_annotated.pickle'), \"wb\"))"
   ]
  },
  {
   "cell_type": "markdown",
   "metadata": {},
   "source": [
    "## Create reference scores (Tanimoto)\n",
    "- Check better alternatives?"
   ]
  },
  {
   "cell_type": "code",
   "execution_count": 35,
   "metadata": {},
   "outputs": [],
   "source": [
    "from collections import Counter \n",
    "  \n",
    "def most_frequent(List): \n",
    "    occurence_count = Counter(List) \n",
    "    return occurence_count.most_common(1)[0][0] "
   ]
  },
  {
   "cell_type": "code",
   "execution_count": 41,
   "metadata": {},
   "outputs": [],
   "source": [
    "inchikeys_list = []\n",
    "for s in spectrums_annotated:\n",
    "    inchikeys_list.append(s.get(\"inchikey\"))\n",
    "\n",
    "inchikeys14_array = np.array([x[:14] for x in inchikeys_list])"
   ]
  },
  {
   "cell_type": "code",
   "execution_count": 39,
   "metadata": {},
   "outputs": [
    {
     "data": {
      "text/plain": [
       "15062"
      ]
     },
     "execution_count": 39,
     "metadata": {},
     "output_type": "execute_result"
    }
   ],
   "source": [
    "inchikeys14_unique = list({x[:14] for x in inchikeys_list})\n",
    "len(inchikeys14_unique)"
   ]
  },
  {
   "cell_type": "code",
   "execution_count": 43,
   "metadata": {},
   "outputs": [
    {
     "name": "stdout",
     "output_type": "stream",
     "text": [
      "PKTVMNKLPFVXBH\n",
      "COc1cc(OC)c(-c2c(OC)cc(OC)cc2OC)c(OC)c1\n",
      "\n",
      "COc1cc(OC)c(-c2c(OC)cc(OC)cc2OC)c(OC)c1\n",
      "\n",
      "COc1cc(OC)c(-c2c(OC)cc(OC)cc2OC)c(OC)c1\n",
      "\n",
      "COc1cc(OC)c(-c2c(OC)cc(OC)cc2OC)c(OC)c1\n",
      "\n",
      "COc1cc(OC)c(-c2c(OC)cc(OC)cc2OC)c(OC)c1\n",
      "\n",
      "COc1cc(OC)c(-c2c(OC)cc(OC)cc2OC)c(OC)c1\n",
      "\n",
      "COc1cc(OC)c(-c2c(OC)cc(OC)cc2OC)c(OC)c1\n",
      "\n",
      "COc1cc(OC)c(-c2c(OC)cc(OC)cc2OC)c(OC)c1\n",
      "\n",
      "COc1cc(OC)c(-c2c(OC)cc(OC)cc2OC)c(OC)c1\n",
      "\n",
      "COc1cc(OC)c(-c2c(OC)cc(OC)cc2OC)c(OC)c1\n",
      "\n",
      "COc1cc(OC)c(-c2c(OC)cc(OC)cc2OC)c(OC)c1\n",
      "\n",
      "COc1cc(OC)c(-c2c(OC)cc(OC)cc2OC)c(OC)c1\n",
      "\n",
      "COc1cc(OC)c(-c2c(OC)cc(OC)cc2OC)c(OC)c1\n",
      "\n",
      "COc1cc(OC)c(-c2c(OC)cc(OC)cc2OC)c(OC)c1\n",
      "\n",
      "most frequent: COc1cc(OC)c(-c2c(OC)cc(OC)cc2OC)c(OC)c1\n"
     ]
    }
   ],
   "source": [
    "inchikey14 = inchikeys14_unique[1000]\n",
    "print(inchikey14)\n",
    "\n",
    "idx = np.where(inchikeys14_array == inchikey14)[0]\n",
    "for i in idx:\n",
    "    print(spectrums_annotated[i].get(\"smiles\") + \"\\n\")\n",
    "\n",
    "print(\"most frequent:\", most_frequent([spectrums_annotated[i].get(\"smiles\") for i in idx]))"
   ]
  },
  {
   "cell_type": "code",
   "execution_count": 44,
   "metadata": {},
   "outputs": [],
   "source": [
    "inchi_list = []\n",
    "for s in spectrums_annotated:\n",
    "    inchi_list.append(s.get(\"inchi\"))\n",
    "\n",
    "inchi_array = np.array(inchi_list)"
   ]
  },
  {
   "cell_type": "code",
   "execution_count": 45,
   "metadata": {},
   "outputs": [],
   "source": [
    "inchi_mapping = []\n",
    "ID_mapping = []\n",
    "\n",
    "for inchikey14 in inchikeys14_unique:\n",
    "    idx = np.where(inchikeys14_array == inchikey14)[0]\n",
    "    \n",
    "    inchi = most_frequent([spectrums_annotated[i].get(\"inchi\") for i in idx])\n",
    "    inchi_mapping.append(inchi)\n",
    "    ID = idx[np.where(inchi_array[idx] == inchi)[0][0]]\n",
    "    ID_mapping.append(ID)"
   ]
  },
  {
   "cell_type": "code",
   "execution_count": 47,
   "metadata": {},
   "outputs": [
    {
     "data": {
      "text/html": [
       "<div>\n",
       "<style scoped>\n",
       "    .dataframe tbody tr th:only-of-type {\n",
       "        vertical-align: middle;\n",
       "    }\n",
       "\n",
       "    .dataframe tbody tr th {\n",
       "        vertical-align: top;\n",
       "    }\n",
       "\n",
       "    .dataframe thead th {\n",
       "        text-align: right;\n",
       "    }\n",
       "</style>\n",
       "<table border=\"1\" class=\"dataframe\">\n",
       "  <thead>\n",
       "    <tr style=\"text-align: right;\">\n",
       "      <th></th>\n",
       "      <th>inchikey</th>\n",
       "      <th>inchi</th>\n",
       "      <th>ID</th>\n",
       "    </tr>\n",
       "  </thead>\n",
       "  <tbody>\n",
       "    <tr>\n",
       "      <th>0</th>\n",
       "      <td>TXZUPPVCNIMVHW</td>\n",
       "      <td>InChI=1S/C40H52O24/c1-11-20(42)26(48)30(52)37(...</td>\n",
       "      <td>8435</td>\n",
       "    </tr>\n",
       "    <tr>\n",
       "      <th>1</th>\n",
       "      <td>DGYASNDHNSXGSL</td>\n",
       "      <td>InChI=1S/C20H24O6/c1-11-18(12-5-7-14(21)16(9-1...</td>\n",
       "      <td>8790</td>\n",
       "    </tr>\n",
       "    <tr>\n",
       "      <th>2</th>\n",
       "      <td>JWYUFVNJZUSCSM</td>\n",
       "      <td>InChI=1S/C7H7N3/c8-7-9-5-3-1-2-4-6(5)10-7/h1-4...</td>\n",
       "      <td>43994</td>\n",
       "    </tr>\n",
       "    <tr>\n",
       "      <th>3</th>\n",
       "      <td>ZQXBVPNSSGEUCM</td>\n",
       "      <td>InChI=1S/C43H62O24/c1-5-19-22(25(38(56)57)15-6...</td>\n",
       "      <td>80787</td>\n",
       "    </tr>\n",
       "    <tr>\n",
       "      <th>4</th>\n",
       "      <td>WIOKWEJDRXNVSH</td>\n",
       "      <td>InChI=1S/C16H18O5/c1-9-5-13(20-4)15(18)14(6-9)...</td>\n",
       "      <td>1187</td>\n",
       "    </tr>\n",
       "  </tbody>\n",
       "</table>\n",
       "</div>"
      ],
      "text/plain": [
       "         inchikey                                              inchi     ID\n",
       "0  TXZUPPVCNIMVHW  InChI=1S/C40H52O24/c1-11-20(42)26(48)30(52)37(...   8435\n",
       "1  DGYASNDHNSXGSL  InChI=1S/C20H24O6/c1-11-18(12-5-7-14(21)16(9-1...   8790\n",
       "2  JWYUFVNJZUSCSM  InChI=1S/C7H7N3/c8-7-9-5-3-1-2-4-6(5)10-7/h1-4...  43994\n",
       "3  ZQXBVPNSSGEUCM  InChI=1S/C43H62O24/c1-5-19-22(25(38(56)57)15-6...  80787\n",
       "4  WIOKWEJDRXNVSH  InChI=1S/C16H18O5/c1-9-5-13(20-4)15(18)14(6-9)...   1187"
      ]
     },
     "execution_count": 47,
     "metadata": {},
     "output_type": "execute_result"
    }
   ],
   "source": [
    "import pandas as pd\n",
    "metadata = pd.DataFrame(list(zip(inchikeys_unique, inchi_mapping, ID_mapping)), columns=[\"inchikey\", \"inchi\", \"ID\"])\n",
    "metadata.head()"
   ]
  },
  {
   "cell_type": "code",
   "execution_count": 48,
   "metadata": {},
   "outputs": [
    {
     "data": {
      "text/plain": [
       "'TXZUPPVCNIMVHW-AJMZACEDSA-N'"
      ]
     },
     "execution_count": 48,
     "metadata": {},
     "output_type": "execute_result"
    }
   ],
   "source": [
    "spectrums_annotated[8435].get(\"inchikey\")"
   ]
  },
  {
   "cell_type": "code",
   "execution_count": 60,
   "metadata": {},
   "outputs": [
    {
     "data": {
      "text/html": [
       "<div>\n",
       "<style scoped>\n",
       "    .dataframe tbody tr th:only-of-type {\n",
       "        vertical-align: middle;\n",
       "    }\n",
       "\n",
       "    .dataframe tbody tr th {\n",
       "        vertical-align: top;\n",
       "    }\n",
       "\n",
       "    .dataframe thead th {\n",
       "        text-align: right;\n",
       "    }\n",
       "</style>\n",
       "<table border=\"1\" class=\"dataframe\">\n",
       "  <thead>\n",
       "    <tr style=\"text-align: right;\">\n",
       "      <th></th>\n",
       "      <th>inchikey</th>\n",
       "      <th>inchi</th>\n",
       "      <th>ID</th>\n",
       "    </tr>\n",
       "  </thead>\n",
       "  <tbody>\n",
       "    <tr>\n",
       "      <th>0</th>\n",
       "      <td>MYHSVHWQEVDFQT-RLIDIOMENA-N</td>\n",
       "      <td>InChI=1/C11H19NO10S2/c1-2-5(14)3-7(12-22-24(18...</td>\n",
       "      <td>75971</td>\n",
       "    </tr>\n",
       "    <tr>\n",
       "      <th>1</th>\n",
       "      <td>BKAWJIRCKVUVED-UHFFFAOYSA-N</td>\n",
       "      <td>InChI=1S/C6H9NOS/c1-5-6(2-3-8)9-4-7-5/h4,8H,2-...</td>\n",
       "      <td>17330</td>\n",
       "    </tr>\n",
       "    <tr>\n",
       "      <th>2</th>\n",
       "      <td>CXVGEDCSTKKODG-UHFFFAOYSA-N</td>\n",
       "      <td>InChI=1S/C14H12O6S/c1-20-12-8-11(15)10(7-13(12...</td>\n",
       "      <td>422</td>\n",
       "    </tr>\n",
       "    <tr>\n",
       "      <th>3</th>\n",
       "      <td>JAMSDVDUWQNQFZ-QNQJCTKXSA-N</td>\n",
       "      <td>InChI=1S/C52H102NO8P/c1-6-8-10-12-14-16-18-20-...</td>\n",
       "      <td>38937</td>\n",
       "    </tr>\n",
       "    <tr>\n",
       "      <th>4</th>\n",
       "      <td>ODHCTXKNWHHXJC-GSVOUGTGSA-N</td>\n",
       "      <td>InChI=1S/C5H7NO3/c7-4-2-1-3(6-4)5(8)9/h3H,1-2H...</td>\n",
       "      <td>46378</td>\n",
       "    </tr>\n",
       "  </tbody>\n",
       "</table>\n",
       "</div>"
      ],
      "text/plain": [
       "                      inchikey  \\\n",
       "0  MYHSVHWQEVDFQT-RLIDIOMENA-N   \n",
       "1  BKAWJIRCKVUVED-UHFFFAOYSA-N   \n",
       "2  CXVGEDCSTKKODG-UHFFFAOYSA-N   \n",
       "3  JAMSDVDUWQNQFZ-QNQJCTKXSA-N   \n",
       "4  ODHCTXKNWHHXJC-GSVOUGTGSA-N   \n",
       "\n",
       "                                               inchi     ID  \n",
       "0  InChI=1/C11H19NO10S2/c1-2-5(14)3-7(12-22-24(18...  75971  \n",
       "1  InChI=1S/C6H9NOS/c1-5-6(2-3-8)9-4-7-5/h4,8H,2-...  17330  \n",
       "2  InChI=1S/C14H12O6S/c1-20-12-8-11(15)10(7-13(12...    422  \n",
       "3  InChI=1S/C52H102NO8P/c1-6-8-10-12-14-16-18-20-...  38937  \n",
       "4  InChI=1S/C5H7NO3/c7-4-2-1-3(6-4)5(8)9/h3H,1-2H...  46378  "
      ]
     },
     "execution_count": 60,
     "metadata": {},
     "output_type": "execute_result"
    }
   ],
   "source": [
    "metadata.to_csv(\"metadata_AllInchikeys.csv\")\n",
    "\n",
    "metadata.head()"
   ]
  },
  {
   "cell_type": "code",
   "execution_count": 63,
   "metadata": {},
   "outputs": [
    {
     "data": {
      "text/html": [
       "<div>\n",
       "<style scoped>\n",
       "    .dataframe tbody tr th:only-of-type {\n",
       "        vertical-align: middle;\n",
       "    }\n",
       "\n",
       "    .dataframe tbody tr th {\n",
       "        vertical-align: top;\n",
       "    }\n",
       "\n",
       "    .dataframe thead th {\n",
       "        text-align: right;\n",
       "    }\n",
       "</style>\n",
       "<table border=\"1\" class=\"dataframe\">\n",
       "  <thead>\n",
       "    <tr style=\"text-align: right;\">\n",
       "      <th></th>\n",
       "      <th>Unnamed: 0</th>\n",
       "      <th>inchikey</th>\n",
       "      <th>inchi</th>\n",
       "      <th>ID</th>\n",
       "    </tr>\n",
       "  </thead>\n",
       "  <tbody>\n",
       "    <tr>\n",
       "      <th>0</th>\n",
       "      <td>0</td>\n",
       "      <td>MYHSVHWQEVDFQT-RLIDIOMENA-N</td>\n",
       "      <td>InChI=1/C11H19NO10S2/c1-2-5(14)3-7(12-22-24(18...</td>\n",
       "      <td>75971</td>\n",
       "    </tr>\n",
       "    <tr>\n",
       "      <th>1</th>\n",
       "      <td>1</td>\n",
       "      <td>BKAWJIRCKVUVED-UHFFFAOYSA-N</td>\n",
       "      <td>InChI=1S/C6H9NOS/c1-5-6(2-3-8)9-4-7-5/h4,8H,2-...</td>\n",
       "      <td>17330</td>\n",
       "    </tr>\n",
       "    <tr>\n",
       "      <th>2</th>\n",
       "      <td>2</td>\n",
       "      <td>CXVGEDCSTKKODG-UHFFFAOYSA-N</td>\n",
       "      <td>InChI=1S/C14H12O6S/c1-20-12-8-11(15)10(7-13(12...</td>\n",
       "      <td>422</td>\n",
       "    </tr>\n",
       "    <tr>\n",
       "      <th>3</th>\n",
       "      <td>3</td>\n",
       "      <td>JAMSDVDUWQNQFZ-QNQJCTKXSA-N</td>\n",
       "      <td>InChI=1S/C52H102NO8P/c1-6-8-10-12-14-16-18-20-...</td>\n",
       "      <td>38937</td>\n",
       "    </tr>\n",
       "    <tr>\n",
       "      <th>4</th>\n",
       "      <td>4</td>\n",
       "      <td>ODHCTXKNWHHXJC-GSVOUGTGSA-N</td>\n",
       "      <td>InChI=1S/C5H7NO3/c7-4-2-1-3(6-4)5(8)9/h3H,1-2H...</td>\n",
       "      <td>46378</td>\n",
       "    </tr>\n",
       "  </tbody>\n",
       "</table>\n",
       "</div>"
      ],
      "text/plain": [
       "   Unnamed: 0                     inchikey  \\\n",
       "0           0  MYHSVHWQEVDFQT-RLIDIOMENA-N   \n",
       "1           1  BKAWJIRCKVUVED-UHFFFAOYSA-N   \n",
       "2           2  CXVGEDCSTKKODG-UHFFFAOYSA-N   \n",
       "3           3  JAMSDVDUWQNQFZ-QNQJCTKXSA-N   \n",
       "4           4  ODHCTXKNWHHXJC-GSVOUGTGSA-N   \n",
       "\n",
       "                                               inchi     ID  \n",
       "0  InChI=1/C11H19NO10S2/c1-2-5(14)3-7(12-22-24(18...  75971  \n",
       "1  InChI=1S/C6H9NOS/c1-5-6(2-3-8)9-4-7-5/h4,8H,2-...  17330  \n",
       "2  InChI=1S/C14H12O6S/c1-20-12-8-11(15)10(7-13(12...    422  \n",
       "3  InChI=1S/C52H102NO8P/c1-6-8-10-12-14-16-18-20-...  38937  \n",
       "4  InChI=1S/C5H7NO3/c7-4-2-1-3(6-4)5(8)9/h3H,1-2H...  46378  "
      ]
     },
     "execution_count": 63,
     "metadata": {},
     "output_type": "execute_result"
    }
   ],
   "source": [
    "metadata = pd.read_csv(\"metadata_AllInchikeys_safe.csv\")\n",
    "metadata.head()"
   ]
  },
  {
   "cell_type": "code",
   "execution_count": 50,
   "metadata": {},
   "outputs": [
    {
     "data": {
      "text/plain": [
       "(15062,)"
      ]
     },
     "execution_count": 50,
     "metadata": {},
     "output_type": "execute_result"
    }
   ],
   "source": [
    "metadata.ID.values.shape"
   ]
  },
  {
   "cell_type": "markdown",
   "metadata": {},
   "source": [
    "## Add fingerprints (where necessary)"
   ]
  },
  {
   "cell_type": "code",
   "execution_count": 53,
   "metadata": {},
   "outputs": [
    {
     "data": {
      "application/vnd.jupyter.widget-view+json": {
       "model_id": "b20db630dd924bce910dad07789a68c4",
       "version_major": 2,
       "version_minor": 0
      },
      "text/plain": [
       "  0%|          | 0/15062 [00:00<?, ?it/s]"
      ]
     },
     "metadata": {},
     "output_type": "display_data"
    }
   ],
   "source": [
    "from matchms.filtering.add_fingerprint import add_fingerprint\n",
    "\n",
    "for i in tqdm(metadata.ID.values):\n",
    "    spectrums_annotated[i] = add_fingerprint(spectrums_annotated[i],\n",
    "                                             fingerprint_type=\"daylight\", nbits=2048)"
   ]
  },
  {
   "cell_type": "code",
   "execution_count": 64,
   "metadata": {},
   "outputs": [
    {
     "data": {
      "application/vnd.jupyter.widget-view+json": {
       "model_id": "497e62f96e7b4bd889195a6bfdd24c65",
       "version_major": 2,
       "version_minor": 0
      },
      "text/plain": [
       "  0%|          | 0/15062 [00:00<?, ?it/s]"
      ]
     },
     "metadata": {},
     "output_type": "display_data"
    }
   ],
   "source": [
    "for i in tqdm(metadata.ID.values):\n",
    "    if np.any(np.isnan(spectrums_annotated[i].get(\"fingerprint\"))):\n",
    "        print(i)"
   ]
  },
  {
   "cell_type": "code",
   "execution_count": null,
   "metadata": {},
   "outputs": [],
   "source": [
    "from matchms.similarity import FingerprintSimilarity\n",
    "\n",
    "spectrums_represent = [spectrums_annotated[i] for i in metadata.ID.values]\n",
    "\n",
    "similarity_measure = FingerprintSimilarity(similarity_measure=\"jaccard\")\n",
    "scores_mol_similarity = similarity_measure.matrix(spectrums_represent, spectrums_represent)"
   ]
  },
  {
   "cell_type": "code",
   "execution_count": 65,
   "metadata": {},
   "outputs": [],
   "source": [
    "filename = os.path.join(path_data, \"similarities_ALL_GNPS_210125_positive_daylight2048_jaccard.npy\")\n",
    "np.save(filename, scores_mol_similarity)"
   ]
  },
  {
   "cell_type": "code",
   "execution_count": 66,
   "metadata": {},
   "outputs": [
    {
     "data": {
      "text/plain": [
       "(15062, 15062)"
      ]
     },
     "execution_count": 66,
     "metadata": {},
     "output_type": "execute_result"
    }
   ],
   "source": [
    "scores_mol_similarity.shape"
   ]
  },
  {
   "cell_type": "code",
   "execution_count": 70,
   "metadata": {},
   "outputs": [
    {
     "data": {
      "text/html": [
       "<div>\n",
       "<style scoped>\n",
       "    .dataframe tbody tr th:only-of-type {\n",
       "        vertical-align: middle;\n",
       "    }\n",
       "\n",
       "    .dataframe tbody tr th {\n",
       "        vertical-align: top;\n",
       "    }\n",
       "\n",
       "    .dataframe thead th {\n",
       "        text-align: right;\n",
       "    }\n",
       "</style>\n",
       "<table border=\"1\" class=\"dataframe\">\n",
       "  <thead>\n",
       "    <tr style=\"text-align: right;\">\n",
       "      <th></th>\n",
       "      <th>TXZUPPVCNIMVHW</th>\n",
       "      <th>DGYASNDHNSXGSL</th>\n",
       "      <th>JWYUFVNJZUSCSM</th>\n",
       "      <th>ZQXBVPNSSGEUCM</th>\n",
       "      <th>WIOKWEJDRXNVSH</th>\n",
       "      <th>NJMQSVWMCODQIP</th>\n",
       "      <th>VBFKEZGCUWHGSK</th>\n",
       "      <th>KJAYXCCGPDNITQ</th>\n",
       "      <th>NTAHMPNXQOYXSX</th>\n",
       "      <th>YALMHTJLWDGANA</th>\n",
       "      <th>...</th>\n",
       "      <th>DCPZWPYLSMMJKM</th>\n",
       "      <th>BFZHCUBIASXHPK</th>\n",
       "      <th>IYUIDAWSRJAFII</th>\n",
       "      <th>YMGXBGVMAOTRFZ</th>\n",
       "      <th>ZOVBJSDLILDXCH</th>\n",
       "      <th>ZBAVIUQLFUYWMT</th>\n",
       "      <th>LBZHBTVSBILXAE</th>\n",
       "      <th>FQXXSQDCDRQNQE</th>\n",
       "      <th>PKKTXAMCHLIVDS</th>\n",
       "      <th>HDDNZVWBRRAOGK</th>\n",
       "    </tr>\n",
       "  </thead>\n",
       "  <tbody>\n",
       "    <tr>\n",
       "      <th>TXZUPPVCNIMVHW</th>\n",
       "      <td>1.000000</td>\n",
       "      <td>0.351169</td>\n",
       "      <td>0.097595</td>\n",
       "      <td>0.454490</td>\n",
       "      <td>0.232465</td>\n",
       "      <td>0.350913</td>\n",
       "      <td>0.220788</td>\n",
       "      <td>0.369819</td>\n",
       "      <td>0.553414</td>\n",
       "      <td>0.488411</td>\n",
       "      <td>...</td>\n",
       "      <td>0.245836</td>\n",
       "      <td>0.197547</td>\n",
       "      <td>0.319240</td>\n",
       "      <td>0.170619</td>\n",
       "      <td>0.419412</td>\n",
       "      <td>0.111339</td>\n",
       "      <td>0.502242</td>\n",
       "      <td>0.609171</td>\n",
       "      <td>0.456767</td>\n",
       "      <td>0.364198</td>\n",
       "    </tr>\n",
       "    <tr>\n",
       "      <th>DGYASNDHNSXGSL</th>\n",
       "      <td>0.351169</td>\n",
       "      <td>1.000000</td>\n",
       "      <td>0.095344</td>\n",
       "      <td>0.311426</td>\n",
       "      <td>0.266393</td>\n",
       "      <td>0.306679</td>\n",
       "      <td>0.187037</td>\n",
       "      <td>0.241550</td>\n",
       "      <td>0.352905</td>\n",
       "      <td>0.346228</td>\n",
       "      <td>...</td>\n",
       "      <td>0.239921</td>\n",
       "      <td>0.196926</td>\n",
       "      <td>0.248181</td>\n",
       "      <td>0.224319</td>\n",
       "      <td>0.328424</td>\n",
       "      <td>0.134894</td>\n",
       "      <td>0.371523</td>\n",
       "      <td>0.395833</td>\n",
       "      <td>0.325097</td>\n",
       "      <td>0.267617</td>\n",
       "    </tr>\n",
       "    <tr>\n",
       "      <th>JWYUFVNJZUSCSM</th>\n",
       "      <td>0.097595</td>\n",
       "      <td>0.095344</td>\n",
       "      <td>1.000000</td>\n",
       "      <td>0.087488</td>\n",
       "      <td>0.096552</td>\n",
       "      <td>0.089779</td>\n",
       "      <td>0.075710</td>\n",
       "      <td>0.078571</td>\n",
       "      <td>0.101093</td>\n",
       "      <td>0.111277</td>\n",
       "      <td>...</td>\n",
       "      <td>0.087171</td>\n",
       "      <td>0.076667</td>\n",
       "      <td>0.090069</td>\n",
       "      <td>0.086042</td>\n",
       "      <td>0.097539</td>\n",
       "      <td>0.082902</td>\n",
       "      <td>0.100224</td>\n",
       "      <td>0.097547</td>\n",
       "      <td>0.091977</td>\n",
       "      <td>0.091603</td>\n",
       "    </tr>\n",
       "    <tr>\n",
       "      <th>ZQXBVPNSSGEUCM</th>\n",
       "      <td>0.454490</td>\n",
       "      <td>0.311426</td>\n",
       "      <td>0.087488</td>\n",
       "      <td>1.000000</td>\n",
       "      <td>0.158416</td>\n",
       "      <td>0.403968</td>\n",
       "      <td>0.223629</td>\n",
       "      <td>0.428328</td>\n",
       "      <td>0.476427</td>\n",
       "      <td>0.356584</td>\n",
       "      <td>...</td>\n",
       "      <td>0.190833</td>\n",
       "      <td>0.303226</td>\n",
       "      <td>0.309870</td>\n",
       "      <td>0.151724</td>\n",
       "      <td>0.382889</td>\n",
       "      <td>0.200405</td>\n",
       "      <td>0.419784</td>\n",
       "      <td>0.455195</td>\n",
       "      <td>0.301105</td>\n",
       "      <td>0.505532</td>\n",
       "    </tr>\n",
       "    <tr>\n",
       "      <th>WIOKWEJDRXNVSH</th>\n",
       "      <td>0.232465</td>\n",
       "      <td>0.266393</td>\n",
       "      <td>0.096552</td>\n",
       "      <td>0.158416</td>\n",
       "      <td>1.000000</td>\n",
       "      <td>0.170429</td>\n",
       "      <td>0.115108</td>\n",
       "      <td>0.148259</td>\n",
       "      <td>0.213307</td>\n",
       "      <td>0.193948</td>\n",
       "      <td>...</td>\n",
       "      <td>0.235054</td>\n",
       "      <td>0.100985</td>\n",
       "      <td>0.156159</td>\n",
       "      <td>0.146067</td>\n",
       "      <td>0.189189</td>\n",
       "      <td>0.065600</td>\n",
       "      <td>0.208011</td>\n",
       "      <td>0.223117</td>\n",
       "      <td>0.272388</td>\n",
       "      <td>0.147978</td>\n",
       "    </tr>\n",
       "  </tbody>\n",
       "</table>\n",
       "<p>5 rows × 15062 columns</p>\n",
       "</div>"
      ],
      "text/plain": [
       "                TXZUPPVCNIMVHW  DGYASNDHNSXGSL  JWYUFVNJZUSCSM  \\\n",
       "TXZUPPVCNIMVHW        1.000000        0.351169        0.097595   \n",
       "DGYASNDHNSXGSL        0.351169        1.000000        0.095344   \n",
       "JWYUFVNJZUSCSM        0.097595        0.095344        1.000000   \n",
       "ZQXBVPNSSGEUCM        0.454490        0.311426        0.087488   \n",
       "WIOKWEJDRXNVSH        0.232465        0.266393        0.096552   \n",
       "\n",
       "                ZQXBVPNSSGEUCM  WIOKWEJDRXNVSH  NJMQSVWMCODQIP  \\\n",
       "TXZUPPVCNIMVHW        0.454490        0.232465        0.350913   \n",
       "DGYASNDHNSXGSL        0.311426        0.266393        0.306679   \n",
       "JWYUFVNJZUSCSM        0.087488        0.096552        0.089779   \n",
       "ZQXBVPNSSGEUCM        1.000000        0.158416        0.403968   \n",
       "WIOKWEJDRXNVSH        0.158416        1.000000        0.170429   \n",
       "\n",
       "                VBFKEZGCUWHGSK  KJAYXCCGPDNITQ  NTAHMPNXQOYXSX  \\\n",
       "TXZUPPVCNIMVHW        0.220788        0.369819        0.553414   \n",
       "DGYASNDHNSXGSL        0.187037        0.241550        0.352905   \n",
       "JWYUFVNJZUSCSM        0.075710        0.078571        0.101093   \n",
       "ZQXBVPNSSGEUCM        0.223629        0.428328        0.476427   \n",
       "WIOKWEJDRXNVSH        0.115108        0.148259        0.213307   \n",
       "\n",
       "                YALMHTJLWDGANA  ...  DCPZWPYLSMMJKM  BFZHCUBIASXHPK  \\\n",
       "TXZUPPVCNIMVHW        0.488411  ...        0.245836        0.197547   \n",
       "DGYASNDHNSXGSL        0.346228  ...        0.239921        0.196926   \n",
       "JWYUFVNJZUSCSM        0.111277  ...        0.087171        0.076667   \n",
       "ZQXBVPNSSGEUCM        0.356584  ...        0.190833        0.303226   \n",
       "WIOKWEJDRXNVSH        0.193948  ...        0.235054        0.100985   \n",
       "\n",
       "                IYUIDAWSRJAFII  YMGXBGVMAOTRFZ  ZOVBJSDLILDXCH  \\\n",
       "TXZUPPVCNIMVHW        0.319240        0.170619        0.419412   \n",
       "DGYASNDHNSXGSL        0.248181        0.224319        0.328424   \n",
       "JWYUFVNJZUSCSM        0.090069        0.086042        0.097539   \n",
       "ZQXBVPNSSGEUCM        0.309870        0.151724        0.382889   \n",
       "WIOKWEJDRXNVSH        0.156159        0.146067        0.189189   \n",
       "\n",
       "                ZBAVIUQLFUYWMT  LBZHBTVSBILXAE  FQXXSQDCDRQNQE  \\\n",
       "TXZUPPVCNIMVHW        0.111339        0.502242        0.609171   \n",
       "DGYASNDHNSXGSL        0.134894        0.371523        0.395833   \n",
       "JWYUFVNJZUSCSM        0.082902        0.100224        0.097547   \n",
       "ZQXBVPNSSGEUCM        0.200405        0.419784        0.455195   \n",
       "WIOKWEJDRXNVSH        0.065600        0.208011        0.223117   \n",
       "\n",
       "                PKKTXAMCHLIVDS  HDDNZVWBRRAOGK  \n",
       "TXZUPPVCNIMVHW        0.456767        0.364198  \n",
       "DGYASNDHNSXGSL        0.325097        0.267617  \n",
       "JWYUFVNJZUSCSM        0.091977        0.091603  \n",
       "ZQXBVPNSSGEUCM        0.301105        0.505532  \n",
       "WIOKWEJDRXNVSH        0.272388        0.147978  \n",
       "\n",
       "[5 rows x 15062 columns]"
      ]
     },
     "execution_count": 70,
     "metadata": {},
     "output_type": "execute_result"
    }
   ],
   "source": [
    "tanimoto_df = pd.DataFrame(scores_mol_similarity, columns=metadata.inchikey.values, index=metadata.inchikey.values)\n",
    "tanimoto_df.head()"
   ]
  },
  {
   "cell_type": "code",
   "execution_count": 71,
   "metadata": {},
   "outputs": [],
   "source": [
    "filename = os.path.join(path_data, \"ALL_GNPS_210125_positive_tanimoto_scores.pickle\")\n",
    "tanimoto_df.to_pickle(filename)"
   ]
  }
 ],
 "metadata": {
  "kernelspec": {
   "display_name": "Python 3 (ipykernel)",
   "language": "python",
   "name": "python3"
  },
  "language_info": {
   "codemirror_mode": {
    "name": "ipython",
    "version": 3
   },
   "file_extension": ".py",
   "mimetype": "text/x-python",
   "name": "python",
   "nbconvert_exporter": "python",
   "pygments_lexer": "ipython3",
   "version": "3.9.16"
  }
 },
 "nbformat": 4,
 "nbformat_minor": 4
}
