{
 "cells": [
  {
   "cell_type": "markdown",
   "metadata": {},
   "source": [
    "# Using ms2deepscore: How to load data, train a model, and compute similarities."
   ]
  },
  {
   "cell_type": "code",
   "execution_count": 1,
   "metadata": {},
   "outputs": [],
   "source": [
    "from pathlib import Path\n",
    "import os\n",
    "\n",
    "from matchms.importing import load_from_mgf\n",
    "import tensorflow as tf\n",
    "from tensorflow import keras\n",
    "from tensorflow.keras.callbacks import (EarlyStopping, ModelCheckpoint)\n",
    "from tensorflow.keras.optimizers import Adam\n",
    "import pandas as pd\n",
    "import numpy as np\n",
    "\n",
    "from ms2deepscore import SpectrumBinner\n",
    "from ms2deepscore.data_generators import DataGeneratorAllInchikeys\n",
    "from ms2deepscore.models import SiameseModel\n",
    "from ms2deepscore import MS2DeepScore\n",
    "from ms2deepscore.models import load_model"
   ]
  },
  {
   "cell_type": "markdown",
   "metadata": {},
   "source": [
    "## Data loading"
   ]
  },
  {
   "cell_type": "markdown",
   "metadata": {},
   "source": [
    "Here we define the file location of a small sample of spectrums as well as reference scores data."
   ]
  },
  {
   "cell_type": "code",
   "execution_count": 2,
   "metadata": {},
   "outputs": [],
   "source": [
    "TEST_RESOURCES_PATH = Path.cwd().parent / 'tests' / 'resources'\n",
    "spectrums_filepath = str(TEST_RESOURCES_PATH / \"pesticides_processed.mgf\")\n",
    "score_filepath = str(TEST_RESOURCES_PATH / \"pesticides_tanimoto_scores.json\")"
   ]
  },
  {
   "cell_type": "markdown",
   "metadata": {},
   "source": [
    "Load processed spectrums from .mgf file. For processing itself see [matchms](https://github.com/matchms/matchms) documentation.\n",
    "As example a very small dataset is used, for real use it is adviced to always use a large dataset >100.000 spectra. \n",
    "Also as simplification a validation set is used that is equal to the training data, for training a real model, this should not be the case."
   ]
  },
  {
   "cell_type": "code",
   "execution_count": 3,
   "metadata": {},
   "outputs": [],
   "source": [
    "spectrums_training = list(load_from_mgf(spectrums_filepath))\n",
    "spectrums_validation = list(load_from_mgf(spectrums_filepath))"
   ]
  },
  {
   "cell_type": "markdown",
   "metadata": {},
   "source": [
    "Load reference scores from a .json file. This is a Pandas DataFrame with reference similarity scores (=labels) for compounds identified by inchikeys. Columns and index should be inchikeys, the value in a row x column depicting the similarity score for that pair. Must be symmetric (reference_scores_df[i,j] == reference_scores_df[j,i]) and column names should be identical to the index."
   ]
  },
  {
   "cell_type": "code",
   "execution_count": 4,
   "metadata": {},
   "outputs": [],
   "source": [
    "tanimoto_scores_df = pd.read_json(score_filepath)"
   ]
  },
  {
   "cell_type": "markdown",
   "metadata": {},
   "source": [
    "## Data preprocessing"
   ]
  },
  {
   "cell_type": "markdown",
   "metadata": {},
   "source": [
    "Bin the spectrums using `ms2deepscore.SpectrumBinner`. In this binned form we can feed spectra to the model."
   ]
  },
  {
   "cell_type": "code",
   "execution_count": 5,
   "metadata": {},
   "outputs": [
    {
     "name": "stderr",
     "output_type": "stream",
     "text": [
      "Spectrum binning: 100%|██████████████████████████████████████████████████████████████████████████████████████████████████████████████████████████████| 76/76 [00:00<00:00, 7510.48it/s]\n",
      "Create BinnedSpectrum instances: 100%|██████████████████████████████████████████████████████████████████████████████████████████████████████████████| 76/76 [00:00<00:00, 38130.04it/s]\n",
      "Spectrum binning: 100%|██████████████████████████████████████████████████████████████████████████████████████████████████████████████████████████████| 76/76 [00:00<00:00, 7153.02it/s]\n",
      "Create BinnedSpectrum instances: 100%|██████████████████████████████████████████████████████████████████████████████████████████████████████████████| 76/76 [00:00<00:00, 37178.34it/s]"
     ]
    },
    {
     "name": "stdout",
     "output_type": "stream",
     "text": [
      "Collect spectrum peaks...\n",
      "Calculated embedding dimension: 1978.\n",
      "Convert spectrums to binned spectrums...\n"
     ]
    },
    {
     "name": "stderr",
     "output_type": "stream",
     "text": [
      "\n"
     ]
    }
   ],
   "source": [
    "spectrum_binner = SpectrumBinner(10000, mz_min=10.0, mz_max=1000.0, peak_scaling=0.5, allowed_missing_percentage=100.0)\n",
    "binned_spectrums_training = spectrum_binner.fit_transform(spectrums_training)\n",
    "binned_spectrums_val = spectrum_binner.transform(spectrums_validation)"
   ]
  },
  {
   "cell_type": "markdown",
   "metadata": {},
   "source": [
    "Create a data generator that will generate batches of training examples.\n",
    "Each training example consists of a pair of binned spectra and the corresponding reference similarity score. Pairs are sampled to ensure that the for 10 bins in tanimoto scores equal number of spectra are sampled. Also data augmentation takes place."
   ]
  },
  {
   "cell_type": "code",
   "execution_count": 6,
   "metadata": {},
   "outputs": [
    {
     "name": "stdout",
     "output_type": "stream",
     "text": [
      "The value for num_turns is set from 1 (default) to 2\n",
      "The value for same_prob_bins is set from [(0, 0.5), (0.5, 1)] (default) to [(0.0, 0.1), (0.1, 0.2), (0.2, 0.30000000000000004), (0.30000000000000004, 0.4), (0.4, 0.5), (0.5, 0.6), (0.6000000000000001, 0.7000000000000001), (0.7000000000000001, 0.8), (0.8, 0.9), (0.9, 1.0)]\n",
      "The value for augment_noise_max is set from 10 (default) to 10\n",
      "The value for augment_noise_intensity is set from 0.01 (default) to 0.01\n"
     ]
    }
   ],
   "source": [
    "training_inchikeys = np.unique([s.get(\"inchikey\")[:14] for s in spectrums_training])\n",
    "\n",
    "same_prob_bins = list(zip(np.linspace(0, 0.9, 10), np.linspace(0.1, 1, 10)))\n",
    "dimension = len(spectrum_binner.known_bins)\n",
    "training_generator = DataGeneratorAllInchikeys(\n",
    "    binned_spectrums_training, training_inchikeys, tanimoto_scores_df, spectrum_binner=spectrum_binner,\n",
    "    same_prob_bins=same_prob_bins, num_turns=2, augment_noise_max=10, augment_noise_intensity=0.01)"
   ]
  },
  {
   "cell_type": "markdown",
   "metadata": {},
   "source": [
    "Create a data generatior that will generate pairs of binned spectra for the validation spectra. The settings are different from the settings for the training generator to ensure that a fixed dataset is generated were no data augmentation takes place. "
   ]
  },
  {
   "cell_type": "code",
   "execution_count": 7,
   "metadata": {},
   "outputs": [
    {
     "name": "stdout",
     "output_type": "stream",
     "text": [
      "The value for num_turns is set from 1 (default) to 10\n",
      "The value for same_prob_bins is set from [(0, 0.5), (0.5, 1)] (default) to [(0.0, 0.1), (0.1, 0.2), (0.2, 0.30000000000000004), (0.30000000000000004, 0.4), (0.4, 0.5), (0.5, 0.6), (0.6000000000000001, 0.7000000000000001), (0.7000000000000001, 0.8), (0.8, 0.9), (0.9, 1.0)]\n",
      "The value for augment_removal_max is set from 0.3 (default) to 0\n",
      "The value for augment_removal_intensity is set from 0.2 (default) to 0\n",
      "The value for augment_intensity is set from 0.4 (default) to 0\n",
      "The value for augment_noise_max is set from 10 (default) to 0\n",
      "The value for use_fixed_set is set from False (default) to True\n"
     ]
    },
    {
     "name": "stderr",
     "output_type": "stream",
     "text": [
      "C:\\Users\\jonge094\\Anaconda3\\lib\\site-packages\\ms2deepscore\\data_generators.py:180: UserWarning: When using a fixed set, data will not be shuffled\n",
      "  warnings.warn('When using a fixed set, data will not be shuffled')\n"
     ]
    }
   ],
   "source": [
    "validation_inchikeys = np.unique([s.get(\"inchikey\")[:14] for s in spectrums_validation])\n",
    "validation_generator = DataGeneratorAllInchikeys(\n",
    "    binned_spectrums_val, validation_inchikeys, tanimoto_scores_df, spectrum_binner=spectrum_binner, same_prob_bins=same_prob_bins,\n",
    "    num_turns=10, augment_removal_max=0, augment_removal_intensity=0, \n",
    "    augment_intensity=0, augment_noise_max=0, use_fixed_set=True)"
   ]
  },
  {
   "cell_type": "markdown",
   "metadata": {},
   "source": [
    "## Model training"
   ]
  },
  {
   "cell_type": "markdown",
   "metadata": {},
   "source": [
    "Initialize a SiameseModel. It consists of a dense 'base' network that produces an embedding for each of the 2 inputs. The 'head' model computes the cosine similarity between the embeddings."
   ]
  },
  {
   "cell_type": "code",
   "execution_count": 8,
   "metadata": {},
   "outputs": [
    {
     "name": "stdout",
     "output_type": "stream",
     "text": [
      "Model: \"base\"\n",
      "_________________________________________________________________\n",
      " Layer (type)                Output Shape              Param #   \n",
      "=================================================================\n",
      " base_input (InputLayer)     [(None, 1978)]            0         \n",
      "                                                                 \n",
      " dense1 (Dense)              (None, 500)               989500    \n",
      "                                                                 \n",
      " normalization1 (BatchNormal  (None, 500)              2000      \n",
      " ization)                                                        \n",
      "                                                                 \n",
      " dense2 (Dense)              (None, 500)               250500    \n",
      "                                                                 \n",
      " normalization2 (BatchNormal  (None, 500)              2000      \n",
      " ization)                                                        \n",
      "                                                                 \n",
      " dropout2 (Dropout)          (None, 500)               0         \n",
      "                                                                 \n",
      " embedding (Dense)           (None, 200)               100200    \n",
      "                                                                 \n",
      "=================================================================\n",
      "Total params: 1,344,200\n",
      "Trainable params: 1,342,200\n",
      "Non-trainable params: 2,000\n",
      "_________________________________________________________________\n",
      "Model: \"head\"\n",
      "__________________________________________________________________________________________________\n",
      " Layer (type)                   Output Shape         Param #     Connected to                     \n",
      "==================================================================================================\n",
      " input_a (InputLayer)           [(None, 1978)]       0           []                               \n",
      "                                                                                                  \n",
      " input_b (InputLayer)           [(None, 1978)]       0           []                               \n",
      "                                                                                                  \n",
      " base (Functional)              (None, 200)          1344200     ['input_a[0][0]',                \n",
      "                                                                  'input_b[0][0]']                \n",
      "                                                                                                  \n",
      " cosine_similarity (Dot)        (None, 1)            0           ['base[0][0]',                   \n",
      "                                                                  'base[1][0]']                   \n",
      "                                                                                                  \n",
      "==================================================================================================\n",
      "Total params: 1,344,200\n",
      "Trainable params: 1,342,200\n",
      "Non-trainable params: 2,000\n",
      "__________________________________________________________________________________________________\n"
     ]
    }
   ],
   "source": [
    "model = SiameseModel(spectrum_binner, base_dims=(500, 500), embedding_dim=200,\n",
    "                         dropout_rate=0.2)\n",
    "model.compile(loss='mse', optimizer=Adam(learning_rate=0.01), metrics=[\"mae\", tf.keras.metrics.RootMeanSquaredError()])\n",
    "\n",
    "# Save best model and include earlystopping\n",
    "earlystopper_scoring_net = EarlyStopping(monitor='val_loss', mode=\"min\", patience=10, verbose=1, restore_best_weights=True)\n",
    "model.summary()"
   ]
  },
  {
   "cell_type": "markdown",
   "metadata": {},
   "source": [
    "Train the model. The model will continue for 150 epochs or will stop if the validation loss did not decrease for 10 epochs."
   ]
  },
  {
   "cell_type": "code",
   "execution_count": 9,
   "metadata": {},
   "outputs": [
    {
     "name": "stdout",
     "output_type": "stream",
     "text": [
      "Epoch 1/150\n",
      "2/2 [==============================] - 1s 420ms/step - loss: 0.0834 - mae: 0.1847 - root_mean_squared_error: 0.2428 - val_loss: 0.0555 - val_mae: 0.1478 - val_root_mean_squared_error: 0.1811\n",
      "Epoch 2/150\n",
      "2/2 [==============================] - 0s 135ms/step - loss: 0.0735 - mae: 0.1782 - root_mean_squared_error: 0.2264 - val_loss: 0.0544 - val_mae: 0.1410 - val_root_mean_squared_error: 0.1816\n",
      "Epoch 3/150\n",
      "2/2 [==============================] - 0s 205ms/step - loss: 0.0707 - mae: 0.1808 - root_mean_squared_error: 0.2223 - val_loss: 0.0601 - val_mae: 0.1549 - val_root_mean_squared_error: 0.1975\n",
      "Epoch 4/150\n",
      "2/2 [==============================] - 0s 202ms/step - loss: 0.0491 - mae: 0.1271 - root_mean_squared_error: 0.1671 - val_loss: 0.0652 - val_mae: 0.1678 - val_root_mean_squared_error: 0.2090\n",
      "Epoch 5/150\n",
      "2/2 [==============================] - 0s 148ms/step - loss: 0.0467 - mae: 0.1266 - root_mean_squared_error: 0.1577 - val_loss: 0.0750 - val_mae: 0.1893 - val_root_mean_squared_error: 0.2287\n",
      "Epoch 6/150\n",
      "2/2 [==============================] - 0s 145ms/step - loss: 0.0433 - mae: 0.1154 - root_mean_squared_error: 0.1421 - val_loss: 0.0837 - val_mae: 0.2027 - val_root_mean_squared_error: 0.2435\n",
      "Epoch 7/150\n",
      "2/2 [==============================] - 0s 146ms/step - loss: 0.0507 - mae: 0.1262 - root_mean_squared_error: 0.1614 - val_loss: 0.0895 - val_mae: 0.2078 - val_root_mean_squared_error: 0.2529\n",
      "Epoch 8/150\n",
      "2/2 [==============================] - 0s 129ms/step - loss: 0.0521 - mae: 0.1158 - root_mean_squared_error: 0.1624 - val_loss: 0.0917 - val_mae: 0.2086 - val_root_mean_squared_error: 0.2560\n",
      "Epoch 9/150\n",
      "2/2 [==============================] - 0s 122ms/step - loss: 0.0489 - mae: 0.1193 - root_mean_squared_error: 0.1503 - val_loss: 0.0944 - val_mae: 0.2137 - val_root_mean_squared_error: 0.2606\n",
      "Epoch 10/150\n",
      "2/2 [==============================] - 0s 133ms/step - loss: 0.0438 - mae: 0.1053 - root_mean_squared_error: 0.1315 - val_loss: 0.0966 - val_mae: 0.2209 - val_root_mean_squared_error: 0.2646\n",
      "Epoch 11/150\n",
      "2/2 [==============================] - 0s 139ms/step - loss: 0.0465 - mae: 0.1110 - root_mean_squared_error: 0.1410 - val_loss: 0.0985 - val_mae: 0.2275 - val_root_mean_squared_error: 0.2679\n",
      "Epoch 12/150\n",
      "1/2 [==============>...............] - ETA: 0s - loss: 0.0403 - mae: 0.1005 - root_mean_squared_error: 0.1164Restoring model weights from the end of the best epoch: 2.\n",
      "2/2 [==============================] - 0s 139ms/step - loss: 0.0463 - mae: 0.1163 - root_mean_squared_error: 0.1397 - val_loss: 0.0969 - val_mae: 0.2213 - val_root_mean_squared_error: 0.2647\n",
      "Epoch 12: early stopping\n"
     ]
    }
   ],
   "source": [
    "history = model.model.fit(training_generator, validation_data=validation_generator,\n",
    "                          epochs=150, verbose=1, callbacks=[earlystopper_scoring_net])"
   ]
  },
  {
   "cell_type": "markdown",
   "metadata": {},
   "source": [
    "Save the model (if you want to)"
   ]
  },
  {
   "cell_type": "code",
   "execution_count": 10,
   "metadata": {},
   "outputs": [],
   "source": [
    "model_file_name = os.path.join(TEST_RESOURCES_PATH, \"ms2deepscore_model.hdf5\")\n",
    "model.save(model_file_name)"
   ]
  },
  {
   "cell_type": "markdown",
   "metadata": {},
   "source": [
    "Code to later lode in the model again\n"
   ]
  },
  {
   "cell_type": "code",
   "execution_count": 11,
   "metadata": {},
   "outputs": [],
   "source": [
    "model = load_model(model_file_name)"
   ]
  },
  {
   "cell_type": "markdown",
   "metadata": {},
   "source": [
    "Plot the validation and training loss, to check for overfitting."
   ]
  },
  {
   "cell_type": "code",
   "execution_count": 12,
   "metadata": {},
   "outputs": [
    {
     "data": {
      "image/png": "[encoded data removed]",
      "text/plain": [
       "<Figure size 432x288 with 1 Axes>"
      ]
     },
     "metadata": {
      "needs_background": "light"
     },
     "output_type": "display_data"
    }
   ],
   "source": [
    "from matplotlib import pyplot as plt\n",
    "plt.plot(history.history['loss'])\n",
    "plt.plot(history.history['val_loss'])\n",
    "plt.title('model loss')\n",
    "plt.ylabel('loss')\n",
    "plt.xlabel('epoch')\n",
    "plt.legend(['train', 'val'], loc='upper left')\n",
    "plt.show()"
   ]
  },
  {
   "cell_type": "markdown",
   "metadata": {},
   "source": [
    "## Model inference"
   ]
  },
  {
   "cell_type": "markdown",
   "metadata": {},
   "source": [
    "Calculate similariteis for a pair of spectra"
   ]
  },
  {
   "cell_type": "code",
   "execution_count": 13,
   "metadata": {},
   "outputs": [
    {
     "name": "stderr",
     "output_type": "stream",
     "text": [
      "Spectrum binning: 100%|████████████████████████████████████████████████████████████████████████████████████████████████████████████████████████████████| 1/1 [00:00<00:00, 1539.76it/s]\n",
      "Create BinnedSpectrum instances: 100%|███████████████████████████████████████████████████████████████████████████████████████████████████████████████████████████| 1/1 [00:00<?, ?it/s]\n",
      "Spectrum binning: 100%|████████████████████████████████████████████████████████████████████████████████████████████████████████████████████████████████| 1/1 [00:00<00:00, 1420.83it/s]\n",
      "Create BinnedSpectrum instances: 100%|███████████████████████████████████████████████████████████████████████████████████████████████████████████████████████████| 1/1 [00:00<?, ?it/s]\n"
     ]
    },
    {
     "name": "stdout",
     "output_type": "stream",
     "text": [
      "0.6926684862381262\n"
     ]
    }
   ],
   "source": [
    "similarity_measure = MS2DeepScore(model)\n",
    "score = similarity_measure.pair(spectrums_validation[0], spectrums_validation[1])\n",
    "print(score)"
   ]
  },
  {
   "cell_type": "markdown",
   "metadata": {},
   "source": [
    "Calculate similarities for a 3x3 matrix of spectra"
   ]
  },
  {
   "cell_type": "code",
   "execution_count": 14,
   "metadata": {},
   "outputs": [
    {
     "name": "stderr",
     "output_type": "stream",
     "text": [
      "Spectrum binning: 100%|██████████████████████████████████████████████████████████████████████████████████████████████████████████████████████████████████████████| 3/3 [00:00<?, ?it/s]\n",
      "Create BinnedSpectrum instances: 100%|███████████████████████████████████████████████████████████████████████████████████████████████████████████████████████████| 3/3 [00:00<?, ?it/s]\n",
      "Calculating vectors of reference spectrums: 100%|████████████████████████████████████████████████████████████████████████████████████████████████████████| 3/3 [00:00<00:00, 25.07it/s]\n",
      "Spectrum binning: 100%|█████████████████████████████████████████████████████████████████████████████████████████████████████████████████████████████████| 3/3 [00:00<00:00, 292.63it/s]\n",
      "Create BinnedSpectrum instances: 100%|███████████████████████████████████████████████████████████████████████████████████████████████████████████████████████████| 3/3 [00:00<?, ?it/s]\n",
      "Calculating vectors of reference spectrums: 100%|████████████████████████████████████████████████████████████████████████████████████████████████████████| 3/3 [00:00<00:00, 28.10it/s]\n"
     ]
    },
    {
     "name": "stdout",
     "output_type": "stream",
     "text": [
      "[[1.         0.69266849 0.59288358]\n",
      " [0.69266849 1.         0.50841891]\n",
      " [0.59288358 0.50841891 1.        ]]\n"
     ]
    }
   ],
   "source": [
    "scores = similarity_measure.matrix(spectrums_validation[:3], spectrums_validation[:3])\n",
    "print(scores)"
   ]
  }
 ],
 "metadata": {
  "kernelspec": {
   "display_name": "Python 3 (ipykernel)",
   "language": "python",
   "name": "python3"
  },
  "language_info": {
   "codemirror_mode": {
    "name": "ipython",
    "version": 3
   },
   "file_extension": ".py",
   "mimetype": "text/x-python",
   "name": "python",
   "nbconvert_exporter": "python",
   "pygments_lexer": "ipython3",
   "version": "3.9.16"
  }
 },
 "nbformat": 4,
 "nbformat_minor": 4
}